{
  "cells": [
    {
      "cell_type": "code",
      "execution_count": 10,
      "metadata": {},
      "outputs": [],
      "source": [
        "import torch\n",
        "from typing import TypeVar\n",
        "from tqdm.auto import tqdm\n",
        "\n",
        "from segmentation.scr.utils.rle_coding import *\n",
        "from segmentation.scr.tilling_dataset import Tilling_Dataset\n",
        "import matplotlib.pyplot as plt\n",
        "from skimage import color\n",
        "import albumentations as A\n",
        "\n",
        "PandasDataFrame = TypeVar('pandas.core.frame.DataFrame')"
      ]
    },
    {
      "cell_type": "code",
      "execution_count": 2,
      "metadata": {},
      "outputs": [],
      "source": [
        "tilling_1 = Tilling_Dataset(\n",
        "    name_data='kidney_1_tilling',\n",
        "    path_to_df='data\\\\kidney_1_tilling.csv',\n",
        "    use_random_sub=False,\n",
        "    empty_tile_pct=0,\n",
        "    sample_limit=None,\n",
        "    transform=None\n",
        ")"
      ]
    },
    {
      "cell_type": "code",
      "execution_count": 11,
      "metadata": {},
      "outputs": [
        {
          "data": {
            "image/png": "[encoded data removed]",
            "text/plain": [
              "<Figure size 640x480 with 1 Axes>"
            ]
          },
          "metadata": {},
          "output_type": "display_data"
        }
      ],
      "source": [
        "tilling_1.df['is_empty'].value_counts().plot.pie(y='type', autopct='%.1f%%', legend=False)\n",
        "plt.title('Percent empty images');"
      ]
    },
    {
      "cell_type": "code",
      "execution_count": null,
      "metadata": {},
      "outputs": [],
      "source": [
        " A.ShiftScaleRotate(scale_limit=0.2, shift_limit = 0.1,rotate_limit=0, p= CFG.p_rot),"
      ]
    },
    {
      "cell_type": "code",
      "execution_count": null,
      "metadata": {},
      "outputs": [],
      "source": [
        "tr =  A.GaussNoise(var_limit=0.05, p=1)\n",
        "#A.Affine(scale={\"x\":(0.7, 1.3), \"y\":(0.7, 1.3)}, \n",
        "         #    translate_percent={\"x\":(0, 0.1), \"y\":(0, 0.1)}, \n",
        "            #  rotate=(-30, 30), shear=(-5, 5), p=1)\n",
        "#A.GridDistortion(num_steps=5, distort_limit=0.1, border_mode=1, p=1)\n",
        "#A.ElasticTransform(alpha=1, sigma=50, alpha_affine=10, border_mode=1, p=1)\n",
        "#A.Affine(scale={\"x\":(0.7, 1.3), \"y\":(0.7, 1.3)}, \n",
        " #             translate_percent={\"x\":(0, 0.1), \"y\":(0, 0.1)}, \n",
        "  #            rotate=(-30, 30), shear=(-10, 10), p=1)"
      ]
    },
    {
      "cell_type": "code",
      "execution_count": null,
      "metadata": {},
      "outputs": [],
      "source": [
        "img, mask, bbx, size = tilling_1[24556]\n",
        "img= torch.permute(img, (1,2,0)).numpy()\n",
        "mask = mask.numpy()\n",
        "fig, axarr = plt.subplots(ncols=3, figsize=(12, 6))\n",
        "axarr[0].imshow(img, cmap=\"gray\")\n",
        "axarr[1].imshow(color.label2rgb(mask, img, bg_label=0, bg_color=(1.,1.,1.), alpha=0.25))\n",
        "axarr[2].imshow(mask, vmin=0, interpolation='antialiased', interpolation_stage='rgba')"
      ]
    },
    {
      "cell_type": "code",
      "execution_count": null,
      "metadata": {},
      "outputs": [],
      "source": [
        "img, mask, bbx, size = tilling_1[24556]\n",
        "augmented = tr(image=torch.permute(img, (1,2,0)).numpy(), mask=mask.numpy())  # c h w\n",
        "img, mask = augmented[\"image\"], augmented[\"mask\"]\n",
        "\n",
        "\n",
        "\n",
        "fig, axarr = plt.subplots(ncols=3, figsize=(12, 6))\n",
        "axarr[0].imshow(img, cmap=\"gray\")\n",
        "axarr[1].imshow(color.label2rgb(mask, img, bg_label=0, bg_color=(1.,1.,1.), alpha=0.25))\n",
        "axarr[2].imshow(mask, vmin=0, interpolation='antialiased', interpolation_stage='rgba')"
      ]
    },
    {
      "cell_type": "markdown",
      "metadata": {},
      "source": [
        "# Dataset statistic"
      ]
    },
    {
      "cell_type": "code",
      "execution_count": 12,
      "metadata": {},
      "outputs": [],
      "source": [
        "loader = torch.utils.data.DataLoader(\n",
        "    tilling_1 ,\n",
        "    batch_size=5,\n",
        "    \n",
        "    shuffle=False,\n",
        "    pin_memory=True\n",
        ")"
      ]
    },
    {
      "cell_type": "code",
      "execution_count": 15,
      "metadata": {},
      "outputs": [],
      "source": [
        "batch = next(iter(loader))"
      ]
    },
    {
      "cell_type": "code",
      "execution_count": 16,
      "metadata": {},
      "outputs": [],
      "source": [
        "img = batch[0]"
      ]
    },
    {
      "cell_type": "code",
      "execution_count": 18,
      "metadata": {},
      "outputs": [
        {
          "data": {
            "text/plain": [
              "tensor(0.1176)"
            ]
          },
          "execution_count": 18,
          "metadata": {},
          "output_type": "execute_result"
        }
      ],
      "source": [
        "img.quantile(0.1)"
      ]
    },
    {
      "cell_type": "code",
      "execution_count": 25,
      "metadata": {},
      "outputs": [
        {
          "data": {
            "text/plain": [
              "tensor(1.0543)"
            ]
          },
          "execution_count": 25,
          "metadata": {},
          "output_type": "execute_result"
        }
      ],
      "source": [
        "def norm_with_clip(x:torch.Tensor,low=10, high=99.8, alpha=0.01):\n",
        "    xmin = torch.quantile(x,low / 100)\n",
        "    xmax = torch.quantile(x,high / 100)\n",
        "    x = (x-xmin)/(xmax-xmin)\n",
        "    if 1:\n",
        "        x[x>1]=(x[x>1]-1)*alpha +1\n",
        "        x[x<0]=(x[x<0])*alpha\n",
        "    #x = np.clip(x,0,1)\n",
        "    return x\n",
        "\n",
        "    \n",
        "norm_with_clip(img).max()"
      ]
    },
    {
      "cell_type": "code",
      "execution_count": null,
      "metadata": {},
      "outputs": [],
      "source": [
        "def norm_by_percentile(volume, low=10, high=99.8, alpha=0.01):\n",
        "    xmin = np.percentile(volume,low)\n",
        "    xmax = np.percentile(volume,high)\n",
        "    x = (volume-xmin)/(xmax-xmin)\n",
        "    if 1:\n",
        "        x[x>1]=(x[x>1]-1)*alpha +1\n",
        "        x[x<0]=(x[x<0])*alpha\n",
        "    #x = np.clip(x,0,1)\n",
        "    return x"
      ]
    },
    {
      "cell_type": "code",
      "execution_count": 9,
      "metadata": {},
      "outputs": [
        {
          "data": {
            "text/plain": [
              "torch.Size([5, 3, 512, 512])"
            ]
          },
          "execution_count": 9,
          "metadata": {},
          "output_type": "execute_result"
        }
      ],
      "source": [
        "next(iter(loader))[0].shape"
      ]
    },
    {
      "cell_type": "code",
      "execution_count": 6,
      "metadata": {},
      "outputs": [
        {
          "name": "stderr",
          "output_type": "stream",
          "text": [
            "Calculate: 100%|\u2588\u2588\u2588\u2588\u2588\u2588\u2588\u2588\u2588\u2588| 2735/2735 [01:18<00:00, 34.64it/s]"
          ]
        },
        {
          "name": "stdout",
          "output_type": "stream",
          "text": [
            "mean: tensor([0.2479, 0.2479, 0.2479])\n",
            "std:  tensor([0.1773, 0.1773, 0.1773])\n"
          ]
        },
        {
          "name": "stderr",
          "output_type": "stream",
          "text": [
            "\n"
          ]
        }
      ],
      "source": [
        "psum = torch.tensor([0.0, 0.0, 0.0])\n",
        "psum_sq = torch.tensor([0.0, 0.0, 0.0])\n",
        "\n",
        "num_pixels = 0\n",
        "pbar = tqdm(enumerate(loader), total=len(loader), desc='Calculate')\n",
        "for step, batch in pbar:\n",
        "    images, _, _, _ = batch\n",
        "    batch_size, num_channels, height, width = images.shape\n",
        "    num_pixels += batch_size * height * width\n",
        "    \n",
        "    psum += images.sum(axis=[0, 2, 3])\n",
        "    psum_sq += (images**2).sum(axis=[0, 2, 3])\n",
        "\n",
        "    \n",
        "# mean and STD\n",
        "total_mean = psum / num_pixels\n",
        "total_var = (psum_sq / num_pixels)  - (total_mean ** 2)\n",
        "total_std = torch.sqrt(total_var)\n",
        "\n",
        "# output\n",
        "print(\"mean: \" + str(total_mean))\n",
        "print(\"std:  \" + str(total_std))\n"
      ]
    },
    {
      "cell_type": "code",
      "execution_count": null,
      "metadata": {},
      "outputs": [],
      "source": []
    },
    {
      "cell_type": "code",
      "execution_count": null,
      "metadata": {},
      "outputs": [],
      "source": []
    },
    {
      "cell_type": "code",
      "execution_count": null,
      "metadata": {},
      "outputs": [],
      "source": []
    },
    {
      "cell_type": "code",
      "execution_count": null,
      "metadata": {},
      "outputs": [],
      "source": []
    },
    {
      "cell_type": "code",
      "execution_count": null,
      "metadata": {},
      "outputs": [],
      "source": []
    },
    {
      "cell_type": "code",
      "execution_count": null,
      "metadata": {},
      "outputs": [],
      "source": [
        "img, mask, is_empty, bbx, size = data_loader[8]\n",
        "augmented = train_transform(image=img,mask=mask)\n",
        "img,mask = augmented['image'],augmented['mask']\n",
        "\n",
        "\n",
        "fig, axarr = plt.subplots(ncols=3, figsize=(12, 6))\n",
        "axarr[0].imshow(torch.permute(img, (1,2,0)).numpy(), cmap=\"gray\")\n",
        "axarr[1].imshow(color.label2rgb(mask.numpy(), torch.permute(img, (1,2,0)).numpy(), bg_label=0, bg_color=(1.,1.,1.), alpha=0.25))\n",
        "axarr[2].imshow(mask, vmin=0, interpolation='antialiased', interpolation_stage='rgba')"
      ]
    },
    {
      "cell_type": "code",
      "execution_count": null,
      "metadata": {},
      "outputs": [],
      "source": []
    }
  ],
  "metadata": {
    "kernelspec": {
      "display_name": ".venv",
      "language": "python",
      "name": "python3"
    },
    "language_info": {
      "codemirror_mode": {
        "name": "ipython",
        "version": 3
      },
      "file_extension": ".py",
      "mimetype": "text/x-python",
      "name": "python",
      "nbconvert_exporter": "python",
      "pygments_lexer": "ipython3",
      "version": "3.9.0"
    }
  },
  "nbformat": 4,
  "nbformat_minor": 2
}
