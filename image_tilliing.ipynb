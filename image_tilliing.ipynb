{
 "cells": [
  {
   "cell_type": "code",
   "execution_count": 31,
   "metadata": {},
   "outputs": [],
   "source": [
    "import pandas as pd\n",
    "from torch.utils.data import Dataset\n",
    "from typing import Optional, List\n",
    "from pathlib import Path\n",
    "import rasterio\n",
    "from tqdm import tqdm\n",
    "import numpy as np\n",
    "import cv2\n",
    "import warnings\n",
    "from segmentation.scr.rle_coding import *\n",
    "from segmentation.config import Configs as CFG\n",
    "import matplotlib.pyplot as plt\n",
    "warnings.filterwarnings(\"ignore\", category=rasterio.errors.NotGeoreferencedWarning)\n"
   ]
  },
  {
   "cell_type": "code",
   "execution_count": 66,
   "metadata": {},
   "outputs": [],
   "source": [
    "class TiledDataset(Dataset):\n",
    "    def __init__(\n",
    "        self,\n",
    "        name_data: str,\n",
    "        path_img_dir: str,\n",
    "        path_lb_dir: str,\n",
    "        tile_size: Optional[list] = CFG.tile_size,\n",
    "        overlap_pct: float = CFG.overlap_pct,\n",
    "        strong_empty: bool = True,\n",
    "        sample_limit: int = 30000 * 10,\n",
    "        cache_dir: str = None,\n",
    "    ):\n",
    "        self.name_data = name_data\n",
    "        self.path_img_dir = Path(path_img_dir)\n",
    "        self.path_lb_dir = Path(path_lb_dir)\n",
    "        self.tile_size = np.array(tile_size)\n",
    "        self.overlap_pct = overlap_pct\n",
    "        self.strong_empty = strong_empty\n",
    "        self.sample_limit = sample_limit\n",
    "        self.cache_dir = cache_dir\n",
    "        \n",
    "        self.path_img_dir = sorted(list(self.path_img_dir.rglob(\"*.tif\")))\n",
    "        self.samples = []\n",
    "        for p_img in self.path_img_dir[:500]:\n",
    "            p_lb = self.path_lb_dir / p_img.name\n",
    "            with rasterio.open(p_img) as reader:\n",
    "                width, height = reader.width, reader.height\n",
    "                img_r = reader.read()\n",
    "                px_max, px_min = img_r.max(), img_r.min()\n",
    "            # print(p_lb)\n",
    "            self.samples.append((p_img, p_lb, [px_min, px_max], [height, width]))\n",
    "\n",
    "        min_overlap = float(overlap_pct) * 0.01\n",
    "        max_stride = self.tile_size * (1.0 - min_overlap)\n",
    "\n",
    "        list_tiles = []\n",
    "        empty = 0\n",
    "        nonempty = 0\n",
    "\n",
    "        for file_path, label_path, px_stats, img_dims in tqdm(\n",
    "            self.samples, total=len(self.samples), desc=\"Generating tiles\"\n",
    "        ):\n",
    "            # [(C,H,W),...]\n",
    "            height, width = img_dims\n",
    "            num_patches = np.ceil(np.array([height, width]) / max_stride).astype(\n",
    "                np.int64\n",
    "            )\n",
    "            starts = [\n",
    "                np.int32(np.linspace(0, height - self.tile_size[0], num_patches[0])),\n",
    "                np.int32(np.linspace(0, width - self.tile_size[1], num_patches[1])),\n",
    "            ]\n",
    "            stops = [starts[0] + self.tile_size[0], starts[1] + self.tile_size[1]]\n",
    "            mask = cv2.imread(str(label_path), cv2.IMREAD_GRAYSCALE).astype(np.uint8)\n",
    "            rle = rle_encode(mask)\n",
    "\n",
    "            for y1, y2 in zip(starts[0], stops[0]):\n",
    "                for x1, x2 in zip(starts[1], stops[1]):\n",
    "                    mask_tile = mask[y1:y2, x1:x2]\n",
    "                    is_empty = np.all(mask_tile == 0)\n",
    "\n",
    "                    if self.strong_empty:\n",
    "                        is_empty = is_empty or (mask_tile.sum() < (0.05 * self.tile_size[0]))\n",
    "                    if is_empty:\n",
    "                        empty += 1\n",
    "                    else:\n",
    "                        nonempty += 1\n",
    "                    \n",
    "                    list_tiles.append(\n",
    "                        (\n",
    "                            file_path,\n",
    "                            rle,\n",
    "                            is_empty,\n",
    "                            (x1, y1, x2 - x1, y2 - y1),\n",
    "                            px_stats,\n",
    "                            (height, width),\n",
    "                        )\n",
    "                    )\n",
    "        print(empty, nonempty )\n",
    "        self.tiles = []\n",
    "        if self.cache_dir:\n",
    "            if isinstance(self.cache_dir, str):\n",
    "                self.cache_dir = Path(self.cache_dir)\n",
    "            cache_dir1 = self.cache_dir / self.name_data\n",
    "            cache_dir1.mkdir(parents=True, exist_ok=True)\n",
    "            \n",
    "        self.df = pd.DataFrame(columns =['path_img', 'rle', 'is_empty', 'bbx', 'px_stats', 'size'])\n",
    "        self.path_df = self.cache_dir / (self.name_data +'.csv')\n",
    "\n",
    "        if self.sample_limit < len(list_tiles):\n",
    "            pos_idxs_to_sample = np.random.choice(\n",
    "                len(list_tiles), min(sample_limit, len(list_tiles)), replace=False\n",
    "            )\n",
    "            self.tiles = list(map(list_tiles.__getitem__, pos_idxs_to_sample))\n",
    "        else:\n",
    "            self.tiles = list_tiles\n",
    "\n",
    "        # rasterio.windows.Window(col_off, row_off, width, h"
   ]
  },
  {
   "cell_type": "code",
   "execution_count": 67,
   "metadata": {},
   "outputs": [
    {
     "name": "stderr",
     "output_type": "stream",
     "text": [
      "Generating tiles: 100%|██████████| 500/500 [00:03<00:00, 128.55it/s]"
     ]
    },
    {
     "name": "stdout",
     "output_type": "stream",
     "text": [
      "754 2246\n"
     ]
    },
    {
     "name": "stderr",
     "output_type": "stream",
     "text": [
      "\n"
     ]
    }
   ],
   "source": [
    "train_set = TiledDataset(\n",
    "    name_data='kidney_1_tilling',\n",
    "    path_img_dir=CFG.path_img_kidney1,\n",
    "                         path_lb_dir=CFG.path_lb_kidney1,\n",
    "                         cache_dir=CFG.cache_dir \n",
    "                         )"
   ]
  },
  {
   "cell_type": "code",
   "execution_count": null,
   "metadata": {},
   "outputs": [],
   "source": []
  },
  {
   "cell_type": "code",
   "execution_count": null,
   "metadata": {},
   "outputs": [],
   "source": []
  },
  {
   "cell_type": "code",
   "execution_count": 29,
   "metadata": {},
   "outputs": [
    {
     "data": {
      "text/plain": [
       "(WindowsPath('data/train/kidney_1_dense/images/0066.tif'),\n",
       " '358934 1 359846 1 388995 2 420817 2 420842 2 421729 2 421755 1 438219 2 457343 1 458225 1 459137 1 471020 2 471932 2 472845 1',\n",
       " True,\n",
       " (0, 791, 512, 512),\n",
       " [19416, 31357],\n",
       " (1303, 912))"
      ]
     },
     "execution_count": 29,
     "metadata": {},
     "output_type": "execute_result"
    }
   ],
   "source": [
    "train_set.tiles[400]"
   ]
  },
  {
   "cell_type": "code",
   "execution_count": 46,
   "metadata": {},
   "outputs": [],
   "source": [
    "bbx = train_set.tiles[400][3]"
   ]
  },
  {
   "cell_type": "code",
   "execution_count": 48,
   "metadata": {},
   "outputs": [],
   "source": [
    "x, y, w, h = bbx"
   ]
  },
  {
   "cell_type": "code",
   "execution_count": null,
   "metadata": {},
   "outputs": [],
   "source": []
  },
  {
   "cell_type": "code",
   "execution_count": 42,
   "metadata": {},
   "outputs": [],
   "source": [
    "img = cv2.imread(str(train_set.tiles[400][0]), cv2.IMREAD_GRAYSCALE).astype(np.uint8)"
   ]
  },
  {
   "cell_type": "code",
   "execution_count": 56,
   "metadata": {},
   "outputs": [],
   "source": [
    "lb lb = cv2.imread('data/train/kidney_1_dense/labels/0066.tif', cv2.IMREAD_GRAYSCALE).astype(np.uint8)"
   ]
  },
  {
   "cell_type": "code",
   "execution_count": null,
   "metadata": {},
   "outputs": [],
   "source": []
  },
  {
   "cell_type": "code",
   "execution_count": 14,
   "metadata": {},
   "outputs": [
    {
     "data": {
      "text/html": [
       "<div>\n",
       "<style scoped>\n",
       "    .dataframe tbody tr th:only-of-type {\n",
       "        vertical-align: middle;\n",
       "    }\n",
       "\n",
       "    .dataframe tbody tr th {\n",
       "        vertical-align: top;\n",
       "    }\n",
       "\n",
       "    .dataframe thead th {\n",
       "        text-align: right;\n",
       "    }\n",
       "</style>\n",
       "<table border=\"1\" class=\"dataframe\">\n",
       "  <thead>\n",
       "    <tr style=\"text-align: right;\">\n",
       "      <th></th>\n",
       "      <th>path_img</th>\n",
       "      <th>rle</th>\n",
       "      <th>is_empty</th>\n",
       "      <th>bbx</th>\n",
       "      <th>px_stats</th>\n",
       "      <th>size</th>\n",
       "    </tr>\n",
       "  </thead>\n",
       "  <tbody>\n",
       "  </tbody>\n",
       "</table>\n",
       "</div>"
      ],
      "text/plain": [
       "Empty DataFrame\n",
       "Columns: [path_img, rle, is_empty, bbx, px_stats, size]\n",
       "Index: []"
      ]
     },
     "execution_count": 14,
     "metadata": {},
     "output_type": "execute_result"
    }
   ],
   "source": [
    "pd.read_csv('data\\kidney_1_tilling.csv')"
   ]
  },
  {
   "cell_type": "code",
   "execution_count": null,
   "metadata": {},
   "outputs": [],
   "source": []
  },
  {
   "cell_type": "code",
   "execution_count": null,
   "metadata": {},
   "outputs": [],
   "source": []
  },
  {
   "cell_type": "code",
   "execution_count": null,
   "metadata": {},
   "outputs": [],
   "source": []
  },
  {
   "cell_type": "code",
   "execution_count": null,
   "metadata": {},
   "outputs": [
    {
     "data": {
      "text/plain": [
       "WindowsPath('data/train/kidney_1_dense')"
      ]
     },
     "execution_count": 33,
     "metadata": {},
     "output_type": "execute_result"
    }
   ],
   "source": [
    "train_set.path_img_dir[0].parent.parent"
   ]
  },
  {
   "cell_type": "code",
   "execution_count": null,
   "metadata": {},
   "outputs": [],
   "source": [
    "x = pd.DataFrame(columns =['x', 'y']) \n"
   ]
  },
  {
   "cell_type": "code",
   "execution_count": 60,
   "metadata": {},
   "outputs": [],
   "source": [
    "x.loc[1,:] = [1,1]"
   ]
  },
  {
   "cell_type": "code",
   "execution_count": 61,
   "metadata": {},
   "outputs": [
    {
     "data": {
      "text/html": [
       "<div>\n",
       "<style scoped>\n",
       "    .dataframe tbody tr th:only-of-type {\n",
       "        vertical-align: middle;\n",
       "    }\n",
       "\n",
       "    .dataframe tbody tr th {\n",
       "        vertical-align: top;\n",
       "    }\n",
       "\n",
       "    .dataframe thead th {\n",
       "        text-align: right;\n",
       "    }\n",
       "</style>\n",
       "<table border=\"1\" class=\"dataframe\">\n",
       "  <thead>\n",
       "    <tr style=\"text-align: right;\">\n",
       "      <th></th>\n",
       "      <th>x</th>\n",
       "      <th>y</th>\n",
       "    </tr>\n",
       "  </thead>\n",
       "  <tbody>\n",
       "    <tr>\n",
       "      <th>0</th>\n",
       "      <td>1</td>\n",
       "      <td>1</td>\n",
       "    </tr>\n",
       "    <tr>\n",
       "      <th>1</th>\n",
       "      <td>1</td>\n",
       "      <td>1</td>\n",
       "    </tr>\n",
       "  </tbody>\n",
       "</table>\n",
       "</div>"
      ],
      "text/plain": [
       "   x  y\n",
       "0  1  1\n",
       "1  1  1"
      ]
     },
     "execution_count": 61,
     "metadata": {},
     "output_type": "execute_result"
    }
   ],
   "source": [
    "x"
   ]
  },
  {
   "cell_type": "code",
   "execution_count": 51,
   "metadata": {},
   "outputs": [
    {
     "data": {
      "text/plain": [
       "13674"
      ]
     },
     "execution_count": 51,
     "metadata": {},
     "output_type": "execute_result"
    }
   ],
   "source": [
    "1528+12146 "
   ]
  },
  {
   "cell_type": "code",
   "execution_count": null,
   "metadata": {},
   "outputs": [],
   "source": []
  },
  {
   "cell_type": "code",
   "execution_count": 46,
   "metadata": {},
   "outputs": [
    {
     "data": {
      "text/plain": [
       "3000"
      ]
     },
     "execution_count": 46,
     "metadata": {},
     "output_type": "execute_result"
    }
   ],
   "source": [
    "len(train_set.list_tiles)"
   ]
  },
  {
   "cell_type": "code",
   "execution_count": null,
   "metadata": {},
   "outputs": [],
   "source": []
  },
  {
   "cell_type": "code",
   "execution_count": 20,
   "metadata": {},
   "outputs": [
    {
     "data": {
      "text/plain": [
       "(WindowsPath('data/train/kidney_1_dense/images/0000.tif'),\n",
       " WindowsPath('data/train/kidney_1_dense/labels/0000.tif'),\n",
       " [18515, 36640],\n",
       " [1303, 912])"
      ]
     },
     "execution_count": 20,
     "metadata": {},
     "output_type": "execute_result"
    }
   ],
   "source": [
    "train_set.samples[0]"
   ]
  },
  {
   "cell_type": "code",
   "execution_count": 26,
   "metadata": {},
   "outputs": [
    {
     "data": {
      "text/plain": [
       "(1303, 912)"
      ]
     },
     "execution_count": 26,
     "metadata": {},
     "output_type": "execute_result"
    }
   ],
   "source": [
    "mask.shape"
   ]
  },
  {
   "cell_type": "code",
   "execution_count": 31,
   "metadata": {},
   "outputs": [],
   "source": [
    "mask = cv2.imread('data/train/kidney_1_dense/labels/1000.tif', cv2.IMREAD_UNCHANGED).astype(np.uint8)\n",
    "shape = mask.shape\n",
    "rle = rle_encode(mask)\n",
    "img_rle = rle_decode(rle, shape)"
   ]
  },
  {
   "cell_type": "code",
   "execution_count": 35,
   "metadata": {},
   "outputs": [],
   "source": [
    "mask[mask == 255] = 1"
   ]
  },
  {
   "cell_type": "code",
   "execution_count": 36,
   "metadata": {},
   "outputs": [
    {
     "data": {
      "text/plain": [
       "True"
      ]
     },
     "execution_count": 36,
     "metadata": {},
     "output_type": "execute_result"
    }
   ],
   "source": [
    "(img_rle == mask).all()"
   ]
  },
  {
   "cell_type": "code",
   "execution_count": 39,
   "metadata": {},
   "outputs": [
    {
     "data": {
      "text/plain": [
       "'0000.tif'"
      ]
     },
     "execution_count": 39,
     "metadata": {},
     "output_type": "execute_result"
    }
   ],
   "source": [
    "rle_1000 = df_train[df_train['id'] == 'kidney_1_dense_1000']['rle'].values\n",
    "img_rle = rle_decode(rle_1000[0], shape)\n"
   ]
  },
  {
   "cell_type": "code",
   "execution_count": null,
   "metadata": {},
   "outputs": [],
   "source": []
  }
 ],
 "metadata": {
  "kernelspec": {
   "display_name": ".venv",
   "language": "python",
   "name": "python3"
  },
  "language_info": {
   "codemirror_mode": {
    "name": "ipython",
    "version": 3
   },
   "file_extension": ".py",
   "mimetype": "text/x-python",
   "name": "python",
   "nbconvert_exporter": "python",
   "pygments_lexer": "ipython3",
   "version": "3.9.0"
  }
 },
 "nbformat": 4,
 "nbformat_minor": 2
}
