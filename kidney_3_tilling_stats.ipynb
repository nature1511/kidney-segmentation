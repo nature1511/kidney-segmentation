{
  "cells": [
    {
      "cell_type": "code",
      "execution_count": null,
      "metadata": {},
      "outputs": [],
      "source": [
        "import torch\n",
        "from typing import TypeVar\n",
        "from tqdm.auto import tqdm\n",
        "\n",
        "from segmentation.scr.utils.rle_coding import *\n",
        "from segmentation.scr.tilling_dataset import Tilling_Dataset\n",
        "import matplotlib.pyplot as plt\n",
        "from skimage import color\n",
        "\n",
        "PandasDataFrame = TypeVar('pandas.core.frame.DataFrame')"
      ]
    },
    {
      "cell_type": "code",
      "execution_count": null,
      "metadata": {},
      "outputs": [],
      "source": [
        "tilling_1 = Tilling_Dataset(\n",
        "    name_data='kidney_3_tilling',\n",
        "    path_to_df='data\\\\kidney_3_tilling.csv',\n",
        "    use_random_sub=False,\n",
        "    empty_tile_pct=0,\n",
        "    sample_limit=None,\n",
        "    transform=None\n",
        ")"
      ]
    },
    {
      "cell_type": "code",
      "execution_count": null,
      "metadata": {},
      "outputs": [],
      "source": [
        "tilling_1.df['is_empty'].value_counts().plot.pie(y='type', autopct='%.1f%%', legend=False)\n",
        "plt.title('Percent empty images');"
      ]
    },
    {
      "cell_type": "code",
      "execution_count": null,
      "metadata": {},
      "outputs": [],
      "source": [
        "tilling_1.df['is_empty'][tilling_1.df['is_empty'] == False]"
      ]
    },
    {
      "cell_type": "code",
      "execution_count": null,
      "metadata": {},
      "outputs": [],
      "source": [
        "img, mask, bbx, size = tilling_1[5]\n",
        "\n",
        "\n",
        "\n",
        "fig, axarr = plt.subplots(ncols=3, figsize=(12, 6))\n",
        "axarr[0].imshow(torch.permute(img, (1,2,0)).numpy(), cmap=\"gray\")\n",
        "axarr[1].imshow(color.label2rgb(mask.numpy(), torch.permute(img, (1,2,0)).numpy(), bg_label=0, bg_color=(1.,1.,1.), alpha=0.25))\n",
        "axarr[2].imshow(mask, vmin=0, interpolation='antialiased', interpolation_stage='rgba')"
      ]
    },
    {
      "cell_type": "markdown",
      "metadata": {},
      "source": [
        "# Dataset statistic"
      ]
    },
    {
      "cell_type": "code",
      "execution_count": null,
      "metadata": {},
      "outputs": [],
      "source": [
        "loader = torch.utils.data.DataLoader(\n",
        "    tilling_1 ,\n",
        "    batch_size=5,\n",
        "    \n",
        "    shuffle=False,\n",
        "    pin_memory=True\n",
        ")"
      ]
    },
    {
      "cell_type": "code",
      "execution_count": null,
      "metadata": {},
      "outputs": [],
      "source": [
        "psum = torch.tensor([0.0, 0.0, 0.0])\n",
        "psum_sq = torch.tensor([0.0, 0.0, 0.0])\n",
        "\n",
        "num_pixels = 0\n",
        "pbar = tqdm(enumerate(loader), total=len(loader), desc='Calculate')\n",
        "for step, batch in pbar:\n",
        "    images, _, _, _ = batch\n",
        "    batch_size, num_channels, height, width = images.shape\n",
        "    num_pixels += batch_size * height * width\n",
        "    \n",
        "    psum += images.sum(axis=[0, 2, 3])\n",
        "    psum_sq += (images**2).sum(axis=[0, 2, 3])\n",
        "\n",
        "    \n",
        "# mean and STD\n",
        "total_mean = psum / num_pixels\n",
        "total_var = (psum_sq / num_pixels)  - (total_mean ** 2)\n",
        "total_std = torch.sqrt(total_var)\n",
        "\n",
        "# output\n",
        "print(\"mean: \" + str(total_mean))\n",
        "print(\"std:  \" + str(total_std))\n"
      ]
    },
    {
      "cell_type": "code",
      "execution_count": null,
      "metadata": {},
      "outputs": [],
      "source": []
    },
    {
      "cell_type": "code",
      "execution_count": null,
      "metadata": {},
      "outputs": [],
      "source": []
    },
    {
      "cell_type": "code",
      "execution_count": null,
      "metadata": {},
      "outputs": [],
      "source": []
    },
    {
      "cell_type": "code",
      "execution_count": null,
      "metadata": {},
      "outputs": [],
      "source": []
    },
    {
      "cell_type": "code",
      "execution_count": null,
      "metadata": {},
      "outputs": [],
      "source": []
    },
    {
      "cell_type": "code",
      "execution_count": null,
      "metadata": {},
      "outputs": [],
      "source": [
        "img, mask, is_empty, bbx, size = data_loader[8]\n",
        "augmented = train_transform(image=img,mask=mask)\n",
        "img,mask = augmented['image'],augmented['mask']\n",
        "\n",
        "\n",
        "fig, axarr = plt.subplots(ncols=3, figsize=(12, 6))\n",
        "axarr[0].imshow(torch.permute(img, (1,2,0)).numpy(), cmap=\"gray\")\n",
        "axarr[1].imshow(color.label2rgb(mask.numpy(), torch.permute(img, (1,2,0)).numpy(), bg_label=0, bg_color=(1.,1.,1.), alpha=0.25))\n",
        "axarr[2].imshow(mask, vmin=0, interpolation='antialiased', interpolation_stage='rgba')"
      ]
    },
    {
      "cell_type": "code",
      "execution_count": null,
      "metadata": {},
      "outputs": [],
      "source": []
    }
  ],
  "metadata": {
    "kernelspec": {
      "display_name": ".venv",
      "language": "python",
      "name": "python3"
    },
    "language_info": {
      "codemirror_mode": {
        "name": "ipython",
        "version": 3
      },
      "file_extension": ".py",
      "mimetype": "text/x-python",
      "name": "python",
      "nbconvert_exporter": "python",
      "pygments_lexer": "ipython3",
      "version": "3.9.0"
    }
  },
  "nbformat": 4,
  "nbformat_minor": 2
}
