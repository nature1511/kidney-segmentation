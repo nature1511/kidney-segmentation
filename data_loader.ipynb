{
 "cells": [
  {
   "cell_type": "markdown",
   "metadata": {},
   "source": [
    "# Imports"
   ]
  },
  {
   "cell_type": "code",
   "execution_count": 45,
   "metadata": {},
   "outputs": [],
   "source": [
    "import torch\n",
    "import pandas as pd\n",
    "import numpy as np\n",
    "from PIL import Image\n",
    "from pathlib import Path\n",
    "\n",
    "pd.options.mode.chained_assignment = None"
   ]
  },
  {
   "cell_type": "markdown",
   "metadata": {},
   "source": [
    "# Prepare data frame"
   ]
  },
  {
   "cell_type": "markdown",
   "metadata": {},
   "source": [
    "## Functions"
   ]
  },
  {
   "cell_type": "code",
   "execution_count": 47,
   "metadata": {},
   "outputs": [],
   "source": [
    "def subset_df(train_df, base_dir, im_dir='kidney_1_dense',lb_dir='kidney_1_dense'):\n",
    "\n",
    "    \n",
    "    micro_df = train_df[train_df['id'].str.startswith(lb_dir)]\n",
    "    print(base_dir / im_dir / 'images' )\n",
    "    micro_df['images'] = micro_df['img_name'].map(lambda x: base_dir / im_dir / 'images' / f'{x}.tif')\n",
    "    micro_df['labels'] = micro_df['img_name'].map(lambda x: base_dir / lb_dir / 'labels' / f'{x}.tif')\n",
    "    micro_df['images_width'] = micro_df['images'].map(lambda x: Image.open(x).size[0])\n",
    "    micro_df['images_height'] = micro_df['images'].map(lambda x: Image.open(x).size[1])\n",
    "\n",
    "    micro_df['labels_width'] = micro_df['labels'].map(lambda x: Image.open(x).size[0])\n",
    "    micro_df['labels_height'] = micro_df['labels'].map(lambda x: Image.open(x).size[1])\n",
    "\n",
    "    return micro_df"
   ]
  },
  {
   "cell_type": "markdown",
   "metadata": {},
   "source": [
    "## Prepare"
   ]
  },
  {
   "cell_type": "code",
   "execution_count": 48,
   "metadata": {},
   "outputs": [],
   "source": [
    "path_to_train_df = 'data\\train_rles.csv'\n",
    "BASE_DIR = Path('data')"
   ]
  },
  {
   "cell_type": "code",
   "execution_count": 49,
   "metadata": {},
   "outputs": [],
   "source": [
    "train_df = pd.read_csv(BASE_DIR / 'train_rles.csv')"
   ]
  },
  {
   "cell_type": "code",
   "execution_count": 50,
   "metadata": {},
   "outputs": [],
   "source": [
    "train_df['data_set'] = train_df['id'].map(lambda x: x[:-5] )\n",
    "train_df['kidney'] = train_df['id'].map(lambda x: '_'.join(x.split('_')[:2] ))\n",
    "train_df['type'] = train_df['id'].map(lambda x: x.split('_')[2] if '_'.join(x.split('_')[:2]) != 'kidney_2' else '')\n",
    "train_df['img_name'] = train_df['id'].map(lambda x: x.split('_')[-1] )\n",
    "train_df['mask_is_empty'] = train_df['rle'] == '1 0'"
   ]
  },
  {
   "cell_type": "code",
   "execution_count": 65,
   "metadata": {},
   "outputs": [
    {
     "name": "stdout",
     "output_type": "stream",
     "text": [
      "data\\train\\kidney_1_dense\\images\n",
      "data\\train\\kidney_1_voi\\images\n",
      "data\\train\\kidney_2\\images\n",
      "data\\train\\kidney_3_sparse\\images\n",
      "data\\train\\kidney_3_sparse\\images\n"
     ]
    }
   ],
   "source": [
    "kidney_1_dense = subset_df(train_df, base_dir = BASE_DIR / 'train', im_dir='kidney_1_dense',lb_dir='kidney_1_dense')\n",
    "kidney_1_voi = subset_df(train_df, base_dir = BASE_DIR / 'train', im_dir='kidney_1_voi',lb_dir='kidney_1_voi')\n",
    "kidney_2 = subset_df(train_df, base_dir = BASE_DIR / 'train', im_dir='kidney_2',lb_dir='kidney_2')\n",
    "kidney_3_sparse = subset_df(train_df, base_dir = BASE_DIR / 'train', im_dir='kidney_3_sparse',lb_dir='kidney_3_sparse')\n",
    "kidney_3_dense = subset_df(train_df, base_dir = BASE_DIR / 'train', im_dir='kidney_3_sparse',lb_dir='kidney_3_dense')"
   ]
  },
  {
   "cell_type": "code",
   "execution_count": 69,
   "metadata": {},
   "outputs": [],
   "source": [
    "del(train_df)"
   ]
  },
  {
   "cell_type": "code",
   "execution_count": 70,
   "metadata": {},
   "outputs": [],
   "source": [
    "train_df = pd.concat([kidney_1_dense, kidney_1_voi, kidney_2, kidney_3_sparse, kidney_3_dense], axis = 0)"
   ]
  },
  {
   "cell_type": "code",
   "execution_count": 72,
   "metadata": {},
   "outputs": [
    {
     "data": {
      "text/plain": [
       "(7429, 13)"
      ]
     },
     "execution_count": 72,
     "metadata": {},
     "output_type": "execute_result"
    }
   ],
   "source": [
    "train_df.shape"
   ]
  },
  {
   "cell_type": "markdown",
   "metadata": {},
   "source": [
    "# Albumentation\n"
   ]
  },
  {
   "cell_type": "code",
   "execution_count": null,
   "metadata": {},
   "outputs": [],
   "source": []
  },
  {
   "cell_type": "code",
   "execution_count": null,
   "metadata": {},
   "outputs": [],
   "source": [
    "\n"
   ]
  },
  {
   "cell_type": "markdown",
   "metadata": {},
   "source": []
  }
 ],
 "metadata": {
  "kernelspec": {
   "display_name": ".venv",
   "language": "python",
   "name": "python3"
  },
  "language_info": {
   "codemirror_mode": {
    "name": "ipython",
    "version": 3
   },
   "file_extension": ".py",
   "mimetype": "text/x-python",
   "name": "python",
   "nbconvert_exporter": "python",
   "pygments_lexer": "ipython3",
   "version": "3.9.0"
  }
 },
 "nbformat": 4,
 "nbformat_minor": 2
}
