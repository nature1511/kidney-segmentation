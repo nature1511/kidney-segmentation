{
  "cells": [
    {
      "cell_type": "markdown",
      "metadata": {},
      "source": [
        "# Example of creating a tilling dataset"
      ]
    },
    {
      "cell_type": "code",
      "execution_count": 1,
      "metadata": {},
      "outputs": [],
      "source": [
        "from segmentation.scr.create_tilling_data import *\n",
        "import torch"
      ]
    },
    {
      "cell_type": "code",
      "execution_count": 2,
      "metadata": {},
      "outputs": [
        {
          "name": "stdout",
          "output_type": "stream",
          "text": [
            "\u041e\u0431\u0449\u0435\u0435 \u0447\u0438\u0441\u043b\u043e \u0438\u0437\u043e\u0431\u0440\u0430\u0436\u0435\u043d\u0438\u0439 \u0441 \u043c\u0430\u0441\u043a\u0430\u043c\u0438 \u0441\u0435\u0433\u043c\u0435\u043d\u0442\u0430\u0446\u0438\u0438 : 2279\n"
          ]
        },
        {
          "name": "stderr",
          "output_type": "stream",
          "text": [
            "Reading images: 100%|\u2588\u2588\u2588\u2588\u2588\u2588\u2588\u2588\u2588\u2588| 2279/2279 [00:16<00:00, 136.53it/s]\n",
            "Generating tiles: 100%|\u2588\u2588\u2588\u2588\u2588\u2588\u2588\u2588\u2588\u2588| 2279/2279 [00:16<00:00, 135.00it/s]"
          ]
        },
        {
          "name": "stdout",
          "output_type": "stream",
          "text": [
            "Dataset contains 20744 empty and 33952 non-empty tiles.\n"
          ]
        },
        {
          "name": "stderr",
          "output_type": "stream",
          "text": [
            "\n"
          ]
        }
      ],
      "source": [
        "tilling_set = Generate_Tiled_Dataset(\n",
        "    name_data='kidney_1_tilling',\n",
        "    strong_empty=False,\n",
        "    path_img_dir=CFG.path_img_kidney1,\n",
        "                         path_lb_dir=CFG.path_lb_kidney1,\n",
        "                         cache_dir=CFG.cache_dir\n",
        "                         \n",
        "                         )"
      ]
    },
    {
      "cell_type": "code",
      "execution_count": 3,
      "metadata": {},
      "outputs": [],
      "source": [
        "loader = torch.utils.data.DataLoader(\n",
        "    tilling_set ,\n",
        "    batch_size=5,\n",
        "    \n",
        "    shuffle=False,\n",
        "    pin_memory=True\n",
        ")"
      ]
    },
    {
      "cell_type": "code",
      "execution_count": 4,
      "metadata": {},
      "outputs": [
        {
          "name": "stderr",
          "output_type": "stream",
          "text": [
            "tiling dataset to disk: 100%|\u2588\u2588\u2588\u2588\u2588\u2588\u2588\u2588\u2588\u2588| 10940/10940 [08:57<00:00, 20.36it/s]\n"
          ]
        }
      ],
      "source": [
        "for x in tqdm(loader, desc='tiling dataset to disk'):\n",
        "    pass"
      ]
    },
    {
      "cell_type": "code",
      "execution_count": 7,
      "metadata": {},
      "outputs": [
        {
          "data": {
            "text/html": [
              "<div>\n",
              "<style scoped>\n",
              "    .dataframe tbody tr th:only-of-type {\n",
              "        vertical-align: middle;\n",
              "    }\n",
              "\n",
              "    .dataframe tbody tr th {\n",
              "        vertical-align: top;\n",
              "    }\n",
              "\n",
              "    .dataframe thead th {\n",
              "        text-align: right;\n",
              "    }\n",
              "</style>\n",
              "<table border=\"1\" class=\"dataframe\">\n",
              "  <thead>\n",
              "    <tr style=\"text-align: right;\">\n",
              "      <th></th>\n",
              "      <th>path_img</th>\n",
              "      <th>path_lb</th>\n",
              "      <th>is_empty</th>\n",
              "      <th>bbx</th>\n",
              "      <th>px_stats</th>\n",
              "      <th>size</th>\n",
              "    </tr>\n",
              "  </thead>\n",
              "  <tbody>\n",
              "    <tr>\n",
              "      <th>0</th>\n",
              "      <td>data\\kidney_1_tilling\\images\\0000_0_0_256_256.png</td>\n",
              "      <td>data\\kidney_1_tilling\\labels\\0000_0_0_256_256.png</td>\n",
              "      <td>True</td>\n",
              "      <td>(0, 0, 256, 256)</td>\n",
              "      <td>[18515, 36640]</td>\n",
              "      <td>(1303, 912)</td>\n",
              "    </tr>\n",
              "    <tr>\n",
              "      <th>1</th>\n",
              "      <td>data\\kidney_1_tilling\\images\\0000_218_0_256_25...</td>\n",
              "      <td>data\\kidney_1_tilling\\labels\\0000_218_0_256_25...</td>\n",
              "      <td>True</td>\n",
              "      <td>(218, 0, 256, 256)</td>\n",
              "      <td>[18515, 36640]</td>\n",
              "      <td>(1303, 912)</td>\n",
              "    </tr>\n",
              "    <tr>\n",
              "      <th>2</th>\n",
              "      <td>data\\kidney_1_tilling\\images\\0000_437_0_256_25...</td>\n",
              "      <td>data\\kidney_1_tilling\\labels\\0000_437_0_256_25...</td>\n",
              "      <td>True</td>\n",
              "      <td>(437, 0, 256, 256)</td>\n",
              "      <td>[18515, 36640]</td>\n",
              "      <td>(1303, 912)</td>\n",
              "    </tr>\n",
              "    <tr>\n",
              "      <th>3</th>\n",
              "      <td>data\\kidney_1_tilling\\images\\0000_656_0_256_25...</td>\n",
              "      <td>data\\kidney_1_tilling\\labels\\0000_656_0_256_25...</td>\n",
              "      <td>True</td>\n",
              "      <td>(656, 0, 256, 256)</td>\n",
              "      <td>[18515, 36640]</td>\n",
              "      <td>(1303, 912)</td>\n",
              "    </tr>\n",
              "    <tr>\n",
              "      <th>4</th>\n",
              "      <td>data\\kidney_1_tilling\\images\\0000_0_209_256_25...</td>\n",
              "      <td>data\\kidney_1_tilling\\labels\\0000_0_209_256_25...</td>\n",
              "      <td>True</td>\n",
              "      <td>(0, 209, 256, 256)</td>\n",
              "      <td>[18515, 36640]</td>\n",
              "      <td>(1303, 912)</td>\n",
              "    </tr>\n",
              "  </tbody>\n",
              "</table>\n",
              "</div>"
            ],
            "text/plain": [
              "                                            path_img  \\\n",
              "0  data\\kidney_1_tilling\\images\\0000_0_0_256_256.png   \n",
              "1  data\\kidney_1_tilling\\images\\0000_218_0_256_25...   \n",
              "2  data\\kidney_1_tilling\\images\\0000_437_0_256_25...   \n",
              "3  data\\kidney_1_tilling\\images\\0000_656_0_256_25...   \n",
              "4  data\\kidney_1_tilling\\images\\0000_0_209_256_25...   \n",
              "\n",
              "                                             path_lb is_empty  \\\n",
              "0  data\\kidney_1_tilling\\labels\\0000_0_0_256_256.png     True   \n",
              "1  data\\kidney_1_tilling\\labels\\0000_218_0_256_25...     True   \n",
              "2  data\\kidney_1_tilling\\labels\\0000_437_0_256_25...     True   \n",
              "3  data\\kidney_1_tilling\\labels\\0000_656_0_256_25...     True   \n",
              "4  data\\kidney_1_tilling\\labels\\0000_0_209_256_25...     True   \n",
              "\n",
              "                  bbx        px_stats         size  \n",
              "0    (0, 0, 256, 256)  [18515, 36640]  (1303, 912)  \n",
              "1  (218, 0, 256, 256)  [18515, 36640]  (1303, 912)  \n",
              "2  (437, 0, 256, 256)  [18515, 36640]  (1303, 912)  \n",
              "3  (656, 0, 256, 256)  [18515, 36640]  (1303, 912)  \n",
              "4  (0, 209, 256, 256)  [18515, 36640]  (1303, 912)  "
            ]
          },
          "execution_count": 7,
          "metadata": {},
          "output_type": "execute_result"
        }
      ],
      "source": [
        "tilling_set.df.head()"
      ]
    },
    {
      "cell_type": "code",
      "execution_count": 8,
      "metadata": {},
      "outputs": [],
      "source": [
        "tilling_set.df.to_csv('data/kidney_1_tilling.csv',index=False)"
      ]
    }
  ],
  "metadata": {
    "kernelspec": {
      "display_name": ".venv",
      "language": "python",
      "name": "python3"
    },
    "language_info": {
      "codemirror_mode": {
        "name": "ipython",
        "version": 3
      },
      "file_extension": ".py",
      "mimetype": "text/x-python",
      "name": "python",
      "nbconvert_exporter": "python",
      "pygments_lexer": "ipython3",
      "version": "3.9.0"
    }
  },
  "nbformat": 4,
  "nbformat_minor": 2
}
