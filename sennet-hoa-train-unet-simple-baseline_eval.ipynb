{
 "cells": [
  {
   "cell_type": "code",
   "execution_count": 1,
   "id": "74fcdfbe",
   "metadata": {
    "_cell_guid": "b1076dfc-b9ad-4769-8c92-a6c4dae69d19",
    "_uuid": "8f2839f25d086af736a60e9eeb907d3b93b6e0e5",
    "execution": {
     "iopub.execute_input": "2023-12-04T12:04:09.964849Z",
     "iopub.status.busy": "2023-12-04T12:04:09.964518Z",
     "iopub.status.idle": "2023-12-04T12:04:18.592980Z",
     "shell.execute_reply": "2023-12-04T12:04:18.592141Z"
    },
    "papermill": {
     "duration": 8.643805,
     "end_time": "2023-12-04T12:04:18.595307",
     "exception": false,
     "start_time": "2023-12-04T12:04:09.951502",
     "status": "completed"
    },
    "tags": []
   },
   "outputs": [
    {
     "name": "stderr",
     "output_type": "stream",
     "text": [
      "c:\\Users\\123\\Desktop\\human vasculature\\.venv\\lib\\site-packages\\tqdm\\auto.py:21: TqdmWarning: IProgress not found. Please update jupyter and ipywidgets. See https://ipywidgets.readthedocs.io/en/stable/user_install.html\n",
      "  from .autonotebook import tqdm as notebook_tqdm\n",
      "c:\\Users\\123\\Desktop\\human vasculature\\.venv\\lib\\site-packages\\huggingface_hub\\utils\\_runtime.py:184: UserWarning: Pydantic is installed but cannot be imported. Please check your installation. `huggingface_hub` will default to not using Pydantic. Error message: '{e}'\n",
      "  warnings.warn(\n"
     ]
    }
   ],
   "source": [
    "import os\n",
    "import random\n",
    "from tqdm import tqdm\n",
    "import pandas as pd\n",
    "import numpy as np\n",
    "from glob import glob\n",
    "import gc\n",
    "import time\n",
    "from collections import defaultdict\n",
    "import  matplotlib.pyplot as plt\n",
    "from matplotlib.patches import Rectangle\n",
    "import copy\n",
    "import cv2\n",
    "import torch\n",
    "import torch.nn as nn\n",
    "from torch.utils.data import Dataset, DataLoader\n",
    "from torch.optim import lr_scheduler\n",
    "from torch.cuda import amp\n",
    "import torch.optim as optim\n",
    "import albumentations as A\n",
    "import segmentation_models_pytorch as smp\n",
    "\n",
    "from colorama import Fore, Back, Style\n",
    "c_  = Fore.GREEN\n",
    "sr_ = Style.RESET_ALL"
   ]
  },
  {
   "cell_type": "code",
   "execution_count": 2,
   "id": "985e035b",
   "metadata": {
    "execution": {
     "iopub.execute_input": "2023-12-04T12:04:18.620614Z",
     "iopub.status.busy": "2023-12-04T12:04:18.620277Z",
     "iopub.status.idle": "2023-12-04T12:04:18.689147Z",
     "shell.execute_reply": "2023-12-04T12:04:18.688444Z"
    },
    "papermill": {
     "duration": 0.08363,
     "end_time": "2023-12-04T12:04:18.691131",
     "exception": false,
     "start_time": "2023-12-04T12:04:18.607501",
     "status": "completed"
    },
    "tags": []
   },
   "outputs": [],
   "source": [
    "class CFG:\n",
    "    seed          = 42\n",
    "    debug         = False # set debug=False for Full Training\n",
    "    exp_name      = 'baseline'\n",
    "    comment       = 'unet-efficientnet_b1-512x512'\n",
    "    output_dir    = './'\n",
    "    model_name    = 'Unet'\n",
    "    backbone      = 'efficientnet-b1'\n",
    "    train_bs      = 16\n",
    "    valid_bs      = 32\n",
    "    img_size      = [512, 512]\n",
    "    epochs        = 15\n",
    "    n_accumulate  = max(1, 64//train_bs)\n",
    "    lr            = 2e-3\n",
    "    scheduler     = 'CosineAnnealingLR'\n",
    "    min_lr        = 1e-6\n",
    "    T_max         = int(2279/(train_bs*n_accumulate)*epochs)+50\n",
    "    T_0           = 25\n",
    "    warmup_epochs = 0\n",
    "    wd            = 1e-6\n",
    "    n_fold        = 5\n",
    "    num_classes   = 1\n",
    "    device        = torch.device(\"cuda:0\" if torch.cuda.is_available() else \"cpu\")\n",
    "    weigth        = 'weight/unit_baseline_kaagle.bin'\n",
    "    gt_df         = \"data/gt.csv\"\n",
    "    data_root     = \"data\"\n",
    "    train_groups = [\"kidney_1_dense\"]\n",
    "    valid_groups = [\"kidney_3_dense\"]\n",
    "    loss_func     = \"DiceLoss\"\n",
    "\n",
    "    data_transforms = {\n",
    "        \"train\": A.Compose([\n",
    "            A.Resize(*img_size, interpolation=cv2.INTER_NEAREST),\n",
    "            A.HorizontalFlip(p=0.5),\n",
    "        ], p=1.0),\n",
    "        \n",
    "        \"valid\": A.Compose([\n",
    "            A.Resize(*img_size, interpolation=cv2.INTER_NEAREST),\n",
    "        ], p=1.0)\n",
    "    }"
   ]
  },
  {
   "cell_type": "code",
   "execution_count": 3,
   "id": "69dce006",
   "metadata": {
    "execution": {
     "iopub.execute_input": "2023-12-04T12:04:18.715764Z",
     "iopub.status.busy": "2023-12-04T12:04:18.715471Z",
     "iopub.status.idle": "2023-12-04T12:04:18.725599Z",
     "shell.execute_reply": "2023-12-04T12:04:18.724857Z"
    },
    "papermill": {
     "duration": 0.024639,
     "end_time": "2023-12-04T12:04:18.727656",
     "exception": false,
     "start_time": "2023-12-04T12:04:18.703017",
     "status": "completed"
    },
    "tags": []
   },
   "outputs": [],
   "source": [
    "def set_seed(seed = 42):\n",
    "    '''Sets the seed of the entire notebook so results are the same every time we run.\n",
    "    This is for REPRODUCIBILITY.'''\n",
    "    np.random.seed(seed)\n",
    "    random.seed(seed)\n",
    "    torch.manual_seed(seed)\n",
    "    torch.cuda.manual_seed(seed)\n",
    "    # When running on the CuDNN backend, two further options must be set\n",
    "    torch.backends.cudnn.deterministic = True\n",
    "    torch.backends.cudnn.benchmark = False\n",
    "    # Set a fixed value for the hash seed\n",
    "    os.environ['PYTHONHASHSEED'] = str(seed)\n",
    "set_seed(CFG.seed)"
   ]
  },
  {
   "cell_type": "markdown",
   "id": "012d3cac",
   "metadata": {
    "papermill": {
     "duration": 0.012029,
     "end_time": "2023-12-04T12:04:18.751343",
     "exception": false,
     "start_time": "2023-12-04T12:04:18.739314",
     "status": "completed"
    },
    "tags": []
   },
   "source": [
    "# DataLoader"
   ]
  },
  {
   "cell_type": "code",
   "execution_count": 4,
   "id": "06ea0eea",
   "metadata": {
    "execution": {
     "iopub.execute_input": "2023-12-04T12:04:18.775852Z",
     "iopub.status.busy": "2023-12-04T12:04:18.775574Z",
     "iopub.status.idle": "2023-12-04T12:04:18.781268Z",
     "shell.execute_reply": "2023-12-04T12:04:18.780432Z"
    },
    "papermill": {
     "duration": 0.020333,
     "end_time": "2023-12-04T12:04:18.783212",
     "exception": false,
     "start_time": "2023-12-04T12:04:18.762879",
     "status": "completed"
    },
    "tags": []
   },
   "outputs": [],
   "source": [
    "def load_img(path):\n",
    "    img = cv2.imread(path, cv2.IMREAD_UNCHANGED)\n",
    "    img = np.tile(img[...,None], [1, 1, 3]) # gray to rgb\n",
    "    img = img.astype('float32') # original is uint16\n",
    "    mx = np.max(img)\n",
    "    if mx:\n",
    "        img/=mx # scale image to [0, 1]\n",
    "    return img\n",
    "\n",
    "def load_msk(path):\n",
    "    msk = cv2.imread(path, cv2.IMREAD_UNCHANGED)\n",
    "    msk = msk.astype('float32')\n",
    "    msk/=255.0\n",
    "    return msk"
   ]
  },
  {
   "cell_type": "code",
   "execution_count": 5,
   "id": "21e1ec80",
   "metadata": {
    "execution": {
     "iopub.execute_input": "2023-12-04T12:04:18.807616Z",
     "iopub.status.busy": "2023-12-04T12:04:18.807307Z",
     "iopub.status.idle": "2023-12-04T12:04:18.816642Z",
     "shell.execute_reply": "2023-12-04T12:04:18.815789Z"
    },
    "papermill": {
     "duration": 0.023616,
     "end_time": "2023-12-04T12:04:18.818556",
     "exception": false,
     "start_time": "2023-12-04T12:04:18.794940",
     "status": "completed"
    },
    "tags": []
   },
   "outputs": [],
   "source": [
    "class BuildDataset(torch.utils.data.Dataset):\n",
    "    def __init__(self, img_paths, msk_paths=[], transforms=None):\n",
    "        self.img_paths  = img_paths\n",
    "        self.msk_paths  = msk_paths\n",
    "        self.transforms = transforms\n",
    "        \n",
    "    def __len__(self):\n",
    "        return len(self.img_paths)\n",
    "    \n",
    "    def __getitem__(self, index):\n",
    "        img_path  = self.img_paths[index]\n",
    "        img = load_img(img_path)\n",
    "        \n",
    "        if len(self.msk_paths)>0:\n",
    "            msk_path = self.msk_paths[index]\n",
    "            msk = load_msk(msk_path)\n",
    "            if self.transforms:\n",
    "                data = self.transforms(image=img, mask=msk)\n",
    "                img  = data['image']\n",
    "                msk  = data['mask']\n",
    "            img = np.transpose(img, (2, 0, 1))\n",
    "            return torch.tensor(img), torch.tensor(msk)\n",
    "        else:\n",
    "            orig_size = img.shape\n",
    "            if self.transforms:\n",
    "                data = self.transforms(image=img)\n",
    "                img  = data['image']\n",
    "            img = np.transpose(img, (2, 0, 1))\n",
    "            return torch.tensor(img), torch.tensor(np.array([orig_size[0], orig_size[1]]))"
   ]
  },
  {
   "cell_type": "code",
   "execution_count": 14,
   "id": "8bd62111",
   "metadata": {
    "execution": {
     "iopub.execute_input": "2023-12-04T12:04:18.842745Z",
     "iopub.status.busy": "2023-12-04T12:04:18.842469Z",
     "iopub.status.idle": "2023-12-04T12:04:19.949832Z",
     "shell.execute_reply": "2023-12-04T12:04:19.949056Z"
    },
    "papermill": {
     "duration": 1.121802,
     "end_time": "2023-12-04T12:04:19.952044",
     "exception": false,
     "start_time": "2023-12-04T12:04:18.830242",
     "status": "completed"
    },
    "tags": []
   },
   "outputs": [],
   "source": [
    "valid_groups = CFG.valid_groups\n",
    "gt_df = pd.read_csv(CFG.gt_df)\n",
    "gt_df[\"img_path\"] = gt_df[\"img_path\"].apply(lambda x: os.path.join(CFG.data_root, x))\n",
    "gt_df[\"msk_path\"] = gt_df[\"msk_path\"].apply(lambda x: os.path.join(CFG.data_root, x))\n",
    "gt_df['img_path'] = gt_df['img_path'].map(lambda x: x.replace('blood-vessel-segmentation',''))\n",
    "gt_df['msk_path'] = gt_df['msk_path'].map(lambda x: x.replace('blood-vessel-segmentation',''))\n",
    "valid_df = gt_df.query(\"group in @valid_groups\").reset_index(drop=True)\n",
    "valid_img_paths = valid_df[\"img_path\"].values.tolist()\n",
    "valid_msk_paths = valid_df[\"msk_path\"].values.tolist()\n",
    "if CFG.debug:\n",
    "    valid_img_paths = valid_img_paths[:CFG.valid_bs*3]\n",
    "    valid_msk_paths = valid_msk_paths[:CFG.valid_bs*3]"
   ]
  },
  {
   "cell_type": "markdown",
   "id": "db8f389a",
   "metadata": {
    "papermill": {
     "duration": 0.017176,
     "end_time": "2023-12-04T12:04:23.306034",
     "exception": false,
     "start_time": "2023-12-04T12:04:23.288858",
     "status": "completed"
    },
    "tags": []
   },
   "source": [
    "# Model"
   ]
  },
  {
   "cell_type": "code",
   "execution_count": 6,
   "id": "686767d7",
   "metadata": {
    "execution": {
     "iopub.execute_input": "2023-12-04T12:04:23.341646Z",
     "iopub.status.busy": "2023-12-04T12:04:23.341327Z",
     "iopub.status.idle": "2023-12-04T12:04:23.346804Z",
     "shell.execute_reply": "2023-12-04T12:04:23.345941Z"
    },
    "papermill": {
     "duration": 0.025548,
     "end_time": "2023-12-04T12:04:23.348784",
     "exception": false,
     "start_time": "2023-12-04T12:04:23.323236",
     "status": "completed"
    },
    "tags": []
   },
   "outputs": [],
   "source": [
    "def build_model(backbone, num_classes, device):\n",
    "    model = smp.Unet(\n",
    "        encoder_name=backbone,      # choose encoder, e.g. mobilenet_v2 or efficientnet-b7\n",
    "        encoder_weights=\"imagenet\",     # use `imagenet` pre-trained weights for encoder initialization\n",
    "        in_channels=3,                  # model input channels (1 for gray-scale images, 3 for RGB, etc.)\n",
    "        classes=num_classes,        # model output channels (number of classes in your dataset)\n",
    "        activation=None,\n",
    "    )\n",
    "    model.to(device)\n",
    "    return model"
   ]
  },
  {
   "cell_type": "code",
   "execution_count": 7,
   "id": "bc52a9c8",
   "metadata": {
    "execution": {
     "iopub.execute_input": "2023-12-04T12:04:23.384551Z",
     "iopub.status.busy": "2023-12-04T12:04:23.383969Z",
     "iopub.status.idle": "2023-12-04T12:04:27.156309Z",
     "shell.execute_reply": "2023-12-04T12:04:27.155503Z"
    },
    "papermill": {
     "duration": 3.792623,
     "end_time": "2023-12-04T12:04:27.158666",
     "exception": false,
     "start_time": "2023-12-04T12:04:23.366043",
     "status": "completed"
    },
    "tags": []
   },
   "outputs": [],
   "source": [
    "model = build_model(CFG.backbone, CFG.num_classes, CFG.device)"
   ]
  },
  {
   "cell_type": "code",
   "execution_count": 9,
   "id": "7d4424db",
   "metadata": {},
   "outputs": [],
   "source": [
    "checkpoint = torch.load('weight\\state first_baseline_unet 9.pth')\n",
    "\n",
    "\n",
    "model.load_state_dict(checkpoint['model_state'])\n",
    "model.eval();"
   ]
  },
  {
   "cell_type": "code",
   "execution_count": 10,
   "metadata": {},
   "outputs": [],
   "source": [
    "#model.load_state_dict(torch.load(CFG.weigth))\n",
    "#model.load_state_dict(torch.load('model_weights.pth'))\n",
    "#model.eval();"
   ]
  },
  {
   "cell_type": "code",
   "execution_count": 10,
   "metadata": {},
   "outputs": [
    {
     "data": {
      "text/plain": [
       "True"
      ]
     },
     "execution_count": 10,
     "metadata": {},
     "output_type": "execute_result"
    }
   ],
   "source": [
    "torch.cuda.is_available()"
   ]
  },
  {
   "cell_type": "code",
   "execution_count": 15,
   "metadata": {},
   "outputs": [],
   "source": [
    "def rle_encode(img):\n",
    "    '''\n",
    "    img: numpy array, 1 - mask, 0 - background\n",
    "    Returns run length as string formated\n",
    "    '''\n",
    "    pixels = img.flatten()\n",
    "    pixels = np.concatenate([[0], pixels, [0]])\n",
    "    runs = np.where(pixels[1:] != pixels[:-1])[0] + 1\n",
    "    runs[1::2] -= runs[::2]\n",
    "    rle = ' '.join(str(x) for x in runs)\n",
    "    if rle=='':\n",
    "        rle = '1 0'\n",
    "    return rle"
   ]
  },
  {
   "cell_type": "code",
   "execution_count": 16,
   "id": "b03cc270",
   "metadata": {
    "papermill": {
     "duration": 0.396995,
     "end_time": "2023-12-04T13:17:11.501572",
     "exception": false,
     "start_time": "2023-12-04T13:17:11.104577",
     "status": "completed"
    },
    "tags": []
   },
   "outputs": [],
   "source": [
    "test_dataset = BuildDataset(valid_img_paths, [], transforms=CFG.data_transforms['valid'])\n",
    "test_loader = DataLoader(test_dataset, batch_size=CFG.valid_bs, num_workers=0, shuffle=False, pin_memory=True)"
   ]
  },
  {
   "cell_type": "code",
   "execution_count": 24,
   "id": "b0bd8899",
   "metadata": {
    "papermill": {
     "duration": 0.397841,
     "end_time": "2023-12-04T13:17:12.301625",
     "exception": false,
     "start_time": "2023-12-04T13:17:11.903784",
     "status": "completed"
    },
    "tags": []
   },
   "outputs": [
    {
     "name": "stderr",
     "output_type": "stream",
     "text": [
      "Inference :   0%|          | 0/16 [00:00<?, ?it/s]"
     ]
    },
    {
     "name": "stderr",
     "output_type": "stream",
     "text": [
      "Inference : 100%|██████████| 16/16 [02:49<00:00, 10.61s/it]\n"
     ]
    }
   ],
   "source": [
    "test_dataset = BuildDataset(valid_img_paths, [], transforms=CFG.data_transforms['valid'])\n",
    "test_loader = DataLoader(test_dataset, batch_size=CFG.valid_bs, num_workers=0, shuffle=False, pin_memory=True)\n",
    "### Inference\n",
    "rles = []\n",
    "pbar = tqdm(enumerate(test_loader), total=len(test_loader), desc='Inference ')\n",
    "for step, (images, shapes) in pbar:\n",
    "    shapes = shapes.numpy()\n",
    "    images = images.to(CFG.device, dtype=torch.float)\n",
    "    with torch.no_grad():\n",
    "        preds = model(images)\n",
    "        preds = (nn.Sigmoid()(preds)>0.5).double()\n",
    "    preds = preds.cpu().numpy().astype(np.uint8)\n",
    "\n",
    "    for pred, shape in zip(preds, shapes):\n",
    "        pred = cv2.resize(pred[0], (shape[1], shape[0]), cv2.INTER_NEAREST)\n",
    "        rle = rle_encode(pred)\n",
    "        rles.append(rle)"
   ]
  },
  {
   "cell_type": "code",
   "execution_count": 25,
   "metadata": {},
   "outputs": [
    {
     "data": {
      "text/html": [
       "<div>\n",
       "<style scoped>\n",
       "    .dataframe tbody tr th:only-of-type {\n",
       "        vertical-align: middle;\n",
       "    }\n",
       "\n",
       "    .dataframe tbody tr th {\n",
       "        vertical-align: top;\n",
       "    }\n",
       "\n",
       "    .dataframe thead th {\n",
       "        text-align: right;\n",
       "    }\n",
       "</style>\n",
       "<table border=\"1\" class=\"dataframe\">\n",
       "  <thead>\n",
       "    <tr style=\"text-align: right;\">\n",
       "      <th></th>\n",
       "      <th>id</th>\n",
       "      <th>rle</th>\n",
       "    </tr>\n",
       "  </thead>\n",
       "  <tbody>\n",
       "    <tr>\n",
       "      <th>0</th>\n",
       "      <td>kidney_3_sparse_0496</td>\n",
       "      <td>276842 4 278351 6 279862 5 281371 6 282879 11 ...</td>\n",
       "    </tr>\n",
       "    <tr>\n",
       "      <th>1</th>\n",
       "      <td>kidney_3_sparse_0497</td>\n",
       "      <td>367649 3 369158 5 370668 5 372178 6 373685 11 ...</td>\n",
       "    </tr>\n",
       "    <tr>\n",
       "      <th>2</th>\n",
       "      <td>kidney_3_sparse_0498</td>\n",
       "      <td>367649 6 369158 8 370668 8 372178 8 373685 11 ...</td>\n",
       "    </tr>\n",
       "    <tr>\n",
       "      <th>3</th>\n",
       "      <td>kidney_3_sparse_0499</td>\n",
       "      <td>367649 3 369158 5 370668 5 372178 6 373688 8 3...</td>\n",
       "    </tr>\n",
       "    <tr>\n",
       "      <th>4</th>\n",
       "      <td>kidney_3_sparse_0500</td>\n",
       "      <td>363118 5 364628 6 366138 6 367648 7 369158 8 3...</td>\n",
       "    </tr>\n",
       "  </tbody>\n",
       "</table>\n",
       "</div>"
      ],
      "text/plain": [
       "                     id                                                rle\n",
       "0  kidney_3_sparse_0496  276842 4 278351 6 279862 5 281371 6 282879 11 ...\n",
       "1  kidney_3_sparse_0497  367649 3 369158 5 370668 5 372178 6 373685 11 ...\n",
       "2  kidney_3_sparse_0498  367649 6 369158 8 370668 8 372178 8 373685 11 ...\n",
       "3  kidney_3_sparse_0499  367649 3 369158 5 370668 5 372178 6 373688 8 3...\n",
       "4  kidney_3_sparse_0500  363118 5 364628 6 366138 6 367648 7 369158 8 3..."
      ]
     },
     "execution_count": 25,
     "metadata": {},
     "output_type": "execute_result"
    }
   ],
   "source": [
    "ids = [f'{p.split(\"/\")[-3]}_{os.path.basename(p).split(\".\")[0]}' for p in valid_img_paths]\n",
    "submission = pd.DataFrame.from_dict({\n",
    "    \"id\": ids,\n",
    "    \"rle\": rles\n",
    "})\n",
    "submission.head()"
   ]
  },
  {
   "cell_type": "code",
   "execution_count": 26,
   "id": "e8790c49",
   "metadata": {
    "papermill": {
     "duration": 0.452228,
     "end_time": "2023-12-04T13:17:13.148411",
     "exception": false,
     "start_time": "2023-12-04T13:17:12.696183",
     "status": "completed"
    },
    "tags": []
   },
   "outputs": [
    {
     "data": {
      "text/html": [
       "<div>\n",
       "<style scoped>\n",
       "    .dataframe tbody tr th:only-of-type {\n",
       "        vertical-align: middle;\n",
       "    }\n",
       "\n",
       "    .dataframe tbody tr th {\n",
       "        vertical-align: top;\n",
       "    }\n",
       "\n",
       "    .dataframe thead th {\n",
       "        text-align: right;\n",
       "    }\n",
       "</style>\n",
       "<table border=\"1\" class=\"dataframe\">\n",
       "  <thead>\n",
       "    <tr style=\"text-align: right;\">\n",
       "      <th></th>\n",
       "      <th>id</th>\n",
       "      <th>rle</th>\n",
       "      <th>group</th>\n",
       "      <th>slice</th>\n",
       "      <th>height</th>\n",
       "      <th>width</th>\n",
       "      <th>img_path</th>\n",
       "      <th>msk_path</th>\n",
       "    </tr>\n",
       "  </thead>\n",
       "  <tbody>\n",
       "    <tr>\n",
       "      <th>0</th>\n",
       "      <td>kidney_3_sparse_0496</td>\n",
       "      <td>332888 1 334398 1 352510 2 354019 3 355529 4 3...</td>\n",
       "      <td>kidney_3_sparse</td>\n",
       "      <td>496</td>\n",
       "      <td>1706</td>\n",
       "      <td>1510</td>\n",
       "      <td>data\\/train/kidney_3_sparse/images/0496.tif</td>\n",
       "      <td>data\\/train/kidney_3_sparse/labels/0496.tif</td>\n",
       "    </tr>\n",
       "    <tr>\n",
       "      <th>1</th>\n",
       "      <td>kidney_3_sparse_0497</td>\n",
       "      <td>331377 2 332887 2 352509 3 354018 4 355529 3 3...</td>\n",
       "      <td>kidney_3_sparse</td>\n",
       "      <td>497</td>\n",
       "      <td>1706</td>\n",
       "      <td>1510</td>\n",
       "      <td>data\\/train/kidney_3_sparse/images/0497.tif</td>\n",
       "      <td>data\\/train/kidney_3_sparse/labels/0497.tif</td>\n",
       "    </tr>\n",
       "    <tr>\n",
       "      <th>2</th>\n",
       "      <td>kidney_3_sparse_0498</td>\n",
       "      <td>350998 3 352508 4 354018 4 355528 4 361608 3 3...</td>\n",
       "      <td>kidney_3_sparse</td>\n",
       "      <td>498</td>\n",
       "      <td>1706</td>\n",
       "      <td>1510</td>\n",
       "      <td>data\\/train/kidney_3_sparse/images/0498.tif</td>\n",
       "      <td>data\\/train/kidney_3_sparse/labels/0498.tif</td>\n",
       "    </tr>\n",
       "    <tr>\n",
       "      <th>3</th>\n",
       "      <td>kidney_3_sparse_0499</td>\n",
       "      <td>350997 3 352507 4 354018 3 355528 3 360099 3 3...</td>\n",
       "      <td>kidney_3_sparse</td>\n",
       "      <td>499</td>\n",
       "      <td>1706</td>\n",
       "      <td>1510</td>\n",
       "      <td>data\\/train/kidney_3_sparse/images/0499.tif</td>\n",
       "      <td>data\\/train/kidney_3_sparse/labels/0499.tif</td>\n",
       "    </tr>\n",
       "    <tr>\n",
       "      <th>4</th>\n",
       "      <td>kidney_3_sparse_0500</td>\n",
       "      <td>349488 1 350997 3 352507 3 354017 3 355528 2 3...</td>\n",
       "      <td>kidney_3_sparse</td>\n",
       "      <td>500</td>\n",
       "      <td>1706</td>\n",
       "      <td>1510</td>\n",
       "      <td>data\\/train/kidney_3_sparse/images/0500.tif</td>\n",
       "      <td>data\\/train/kidney_3_sparse/labels/0500.tif</td>\n",
       "    </tr>\n",
       "  </tbody>\n",
       "</table>\n",
       "</div>"
      ],
      "text/plain": [
       "                     id                                                rle  \\\n",
       "0  kidney_3_sparse_0496  332888 1 334398 1 352510 2 354019 3 355529 4 3...   \n",
       "1  kidney_3_sparse_0497  331377 2 332887 2 352509 3 354018 4 355529 3 3...   \n",
       "2  kidney_3_sparse_0498  350998 3 352508 4 354018 4 355528 4 361608 3 3...   \n",
       "3  kidney_3_sparse_0499  350997 3 352507 4 354018 3 355528 3 360099 3 3...   \n",
       "4  kidney_3_sparse_0500  349488 1 350997 3 352507 3 354017 3 355528 2 3...   \n",
       "\n",
       "             group  slice  height  width  \\\n",
       "0  kidney_3_sparse    496    1706   1510   \n",
       "1  kidney_3_sparse    497    1706   1510   \n",
       "2  kidney_3_sparse    498    1706   1510   \n",
       "3  kidney_3_sparse    499    1706   1510   \n",
       "4  kidney_3_sparse    500    1706   1510   \n",
       "\n",
       "                                      img_path  \\\n",
       "0  data\\/train/kidney_3_sparse/images/0496.tif   \n",
       "1  data\\/train/kidney_3_sparse/images/0497.tif   \n",
       "2  data\\/train/kidney_3_sparse/images/0498.tif   \n",
       "3  data\\/train/kidney_3_sparse/images/0499.tif   \n",
       "4  data\\/train/kidney_3_sparse/images/0500.tif   \n",
       "\n",
       "                                      msk_path  \n",
       "0  data\\/train/kidney_3_sparse/labels/0496.tif  \n",
       "1  data\\/train/kidney_3_sparse/labels/0497.tif  \n",
       "2  data\\/train/kidney_3_sparse/labels/0498.tif  \n",
       "3  data\\/train/kidney_3_sparse/labels/0499.tif  \n",
       "4  data\\/train/kidney_3_sparse/labels/0500.tif  "
      ]
     },
     "execution_count": 26,
     "metadata": {},
     "output_type": "execute_result"
    }
   ],
   "source": [
    "_gt_df = pd.merge(gt_df, submission.loc[:, [\"id\"]], on=\"id\").reset_index(drop=True)\n",
    "_gt_df.head()"
   ]
  },
  {
   "cell_type": "code",
   "execution_count": 27,
   "metadata": {},
   "outputs": [
    {
     "data": {
      "text/plain": [
       "(501, 8)"
      ]
     },
     "execution_count": 27,
     "metadata": {},
     "output_type": "execute_result"
    }
   ],
   "source": [
    "_gt_df.shape"
   ]
  },
  {
   "cell_type": "code",
   "execution_count": 21,
   "id": "76489149",
   "metadata": {
    "papermill": {
     "duration": 0.396151,
     "end_time": "2023-12-04T13:17:13.940281",
     "exception": false,
     "start_time": "2023-12-04T13:17:13.544130",
     "status": "completed"
    },
    "tags": []
   },
   "outputs": [],
   "source": [
    "from Surface_Dice_Metric.metric import *"
   ]
  },
  {
   "cell_type": "code",
   "execution_count": 28,
   "id": "7b7c8cb1",
   "metadata": {
    "papermill": {
     "duration": 0.392964,
     "end_time": "2023-12-04T13:17:14.729416",
     "exception": false,
     "start_time": "2023-12-04T13:17:14.336452",
     "status": "completed"
    },
    "tags": []
   },
   "outputs": [],
   "source": [
    "val_score = score(submission, _gt_df, \"id\", \"rle\", 0.0, \"group\", \"slice\")"
   ]
  },
  {
   "cell_type": "code",
   "execution_count": 31,
   "id": "5758edd5",
   "metadata": {},
   "outputs": [
    {
     "name": "stdout",
     "output_type": "stream",
     "text": [
      "0.18812598854384951\n"
     ]
    }
   ],
   "source": [
    "print(val_score)"
   ]
  },
  {
   "cell_type": "code",
   "execution_count": 29,
   "id": "5759fcb7",
   "metadata": {},
   "outputs": [
    {
     "name": "stdout",
     "output_type": "stream",
     "text": [
      "0.18812598854384951\n"
     ]
    }
   ],
   "source": [
    "print(val_score)"
   ]
  },
  {
   "cell_type": "code",
   "execution_count": 27,
   "id": "0ce815e6",
   "metadata": {
    "papermill": {
     "duration": 0.448271,
     "end_time": "2023-12-04T13:17:15.609791",
     "exception": false,
     "start_time": "2023-12-04T13:17:15.161520",
     "status": "completed"
    },
    "tags": []
   },
   "outputs": [
    {
     "name": "stdout",
     "output_type": "stream",
     "text": [
      "0.1291427943658296\n"
     ]
    }
   ],
   "source": [
    "print(val_score)"
   ]
  },
  {
   "cell_type": "code",
   "execution_count": null,
   "metadata": {},
   "outputs": [],
   "source": []
  }
 ],
 "metadata": {
  "kaggle": {
   "accelerator": "gpu",
   "dataSources": [
    {
     "databundleVersionId": 6962461,
     "sourceId": 61446,
     "sourceType": "competition"
    },
    {
     "datasetId": 3987147,
     "sourceId": 6942858,
     "sourceType": "datasetVersion"
    }
   ],
   "dockerImageVersionId": 30580,
   "isGpuEnabled": true,
   "isInternetEnabled": true,
   "language": "python",
   "sourceType": "notebook"
  },
  "kernelspec": {
   "display_name": "Python 3",
   "language": "python",
   "name": "python3"
  },
  "language_info": {
   "codemirror_mode": {
    "name": "ipython",
    "version": 3
   },
   "file_extension": ".py",
   "mimetype": "text/x-python",
   "name": "python",
   "nbconvert_exporter": "python",
   "pygments_lexer": "ipython3",
   "version": "3.9.0"
  },
  "papermill": {
   "default_parameters": {},
   "duration": 4411.859025,
   "end_time": "2023-12-04T13:17:19.159260",
   "environment_variables": {},
   "exception": null,
   "input_path": "__notebook__.ipynb",
   "output_path": "__notebook__.ipynb",
   "parameters": {},
   "start_time": "2023-12-04T12:03:47.300235",
   "version": "2.4.0"
  }
 },
 "nbformat": 4,
 "nbformat_minor": 5
}
