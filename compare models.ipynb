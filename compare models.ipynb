{
  "cells": [
    {
      "cell_type": "code",
      "execution_count": 1,
      "metadata": {},
      "outputs": [
        {
          "ename": "ImportError",
          "evalue": "cannot import name 'Unet' from 'segmentation.models.smp.decoder' (c:\\Users\\123\\Desktop\\human vasculature\\segmentation\\models\\smp\\decoder\\__init__.py)",
          "output_type": "error",
          "traceback": [
            "\u001b[1;31m---------------------------------------------------------------------------\u001b[0m",
            "\u001b[1;31mImportError\u001b[0m                               Traceback (most recent call last)",
            "Cell \u001b[1;32mIn[1], line 3\u001b[0m\n\u001b[0;32m      1\u001b[0m \u001b[38;5;28;01mfrom\u001b[39;00m \u001b[38;5;21;01msegmentation\u001b[39;00m\u001b[38;5;21;01m.\u001b[39;00m\u001b[38;5;21;01mscr\u001b[39;00m\u001b[38;5;21;01m.\u001b[39;00m\u001b[38;5;21;01mutils\u001b[39;00m\u001b[38;5;21;01m.\u001b[39;00m\u001b[38;5;21;01mutils\u001b[39;00m \u001b[38;5;28;01mimport\u001b[39;00m set_seed\n\u001b[0;32m      2\u001b[0m \u001b[38;5;28;01mfrom\u001b[39;00m \u001b[38;5;21;01msegmentation\u001b[39;00m\u001b[38;5;21;01m.\u001b[39;00m\u001b[38;5;21;01mscr\u001b[39;00m\u001b[38;5;21;01m.\u001b[39;00m\u001b[38;5;21;01mutils\u001b[39;00m\u001b[38;5;21;01m.\u001b[39;00m\u001b[38;5;21;01mmetrics\u001b[39;00m \u001b[38;5;28;01mimport\u001b[39;00m dice_coef\n\u001b[1;32m----> 3\u001b[0m \u001b[38;5;28;01mfrom\u001b[39;00m \u001b[38;5;21;01msegmentation\u001b[39;00m\u001b[38;5;21;01m.\u001b[39;00m\u001b[38;5;21;01mmodels\u001b[39;00m\u001b[38;5;21;01m.\u001b[39;00m\u001b[38;5;21;01msmp\u001b[39;00m \u001b[38;5;28;01mimport\u001b[39;00m get_pretrained_model\n\u001b[0;32m      4\u001b[0m \u001b[38;5;28;01mfrom\u001b[39;00m \u001b[38;5;21;01msegmentation\u001b[39;00m\u001b[38;5;21;01m.\u001b[39;00m\u001b[38;5;21;01mconfig\u001b[39;00m \u001b[38;5;28;01mimport\u001b[39;00m CFG\n\u001b[0;32m      5\u001b[0m \u001b[38;5;28;01mimport\u001b[39;00m \u001b[38;5;21;01mtorch\u001b[39;00m\n",
            "File \u001b[1;32mc:\\Users\\123\\Desktop\\human vasculature\\segmentation\\models\\smp\\__init__.py:4\u001b[0m\n\u001b[0;32m      2\u001b[0m \u001b[38;5;28;01mimport\u001b[39;00m \u001b[38;5;21;01mtorch\u001b[39;00m\u001b[38;5;21;01m.\u001b[39;00m\u001b[38;5;21;01mnn\u001b[39;00m \u001b[38;5;28;01mas\u001b[39;00m \u001b[38;5;21;01mnn\u001b[39;00m\n\u001b[0;32m      3\u001b[0m \u001b[38;5;28;01mfrom\u001b[39;00m \u001b[38;5;21;01m.\u001b[39;00m\u001b[38;5;21;01m.\u001b[39;00m\u001b[38;5;21;01m.\u001b[39;00m\u001b[38;5;21;01mconfig\u001b[39;00m \u001b[38;5;28;01mimport\u001b[39;00m CFG\n\u001b[1;32m----> 4\u001b[0m \u001b[38;5;28;01mfrom\u001b[39;00m \u001b[38;5;21;01m.\u001b[39;00m\u001b[38;5;21;01mdecoder\u001b[39;00m \u001b[38;5;28;01mimport\u001b[39;00m Unet\n\u001b[0;32m      7\u001b[0m \u001b[38;5;28;01mclass\u001b[39;00m \u001b[38;5;21;01mCustomModel\u001b[39;00m(nn\u001b[38;5;241m.\u001b[39mModule):\n\u001b[0;32m      8\u001b[0m     \u001b[38;5;28;01mdef\u001b[39;00m \u001b[38;5;21m__init__\u001b[39m(\u001b[38;5;28mself\u001b[39m, CFG\u001b[38;5;241m=\u001b[39mCFG, weight\u001b[38;5;241m=\u001b[39m\u001b[38;5;28;01mNone\u001b[39;00m):\n",
            "\u001b[1;31mImportError\u001b[0m: cannot import name 'Unet' from 'segmentation.models.smp.decoder' (c:\\Users\\123\\Desktop\\human vasculature\\segmentation\\models\\smp\\decoder\\__init__.py)"
          ]
        }
      ],
      "source": [
        "from segmentation.scr.utils.utils import set_seed\n",
        "from segmentation.scr.utils.metrics import dice_coef\n",
        "from segmentation.models.smp import get_pretrained_model\n",
        "from segmentation.config import CFG\n",
        "import torch\n",
        "import torch.nn as nn\n",
        "import numpy as np\n",
        "\n",
        "from segmentation.scr.train_model.data_loader import *\n",
        "from segmentation.scr.utils.utils import set_seed\n",
        "from segmentation.scr.train_model.evaluate_dataset import evaluate_dataset\n",
        "\n",
        "\n"
      ]
    },
    {
      "cell_type": "code",
      "execution_count": 2,
      "metadata": {},
      "outputs": [],
      "source": [
        "class CFG_3:\n",
        "    # ============== dice metrics ============\n",
        "    \n",
        "    target_size = 1\n",
        "    in_chans = 3  # 65\n",
        "    # ============== training CFG =============\n",
        "    image_size = 512\n",
        "    input_size = 512\n",
        "    device = \"cuda\" if torch.cuda.is_available() else \"cpu\""
      ]
    },
    {
      "cell_type": "code",
      "execution_count": 3,
      "metadata": {},
      "outputs": [],
      "source": [
        "path_to_model_3_kaag = 'weight/mobnet_3_ch.pth'\n",
        "\n",
        "#ckpt = torch.load(path_to_model_3_kaag)\n",
        "#ckpt = ckpt[\"model\"]\n",
        "#torch.save(ckpt, 'weight/mobnet_3_ch.pth')\n",
        "model_3_kaag = get_pretrained_model(path_to_model=path_to_model_3_kaag, train_parallel=True, CFG=CFG_3)\n"
      ]
    },
    {
      "cell_type": "code",
      "execution_count": 4,
      "metadata": {},
      "outputs": [],
      "source": [
        "path_to_model_3_kaag = 'C:\\\\Users\\\\123\\\\Desktop\\\\resnet baseline\\\\state efficientnet-b7_best_model_at_22.pth'\n",
        "\n",
        "ckpt = torch.load(path_to_model_3_kaag)\n",
        "ckpt = ckpt[\"model\"]\n",
        "torch.save(ckpt, 'weight/mobnet_1_5_ch_kaagle.pth')"
      ]
    },
    {
      "cell_type": "code",
      "execution_count": 5,
      "metadata": {},
      "outputs": [],
      "source": [
        "model_my_pc= get_pretrained_model(path_to_model='weight\\mobnet_my_pc.pth', train_parallel=False, CFG=CFG)\n",
        "model_5_k = get_pretrained_model(path_to_model='weight/mobnet_5_ch_kaagle.pth', train_parallel=True, CFG=CFG)\n",
        "model_1_5_k = get_pretrained_model(path_to_model='weight/mobnet_1_5_ch_kaagle.pth', train_parallel=True, CFG=CFG)"
      ]
    },
    {
      "cell_type": "code",
      "execution_count": 6,
      "metadata": {},
      "outputs": [
        {
          "name": "stdout",
          "output_type": "stream",
          "text": [
            "\u041e\u0431\u0449\u0435\u0435 \u0447\u0438\u0441\u043b\u043e \u0438\u0437\u043e\u0431\u0440\u0430\u0436\u0435\u043d\u0438\u0439 \u0441 \u043c\u0430\u0441\u043a\u0430\u043c\u0438 \u0441\u0435\u0433\u043c\u0435\u043d\u0442\u0430\u0446\u0438\u0438 : 501\n"
          ]
        }
      ],
      "source": [
        "path_img_dir=\"data\\\\train\\\\kidney_3_sparse\\\\images\"\n",
        "path_lb_dir=\"data\\\\train\\\\kidney_3_dense\\\\labels\"\n",
        "img_path, lb_path = create_img_lb_paths(path_img_dir = path_img_dir, path_lb_dir = path_lb_dir)"
      ]
    },
    {
      "cell_type": "code",
      "execution_count": 7,
      "metadata": {},
      "outputs": [
        {
          "data": {
            "text/plain": [
              "'data\\\\train\\\\kidney_3_sparse\\\\images\\\\0996.tif'"
            ]
          },
          "execution_count": 7,
          "metadata": {},
          "output_type": "execute_result"
        }
      ],
      "source": [
        "img_path[500]"
      ]
    },
    {
      "cell_type": "code",
      "execution_count": 8,
      "metadata": {},
      "outputs": [
        {
          "data": {
            "text/plain": [
              "'data\\\\train\\\\kidney_3_dense\\\\labels\\\\0996.tif'"
            ]
          },
          "execution_count": 8,
          "metadata": {},
          "output_type": "execute_result"
        }
      ],
      "source": [
        "lb_path[500]"
      ]
    },
    {
      "cell_type": "code",
      "execution_count": 9,
      "metadata": {},
      "outputs": [
        {
          "name": "stderr",
          "output_type": "stream",
          "text": [
            "100%|\u2588\u2588\u2588\u2588\u2588\u2588\u2588\u2588\u2588\u2588| 32/32 [00:05<00:00,  5.95it/s]\n"
          ]
        },
        {
          "name": "stdout",
          "output_type": "stream",
          "text": [
            "torch.Size([501, 1706, 1510])\n"
          ]
        },
        {
          "name": "stderr",
          "output_type": "stream",
          "text": [
            "100%|\u2588\u2588\u2588\u2588\u2588\u2588\u2588\u2588\u2588\u2588| 32/32 [00:05<00:00,  6.15it/s]"
          ]
        },
        {
          "name": "stdout",
          "output_type": "stream",
          "text": [
            "torch.Size([501, 1706, 1510])\n"
          ]
        },
        {
          "name": "stderr",
          "output_type": "stream",
          "text": [
            "\n"
          ]
        }
      ],
      "source": [
        "val_x=load_data(img_path ,is_label=False)\n",
        "print(val_x.shape)\n",
        "val_y=load_data(lb_path ,is_label=True)\n",
        "print(val_y.shape)"
      ]
    },
    {
      "cell_type": "code",
      "execution_count": 10,
      "metadata": {},
      "outputs": [],
      "source": [
        "set_seed(42)\n",
        "val_dataset_3=Kaggld_Dataset([val_x],[val_y], arg=False, CFG=CFG_3)\n",
        "val_loader_3 = DataLoader(val_dataset_3, batch_size=CFG.valid_batch_size, shuffle=False, )\n",
        "\n",
        "val_dataset_5=Kaggld_Dataset([val_x],[val_y], arg=False, CFG=CFG)\n",
        "val_loader_5 = DataLoader(val_dataset_5, batch_size=CFG.valid_batch_size, shuffle=False, )"
      ]
    },
    {
      "cell_type": "code",
      "execution_count": 32,
      "metadata": {},
      "outputs": [],
      "source": [
        "def evaluate_dataset(model, val_loader):\n",
        "    model.eval()\n",
        "    timer = tqdm(range(len(val_loader)))\n",
        "    val_scores = 0\n",
        "    scores = []\n",
        "    for i, (x, y) in enumerate(val_loader):\n",
        "        x = x.cuda().to(torch.float32)\n",
        "        y = y.cuda().to(torch.float32)\n",
        "        x = norm_with_clip(x.reshape(-1, *x.shape[2:])).reshape(x.shape)\n",
        "\n",
        "        with torch.no_grad():\n",
        "            pred = model(x)\n",
        "\n",
        "        score = dice_coef(pred.detach(), y)\n",
        "        scores.append(score.detach().cpu().item())\n",
        "        val_scores = (val_scores * i + score) / (i + 1)\n",
        "        timer.set_description(f\"eval--> score:{val_scores:.4f}\")\n",
        "        timer.update()\n",
        "    timer.close()\n",
        "    return scores, val_scores"
      ]
    },
    {
      "cell_type": "code",
      "execution_count": null,
      "metadata": {},
      "outputs": [],
      "source": [
        "scores, val_scores = evaluate_dataset(model=model_my_pc, val_loader=val_loader_5)"
      ]
    },
    {
      "cell_type": "code",
      "execution_count": 11,
      "metadata": {},
      "outputs": [
        {
          "name": "stderr",
          "output_type": "stream",
          "text": [
            "eval--> score:0.8304: 100%|\u2588\u2588\u2588\u2588\u2588\u2588\u2588\u2588\u2588\u2588| 125/125 [00:09<00:00, 13.74it/s]\n"
          ]
        }
      ],
      "source": [
        "set_seed(42)\n",
        "scores_3_ch, val_scores_3_ch = evaluate_dataset(model=model_3_kaag, val_loader=val_loader_3)"
      ]
    },
    {
      "cell_type": "code",
      "execution_count": 12,
      "metadata": {},
      "outputs": [
        {
          "data": {
            "text/plain": [
              "0.8303852319717407"
            ]
          },
          "execution_count": 12,
          "metadata": {},
          "output_type": "execute_result"
        }
      ],
      "source": [
        "np.mean(scores_3_ch)"
      ]
    },
    {
      "cell_type": "code",
      "execution_count": 13,
      "metadata": {},
      "outputs": [
        {
          "name": "stderr",
          "output_type": "stream",
          "text": [
            "eval--> score:0.8228: 100%|\u2588\u2588\u2588\u2588\u2588\u2588\u2588\u2588\u2588\u2588| 124/124 [00:07<00:00, 15.62it/s]\n"
          ]
        }
      ],
      "source": [
        "set_seed(42)\n",
        "scores_5_ch, val_scores_5_ch = evaluate_dataset(model=model_5_k, val_loader=val_loader_5)"
      ]
    },
    {
      "cell_type": "code",
      "execution_count": 14,
      "metadata": {},
      "outputs": [
        {
          "name": "stderr",
          "output_type": "stream",
          "text": [
            "eval--> score:0.8083: 100%|\u2588\u2588\u2588\u2588\u2588\u2588\u2588\u2588\u2588\u2588| 124/124 [00:07<00:00, 16.15it/s]\n"
          ]
        }
      ],
      "source": [
        "set_seed(42)\n",
        "scores_1_5_ch, val_scores_1_5_ch = evaluate_dataset(model=model_1_5_k, val_loader=val_loader_5)"
      ]
    },
    {
      "cell_type": "code",
      "execution_count": 15,
      "metadata": {},
      "outputs": [
        {
          "data": {
            "text/plain": [
              "0.8083399395428358"
            ]
          },
          "execution_count": 15,
          "metadata": {},
          "output_type": "execute_result"
        }
      ],
      "source": [
        "np.mean(scores_1_5_ch)"
      ]
    },
    {
      "cell_type": "code",
      "execution_count": 16,
      "metadata": {},
      "outputs": [
        {
          "name": "stderr",
          "output_type": "stream",
          "text": [
            "eval--> score:0.8393: 100%|\u2588\u2588\u2588\u2588\u2588\u2588\u2588\u2588\u2588\u2588| 124/124 [00:07<00:00, 15.76it/s]\n"
          ]
        }
      ],
      "source": [
        "scores_my, val_scores_my= evaluate_dataset(model=model_my_pc ,val_loader=val_loader_5)"
      ]
    },
    {
      "cell_type": "code",
      "execution_count": 17,
      "metadata": {},
      "outputs": [
        {
          "data": {
            "text/plain": [
              "0.8393328303411123"
            ]
          },
          "execution_count": 17,
          "metadata": {},
          "output_type": "execute_result"
        }
      ],
      "source": [
        "np.mean(scores_my)"
      ]
    },
    {
      "cell_type": "code",
      "execution_count": 31,
      "metadata": {},
      "outputs": [
        {
          "data": {
            "text/plain": [
              "TtestResult(statistic=0.6000267680038004, pvalue=0.5495922430215381, df=123)"
            ]
          },
          "execution_count": 31,
          "metadata": {},
          "output_type": "execute_result"
        }
      ],
      "source": [
        "import scipy\n",
        "scipy.stats.ttest_rel(a=scores_my, b=scores_3_ch[0:124])"
      ]
    },
    {
      "cell_type": "code",
      "execution_count": null,
      "metadata": {},
      "outputs": [],
      "source": []
    }
  ],
  "metadata": {
    "kernelspec": {
      "display_name": ".venv",
      "language": "python",
      "name": "python3"
    },
    "language_info": {
      "codemirror_mode": {
        "name": "ipython",
        "version": 3
      },
      "file_extension": ".py",
      "mimetype": "text/x-python",
      "name": "python",
      "nbconvert_exporter": "python",
      "pygments_lexer": "ipython3",
      "version": "3.9.0"
    }
  },
  "nbformat": 4,
  "nbformat_minor": 2
}
