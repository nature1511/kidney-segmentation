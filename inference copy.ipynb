{
  "cells": [
    {
      "cell_type": "code",
      "execution_count": 1,
      "metadata": {},
      "outputs": [],
      "source": [
        "import cv2\n",
        "import torch\n",
        "from torch.utils.data import Dataset, DataLoader\n",
        "from tqdm import tqdm\n",
        "import numpy as np\n",
        "from collections import defaultdict\n",
        "from pathlib import Path\n",
        "from tqdm import tqdm\n",
        "import time\n",
        "import matplotlib.pyplot as plt\n",
        "from segmentation.scr.utils.utils import set_seed\n",
        "import albumentations as A\n",
        "import matplotlib.pyplot as plt\n",
        "from albumentations.pytorch.transforms import ToTensorV2\n",
        "\n",
        "from segmentation.scr.utils import losses, transforms\n",
        "\n",
        "\n",
        "from segmentation.scr.utils.utils import set_seed\n",
        "from segmentation.scr.utils.metrics import dice_coef\n",
        "from segmentation.scr.utils.utils import save_model\n",
        "\n",
        "from segmentation.models.smp.decoder import Unet"
      ]
    },
    {
      "cell_type": "code",
      "execution_count": 46,
      "metadata": {},
      "outputs": [],
      "source": [
        "class CFG:\n",
        "    # ============== pred target =============\n",
        "    target_size = 1\n",
        "\n",
        "    # ============== model CFG =============\n",
        "    model_name = 'Unet'\n",
        "    backbone = 'mobilenet_v2'\n",
        "\n",
        "    device = \"cuda\" if torch.cuda.is_available() else \"cpu\"\n",
        "    in_chans = 5 # 65\n",
        "    # ============== training CFG =============\n",
        "    image_size = 512\n",
        "    input_size=512\n",
        "\n",
        "    valid_batch_size = 4\n",
        "    lr = 6e-4\n",
        "    chopping_percentile=1e-3\n",
        "    # ============== fold =============\n",
        "    valid_id = 1\n",
        "\n",
        "    # ============== augmentation =============\n",
        "   \n",
        "    valid_aug_list = [\n",
        "        ToTensorV2(transpose_mask=True),\n",
        "    ]\n",
        "    valid_aug = A.Compose(valid_aug_list, p=1.0)"
      ]
    },
    {
      "cell_type": "code",
      "execution_count": 6,
      "metadata": {},
      "outputs": [
        {
          "name": "stdout",
          "output_type": "stream",
          "text": [
            "\u041e\u0431\u0449\u0435\u0435 \u0447\u0438\u0441\u043b\u043e \u0438\u0437\u043e\u0431\u0440\u0430\u0436\u0435\u043d\u0438\u0439 \u0441 \u043c\u0430\u0441\u043a\u0430\u043c\u0438 \u0441\u0435\u0433\u043c\u0435\u043d\u0442\u0430\u0446\u0438\u0438 : 501\n"
          ]
        }
      ],
      "source": [
        "path_img_dir=\"data\\\\train\\\\kidney_3_sparse\\\\images\"\n",
        "path_lb_dir=\"data\\\\train\\\\kidney_3_dense\\\\labels\"\n",
        "path_img_dir = Path(path_img_dir)\n",
        "path_lb_dir = Path(path_lb_dir)\n",
        "\n",
        "path_img_dir = sorted(list(path_img_dir.rglob(\"*.tif\")))\n",
        "path_lb_dir = sorted(list(path_lb_dir.rglob(\"*.tif\")))\n",
        "\n",
        "images_labels = defaultdict(list)\n",
        "for img in path_img_dir:\n",
        "    images_labels[img.name].append(img)\n",
        "for lb in path_lb_dir:\n",
        "    images_labels[lb.name].append(lb)\n",
        "new_dict = dict(filter(lambda item: len(item[1]) > 1, images_labels.items()))\n",
        "print(f\"\u041e\u0431\u0449\u0435\u0435 \u0447\u0438\u0441\u043b\u043e \u0438\u0437\u043e\u0431\u0440\u0430\u0436\u0435\u043d\u0438\u0439 \u0441 \u043c\u0430\u0441\u043a\u0430\u043c\u0438 \u0441\u0435\u0433\u043c\u0435\u043d\u0442\u0430\u0446\u0438\u0438 : {len(new_dict)}\")\n",
        "img_path = list(map(lambda key : str(new_dict[key][0]) , new_dict))\n",
        "lb_path = list(map(lambda key : str(new_dict[key][1]), new_dict))"
      ]
    },
    {
      "cell_type": "code",
      "execution_count": 7,
      "metadata": {},
      "outputs": [],
      "source": [
        "class Data_loader(Dataset):\n",
        "    def __init__(self,paths,is_label):\n",
        "        self.paths=paths\n",
        "        self.paths.sort()\n",
        "        self.is_label=is_label\n",
        "    \n",
        "    def __len__(self):\n",
        "        return len(self.paths)\n",
        "    \n",
        "    def __getitem__(self,index):\n",
        "        img=cv2.imread(self.paths[index],cv2.IMREAD_GRAYSCALE)\n",
        "        img=torch.from_numpy(img)\n",
        "        if self.is_label:\n",
        "            img=(img!=0).to(torch.uint8)*255\n",
        "        else:\n",
        "            img=img.to(torch.uint8)\n",
        "        return img"
      ]
    },
    {
      "cell_type": "code",
      "execution_count": 8,
      "metadata": {},
      "outputs": [],
      "source": [
        "def resize_to_size( img, image_size = CFG.image_size):\n",
        "        '''\n",
        "        resizes the image if its side is smaller than image_size\n",
        "        padding is the average between the maximum and minimum pixels on the border\n",
        "        '''\n",
        "        #print(img.shape)\n",
        "        if image_size > img.shape[0]:\n",
        "            #print(1)\n",
        "            start = ( image_size - img.shape[0])//2\n",
        "            val1 = (min(img[0,:]).item() + max(img[0,:]).item()) // 2\n",
        "            val2 = (min(img[img.shape[0] - 1,:]).item() + max(img[img.shape[0] - 1,:]).item()) // 2\n",
        "            print(val1, val2)\n",
        "            top= torch.full((start,img.shape[1]),(val1 + val2)//2).to(torch.uint8)\n",
        "            botton = torch.full((start,img.shape[1]),(val1 + val2)//2).to(torch.uint8)\n",
        "            #print(border.shape)\n",
        "            img=torch.cat((top, img, botton), axis = 0).to(torch.uint8)\n",
        "        if image_size > img.shape[1]:\n",
        "            #print(2)\n",
        "            start = ( image_size - img.shape[1])//2\n",
        "            val1 = (min(img[:, 0]).item() + max(img[:, 0]).item()) // 2\n",
        "            val2 = (min(img[:, img.shape[1] - 1]).item() + max(img[:, img.shape[1] - 1]).item()) // 2\n",
        "            left= torch.full((img.shape[0], start),(val1 + val2)//2).to(torch.uint8)\n",
        "            right = torch.full((img.shape[0], start),(val1 + val2)//2).to(torch.uint8)\n",
        "            img = torch.cat((left, img, right), axis = 1).to(torch.uint8)\n",
        "        \n",
        "        return img"
      ]
    },
    {
      "cell_type": "code",
      "execution_count": 9,
      "metadata": {},
      "outputs": [],
      "source": [
        "CHOPPING_PER = 1e-3\n",
        "def min_max_normalization(x:torch.Tensor)->torch.Tensor:\n",
        "    \"\"\"input.shape=(batch,f1,...)\"\"\"\n",
        "    shape=x.shape\n",
        "    if x.ndim>2:\n",
        "        x=x.reshape(x.shape[0],-1)\n",
        "    \n",
        "    min_=x.min(dim=-1,keepdim=True)[0]\n",
        "    max_=x.max(dim=-1,keepdim=True)[0]\n",
        "    if min_.mean()==0 and max_.mean()==1:\n",
        "        return x.reshape(shape)\n",
        "    \n",
        "    x=(x-min_)/(max_-min_+1e-9)\n",
        "    return x.reshape(shape)\n",
        "\n",
        "def norm_with_clip(x:torch.Tensor,smooth=1e-5):\n",
        "    dim=list(range(1,x.ndim))\n",
        "    mean=x.mean(dim=dim,keepdim=True)\n",
        "    std=x.std(dim=dim,keepdim=True)\n",
        "    x=(x-mean)/(std+smooth)\n",
        "    x[x>5]=(x[x>5]-5)*1e-3 +5\n",
        "    x[x<-3]=(x[x<-3]+3)*1e-3-3\n",
        "    return x\n",
        "\n",
        "def filter_noise(x):\n",
        "    TH=x.reshape(-1)\n",
        "    index = -int(len(TH) * CFG.chopping_percentile)\n",
        "    TH:int = np.partition(TH, index)[index]\n",
        "    x[x>TH]=int(TH)\n",
        "    ########################################################################\n",
        "    TH=x.reshape(-1)\n",
        "    index = -int(len(TH) * CFG.chopping_percentile)\n",
        "    TH:int = np.partition(TH, -index)[-index]\n",
        "    x[x<TH]=int(TH)\n",
        "    return x\n"
      ]
    },
    {
      "cell_type": "code",
      "execution_count": 10,
      "metadata": {},
      "outputs": [],
      "source": [
        "def load_data(paths,is_label=False):\n",
        "    data_loader=Data_loader(paths,is_label)\n",
        "    data_loader=DataLoader(data_loader, batch_size=16)\n",
        "    data=[]\n",
        "    for x in tqdm(data_loader):\n",
        "        data.append(x)\n",
        "    x=torch.cat(data,dim=0)\n",
        "    del data\n",
        "    if not is_label:\n",
        "      #  ########################################################################\n",
        "      x = filter_noise(x)\n",
        "      x=(min_max_normalization(x.to(torch.float16)[None])[0]*255).to(torch.uint8)\n",
        "    return x"
      ]
    },
    {
      "cell_type": "code",
      "execution_count": 11,
      "metadata": {},
      "outputs": [
        {
          "name": "stderr",
          "output_type": "stream",
          "text": [
            "100%|\u2588\u2588\u2588\u2588\u2588\u2588\u2588\u2588\u2588\u2588| 32/32 [00:07<00:00,  4.22it/s]\n"
          ]
        },
        {
          "name": "stdout",
          "output_type": "stream",
          "text": [
            "torch.Size([501, 1706, 1510])\n"
          ]
        },
        {
          "name": "stderr",
          "output_type": "stream",
          "text": [
            "100%|\u2588\u2588\u2588\u2588\u2588\u2588\u2588\u2588\u2588\u2588| 32/32 [00:07<00:00,  4.50it/s]\n"
          ]
        },
        {
          "name": "stdout",
          "output_type": "stream",
          "text": [
            "torch.Size([501, 1706, 1510])\n"
          ]
        }
      ],
      "source": [
        "val_x=load_data(img_path ,is_label=False)\n",
        "print(val_x.shape)\n",
        "val_y=load_data(lb_path ,is_label=True)\n",
        "print(val_y.shape)"
      ]
    },
    {
      "cell_type": "code",
      "execution_count": 48,
      "metadata": {},
      "outputs": [],
      "source": [
        "import torch.nn as nn\n",
        "import segmentation_models_pytorch as smp\n",
        "\n",
        "class CustomModel(nn.Module):\n",
        "    def __init__(self, CFG, weight=None):\n",
        "        super().__init__()\n",
        "        self.model = smp.Unet(\n",
        "            encoder_name='mobilenet_v2', \n",
        "            encoder_weights=None,\n",
        "            in_channels=5,\n",
        "            classes=1,\n",
        "            activation=None,\n",
        "        )\n",
        "\n",
        "    def forward(self, image):\n",
        "        output = self.model(image)\n",
        "        # output = output.squeeze(-1)\n",
        "        return output[:,0]#.sigmoid()\n",
        "\n",
        "\n",
        "class WrappedModel(nn.Module):\n",
        "\tdef __init__(self):\n",
        "\t\tsuper(WrappedModel, self).__init__()\n",
        "\t\tself.module = CustomModel(CFG) \n",
        "\tdef forward(self, x):\n",
        "\t\treturn self.module(x)\n",
        "\n"
      ]
    },
    {
      "cell_type": "code",
      "execution_count": 37,
      "metadata": {},
      "outputs": [],
      "source": [
        "class Kaggld_Dataset(Dataset):\n",
        "    def __init__(self,x:list,y:list,arg=False):\n",
        "        super(Dataset,self).__init__()\n",
        "        self.x=x#list[(C,H,W),...]\n",
        "        self.y=y#list[(C,H,W),...]\n",
        "        self.image_size=CFG.image_size\n",
        "        self.in_chans=CFG.in_chans\n",
        "        self.arg=arg\n",
        "        if arg:\n",
        "            self.transform=0\n",
        "        else: \n",
        "            self.transform=CFG.valid_aug\n",
        "            \n",
        "    def __len__(self) -> int:\n",
        "        return sum([y.shape[0]-self.in_chans for y in self.y])\n",
        "    \n",
        "    def __getitem__(self,index):\n",
        "        i=0\n",
        "        for x in self.x:\n",
        "            if index>x.shape[0]-self.in_chans:\n",
        "                index-=x.shape[0]-self.in_chans\n",
        "                i+=1\n",
        "            else:\n",
        "                break\n",
        "        x=self.x[i]\n",
        "        y=self.y[i]\n",
        "        \n",
        "        x_index=np.random.randint(0,x.shape[1]-self.image_size)\n",
        "        y_index=np.random.randint(0,x.shape[2]-self.image_size)\n",
        "\n",
        "        x=x[index:index+self.in_chans,x_index:x_index+self.image_size,y_index:y_index+self.image_size]\n",
        "        y=y[index+self.in_chans//2,x_index:x_index+self.image_size,y_index:y_index+self.image_size]\n",
        "\n",
        "        data = self.transform(image=x.numpy().transpose(1,2,0), mask=y.numpy())\n",
        "        x = data['image']\n",
        "        y = data['mask']>=127\n",
        "       \n",
        "        if self.arg:\n",
        "            if np.random.randint(2):\n",
        "                x=x.flip(dims=(0,))\n",
        "                   \n",
        "                        \n",
        "        return x,y#(uint8,uint8)"
      ]
    },
    {
      "cell_type": "code",
      "execution_count": 49,
      "metadata": {},
      "outputs": [],
      "source": [
        "path_to_model = 'C:\\\\Users\\\\123\\\\Desktop\\\\resnet baseline\\\\state_mobnet_kaagle_0t84.pth'"
      ]
    },
    {
      "cell_type": "code",
      "execution_count": 50,
      "metadata": {},
      "outputs": [],
      "source": [
        "model = WrappedModel()\n",
        "\n",
        "model = model.cuda()"
      ]
    },
    {
      "cell_type": "code",
      "execution_count": 51,
      "metadata": {},
      "outputs": [
        {
          "data": {
            "text/plain": [
              "<All keys matched successfully>"
            ]
          },
          "execution_count": 51,
          "metadata": {},
          "output_type": "execute_result"
        }
      ],
      "source": [
        "if not torch.cuda.is_available() or CFG.device == \"cpu\":\n",
        "    ckpt = torch.load(path_to_model, map_location=torch.device(\"cpu\"))\n",
        "elif CFG.device == \"cuda\" and torch.cuda.is_available():\n",
        "    ckpt = torch.load(path_to_model)\n",
        "\n",
        "ckpt = ckpt[\"model\"]\n",
        "\n",
        "model.load_state_dict(ckpt)"
      ]
    },
    {
      "cell_type": "code",
      "execution_count": 22,
      "metadata": {},
      "outputs": [],
      "source": [
        "def tta(x, model):\n",
        "    model.eval()\n",
        "    #x = x.cuda().to(torch.float32)\n",
        "    #x = norm_with_clip(x.reshape(-1, *x.shape[2:])).reshape(x.shape)\n",
        "    x_n=[torch.rot90(x,k=i,dims=(-2,-1)) for i in range(4)]\n",
        "    batch_size = x.shape[0]\n",
        "    shape = x.shape\n",
        "    for i in range(4):\n",
        "        if i ==0:\n",
        "            x_n[i] = x_n[i]\n",
        "        else:\n",
        "            x_n[i]=torch.flip(x_n[i] , dims = (-2,))\n",
        "    with torch.no_grad():\n",
        "        pred = [model(b) for b in x_n]\n",
        "    \n",
        "        torch.flip(pred[i] , dims = (-2,))\n",
        "    pred=torch.cat(pred,dim=0)\n",
        "    pred = pred.sigmoid()\n",
        "    pred =pred.reshape(4,shape[0],*shape[2:])\n",
        "    \n",
        "    \n",
        "    for i in range(4):\n",
        "        if i ==0:\n",
        "            pred[i] = pred[i]\n",
        "        else:\n",
        "            pred[i]=torch.flip(pred[i] , dims = (-2,))\n",
        "    pred=[torch.rot90(pred[i],k=-i,dims=(-2,-1)) for i in range(4)]\n",
        "    pred=torch.stack(pred,dim=0).mean(0)\n",
        "            \n",
        "\n",
        "    return pred\n",
        "    \n",
        "    "
      ]
    },
    {
      "cell_type": "code",
      "execution_count": 41,
      "metadata": {},
      "outputs": [
        {
          "name": "stderr",
          "output_type": "stream",
          "text": [
            "  0%|          | 0/125 [00:31<?, ?it/s]\n"
          ]
        },
        {
          "ename": "KeyboardInterrupt",
          "evalue": "",
          "output_type": "error",
          "traceback": [
            "\u001b[1;31m---------------------------------------------------------------------------\u001b[0m",
            "\u001b[1;31mKeyboardInterrupt\u001b[0m                         Traceback (most recent call last)",
            "Cell \u001b[1;32mIn[41], line 20\u001b[0m\n\u001b[0;32m     17\u001b[0m     pred \u001b[38;5;241m=\u001b[39m tta(x)\n\u001b[0;32m     19\u001b[0m score \u001b[38;5;241m=\u001b[39m dice_coef(pred\u001b[38;5;241m.\u001b[39mdetach(), y, from_logits\u001b[38;5;241m=\u001b[39m \u001b[38;5;28;01mFalse\u001b[39;00m)\n\u001b[1;32m---> 20\u001b[0m scores\u001b[38;5;241m.\u001b[39mappend(\u001b[43mscore\u001b[49m\u001b[38;5;241;43m.\u001b[39;49m\u001b[43mdetach\u001b[49m\u001b[43m(\u001b[49m\u001b[43m)\u001b[49m\u001b[38;5;241;43m.\u001b[39;49m\u001b[43mcpu\u001b[49m\u001b[43m(\u001b[49m\u001b[43m)\u001b[49m\u001b[38;5;241m.\u001b[39mitem())\n\u001b[0;32m     21\u001b[0m val_scores \u001b[38;5;241m=\u001b[39m (val_scores\u001b[38;5;241m*\u001b[39mi\u001b[38;5;241m+\u001b[39mscore)\u001b[38;5;241m/\u001b[39m(i\u001b[38;5;241m+\u001b[39m\u001b[38;5;241m1\u001b[39m)\n\u001b[0;32m     22\u001b[0m timer\u001b[38;5;241m.\u001b[39mset_description(\n\u001b[0;32m     23\u001b[0m         \u001b[38;5;124mf\u001b[39m\u001b[38;5;124m\"\u001b[39m\u001b[38;5;124mval--> score:\u001b[39m\u001b[38;5;132;01m{\u001b[39;00mval_scores\u001b[38;5;132;01m:\u001b[39;00m\u001b[38;5;124m.4f\u001b[39m\u001b[38;5;132;01m}\u001b[39;00m\u001b[38;5;124m\"\u001b[39m)\n",
            "\u001b[1;31mKeyboardInterrupt\u001b[0m: "
          ]
        }
      ],
      "source": [
        "model = model.cuda()\n",
        "model.eval()\n",
        "loss_fn=losses.DiceLoss()\n",
        "set_seed(42)\n",
        "val_dataset=Kaggld_Dataset([val_x],[val_y])\n",
        "val_loader = DataLoader(val_dataset, batch_size=CFG.valid_batch_size, shuffle=False)\n",
        "timer = tqdm(range(len(val_loader)))\n",
        "val_losss = 0\n",
        "val_scores = 0\n",
        "scores = []\n",
        "for i, (x, y) in enumerate(val_loader):\n",
        "    x = x.cuda().to(torch.float32)\n",
        "    y = y.cuda().to(torch.float32)\n",
        "    x = norm_with_clip(x.reshape(-1, *x.shape[2:])).reshape(x.shape)\n",
        "\n",
        "    with torch.no_grad():\n",
        "        pred = tta(x)\n",
        "       \n",
        "    score = dice_coef(pred.detach(), y, from_logits= False)\n",
        "    scores.append(score.detach().cpu().item())\n",
        "    val_scores = (val_scores*i+score)/(i+1)\n",
        "    timer.set_description(\n",
        "            f\"val--> score:{val_scores:.4f}\")\n",
        "    timer.update()\n",
        "timer.close()\n"
      ]
    },
    {
      "cell_type": "code",
      "execution_count": null,
      "metadata": {},
      "outputs": [],
      "source": [
        "scipy.stats.ttest_rel(a=scores_b, b= scores, alternative='greater')"
      ]
    },
    {
      "cell_type": "code",
      "execution_count": 52,
      "metadata": {},
      "outputs": [
        {
          "name": "stderr",
          "output_type": "stream",
          "text": [
            "val-->loss:0.0000,score:0.8228: 100%|\u2588\u2588\u2588\u2588\u2588\u2588\u2588\u2588\u2588\u2588| 124/124 [00:07<00:00, 15.56it/s]"
          ]
        },
        {
          "name": "stdout",
          "output_type": "stream",
          "text": [
            "0.8228455830004907\n"
          ]
        },
        {
          "name": "stderr",
          "output_type": "stream",
          "text": [
            "\n"
          ]
        }
      ],
      "source": [
        "model.eval()\n",
        "loss_fn=losses.DiceLoss()\n",
        "set_seed(42)\n",
        "val_dataset=Kaggld_Dataset([val_x],[val_y])\n",
        "val_loader = DataLoader(val_dataset, batch_size=CFG.valid_batch_size, shuffle=False)\n",
        "timer = tqdm(range(len(val_loader)))\n",
        "val_losss = 0\n",
        "val_scores = 0\n",
        "scores= []\n",
        "for i, (x, y) in enumerate(val_loader):\n",
        "    x = x.cuda().to(torch.float32)\n",
        "    y = y.cuda().to(torch.float32)\n",
        "    x = norm_with_clip(x.reshape(-1, *x.shape[2:])).reshape(x.shape)\n",
        "\n",
        "    with torch.no_grad():\n",
        "        pred = model(x)\n",
        "        \n",
        "    score = dice_coef(pred.detach(), y)\n",
        "    scores.append(score.detach().cpu().item())\n",
        "    val_scores = (val_scores*i+score)/(i+1)\n",
        "    timer.set_description(\n",
        "            f\"val-->loss:{val_losss:.4f},score:{val_scores:.4f}\")\n",
        "    timer.update()\n",
        "timer.close()\n",
        "print(np.mean(scores))"
      ]
    },
    {
      "cell_type": "code",
      "execution_count": null,
      "metadata": {},
      "outputs": [],
      "source": []
    },
    {
      "cell_type": "code",
      "execution_count": null,
      "metadata": {},
      "outputs": [],
      "source": []
    },
    {
      "cell_type": "code",
      "execution_count": null,
      "metadata": {},
      "outputs": [],
      "source": [
        "0.8321"
      ]
    }
  ],
  "metadata": {
    "kernelspec": {
      "display_name": ".venv",
      "language": "python",
      "name": "python3"
    },
    "language_info": {
      "codemirror_mode": {
        "name": "ipython",
        "version": 3
      },
      "file_extension": ".py",
      "mimetype": "text/x-python",
      "name": "python",
      "nbconvert_exporter": "python",
      "pygments_lexer": "ipython3",
      "version": "3.9.0"
    }
  },
  "nbformat": 4,
  "nbformat_minor": 2
}
