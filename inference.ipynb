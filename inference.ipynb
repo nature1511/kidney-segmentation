{
  "cells": [
    {
      "cell_type": "code",
      "execution_count": 1,
      "metadata": {},
      "outputs": [
        {
          "name": "stderr",
          "output_type": "stream",
          "text": [
            "c:\\Users\\123\\Desktop\\human vasculature\\.venv\\lib\\site-packages\\tqdm\\auto.py:21: TqdmWarning: IProgress not found. Please update jupyter and ipywidgets. See https://ipywidgets.readthedocs.io/en/stable/user_install.html\n",
            "  from .autonotebook import tqdm as notebook_tqdm\n"
          ]
        }
      ],
      "source": [
        "import cv2\n",
        "import torch\n",
        "from torch.utils.data import Dataset, DataLoader\n",
        "from tqdm import tqdm\n",
        "import numpy as np\n",
        "from collections import defaultdict\n",
        "from pathlib import Path\n",
        "from tqdm import tqdm\n",
        "import time\n",
        "import matplotlib.pyplot as plt\n",
        "from segmentation.scr.utils.utils import set_seed\n",
        "import albumentations as A\n",
        "import matplotlib.pyplot as plt\n",
        "from albumentations.pytorch.transforms import ToTensorV2\n",
        "import segmentation_models_pytorch as smp\n",
        "from segmentation.scr.utils import losses, transforms\n",
        "from segmentation.models.unet import unet\n",
        "\n",
        "from segmentation.scr.utils import losses, transforms\n",
        "from segmentation.scr.utils.utils import set_seed\n",
        "from segmentation.scr.utils.metrics import dice_coef\n",
        "from segmentation.scr.utils.utils import save_model"
      ]
    },
    {
      "cell_type": "code",
      "execution_count": null,
      "metadata": {},
      "outputs": [],
      "source": [
        "def norm_with_clip(x:torch.Tensor,smooth=1e-5):\n",
        "    dim=list(range(1,x.ndim))\n",
        "    mean=x.mean(dim=dim,keepdim=True)\n",
        "    std=x.std(dim=dim,keepdim=True)\n",
        "    x=(x-mean)/(std+smooth)\n",
        "    x[x>5]=(x[x>5]-5)*1e-3 +5\n",
        "    x[x<-3]=(x[x<-3]+3)*1e-3-3\n",
        "    return x"
      ]
    },
    {
      "cell_type": "code",
      "execution_count": 25,
      "metadata": {},
      "outputs": [
        {
          "data": {
            "text/plain": [
              "array([[0., 0., 0., ..., 0., 0., 0.],\n",
              "       [0., 0., 0., ..., 0., 0., 0.],\n",
              "       [0., 0., 0., ..., 0., 0., 0.],\n",
              "       ...,\n",
              "       [0., 0., 0., ..., 0., 0., 0.],\n",
              "       [0., 0., 0., ..., 0., 0., 0.],\n",
              "       [0., 0., 0., ..., 0., 0., 0.]], dtype=float32)"
            ]
          },
          "execution_count": 25,
          "metadata": {},
          "output_type": "execute_result"
        }
      ],
      "source": [
        "norm_by_percentile(im1.to(torch.float).numpy())"
      ]
    },
    {
      "cell_type": "code",
      "execution_count": 52,
      "metadata": {},
      "outputs": [],
      "source": [
        "def norm_by_percentile_(volume, low=10, high=99.8, alpha=0.01, smooth=1e-7):\n",
        "    dim=list(range(1,volume.ndim))\n",
        "    xmin = torch.quantile(volume,low / 100 , dim=dim)\n",
        "    xmax = torch.quantile(volume,high, dim=dim)\n",
        "    print(xmax)\n",
        "    x = (volume-xmin)/(xmax-xmin + smooth)\n",
        "    x[x>1]=(x[x>1]-1)*alpha +1\n",
        "    x[x<0]=(x[x<0])*alpha\n",
        "    #x = np.clip(x,0,1)\n",
        "    return x"
      ]
    },
    {
      "cell_type": "code",
      "execution_count": 67,
      "metadata": {},
      "outputs": [],
      "source": [
        "z = im1.unsqueeze(0).unsqueeze(0).repeat(3,3,1,1).to(torch.float)\n",
        "#x.reshape(-1, *x.shape[2:])"
      ]
    },
    {
      "cell_type": "code",
      "execution_count": 71,
      "metadata": {},
      "outputs": [
        {
          "ename": "RuntimeError",
          "evalue": "quantile() input tensor is too large",
          "output_type": "error",
          "traceback": [
            "\u001b[1;31m---------------------------------------------------------------------------\u001b[0m",
            "\u001b[1;31mRuntimeError\u001b[0m                              Traceback (most recent call last)",
            "Cell \u001b[1;32mIn[71], line 1\u001b[0m\n\u001b[1;32m----> 1\u001b[0m \u001b[43mtorch\u001b[49m\u001b[38;5;241;43m.\u001b[39;49m\u001b[43mquantile\u001b[49m\u001b[43m(\u001b[49m\u001b[43mz\u001b[49m\u001b[38;5;241;43m.\u001b[39;49m\u001b[43mreshape\u001b[49m\u001b[43m(\u001b[49m\u001b[38;5;241;43m-\u001b[39;49m\u001b[38;5;241;43m1\u001b[39;49m\u001b[43m,\u001b[49m\u001b[38;5;241;43m1\u001b[39;49m\u001b[43m)\u001b[49m\u001b[43m,\u001b[49m\u001b[43m \u001b[49m\u001b[38;5;241;43m0.1\u001b[39;49m\u001b[43m)\u001b[49m\n",
            "\u001b[1;31mRuntimeError\u001b[0m: quantile() input tensor is too large"
          ]
        }
      ],
      "source": [
        "torch.quantile(z.reshape(-1,1), 0.1)"
      ]
    },
    {
      "cell_type": "code",
      "execution_count": 72,
      "metadata": {},
      "outputs": [
        {
          "data": {
            "text/plain": [
              "torch.Size([23184540, 1])"
            ]
          },
          "execution_count": 72,
          "metadata": {},
          "output_type": "execute_result"
        }
      ],
      "source": [
        "z.reshape(-1,1).shape"
      ]
    },
    {
      "cell_type": "code",
      "execution_count": 53,
      "metadata": {},
      "outputs": [
        {
          "ename": "TypeError",
          "evalue": "quantile() received an invalid combination of arguments - got (Tensor, float, dim=list), but expected one of:\n * (Tensor input, Tensor q, int dim, bool keepdim, *, str interpolation, Tensor out)\n * (Tensor input, float q, int dim, bool keepdim, *, str interpolation, Tensor out)\n",
          "output_type": "error",
          "traceback": [
            "\u001b[1;31m---------------------------------------------------------------------------\u001b[0m",
            "\u001b[1;31mTypeError\u001b[0m                                 Traceback (most recent call last)",
            "Cell \u001b[1;32mIn[53], line 1\u001b[0m\n\u001b[1;32m----> 1\u001b[0m \u001b[43mnorm_by_percentile_\u001b[49m\u001b[43m(\u001b[49m\u001b[43mim1\u001b[49m\u001b[38;5;241;43m.\u001b[39;49m\u001b[43munsqueeze\u001b[49m\u001b[43m(\u001b[49m\u001b[38;5;241;43m0\u001b[39;49m\u001b[43m)\u001b[49m\u001b[38;5;241;43m.\u001b[39;49m\u001b[43munsqueeze\u001b[49m\u001b[43m(\u001b[49m\u001b[38;5;241;43m0\u001b[39;49m\u001b[43m)\u001b[49m\u001b[38;5;241;43m.\u001b[39;49m\u001b[43mrepeat\u001b[49m\u001b[43m(\u001b[49m\u001b[38;5;241;43m3\u001b[39;49m\u001b[43m,\u001b[49m\u001b[38;5;241;43m3\u001b[39;49m\u001b[43m,\u001b[49m\u001b[38;5;241;43m1\u001b[39;49m\u001b[43m,\u001b[49m\u001b[38;5;241;43m1\u001b[39;49m\u001b[43m)\u001b[49m\u001b[38;5;241;43m.\u001b[39;49m\u001b[43mto\u001b[49m\u001b[43m(\u001b[49m\u001b[43mtorch\u001b[49m\u001b[38;5;241;43m.\u001b[39;49m\u001b[43mfloat\u001b[49m\u001b[43m)\u001b[49m\u001b[43m)\u001b[49m\n",
            "Cell \u001b[1;32mIn[52], line 3\u001b[0m, in \u001b[0;36mnorm_by_percentile_\u001b[1;34m(volume, low, high, alpha, smooth)\u001b[0m\n\u001b[0;32m      1\u001b[0m \u001b[38;5;28;01mdef\u001b[39;00m \u001b[38;5;21mnorm_by_percentile_\u001b[39m(volume, low\u001b[38;5;241m=\u001b[39m\u001b[38;5;241m10\u001b[39m, high\u001b[38;5;241m=\u001b[39m\u001b[38;5;241m99.8\u001b[39m, alpha\u001b[38;5;241m=\u001b[39m\u001b[38;5;241m0.01\u001b[39m, smooth\u001b[38;5;241m=\u001b[39m\u001b[38;5;241m1e-7\u001b[39m):\n\u001b[0;32m      2\u001b[0m     dim\u001b[38;5;241m=\u001b[39m\u001b[38;5;28mlist\u001b[39m(\u001b[38;5;28mrange\u001b[39m(\u001b[38;5;241m1\u001b[39m,volume\u001b[38;5;241m.\u001b[39mndim))\n\u001b[1;32m----> 3\u001b[0m     xmin \u001b[38;5;241m=\u001b[39m \u001b[43mtorch\u001b[49m\u001b[38;5;241;43m.\u001b[39;49m\u001b[43mquantile\u001b[49m\u001b[43m(\u001b[49m\u001b[43mvolume\u001b[49m\u001b[43m,\u001b[49m\u001b[43mlow\u001b[49m\u001b[43m \u001b[49m\u001b[38;5;241;43m/\u001b[39;49m\u001b[43m \u001b[49m\u001b[38;5;241;43m100\u001b[39;49m\u001b[43m \u001b[49m\u001b[43m,\u001b[49m\u001b[43m \u001b[49m\u001b[43mdim\u001b[49m\u001b[38;5;241;43m=\u001b[39;49m\u001b[43mdim\u001b[49m\u001b[43m)\u001b[49m\n\u001b[0;32m      4\u001b[0m     xmax \u001b[38;5;241m=\u001b[39m torch\u001b[38;5;241m.\u001b[39mquantile(volume,high, dim\u001b[38;5;241m=\u001b[39mdim)\n\u001b[0;32m      5\u001b[0m     \u001b[38;5;28mprint\u001b[39m(xmax)\n",
            "\u001b[1;31mTypeError\u001b[0m: quantile() received an invalid combination of arguments - got (Tensor, float, dim=list), but expected one of:\n * (Tensor input, Tensor q, int dim, bool keepdim, *, str interpolation, Tensor out)\n * (Tensor input, float q, int dim, bool keepdim, *, str interpolation, Tensor out)\n"
          ]
        }
      ],
      "source": [
        "norm_by_percentile_("
      ]
    },
    {
      "cell_type": "code",
      "execution_count": 66,
      "metadata": {},
      "outputs": [
        {
          "ename": "RuntimeError",
          "evalue": "quantile() input tensor is too large",
          "output_type": "error",
          "traceback": [
            "\u001b[1;31m---------------------------------------------------------------------------\u001b[0m",
            "\u001b[1;31mRuntimeError\u001b[0m                              Traceback (most recent call last)",
            "Cell \u001b[1;32mIn[66], line 2\u001b[0m\n\u001b[0;32m      1\u001b[0m dim\u001b[38;5;241m=\u001b[39m\u001b[38;5;28mlist\u001b[39m(\u001b[38;5;28mrange\u001b[39m(\u001b[38;5;241m1\u001b[39m,im1\u001b[38;5;241m.\u001b[39munsqueeze(\u001b[38;5;241m0\u001b[39m)\u001b[38;5;241m.\u001b[39munsqueeze(\u001b[38;5;241m0\u001b[39m)\u001b[38;5;241m.\u001b[39mrepeat(\u001b[38;5;241m3\u001b[39m,\u001b[38;5;241m3\u001b[39m,\u001b[38;5;241m1\u001b[39m,\u001b[38;5;241m1\u001b[39m)\u001b[38;5;241m.\u001b[39mndim))\n\u001b[1;32m----> 2\u001b[0m \u001b[43mtorch\u001b[49m\u001b[38;5;241;43m.\u001b[39;49m\u001b[43mquantile\u001b[49m\u001b[43m(\u001b[49m\u001b[43mim1\u001b[49m\u001b[38;5;241;43m.\u001b[39;49m\u001b[43munsqueeze\u001b[49m\u001b[43m(\u001b[49m\u001b[38;5;241;43m0\u001b[39;49m\u001b[43m)\u001b[49m\u001b[38;5;241;43m.\u001b[39;49m\u001b[43munsqueeze\u001b[49m\u001b[43m(\u001b[49m\u001b[38;5;241;43m0\u001b[39;49m\u001b[43m)\u001b[49m\u001b[38;5;241;43m.\u001b[39;49m\u001b[43mrepeat\u001b[49m\u001b[43m(\u001b[49m\u001b[38;5;241;43m3\u001b[39;49m\u001b[43m,\u001b[49m\u001b[38;5;241;43m3\u001b[39;49m\u001b[43m,\u001b[49m\u001b[38;5;241;43m1\u001b[39;49m\u001b[43m,\u001b[49m\u001b[38;5;241;43m1\u001b[39;49m\u001b[43m)\u001b[49m\u001b[38;5;241;43m.\u001b[39;49m\u001b[43mto\u001b[49m\u001b[43m(\u001b[49m\u001b[43mtorch\u001b[49m\u001b[38;5;241;43m.\u001b[39;49m\u001b[43mfloat\u001b[49m\u001b[43m)\u001b[49m\u001b[43m,\u001b[49m\u001b[43m \u001b[49m\u001b[38;5;241;43m0.1\u001b[39;49m\u001b[43m)\u001b[49m\u001b[38;5;241m.\u001b[39mshape\n",
            "\u001b[1;31mRuntimeError\u001b[0m: quantile() input tensor is too large"
          ]
        }
      ],
      "source": [
        "dim=list(range(1,im1.unsqueeze(0).unsqueeze(0).repeat(3,3,1,1).ndim))\n",
        "torch.quantile(im1.unsqueeze(0).unsqueeze(0).repeat(3,3,1,1).to(torch.float), 0.1).shape"
      ]
    },
    {
      "cell_type": "code",
      "execution_count": 63,
      "metadata": {},
      "outputs": [],
      "source": [
        "volume = im1.unsqueeze(0).unsqueeze(0).repeat(3,3,1,1).to(torch.float).numpy()"
      ]
    },
    {
      "cell_type": "code",
      "execution_count": 62,
      "metadata": {},
      "outputs": [
        {
          "data": {
            "text/plain": [
              "74.0"
            ]
          },
          "execution_count": 62,
          "metadata": {},
          "output_type": "execute_result"
        }
      ],
      "source": [
        "np.percentile(volume,0.1)"
      ]
    },
    {
      "cell_type": "code",
      "execution_count": 51,
      "metadata": {},
      "outputs": [
        {
          "data": {
            "text/plain": [
              "tensor([[75, 75, 75,  ..., 75, 75, 75],\n",
              "        [75, 75, 75,  ..., 75, 75, 75],\n",
              "        [75, 75, 75,  ..., 75, 75, 75],\n",
              "        ...,\n",
              "        [75, 75, 75,  ..., 75, 75, 75],\n",
              "        [75, 75, 75,  ..., 75, 75, 75],\n",
              "        [75, 75, 75,  ..., 75, 75, 75]], dtype=torch.uint8)"
            ]
          },
          "execution_count": 51,
          "metadata": {},
          "output_type": "execute_result"
        }
      ],
      "source": [
        "im1"
      ]
    },
    {
      "cell_type": "code",
      "execution_count": 28,
      "metadata": {},
      "outputs": [
        {
          "data": {
            "text/plain": [
              "tensor(75.)"
            ]
          },
          "execution_count": 28,
          "metadata": {},
          "output_type": "execute_result"
        }
      ],
      "source": [
        "torch.quantile(im1.to(torch.float),0.1)"
      ]
    },
    {
      "cell_type": "code",
      "execution_count": null,
      "metadata": {},
      "outputs": [],
      "source": []
    },
    {
      "cell_type": "code",
      "execution_count": null,
      "metadata": {},
      "outputs": [],
      "source": []
    },
    {
      "cell_type": "code",
      "execution_count": null,
      "metadata": {},
      "outputs": [],
      "source": []
    },
    {
      "cell_type": "code",
      "execution_count": 3,
      "metadata": {},
      "outputs": [],
      "source": [
        "class CFG:\n",
        "    # ============== pred target =============\n",
        "    target_size = 1\n",
        "\n",
        "    # ============== model CFG =============\n",
        "    model_name = 'Unet'\n",
        "    backbone = 'mobilenet_v2'\n",
        "\n",
        "    device = \"cuda\" if torch.cuda.is_available() else \"cpu\"\n",
        "    in_chans = 5 # 65\n",
        "    # ============== training CFG =============\n",
        "    image_size = 512\n",
        "    input_size=512\n",
        "\n",
        "    valid_batch_size = 4\n",
        "    lr = 6e-4\n",
        "    chopping_percentile=1e-3\n",
        "    # ============== fold =============\n",
        "    valid_id = 1\n",
        "\n",
        "    # ============== augmentation =============\n",
        "   \n",
        "    valid_aug_list = [\n",
        "        ToTensorV2(transpose_mask=True),\n",
        "    ]\n",
        "    valid_aug = A.Compose(valid_aug_list, p=1.0)"
      ]
    },
    {
      "cell_type": "code",
      "execution_count": 4,
      "metadata": {},
      "outputs": [
        {
          "name": "stdout",
          "output_type": "stream",
          "text": [
            "\u041e\u0431\u0449\u0435\u0435 \u0447\u0438\u0441\u043b\u043e \u0438\u0437\u043e\u0431\u0440\u0430\u0436\u0435\u043d\u0438\u0439 \u0441 \u043c\u0430\u0441\u043a\u0430\u043c\u0438 \u0441\u0435\u0433\u043c\u0435\u043d\u0442\u0430\u0446\u0438\u0438 : 501\n"
          ]
        }
      ],
      "source": [
        "path_img_dir=\"data\\\\train\\\\kidney_3_sparse\\\\images\"\n",
        "path_lb_dir=\"data\\\\train\\\\kidney_3_dense\\\\labels\"\n",
        "path_img_dir = Path(path_img_dir)\n",
        "path_lb_dir = Path(path_lb_dir)\n",
        "\n",
        "path_img_dir = sorted(list(path_img_dir.rglob(\"*.tif\")))\n",
        "path_lb_dir = sorted(list(path_lb_dir.rglob(\"*.tif\")))\n",
        "\n",
        "images_labels = defaultdict(list)\n",
        "for img in path_img_dir:\n",
        "    images_labels[img.name].append(img)\n",
        "for lb in path_lb_dir:\n",
        "    images_labels[lb.name].append(lb)\n",
        "new_dict = dict(filter(lambda item: len(item[1]) > 1, images_labels.items()))\n",
        "print(f\"\u041e\u0431\u0449\u0435\u0435 \u0447\u0438\u0441\u043b\u043e \u0438\u0437\u043e\u0431\u0440\u0430\u0436\u0435\u043d\u0438\u0439 \u0441 \u043c\u0430\u0441\u043a\u0430\u043c\u0438 \u0441\u0435\u0433\u043c\u0435\u043d\u0442\u0430\u0446\u0438\u0438 : {len(new_dict)}\")\n",
        "img_path = list(map(lambda key : str(new_dict[key][0]) , new_dict))\n",
        "lb_path = list(map(lambda key : str(new_dict[key][1]), new_dict))"
      ]
    },
    {
      "cell_type": "code",
      "execution_count": 6,
      "metadata": {},
      "outputs": [],
      "source": [
        "class Data_loader(Dataset):\n",
        "    def __init__(self,paths,is_label):\n",
        "        self.paths=paths\n",
        "        self.paths.sort()\n",
        "        self.is_label=is_label\n",
        "    \n",
        "    def __len__(self):\n",
        "        return len(self.paths)\n",
        "    \n",
        "    def __getitem__(self,index):\n",
        "        img=cv2.imread(self.paths[index],cv2.IMREAD_GRAYSCALE)\n",
        "        img=torch.from_numpy(img)\n",
        "        if self.is_label:\n",
        "            img=(img!=0).to(torch.uint8)*255\n",
        "        else:\n",
        "            img=img.to(torch.uint8)\n",
        "        return img"
      ]
    },
    {
      "cell_type": "code",
      "execution_count": 7,
      "metadata": {},
      "outputs": [],
      "source": [
        "def resize_to_size( img, image_size = CFG.image_size):\n",
        "        '''\n",
        "        resizes the image if its side is smaller than image_size\n",
        "        padding is the average between the maximum and minimum pixels on the border\n",
        "        '''\n",
        "        #print(img.shape)\n",
        "        if image_size > img.shape[0]:\n",
        "            #print(1)\n",
        "            start = ( image_size - img.shape[0])//2\n",
        "            val1 = (min(img[0,:]).item() + max(img[0,:]).item()) // 2\n",
        "            val2 = (min(img[img.shape[0] - 1,:]).item() + max(img[img.shape[0] - 1,:]).item()) // 2\n",
        "            print(val1, val2)\n",
        "            top= torch.full((start,img.shape[1]),(val1 + val2)//2).to(torch.uint8)\n",
        "            botton = torch.full((start,img.shape[1]),(val1 + val2)//2).to(torch.uint8)\n",
        "            #print(border.shape)\n",
        "            img=torch.cat((top, img, botton), axis = 0).to(torch.uint8)\n",
        "        if image_size > img.shape[1]:\n",
        "            #print(2)\n",
        "            start = ( image_size - img.shape[1])//2\n",
        "            val1 = (min(img[:, 0]).item() + max(img[:, 0]).item()) // 2\n",
        "            val2 = (min(img[:, img.shape[1] - 1]).item() + max(img[:, img.shape[1] - 1]).item()) // 2\n",
        "            left= torch.full((img.shape[0], start),(val1 + val2)//2).to(torch.uint8)\n",
        "            right = torch.full((img.shape[0], start),(val1 + val2)//2).to(torch.uint8)\n",
        "            img = torch.cat((left, img, right), axis = 1).to(torch.uint8)\n",
        "        \n",
        "        return img"
      ]
    },
    {
      "cell_type": "code",
      "execution_count": 9,
      "metadata": {},
      "outputs": [],
      "source": [
        "def load_data(paths,is_label=False):\n",
        "    data_loader=Data_loader(paths,is_label)\n",
        "    data_loader=DataLoader(data_loader, batch_size=16)\n",
        "    data=[]\n",
        "    for x in tqdm(data_loader):\n",
        "        data.append(x)\n",
        "    x=torch.cat(data,dim=0)\n",
        "    del data\n",
        "    if not is_label:\n",
        "      #  ########################################################################\n",
        "      x = filter_noise(x)\n",
        "      x=(min_max_normalization(x.to(torch.float16)[None])[0]*255).to(torch.uint8)\n",
        "    return x"
      ]
    },
    {
      "cell_type": "code",
      "execution_count": null,
      "metadata": {},
      "outputs": [],
      "source": [
        "#v#al_x=load_data(img_path ,is_label=False)\n",
        "#print(val_x.shape)\n",
        "#val_y=load_data(lb_path ,is_label=True)\n",
        "#print(val_y.shape)"
      ]
    },
    {
      "cell_type": "code",
      "execution_count": 10,
      "metadata": {},
      "outputs": [],
      "source": [
        "class Kaggld_Dataset(Dataset):\n",
        "    def __init__(self,x:list,y:list,arg=False):\n",
        "        super(Dataset,self).__init__()\n",
        "        self.x=x#list[(C,H,W),...]\n",
        "        self.y=y#list[(C,H,W),...]\n",
        "        self.image_size=CFG.image_size\n",
        "        self.in_chans=CFG.in_chans\n",
        "        self.arg=arg\n",
        "        if arg:\n",
        "            self.transform=0\n",
        "        else: \n",
        "            self.transform=CFG.valid_aug\n",
        "            \n",
        "    def __len__(self) -> int:\n",
        "        return sum([y.shape[0]-self.in_chans for y in self.y])\n",
        "    \n",
        "    def __getitem__(self,index):\n",
        "        i=0\n",
        "        for x in self.x:\n",
        "            if index>x.shape[0]-self.in_chans:\n",
        "                index-=x.shape[0]-self.in_chans\n",
        "                i+=1\n",
        "            else:\n",
        "                break\n",
        "        x=self.x[i]\n",
        "        y=self.y[i]\n",
        "        \n",
        "        x_index=np.random.randint(0,x.shape[1]-self.image_size)\n",
        "        y_index=np.random.randint(0,x.shape[2]-self.image_size)\n",
        "\n",
        "        x=x[index:index+self.in_chans,x_index:x_index+self.image_size,y_index:y_index+self.image_size]\n",
        "        y=y[index+self.in_chans//2,x_index:x_index+self.image_size,y_index:y_index+self.image_size]\n",
        "\n",
        "        data = self.transform(image=x.numpy().transpose(1,2,0), mask=y.numpy())\n",
        "        x = data['image']\n",
        "        y = data['mask']>=127\n",
        "       \n",
        "        if self.arg:\n",
        "            if np.random.randint(2):\n",
        "                x=x.flip(dims=(0,))\n",
        "                   \n",
        "                        \n",
        "        return x,y#(uint8,uint8)"
      ]
    },
    {
      "cell_type": "code",
      "execution_count": 11,
      "metadata": {},
      "outputs": [],
      "source": [
        "class Data_loader_inference(Dataset):\n",
        "    def __init__(self,img_path,lb_path):\n",
        "        self.img_paths=img_path\n",
        "        self.lb_path = lb_path\n",
        "        \n",
        "    \n",
        "    def __len__(self):\n",
        "        return len(self.paths)\n",
        "    \n",
        "    def __getitem__(self,index):\n",
        "        img=cv2.imread(self.img_paths[index],cv2.IMREAD_GRAYSCALE)\n",
        "        img=torch.from_numpy(img).to(torch.uint8)\n",
        "        label = cv2.imread(self.lb_path[index],cv2.IMREAD_GRAYSCALE)\n",
        "            \n",
        "        label=torch.from_numpy(label!=0).to(torch.uint8)*255\n",
        "        return img, label"
      ]
    },
    {
      "cell_type": "code",
      "execution_count": 12,
      "metadata": {},
      "outputs": [],
      "source": [
        "loader_inf = Data_loader_inference(img_path, lb_path)"
      ]
    },
    {
      "cell_type": "code",
      "execution_count": 13,
      "metadata": {},
      "outputs": [],
      "source": [
        "im1 = loader_inf[0][0]"
      ]
    },
    {
      "cell_type": "code",
      "execution_count": null,
      "metadata": {},
      "outputs": [],
      "source": [
        "plt.imshow(resize_to_size(loader_inf[0][0]))"
      ]
    },
    {
      "cell_type": "code",
      "execution_count": null,
      "metadata": {},
      "outputs": [],
      "source": [
        "mask = resize_to_size(loader_inf[0][1])"
      ]
    },
    {
      "cell_type": "code",
      "execution_count": null,
      "metadata": {},
      "outputs": [],
      "source": [
        "im1.shape"
      ]
    },
    {
      "cell_type": "code",
      "execution_count": null,
      "metadata": {},
      "outputs": [],
      "source": []
    },
    {
      "cell_type": "code",
      "execution_count": null,
      "metadata": {},
      "outputs": [],
      "source": [
        "def create_tillings( images, overlap_pct = 50):\n",
        "    if len(images.shape) == 2:\n",
        "        #print('ss')\n",
        "        images = images.unsqueeze(0).repeat(CFG.in_chans,1,1)\n",
        "    min_overlap = float(overlap_pct) * 0.01\n",
        "    max_stride = CFG.image_size * (1.0 - min_overlap)\n",
        "\n",
        "    print(images.shape)\n",
        "    height, width = images.shape[-2], images.shape[-1]\n",
        "    num_patches = np.ceil(np.array([height, width]) / max_stride).astype(\n",
        "                np.int32\n",
        "            )\n",
        "\n",
        "    starts = [\n",
        "                np.int32(np.linspace(0, height - CFG.input_size, num_patches[0])),\n",
        "                np.int32(np.linspace(0, width - CFG.input_size, num_patches[1])),\n",
        "            ]\n",
        "    stops = [starts[0] + CFG.input_size, starts[1] + CFG.input_size]\n",
        "        \n",
        "    indexs=[]\n",
        "    tills=[]\n",
        "    for y1, y2 in zip(starts[0], stops[0]):\n",
        "        for x1, x2 in zip(starts[1], stops[1]):\n",
        "            tills.append(images[...,y1:y2, x1:x2])\n",
        "            indexs.append((y1,y2,x1,x2))\n",
        "                \n",
        "  \n",
        "    return tills, indexs\n",
        "                \n",
        "im1 = loader_inf[0][0]\n",
        "#im1 = filter_noise(im1)\n",
        "im1 = (min_max_normalization(im1.to(torch.float16)[None])[0]*255).to(torch.uint8)\n",
        "\n",
        "tills, indexs = create_tilling(images=im1.repeat(CFG.in_chans,1,1))"
      ]
    },
    {
      "cell_type": "code",
      "execution_count": null,
      "metadata": {},
      "outputs": [],
      "source": [
        "tills = torch.stack(tills)"
      ]
    },
    {
      "cell_type": "code",
      "execution_count": null,
      "metadata": {},
      "outputs": [],
      "source": [
        "tills =tills.to(torch.float32)"
      ]
    },
    {
      "cell_type": "code",
      "execution_count": null,
      "metadata": {},
      "outputs": [],
      "source": [
        "tills.shape"
      ]
    },
    {
      "cell_type": "code",
      "execution_count": null,
      "metadata": {},
      "outputs": [],
      "source": [
        "`tills = norm_with_clip(tills)`"
      ]
    },
    {
      "cell_type": "code",
      "execution_count": null,
      "metadata": {},
      "outputs": [],
      "source": [
        "model.eval()\n",
        "with torch.no_grad():\n",
        "    ans= model(tills.cuda().to(torch.float32))"
      ]
    },
    {
      "cell_type": "code",
      "execution_count": null,
      "metadata": {},
      "outputs": [],
      "source": [
        "ans = ans.cpu()"
      ]
    },
    {
      "cell_type": "code",
      "execution_count": null,
      "metadata": {},
      "outputs": [],
      "source": [
        "ans = ans.sigmoid()"
      ]
    },
    {
      "cell_type": "code",
      "execution_count": null,
      "metadata": {},
      "outputs": [],
      "source": [
        "mask_pred = torch.zeros_like(im1,dtype=torch.float32)\n",
        "mask_count = torch.zeros_like(im1,dtype=torch.float32)"
      ]
    },
    {
      "cell_type": "code",
      "execution_count": null,
      "metadata": {},
      "outputs": [],
      "source": [
        "mask_pred.shape"
      ]
    },
    {
      "cell_type": "code",
      "execution_count": null,
      "metadata": {},
      "outputs": [],
      "source": [
        "for i,(y1,y2,x1,x2) in enumerate(indexs):\n",
        "    mask_pred[y1:y2, x1:x2] += ans[i]\n",
        "    mask_count[y1:y2, x1:x2] += 1\n",
        " \n",
        "mask_pred /= mask_count\n",
        " "
      ]
    },
    {
      "cell_type": "code",
      "execution_count": null,
      "metadata": {},
      "outputs": [],
      "source": [
        "mask_pred.max()"
      ]
    },
    {
      "cell_type": "code",
      "execution_count": null,
      "metadata": {},
      "outputs": [],
      "source": [
        "mask_pred"
      ]
    },
    {
      "cell_type": "code",
      "execution_count": null,
      "metadata": {},
      "outputs": [],
      "source": [
        "mask.max()"
      ]
    },
    {
      "cell_type": "code",
      "execution_count": null,
      "metadata": {},
      "outputs": [],
      "source": [
        "plt.imshow((mask_pred * 255).to(torch.uint8))"
      ]
    },
    {
      "cell_type": "code",
      "execution_count": null,
      "metadata": {},
      "outputs": [],
      "source": [
        "def dice_coef(\n",
        "    y_pred: torch.Tensor,\n",
        "    y_true: torch.Tensor,\n",
        "    thr=0.5,\n",
        "    dim=(-1, -2),\n",
        "    smooth=0.0000001\n",
        "    # epsilon=1e-7,\n",
        "):\n",
        "    \"\"\"Calculate Dice coef\n",
        "\n",
        "    Args:\n",
        "        y_pred (torch.Tensor): predicitions from logits\n",
        "        y_true (torch.Tensor): labels\n",
        "        thr (float, optional): cutoff threshold. Defaults to 0.5.\n",
        "        dim (tuple, optional): dimensions. Defaults to (-1, -2).\n",
        "        smooth (int, optional): smooth. Defaults to 0.\n",
        "\n",
        "    Returns:\n",
        "        _type_: _description_\n",
        "    \"\"\"\n",
        "    y_true = y_true.to(torch.float32)\n",
        "    y_pred = (y_pred > thr).to(torch.float32)\n",
        "    inter = (y_true * y_pred).sum(dim=dim)\n",
        "    den = y_true.sum(dim=dim) + y_pred.sum(dim=dim)\n",
        "    dice = ((2 * inter + smooth) / (den + smooth)\n",
        "            ).mean()  # .clamp_min(epsilon)\n",
        "    return dice\n"
      ]
    },
    {
      "cell_type": "code",
      "execution_count": null,
      "metadata": {},
      "outputs": [],
      "source": [
        "dice_coef(mask_pred, y, thr=0.5)"
      ]
    },
    {
      "cell_type": "code",
      "execution_count": null,
      "metadata": {},
      "outputs": [],
      "source": [
        "plt.imshow(mask)"
      ]
    },
    {
      "cell_type": "code",
      "execution_count": null,
      "metadata": {},
      "outputs": [],
      "source": []
    },
    {
      "cell_type": "code",
      "execution_count": null,
      "metadata": {},
      "outputs": [],
      "source": [
        "(mask_pred*255 /3).to(torch.uint8).max()"
      ]
    },
    {
      "cell_type": "code",
      "execution_count": null,
      "metadata": {},
      "outputs": [],
      "source": []
    },
    {
      "cell_type": "code",
      "execution_count": null,
      "metadata": {},
      "outputs": [],
      "source": []
    },
    {
      "cell_type": "code",
      "execution_count": null,
      "metadata": {},
      "outputs": [],
      "source": []
    },
    {
      "cell_type": "code",
      "execution_count": null,
      "metadata": {},
      "outputs": [],
      "source": []
    },
    {
      "cell_type": "code",
      "execution_count": null,
      "metadata": {},
      "outputs": [],
      "source": [
        "def in"
      ]
    },
    {
      "cell_type": "code",
      "execution_count": null,
      "metadata": {},
      "outputs": [],
      "source": [
        "model=build_model(weight=\"imagenet\")\n"
      ]
    },
    {
      "cell_type": "code",
      "execution_count": null,
      "metadata": {},
      "outputs": [],
      "source": [
        "path_to_model = 'C:\\\\Users\\\\123\\\\Desktop\\\\resnet baseline\\\\state_mobnet_base_my_pc.pth'"
      ]
    },
    {
      "cell_type": "code",
      "execution_count": null,
      "metadata": {},
      "outputs": [],
      "source": [
        "if not torch.cuda.is_available() or CFG.device == \"cpu\":\n",
        "    ckpt = torch.load(path_to_model, map_location=torch.device(\"cpu\"))\n",
        "elif CFG.device == \"cuda\" and torch.cuda.is_available():\n",
        "    ckpt = torch.load(path_to_model)\n",
        "\n",
        "ckpt = ckpt[\"model\"]\n",
        "model.load_state_dict(ckpt)"
      ]
    },
    {
      "cell_type": "code",
      "execution_count": null,
      "metadata": {},
      "outputs": [],
      "source": [
        "model.eval()\n",
        "timer = tqdm(range(len(val_loader)))\n",
        "val_losss = 0\n",
        "val_scores = 0\n",
        "for i, (x, y) in enumerate(val_loader):\n",
        "    x = x.cuda().to(torch.float32)\n",
        "    y = y.cuda().to(torch.float32)\n",
        "    x = norm_with_clip(x.reshape(-1, *x.shape[2:])).reshape(x.shape)\n",
        "\n",
        "    with torch.no_grad():\n",
        "        pred = model(x)\n",
        "        loss = loss_fn(pred, y)\n",
        "    score = dice_coef(pred.detach(), y)\n",
        "    val_losss = (val_losss*i+loss.item())/(i+1)\n",
        "    val_scores = (val_scores*i+score)/(i+1)\n",
        "    timer.set_description(\n",
        "            f\"val-->loss:{val_losss:.4f},score:{val_scores:.4f}\")\n",
        "    timer.update()\n",
        "timer.close()"
      ]
    },
    {
      "cell_type": "code",
      "execution_count": null,
      "metadata": {},
      "outputs": [],
      "source": [
        "def evaluate_dataset_1(model, val_loader):\n",
        "    model.eval()\n",
        "    timer = tqdm(range(len(val_loader)))\n",
        "    val_scores = 0\n",
        "    scores = []\n",
        "    for i, (x, y) in enumerate(val_loader):\n",
        "        x = x.cuda().to(torch.float32)\n",
        "        y = y.cuda().to(torch.float32)\n",
        "        x = norm_with_clip(x.reshape(-1, *x.shape[2:])).reshape(x.shape)\n",
        "\n",
        "        with torch.no_grad():\n",
        "            pred = model(x)\n",
        "\n",
        "        score = dice_coef(pred.detach(), y)\n",
        "        scores.append(score.detach().cpu().item())\n",
        "        val_scores = (val_scores * i + score) / (i + 1)\n",
        "        timer.set_description(f\"eval--> score:{val_scores:.4f}\")\n",
        "        timer.update()\n",
        "    timer.close()\n",
        "    return scores, val_scores"
      ]
    },
    {
      "cell_type": "code",
      "execution_count": null,
      "metadata": {},
      "outputs": [],
      "source": []
    },
    {
      "cell_type": "code",
      "execution_count": null,
      "metadata": {},
      "outputs": [],
      "source": [
        "0.8321"
      ]
    }
  ],
  "metadata": {
    "kernelspec": {
      "display_name": ".venv",
      "language": "python",
      "name": "python3"
    },
    "language_info": {
      "codemirror_mode": {
        "name": "ipython",
        "version": 3
      },
      "file_extension": ".py",
      "mimetype": "text/x-python",
      "name": "python",
      "nbconvert_exporter": "python",
      "pygments_lexer": "ipython3",
      "version": "3.9.0"
    }
  },
  "nbformat": 4,
  "nbformat_minor": 2
}
