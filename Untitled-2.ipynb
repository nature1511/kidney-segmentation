{
  "cells": [
    {
      "cell_type": "code",
      "execution_count": 11,
      "metadata": {},
      "outputs": [],
      "source": [
        "import cv2\n",
        "import torch\n",
        "from torch.utils.data import Dataset, DataLoader\n",
        "from tqdm import tqdm\n",
        "import numpy as np\n",
        "from collections import defaultdict\n",
        "from pathlib import Path\n",
        "from tqdm import tqdm\n",
        "import time\n",
        "import torch.nn as nn\n",
        "import matplotlib.pyplot as plt\n",
        "from segmentation.scr.utils.utils import set_seed\n",
        "import albumentations as A\n",
        "import matplotlib.pyplot as plt\n",
        "from albumentations.pytorch.transforms import ToTensorV2\n",
        "import segmentation_models_pytorch as smp\n",
        "from segmentation.scr.utils import losses, transforms\n",
        "\n",
        "\n",
        "from segmentation.scr.utils import losses, transforms\n",
        "from segmentation.scr.utils.utils import set_seed\n",
        "from segmentation.scr.utils.metrics import dice_coef\n",
        "from segmentation.scr.utils.utils import save_model\n",
        "from segmentation.config import CFG"
      ]
    },
    {
      "cell_type": "code",
      "execution_count": 12,
      "metadata": {},
      "outputs": [],
      "source": [
        "\n",
        "\n",
        "class CustomModel(nn.Module):\n",
        "    def __init__(self, CFG, weight=None):\n",
        "        super().__init__()\n",
        "        self.model = Unet(\n",
        "            encoder_name='mobilenet_v2', \n",
        "            encoder_weights=weight,\n",
        "            in_channels=5,\n",
        "            classes=1,\n",
        "            activation=None,\n",
        "        )\n",
        "\n",
        "    def forward(self, image):\n",
        "        output = self.model(image)\n",
        "        # output = output.squeeze(-1)\n",
        "        return output[:,0]#.sigmoid()"
      ]
    },
    {
      "cell_type": "code",
      "execution_count": 13,
      "metadata": {},
      "outputs": [],
      "source": [
        "smp_unet = CustomModel(CFG)"
      ]
    },
    {
      "cell_type": "code",
      "execution_count": 14,
      "metadata": {},
      "outputs": [
        {
          "data": {
            "text/plain": [
              "<All keys matched successfully>"
            ]
          },
          "execution_count": 14,
          "metadata": {},
          "output_type": "execute_result"
        }
      ],
      "source": [
        "path_to_model = 'C:\\\\Users\\\\123\\\\Desktop\\\\resnet baseline\\\\state_mobnet_base_my_pc.pth'\n",
        "if not torch.cuda.is_available() or CFG.device == \"cpu\":\n",
        "    ckpt = torch.load(path_to_model, map_location=torch.device(\"cpu\"))\n",
        "elif CFG.device == \"cuda\" and torch.cuda.is_available():\n",
        "    ckpt = torch.load(path_to_model)\n",
        "\n",
        "ckpt = ckpt[\"model\"]\n",
        "smp_unet = smp_unet.cuda()\n",
        "smp_unet.load_state_dict(ckpt)"
      ]
    },
    {
      "cell_type": "code",
      "execution_count": null,
      "metadata": {},
      "outputs": [],
      "source": []
    },
    {
      "cell_type": "code",
      "execution_count": null,
      "metadata": {},
      "outputs": [],
      "source": []
    },
    {
      "cell_type": "code",
      "execution_count": 41,
      "metadata": {},
      "outputs": [
        {
          "data": {
            "text/plain": [
              "odict_keys(['model.encoder.features.0.0.weight', 'model.encoder.features.0.1.weight', 'model.encoder.features.0.1.bias', 'model.encoder.features.0.1.running_mean', 'model.encoder.features.0.1.running_var', 'model.encoder.features.0.1.num_batches_tracked', 'model.encoder.features.1.conv.0.0.weight', 'model.encoder.features.1.conv.0.1.weight', 'model.encoder.features.1.conv.0.1.bias', 'model.encoder.features.1.conv.0.1.running_mean', 'model.encoder.features.1.conv.0.1.running_var', 'model.encoder.features.1.conv.0.1.num_batches_tracked', 'model.encoder.features.1.conv.1.weight', 'model.encoder.features.1.conv.2.weight', 'model.encoder.features.1.conv.2.bias', 'model.encoder.features.1.conv.2.running_mean', 'model.encoder.features.1.conv.2.running_var', 'model.encoder.features.1.conv.2.num_batches_tracked', 'model.encoder.features.2.conv.0.0.weight', 'model.encoder.features.2.conv.0.1.weight', 'model.encoder.features.2.conv.0.1.bias', 'model.encoder.features.2.conv.0.1.running_mean', 'model.encoder.features.2.conv.0.1.running_var', 'model.encoder.features.2.conv.0.1.num_batches_tracked', 'model.encoder.features.2.conv.1.0.weight', 'model.encoder.features.2.conv.1.1.weight', 'model.encoder.features.2.conv.1.1.bias', 'model.encoder.features.2.conv.1.1.running_mean', 'model.encoder.features.2.conv.1.1.running_var', 'model.encoder.features.2.conv.1.1.num_batches_tracked', 'model.encoder.features.2.conv.2.weight', 'model.encoder.features.2.conv.3.weight', 'model.encoder.features.2.conv.3.bias', 'model.encoder.features.2.conv.3.running_mean', 'model.encoder.features.2.conv.3.running_var', 'model.encoder.features.2.conv.3.num_batches_tracked', 'model.encoder.features.3.conv.0.0.weight', 'model.encoder.features.3.conv.0.1.weight', 'model.encoder.features.3.conv.0.1.bias', 'model.encoder.features.3.conv.0.1.running_mean', 'model.encoder.features.3.conv.0.1.running_var', 'model.encoder.features.3.conv.0.1.num_batches_tracked', 'model.encoder.features.3.conv.1.0.weight', 'model.encoder.features.3.conv.1.1.weight', 'model.encoder.features.3.conv.1.1.bias', 'model.encoder.features.3.conv.1.1.running_mean', 'model.encoder.features.3.conv.1.1.running_var', 'model.encoder.features.3.conv.1.1.num_batches_tracked', 'model.encoder.features.3.conv.2.weight', 'model.encoder.features.3.conv.3.weight', 'model.encoder.features.3.conv.3.bias', 'model.encoder.features.3.conv.3.running_mean', 'model.encoder.features.3.conv.3.running_var', 'model.encoder.features.3.conv.3.num_batches_tracked', 'model.encoder.features.4.conv.0.0.weight', 'model.encoder.features.4.conv.0.1.weight', 'model.encoder.features.4.conv.0.1.bias', 'model.encoder.features.4.conv.0.1.running_mean', 'model.encoder.features.4.conv.0.1.running_var', 'model.encoder.features.4.conv.0.1.num_batches_tracked', 'model.encoder.features.4.conv.1.0.weight', 'model.encoder.features.4.conv.1.1.weight', 'model.encoder.features.4.conv.1.1.bias', 'model.encoder.features.4.conv.1.1.running_mean', 'model.encoder.features.4.conv.1.1.running_var', 'model.encoder.features.4.conv.1.1.num_batches_tracked', 'model.encoder.features.4.conv.2.weight', 'model.encoder.features.4.conv.3.weight', 'model.encoder.features.4.conv.3.bias', 'model.encoder.features.4.conv.3.running_mean', 'model.encoder.features.4.conv.3.running_var', 'model.encoder.features.4.conv.3.num_batches_tracked', 'model.encoder.features.5.conv.0.0.weight', 'model.encoder.features.5.conv.0.1.weight', 'model.encoder.features.5.conv.0.1.bias', 'model.encoder.features.5.conv.0.1.running_mean', 'model.encoder.features.5.conv.0.1.running_var', 'model.encoder.features.5.conv.0.1.num_batches_tracked', 'model.encoder.features.5.conv.1.0.weight', 'model.encoder.features.5.conv.1.1.weight', 'model.encoder.features.5.conv.1.1.bias', 'model.encoder.features.5.conv.1.1.running_mean', 'model.encoder.features.5.conv.1.1.running_var', 'model.encoder.features.5.conv.1.1.num_batches_tracked', 'model.encoder.features.5.conv.2.weight', 'model.encoder.features.5.conv.3.weight', 'model.encoder.features.5.conv.3.bias', 'model.encoder.features.5.conv.3.running_mean', 'model.encoder.features.5.conv.3.running_var', 'model.encoder.features.5.conv.3.num_batches_tracked', 'model.encoder.features.6.conv.0.0.weight', 'model.encoder.features.6.conv.0.1.weight', 'model.encoder.features.6.conv.0.1.bias', 'model.encoder.features.6.conv.0.1.running_mean', 'model.encoder.features.6.conv.0.1.running_var', 'model.encoder.features.6.conv.0.1.num_batches_tracked', 'model.encoder.features.6.conv.1.0.weight', 'model.encoder.features.6.conv.1.1.weight', 'model.encoder.features.6.conv.1.1.bias', 'model.encoder.features.6.conv.1.1.running_mean', 'model.encoder.features.6.conv.1.1.running_var', 'model.encoder.features.6.conv.1.1.num_batches_tracked', 'model.encoder.features.6.conv.2.weight', 'model.encoder.features.6.conv.3.weight', 'model.encoder.features.6.conv.3.bias', 'model.encoder.features.6.conv.3.running_mean', 'model.encoder.features.6.conv.3.running_var', 'model.encoder.features.6.conv.3.num_batches_tracked', 'model.encoder.features.7.conv.0.0.weight', 'model.encoder.features.7.conv.0.1.weight', 'model.encoder.features.7.conv.0.1.bias', 'model.encoder.features.7.conv.0.1.running_mean', 'model.encoder.features.7.conv.0.1.running_var', 'model.encoder.features.7.conv.0.1.num_batches_tracked', 'model.encoder.features.7.conv.1.0.weight', 'model.encoder.features.7.conv.1.1.weight', 'model.encoder.features.7.conv.1.1.bias', 'model.encoder.features.7.conv.1.1.running_mean', 'model.encoder.features.7.conv.1.1.running_var', 'model.encoder.features.7.conv.1.1.num_batches_tracked', 'model.encoder.features.7.conv.2.weight', 'model.encoder.features.7.conv.3.weight', 'model.encoder.features.7.conv.3.bias', 'model.encoder.features.7.conv.3.running_mean', 'model.encoder.features.7.conv.3.running_var', 'model.encoder.features.7.conv.3.num_batches_tracked', 'model.encoder.features.8.conv.0.0.weight', 'model.encoder.features.8.conv.0.1.weight', 'model.encoder.features.8.conv.0.1.bias', 'model.encoder.features.8.conv.0.1.running_mean', 'model.encoder.features.8.conv.0.1.running_var', 'model.encoder.features.8.conv.0.1.num_batches_tracked', 'model.encoder.features.8.conv.1.0.weight', 'model.encoder.features.8.conv.1.1.weight', 'model.encoder.features.8.conv.1.1.bias', 'model.encoder.features.8.conv.1.1.running_mean', 'model.encoder.features.8.conv.1.1.running_var', 'model.encoder.features.8.conv.1.1.num_batches_tracked', 'model.encoder.features.8.conv.2.weight', 'model.encoder.features.8.conv.3.weight', 'model.encoder.features.8.conv.3.bias', 'model.encoder.features.8.conv.3.running_mean', 'model.encoder.features.8.conv.3.running_var', 'model.encoder.features.8.conv.3.num_batches_tracked', 'model.encoder.features.9.conv.0.0.weight', 'model.encoder.features.9.conv.0.1.weight', 'model.encoder.features.9.conv.0.1.bias', 'model.encoder.features.9.conv.0.1.running_mean', 'model.encoder.features.9.conv.0.1.running_var', 'model.encoder.features.9.conv.0.1.num_batches_tracked', 'model.encoder.features.9.conv.1.0.weight', 'model.encoder.features.9.conv.1.1.weight', 'model.encoder.features.9.conv.1.1.bias', 'model.encoder.features.9.conv.1.1.running_mean', 'model.encoder.features.9.conv.1.1.running_var', 'model.encoder.features.9.conv.1.1.num_batches_tracked', 'model.encoder.features.9.conv.2.weight', 'model.encoder.features.9.conv.3.weight', 'model.encoder.features.9.conv.3.bias', 'model.encoder.features.9.conv.3.running_mean', 'model.encoder.features.9.conv.3.running_var', 'model.encoder.features.9.conv.3.num_batches_tracked', 'model.encoder.features.10.conv.0.0.weight', 'model.encoder.features.10.conv.0.1.weight', 'model.encoder.features.10.conv.0.1.bias', 'model.encoder.features.10.conv.0.1.running_mean', 'model.encoder.features.10.conv.0.1.running_var', 'model.encoder.features.10.conv.0.1.num_batches_tracked', 'model.encoder.features.10.conv.1.0.weight', 'model.encoder.features.10.conv.1.1.weight', 'model.encoder.features.10.conv.1.1.bias', 'model.encoder.features.10.conv.1.1.running_mean', 'model.encoder.features.10.conv.1.1.running_var', 'model.encoder.features.10.conv.1.1.num_batches_tracked', 'model.encoder.features.10.conv.2.weight', 'model.encoder.features.10.conv.3.weight', 'model.encoder.features.10.conv.3.bias', 'model.encoder.features.10.conv.3.running_mean', 'model.encoder.features.10.conv.3.running_var', 'model.encoder.features.10.conv.3.num_batches_tracked', 'model.encoder.features.11.conv.0.0.weight', 'model.encoder.features.11.conv.0.1.weight', 'model.encoder.features.11.conv.0.1.bias', 'model.encoder.features.11.conv.0.1.running_mean', 'model.encoder.features.11.conv.0.1.running_var', 'model.encoder.features.11.conv.0.1.num_batches_tracked', 'model.encoder.features.11.conv.1.0.weight', 'model.encoder.features.11.conv.1.1.weight', 'model.encoder.features.11.conv.1.1.bias', 'model.encoder.features.11.conv.1.1.running_mean', 'model.encoder.features.11.conv.1.1.running_var', 'model.encoder.features.11.conv.1.1.num_batches_tracked', 'model.encoder.features.11.conv.2.weight', 'model.encoder.features.11.conv.3.weight', 'model.encoder.features.11.conv.3.bias', 'model.encoder.features.11.conv.3.running_mean', 'model.encoder.features.11.conv.3.running_var', 'model.encoder.features.11.conv.3.num_batches_tracked', 'model.encoder.features.12.conv.0.0.weight', 'model.encoder.features.12.conv.0.1.weight', 'model.encoder.features.12.conv.0.1.bias', 'model.encoder.features.12.conv.0.1.running_mean', 'model.encoder.features.12.conv.0.1.running_var', 'model.encoder.features.12.conv.0.1.num_batches_tracked', 'model.encoder.features.12.conv.1.0.weight', 'model.encoder.features.12.conv.1.1.weight', 'model.encoder.features.12.conv.1.1.bias', 'model.encoder.features.12.conv.1.1.running_mean', 'model.encoder.features.12.conv.1.1.running_var', 'model.encoder.features.12.conv.1.1.num_batches_tracked', 'model.encoder.features.12.conv.2.weight', 'model.encoder.features.12.conv.3.weight', 'model.encoder.features.12.conv.3.bias', 'model.encoder.features.12.conv.3.running_mean', 'model.encoder.features.12.conv.3.running_var', 'model.encoder.features.12.conv.3.num_batches_tracked', 'model.encoder.features.13.conv.0.0.weight', 'model.encoder.features.13.conv.0.1.weight', 'model.encoder.features.13.conv.0.1.bias', 'model.encoder.features.13.conv.0.1.running_mean', 'model.encoder.features.13.conv.0.1.running_var', 'model.encoder.features.13.conv.0.1.num_batches_tracked', 'model.encoder.features.13.conv.1.0.weight', 'model.encoder.features.13.conv.1.1.weight', 'model.encoder.features.13.conv.1.1.bias', 'model.encoder.features.13.conv.1.1.running_mean', 'model.encoder.features.13.conv.1.1.running_var', 'model.encoder.features.13.conv.1.1.num_batches_tracked', 'model.encoder.features.13.conv.2.weight', 'model.encoder.features.13.conv.3.weight', 'model.encoder.features.13.conv.3.bias', 'model.encoder.features.13.conv.3.running_mean', 'model.encoder.features.13.conv.3.running_var', 'model.encoder.features.13.conv.3.num_batches_tracked', 'model.encoder.features.14.conv.0.0.weight', 'model.encoder.features.14.conv.0.1.weight', 'model.encoder.features.14.conv.0.1.bias', 'model.encoder.features.14.conv.0.1.running_mean', 'model.encoder.features.14.conv.0.1.running_var', 'model.encoder.features.14.conv.0.1.num_batches_tracked', 'model.encoder.features.14.conv.1.0.weight', 'model.encoder.features.14.conv.1.1.weight', 'model.encoder.features.14.conv.1.1.bias', 'model.encoder.features.14.conv.1.1.running_mean', 'model.encoder.features.14.conv.1.1.running_var', 'model.encoder.features.14.conv.1.1.num_batches_tracked', 'model.encoder.features.14.conv.2.weight', 'model.encoder.features.14.conv.3.weight', 'model.encoder.features.14.conv.3.bias', 'model.encoder.features.14.conv.3.running_mean', 'model.encoder.features.14.conv.3.running_var', 'model.encoder.features.14.conv.3.num_batches_tracked', 'model.encoder.features.15.conv.0.0.weight', 'model.encoder.features.15.conv.0.1.weight', 'model.encoder.features.15.conv.0.1.bias', 'model.encoder.features.15.conv.0.1.running_mean', 'model.encoder.features.15.conv.0.1.running_var', 'model.encoder.features.15.conv.0.1.num_batches_tracked', 'model.encoder.features.15.conv.1.0.weight', 'model.encoder.features.15.conv.1.1.weight', 'model.encoder.features.15.conv.1.1.bias', 'model.encoder.features.15.conv.1.1.running_mean', 'model.encoder.features.15.conv.1.1.running_var', 'model.encoder.features.15.conv.1.1.num_batches_tracked', 'model.encoder.features.15.conv.2.weight', 'model.encoder.features.15.conv.3.weight', 'model.encoder.features.15.conv.3.bias', 'model.encoder.features.15.conv.3.running_mean', 'model.encoder.features.15.conv.3.running_var', 'model.encoder.features.15.conv.3.num_batches_tracked', 'model.encoder.features.16.conv.0.0.weight', 'model.encoder.features.16.conv.0.1.weight', 'model.encoder.features.16.conv.0.1.bias', 'model.encoder.features.16.conv.0.1.running_mean', 'model.encoder.features.16.conv.0.1.running_var', 'model.encoder.features.16.conv.0.1.num_batches_tracked', 'model.encoder.features.16.conv.1.0.weight', 'model.encoder.features.16.conv.1.1.weight', 'model.encoder.features.16.conv.1.1.bias', 'model.encoder.features.16.conv.1.1.running_mean', 'model.encoder.features.16.conv.1.1.running_var', 'model.encoder.features.16.conv.1.1.num_batches_tracked', 'model.encoder.features.16.conv.2.weight', 'model.encoder.features.16.conv.3.weight', 'model.encoder.features.16.conv.3.bias', 'model.encoder.features.16.conv.3.running_mean', 'model.encoder.features.16.conv.3.running_var', 'model.encoder.features.16.conv.3.num_batches_tracked', 'model.encoder.features.17.conv.0.0.weight', 'model.encoder.features.17.conv.0.1.weight', 'model.encoder.features.17.conv.0.1.bias', 'model.encoder.features.17.conv.0.1.running_mean', 'model.encoder.features.17.conv.0.1.running_var', 'model.encoder.features.17.conv.0.1.num_batches_tracked', 'model.encoder.features.17.conv.1.0.weight', 'model.encoder.features.17.conv.1.1.weight', 'model.encoder.features.17.conv.1.1.bias', 'model.encoder.features.17.conv.1.1.running_mean', 'model.encoder.features.17.conv.1.1.running_var', 'model.encoder.features.17.conv.1.1.num_batches_tracked', 'model.encoder.features.17.conv.2.weight', 'model.encoder.features.17.conv.3.weight', 'model.encoder.features.17.conv.3.bias', 'model.encoder.features.17.conv.3.running_mean', 'model.encoder.features.17.conv.3.running_var', 'model.encoder.features.17.conv.3.num_batches_tracked', 'model.encoder.features.18.0.weight', 'model.encoder.features.18.1.weight', 'model.encoder.features.18.1.bias', 'model.encoder.features.18.1.running_mean', 'model.encoder.features.18.1.running_var', 'model.encoder.features.18.1.num_batches_tracked', 'model.decoder.blocks.0.conv1.0.weight', 'model.decoder.blocks.0.conv1.1.weight', 'model.decoder.blocks.0.conv1.1.bias', 'model.decoder.blocks.0.conv1.1.running_mean', 'model.decoder.blocks.0.conv1.1.running_var', 'model.decoder.blocks.0.conv1.1.num_batches_tracked', 'model.decoder.blocks.0.conv2.0.weight', 'model.decoder.blocks.0.conv2.1.weight', 'model.decoder.blocks.0.conv2.1.bias', 'model.decoder.blocks.0.conv2.1.running_mean', 'model.decoder.blocks.0.conv2.1.running_var', 'model.decoder.blocks.0.conv2.1.num_batches_tracked', 'model.decoder.blocks.1.conv1.0.weight', 'model.decoder.blocks.1.conv1.1.weight', 'model.decoder.blocks.1.conv1.1.bias', 'model.decoder.blocks.1.conv1.1.running_mean', 'model.decoder.blocks.1.conv1.1.running_var', 'model.decoder.blocks.1.conv1.1.num_batches_tracked', 'model.decoder.blocks.1.conv2.0.weight', 'model.decoder.blocks.1.conv2.1.weight', 'model.decoder.blocks.1.conv2.1.bias', 'model.decoder.blocks.1.conv2.1.running_mean', 'model.decoder.blocks.1.conv2.1.running_var', 'model.decoder.blocks.1.conv2.1.num_batches_tracked', 'model.decoder.blocks.2.conv1.0.weight', 'model.decoder.blocks.2.conv1.1.weight', 'model.decoder.blocks.2.conv1.1.bias', 'model.decoder.blocks.2.conv1.1.running_mean', 'model.decoder.blocks.2.conv1.1.running_var', 'model.decoder.blocks.2.conv1.1.num_batches_tracked', 'model.decoder.blocks.2.conv2.0.weight', 'model.decoder.blocks.2.conv2.1.weight', 'model.decoder.blocks.2.conv2.1.bias', 'model.decoder.blocks.2.conv2.1.running_mean', 'model.decoder.blocks.2.conv2.1.running_var', 'model.decoder.blocks.2.conv2.1.num_batches_tracked', 'model.decoder.blocks.3.conv1.0.weight', 'model.decoder.blocks.3.conv1.1.weight', 'model.decoder.blocks.3.conv1.1.bias', 'model.decoder.blocks.3.conv1.1.running_mean', 'model.decoder.blocks.3.conv1.1.running_var', 'model.decoder.blocks.3.conv1.1.num_batches_tracked', 'model.decoder.blocks.3.conv2.0.weight', 'model.decoder.blocks.3.conv2.1.weight', 'model.decoder.blocks.3.conv2.1.bias', 'model.decoder.blocks.3.conv2.1.running_mean', 'model.decoder.blocks.3.conv2.1.running_var', 'model.decoder.blocks.3.conv2.1.num_batches_tracked', 'model.decoder.blocks.4.conv1.0.weight', 'model.decoder.blocks.4.conv1.1.weight', 'model.decoder.blocks.4.conv1.1.bias', 'model.decoder.blocks.4.conv1.1.running_mean', 'model.decoder.blocks.4.conv1.1.running_var', 'model.decoder.blocks.4.conv1.1.num_batches_tracked', 'model.decoder.blocks.4.conv2.0.weight', 'model.decoder.blocks.4.conv2.1.weight', 'model.decoder.blocks.4.conv2.1.bias', 'model.decoder.blocks.4.conv2.1.running_mean', 'model.decoder.blocks.4.conv2.1.running_var', 'model.decoder.blocks.4.conv2.1.num_batches_tracked', 'model.segmentation_head.0.weight', 'model.segmentation_head.0.bias'])"
            ]
          },
          "execution_count": 41,
          "metadata": {},
          "output_type": "execute_result"
        }
      ],
      "source": [
        "ckpt.keys()"
      ]
    },
    {
      "cell_type": "code",
      "execution_count": 34,
      "metadata": {},
      "outputs": [
        {
          "data": {
            "text/plain": [
              "odict_keys(['model.encoder.features.0.0.weight', 'model.encoder.features.0.1.weight', 'model.encoder.features.0.1.bias', 'model.encoder.features.0.1.running_mean', 'model.encoder.features.0.1.running_var', 'model.encoder.features.0.1.num_batches_tracked', 'model.encoder.features.1.conv.0.0.weight', 'model.encoder.features.1.conv.0.1.weight', 'model.encoder.features.1.conv.0.1.bias', 'model.encoder.features.1.conv.0.1.running_mean', 'model.encoder.features.1.conv.0.1.running_var', 'model.encoder.features.1.conv.0.1.num_batches_tracked', 'model.encoder.features.1.conv.1.weight', 'model.encoder.features.1.conv.2.weight', 'model.encoder.features.1.conv.2.bias', 'model.encoder.features.1.conv.2.running_mean', 'model.encoder.features.1.conv.2.running_var', 'model.encoder.features.1.conv.2.num_batches_tracked', 'model.encoder.features.2.conv.0.0.weight', 'model.encoder.features.2.conv.0.1.weight', 'model.encoder.features.2.conv.0.1.bias', 'model.encoder.features.2.conv.0.1.running_mean', 'model.encoder.features.2.conv.0.1.running_var', 'model.encoder.features.2.conv.0.1.num_batches_tracked', 'model.encoder.features.2.conv.1.0.weight', 'model.encoder.features.2.conv.1.1.weight', 'model.encoder.features.2.conv.1.1.bias', 'model.encoder.features.2.conv.1.1.running_mean', 'model.encoder.features.2.conv.1.1.running_var', 'model.encoder.features.2.conv.1.1.num_batches_tracked', 'model.encoder.features.2.conv.2.weight', 'model.encoder.features.2.conv.3.weight', 'model.encoder.features.2.conv.3.bias', 'model.encoder.features.2.conv.3.running_mean', 'model.encoder.features.2.conv.3.running_var', 'model.encoder.features.2.conv.3.num_batches_tracked', 'model.encoder.features.3.conv.0.0.weight', 'model.encoder.features.3.conv.0.1.weight', 'model.encoder.features.3.conv.0.1.bias', 'model.encoder.features.3.conv.0.1.running_mean', 'model.encoder.features.3.conv.0.1.running_var', 'model.encoder.features.3.conv.0.1.num_batches_tracked', 'model.encoder.features.3.conv.1.0.weight', 'model.encoder.features.3.conv.1.1.weight', 'model.encoder.features.3.conv.1.1.bias', 'model.encoder.features.3.conv.1.1.running_mean', 'model.encoder.features.3.conv.1.1.running_var', 'model.encoder.features.3.conv.1.1.num_batches_tracked', 'model.encoder.features.3.conv.2.weight', 'model.encoder.features.3.conv.3.weight', 'model.encoder.features.3.conv.3.bias', 'model.encoder.features.3.conv.3.running_mean', 'model.encoder.features.3.conv.3.running_var', 'model.encoder.features.3.conv.3.num_batches_tracked', 'model.encoder.features.4.conv.0.0.weight', 'model.encoder.features.4.conv.0.1.weight', 'model.encoder.features.4.conv.0.1.bias', 'model.encoder.features.4.conv.0.1.running_mean', 'model.encoder.features.4.conv.0.1.running_var', 'model.encoder.features.4.conv.0.1.num_batches_tracked', 'model.encoder.features.4.conv.1.0.weight', 'model.encoder.features.4.conv.1.1.weight', 'model.encoder.features.4.conv.1.1.bias', 'model.encoder.features.4.conv.1.1.running_mean', 'model.encoder.features.4.conv.1.1.running_var', 'model.encoder.features.4.conv.1.1.num_batches_tracked', 'model.encoder.features.4.conv.2.weight', 'model.encoder.features.4.conv.3.weight', 'model.encoder.features.4.conv.3.bias', 'model.encoder.features.4.conv.3.running_mean', 'model.encoder.features.4.conv.3.running_var', 'model.encoder.features.4.conv.3.num_batches_tracked', 'model.encoder.features.5.conv.0.0.weight', 'model.encoder.features.5.conv.0.1.weight', 'model.encoder.features.5.conv.0.1.bias', 'model.encoder.features.5.conv.0.1.running_mean', 'model.encoder.features.5.conv.0.1.running_var', 'model.encoder.features.5.conv.0.1.num_batches_tracked', 'model.encoder.features.5.conv.1.0.weight', 'model.encoder.features.5.conv.1.1.weight', 'model.encoder.features.5.conv.1.1.bias', 'model.encoder.features.5.conv.1.1.running_mean', 'model.encoder.features.5.conv.1.1.running_var', 'model.encoder.features.5.conv.1.1.num_batches_tracked', 'model.encoder.features.5.conv.2.weight', 'model.encoder.features.5.conv.3.weight', 'model.encoder.features.5.conv.3.bias', 'model.encoder.features.5.conv.3.running_mean', 'model.encoder.features.5.conv.3.running_var', 'model.encoder.features.5.conv.3.num_batches_tracked', 'model.encoder.features.6.conv.0.0.weight', 'model.encoder.features.6.conv.0.1.weight', 'model.encoder.features.6.conv.0.1.bias', 'model.encoder.features.6.conv.0.1.running_mean', 'model.encoder.features.6.conv.0.1.running_var', 'model.encoder.features.6.conv.0.1.num_batches_tracked', 'model.encoder.features.6.conv.1.0.weight', 'model.encoder.features.6.conv.1.1.weight', 'model.encoder.features.6.conv.1.1.bias', 'model.encoder.features.6.conv.1.1.running_mean', 'model.encoder.features.6.conv.1.1.running_var', 'model.encoder.features.6.conv.1.1.num_batches_tracked', 'model.encoder.features.6.conv.2.weight', 'model.encoder.features.6.conv.3.weight', 'model.encoder.features.6.conv.3.bias', 'model.encoder.features.6.conv.3.running_mean', 'model.encoder.features.6.conv.3.running_var', 'model.encoder.features.6.conv.3.num_batches_tracked', 'model.encoder.features.7.conv.0.0.weight', 'model.encoder.features.7.conv.0.1.weight', 'model.encoder.features.7.conv.0.1.bias', 'model.encoder.features.7.conv.0.1.running_mean', 'model.encoder.features.7.conv.0.1.running_var', 'model.encoder.features.7.conv.0.1.num_batches_tracked', 'model.encoder.features.7.conv.1.0.weight', 'model.encoder.features.7.conv.1.1.weight', 'model.encoder.features.7.conv.1.1.bias', 'model.encoder.features.7.conv.1.1.running_mean', 'model.encoder.features.7.conv.1.1.running_var', 'model.encoder.features.7.conv.1.1.num_batches_tracked', 'model.encoder.features.7.conv.2.weight', 'model.encoder.features.7.conv.3.weight', 'model.encoder.features.7.conv.3.bias', 'model.encoder.features.7.conv.3.running_mean', 'model.encoder.features.7.conv.3.running_var', 'model.encoder.features.7.conv.3.num_batches_tracked', 'model.encoder.features.8.conv.0.0.weight', 'model.encoder.features.8.conv.0.1.weight', 'model.encoder.features.8.conv.0.1.bias', 'model.encoder.features.8.conv.0.1.running_mean', 'model.encoder.features.8.conv.0.1.running_var', 'model.encoder.features.8.conv.0.1.num_batches_tracked', 'model.encoder.features.8.conv.1.0.weight', 'model.encoder.features.8.conv.1.1.weight', 'model.encoder.features.8.conv.1.1.bias', 'model.encoder.features.8.conv.1.1.running_mean', 'model.encoder.features.8.conv.1.1.running_var', 'model.encoder.features.8.conv.1.1.num_batches_tracked', 'model.encoder.features.8.conv.2.weight', 'model.encoder.features.8.conv.3.weight', 'model.encoder.features.8.conv.3.bias', 'model.encoder.features.8.conv.3.running_mean', 'model.encoder.features.8.conv.3.running_var', 'model.encoder.features.8.conv.3.num_batches_tracked', 'model.encoder.features.9.conv.0.0.weight', 'model.encoder.features.9.conv.0.1.weight', 'model.encoder.features.9.conv.0.1.bias', 'model.encoder.features.9.conv.0.1.running_mean', 'model.encoder.features.9.conv.0.1.running_var', 'model.encoder.features.9.conv.0.1.num_batches_tracked', 'model.encoder.features.9.conv.1.0.weight', 'model.encoder.features.9.conv.1.1.weight', 'model.encoder.features.9.conv.1.1.bias', 'model.encoder.features.9.conv.1.1.running_mean', 'model.encoder.features.9.conv.1.1.running_var', 'model.encoder.features.9.conv.1.1.num_batches_tracked', 'model.encoder.features.9.conv.2.weight', 'model.encoder.features.9.conv.3.weight', 'model.encoder.features.9.conv.3.bias', 'model.encoder.features.9.conv.3.running_mean', 'model.encoder.features.9.conv.3.running_var', 'model.encoder.features.9.conv.3.num_batches_tracked', 'model.encoder.features.10.conv.0.0.weight', 'model.encoder.features.10.conv.0.1.weight', 'model.encoder.features.10.conv.0.1.bias', 'model.encoder.features.10.conv.0.1.running_mean', 'model.encoder.features.10.conv.0.1.running_var', 'model.encoder.features.10.conv.0.1.num_batches_tracked', 'model.encoder.features.10.conv.1.0.weight', 'model.encoder.features.10.conv.1.1.weight', 'model.encoder.features.10.conv.1.1.bias', 'model.encoder.features.10.conv.1.1.running_mean', 'model.encoder.features.10.conv.1.1.running_var', 'model.encoder.features.10.conv.1.1.num_batches_tracked', 'model.encoder.features.10.conv.2.weight', 'model.encoder.features.10.conv.3.weight', 'model.encoder.features.10.conv.3.bias', 'model.encoder.features.10.conv.3.running_mean', 'model.encoder.features.10.conv.3.running_var', 'model.encoder.features.10.conv.3.num_batches_tracked', 'model.encoder.features.11.conv.0.0.weight', 'model.encoder.features.11.conv.0.1.weight', 'model.encoder.features.11.conv.0.1.bias', 'model.encoder.features.11.conv.0.1.running_mean', 'model.encoder.features.11.conv.0.1.running_var', 'model.encoder.features.11.conv.0.1.num_batches_tracked', 'model.encoder.features.11.conv.1.0.weight', 'model.encoder.features.11.conv.1.1.weight', 'model.encoder.features.11.conv.1.1.bias', 'model.encoder.features.11.conv.1.1.running_mean', 'model.encoder.features.11.conv.1.1.running_var', 'model.encoder.features.11.conv.1.1.num_batches_tracked', 'model.encoder.features.11.conv.2.weight', 'model.encoder.features.11.conv.3.weight', 'model.encoder.features.11.conv.3.bias', 'model.encoder.features.11.conv.3.running_mean', 'model.encoder.features.11.conv.3.running_var', 'model.encoder.features.11.conv.3.num_batches_tracked', 'model.encoder.features.12.conv.0.0.weight', 'model.encoder.features.12.conv.0.1.weight', 'model.encoder.features.12.conv.0.1.bias', 'model.encoder.features.12.conv.0.1.running_mean', 'model.encoder.features.12.conv.0.1.running_var', 'model.encoder.features.12.conv.0.1.num_batches_tracked', 'model.encoder.features.12.conv.1.0.weight', 'model.encoder.features.12.conv.1.1.weight', 'model.encoder.features.12.conv.1.1.bias', 'model.encoder.features.12.conv.1.1.running_mean', 'model.encoder.features.12.conv.1.1.running_var', 'model.encoder.features.12.conv.1.1.num_batches_tracked', 'model.encoder.features.12.conv.2.weight', 'model.encoder.features.12.conv.3.weight', 'model.encoder.features.12.conv.3.bias', 'model.encoder.features.12.conv.3.running_mean', 'model.encoder.features.12.conv.3.running_var', 'model.encoder.features.12.conv.3.num_batches_tracked', 'model.encoder.features.13.conv.0.0.weight', 'model.encoder.features.13.conv.0.1.weight', 'model.encoder.features.13.conv.0.1.bias', 'model.encoder.features.13.conv.0.1.running_mean', 'model.encoder.features.13.conv.0.1.running_var', 'model.encoder.features.13.conv.0.1.num_batches_tracked', 'model.encoder.features.13.conv.1.0.weight', 'model.encoder.features.13.conv.1.1.weight', 'model.encoder.features.13.conv.1.1.bias', 'model.encoder.features.13.conv.1.1.running_mean', 'model.encoder.features.13.conv.1.1.running_var', 'model.encoder.features.13.conv.1.1.num_batches_tracked', 'model.encoder.features.13.conv.2.weight', 'model.encoder.features.13.conv.3.weight', 'model.encoder.features.13.conv.3.bias', 'model.encoder.features.13.conv.3.running_mean', 'model.encoder.features.13.conv.3.running_var', 'model.encoder.features.13.conv.3.num_batches_tracked', 'model.encoder.features.14.conv.0.0.weight', 'model.encoder.features.14.conv.0.1.weight', 'model.encoder.features.14.conv.0.1.bias', 'model.encoder.features.14.conv.0.1.running_mean', 'model.encoder.features.14.conv.0.1.running_var', 'model.encoder.features.14.conv.0.1.num_batches_tracked', 'model.encoder.features.14.conv.1.0.weight', 'model.encoder.features.14.conv.1.1.weight', 'model.encoder.features.14.conv.1.1.bias', 'model.encoder.features.14.conv.1.1.running_mean', 'model.encoder.features.14.conv.1.1.running_var', 'model.encoder.features.14.conv.1.1.num_batches_tracked', 'model.encoder.features.14.conv.2.weight', 'model.encoder.features.14.conv.3.weight', 'model.encoder.features.14.conv.3.bias', 'model.encoder.features.14.conv.3.running_mean', 'model.encoder.features.14.conv.3.running_var', 'model.encoder.features.14.conv.3.num_batches_tracked', 'model.encoder.features.15.conv.0.0.weight', 'model.encoder.features.15.conv.0.1.weight', 'model.encoder.features.15.conv.0.1.bias', 'model.encoder.features.15.conv.0.1.running_mean', 'model.encoder.features.15.conv.0.1.running_var', 'model.encoder.features.15.conv.0.1.num_batches_tracked', 'model.encoder.features.15.conv.1.0.weight', 'model.encoder.features.15.conv.1.1.weight', 'model.encoder.features.15.conv.1.1.bias', 'model.encoder.features.15.conv.1.1.running_mean', 'model.encoder.features.15.conv.1.1.running_var', 'model.encoder.features.15.conv.1.1.num_batches_tracked', 'model.encoder.features.15.conv.2.weight', 'model.encoder.features.15.conv.3.weight', 'model.encoder.features.15.conv.3.bias', 'model.encoder.features.15.conv.3.running_mean', 'model.encoder.features.15.conv.3.running_var', 'model.encoder.features.15.conv.3.num_batches_tracked', 'model.encoder.features.16.conv.0.0.weight', 'model.encoder.features.16.conv.0.1.weight', 'model.encoder.features.16.conv.0.1.bias', 'model.encoder.features.16.conv.0.1.running_mean', 'model.encoder.features.16.conv.0.1.running_var', 'model.encoder.features.16.conv.0.1.num_batches_tracked', 'model.encoder.features.16.conv.1.0.weight', 'model.encoder.features.16.conv.1.1.weight', 'model.encoder.features.16.conv.1.1.bias', 'model.encoder.features.16.conv.1.1.running_mean', 'model.encoder.features.16.conv.1.1.running_var', 'model.encoder.features.16.conv.1.1.num_batches_tracked', 'model.encoder.features.16.conv.2.weight', 'model.encoder.features.16.conv.3.weight', 'model.encoder.features.16.conv.3.bias', 'model.encoder.features.16.conv.3.running_mean', 'model.encoder.features.16.conv.3.running_var', 'model.encoder.features.16.conv.3.num_batches_tracked', 'model.encoder.features.17.conv.0.0.weight', 'model.encoder.features.17.conv.0.1.weight', 'model.encoder.features.17.conv.0.1.bias', 'model.encoder.features.17.conv.0.1.running_mean', 'model.encoder.features.17.conv.0.1.running_var', 'model.encoder.features.17.conv.0.1.num_batches_tracked', 'model.encoder.features.17.conv.1.0.weight', 'model.encoder.features.17.conv.1.1.weight', 'model.encoder.features.17.conv.1.1.bias', 'model.encoder.features.17.conv.1.1.running_mean', 'model.encoder.features.17.conv.1.1.running_var', 'model.encoder.features.17.conv.1.1.num_batches_tracked', 'model.encoder.features.17.conv.2.weight', 'model.encoder.features.17.conv.3.weight', 'model.encoder.features.17.conv.3.bias', 'model.encoder.features.17.conv.3.running_mean', 'model.encoder.features.17.conv.3.running_var', 'model.encoder.features.17.conv.3.num_batches_tracked', 'model.encoder.features.18.0.weight', 'model.encoder.features.18.1.weight', 'model.encoder.features.18.1.bias', 'model.encoder.features.18.1.running_mean', 'model.encoder.features.18.1.running_var', 'model.encoder.features.18.1.num_batches_tracked', 'model.decoder.blocks.0.conv1.0.weight', 'model.decoder.blocks.0.conv1.1.weight', 'model.decoder.blocks.0.conv1.1.bias', 'model.decoder.blocks.0.conv1.1.running_mean', 'model.decoder.blocks.0.conv1.1.running_var', 'model.decoder.blocks.0.conv1.1.num_batches_tracked', 'model.decoder.blocks.0.conv2.0.weight', 'model.decoder.blocks.0.conv2.1.weight', 'model.decoder.blocks.0.conv2.1.bias', 'model.decoder.blocks.0.conv2.1.running_mean', 'model.decoder.blocks.0.conv2.1.running_var', 'model.decoder.blocks.0.conv2.1.num_batches_tracked', 'model.decoder.blocks.1.conv1.0.weight', 'model.decoder.blocks.1.conv1.1.weight', 'model.decoder.blocks.1.conv1.1.bias', 'model.decoder.blocks.1.conv1.1.running_mean', 'model.decoder.blocks.1.conv1.1.running_var', 'model.decoder.blocks.1.conv1.1.num_batches_tracked', 'model.decoder.blocks.1.conv2.0.weight', 'model.decoder.blocks.1.conv2.1.weight', 'model.decoder.blocks.1.conv2.1.bias', 'model.decoder.blocks.1.conv2.1.running_mean', 'model.decoder.blocks.1.conv2.1.running_var', 'model.decoder.blocks.1.conv2.1.num_batches_tracked', 'model.decoder.blocks.2.conv1.0.weight', 'model.decoder.blocks.2.conv1.1.weight', 'model.decoder.blocks.2.conv1.1.bias', 'model.decoder.blocks.2.conv1.1.running_mean', 'model.decoder.blocks.2.conv1.1.running_var', 'model.decoder.blocks.2.conv1.1.num_batches_tracked', 'model.decoder.blocks.2.conv2.0.weight', 'model.decoder.blocks.2.conv2.1.weight', 'model.decoder.blocks.2.conv2.1.bias', 'model.decoder.blocks.2.conv2.1.running_mean', 'model.decoder.blocks.2.conv2.1.running_var', 'model.decoder.blocks.2.conv2.1.num_batches_tracked', 'model.decoder.blocks.3.conv1.0.weight', 'model.decoder.blocks.3.conv1.1.weight', 'model.decoder.blocks.3.conv1.1.bias', 'model.decoder.blocks.3.conv1.1.running_mean', 'model.decoder.blocks.3.conv1.1.running_var', 'model.decoder.blocks.3.conv1.1.num_batches_tracked', 'model.decoder.blocks.3.conv2.0.weight', 'model.decoder.blocks.3.conv2.1.weight', 'model.decoder.blocks.3.conv2.1.bias', 'model.decoder.blocks.3.conv2.1.running_mean', 'model.decoder.blocks.3.conv2.1.running_var', 'model.decoder.blocks.3.conv2.1.num_batches_tracked', 'model.decoder.blocks.4.conv1.0.weight', 'model.decoder.blocks.4.conv1.1.weight', 'model.decoder.blocks.4.conv1.1.bias', 'model.decoder.blocks.4.conv1.1.running_mean', 'model.decoder.blocks.4.conv1.1.running_var', 'model.decoder.blocks.4.conv1.1.num_batches_tracked', 'model.decoder.blocks.4.conv2.0.weight', 'model.decoder.blocks.4.conv2.1.weight', 'model.decoder.blocks.4.conv2.1.bias', 'model.decoder.blocks.4.conv2.1.running_mean', 'model.decoder.blocks.4.conv2.1.running_var', 'model.decoder.blocks.4.conv2.1.num_batches_tracked', 'model.segmentation_head.0.weight', 'model.segmentation_head.0.bias'])"
            ]
          },
          "execution_count": 34,
          "metadata": {},
          "output_type": "execute_result"
        }
      ],
      "source": [
        "ckpt.keys()"
      ]
    },
    {
      "cell_type": "code",
      "execution_count": null,
      "metadata": {},
      "outputs": [],
      "source": []
    },
    {
      "cell_type": "code",
      "execution_count": null,
      "metadata": {},
      "outputs": [],
      "source": [
        "model_1 = CustomModel(CFG)"
      ]
    },
    {
      "cell_type": "code",
      "execution_count": null,
      "metadata": {},
      "outputs": [],
      "source": []
    },
    {
      "cell_type": "code",
      "execution_count": null,
      "metadata": {},
      "outputs": [],
      "source": []
    }
  ],
  "metadata": {
    "kernelspec": {
      "display_name": ".venv",
      "language": "python",
      "name": "python3"
    },
    "language_info": {
      "codemirror_mode": {
        "name": "ipython",
        "version": 3
      },
      "file_extension": ".py",
      "mimetype": "text/x-python",
      "name": "python",
      "nbconvert_exporter": "python",
      "pygments_lexer": "ipython3",
      "version": "3.9.0"
    }
  },
  "nbformat": 4,
  "nbformat_minor": 2
}
