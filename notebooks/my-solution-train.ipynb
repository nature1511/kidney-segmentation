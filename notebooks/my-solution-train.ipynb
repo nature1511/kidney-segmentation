{
  "cells": [
    {
      "cell_type": "markdown",
      "metadata": {},
      "source": [
        "# Import"
      ]
    },
    {
      "cell_type": "code",
      "execution_count": 1,
      "metadata": {},
      "outputs": [],
      "source": [
        "import numpy as np"
      ]
    },
    {
      "cell_type": "code",
      "execution_count": null,
      "metadata": {},
      "outputs": [],
      "source": []
    },
    {
      "cell_type": "code",
      "execution_count": null,
      "metadata": {},
      "outputs": [],
      "source": []
    },
    {
      "cell_type": "code",
      "execution_count": 1,
      "metadata": {
        "_cell_guid": "b1076dfc-b9ad-4769-8c92-a6c4dae69d19",
        "_kg_hide-input": true,
        "_kg_hide-output": true,
        "_uuid": "8f2839f25d086af736a60e9eeb907d3b93b6e0e5",
        "execution": {
          "iopub.execute_input": "2024-01-25T10:00:37.283363Z",
          "iopub.status.busy": "2024-01-25T10:00:37.283119Z",
          "iopub.status.idle": "2024-01-25T10:00:47.063091Z",
          "shell.execute_reply": "2024-01-25T10:00:47.062056Z",
          "shell.execute_reply.started": "2024-01-25T10:00:37.283335Z"
        },
        "trusted": true
      },
      "outputs": [
        {
          "name": "stderr",
          "output_type": "stream",
          "text": [
            "/opt/conda/lib/python3.10/site-packages/scipy/__init__.py:146: UserWarning: A NumPy version >=1.16.5 and <1.23.0 is required for this version of SciPy (detected version 1.24.3\n",
            "  warnings.warn(f\"A NumPy version >={np_minversion} and <{np_maxversion}\"\n"
          ]
        }
      ],
      "source": [
        "import torch \n",
        "import torch.nn as nn  \n",
        "import numpy as np\n",
        "from tqdm import tqdm\n",
        "from torch.cuda.amp import autocast\n",
        "import cv2\n",
        "import os,sys\n",
        "from glob import glob\n",
        "import matplotlib.pyplot as plt\n",
        "import pandas as pd\n",
        "from torch.utils.data import Dataset, DataLoader\n",
        "from torch.nn.parallel import DataParallel\n",
        "from torch.cuda.amp import autocast\n",
        "from torch.cuda import amp\n",
        "from torch.optim import lr_scheduler\n",
        "import time\n",
        "import gc\n",
        "import copy\n",
        "from collections import defaultdict\n",
        "\n",
        "\n",
        "from dotenv import load_dotenv\n",
        "import matplotlib.pyplot as plt\n",
        "import albumentations as A\n",
        "from pathlib import Path\n",
        "from PIL import Image\n",
        "\n",
        "\n",
        "from albumentations.pytorch import ToTensorV2\n",
        "pd.options.mode.chained_assignment = None"
      ]
    },
    {
      "cell_type": "code",
      "execution_count": 2,
      "metadata": {
        "execution": {
          "iopub.execute_input": "2024-01-25T10:00:47.065532Z",
          "iopub.status.busy": "2024-01-25T10:00:47.065013Z",
          "iopub.status.idle": "2024-01-25T10:01:10.351044Z",
          "shell.execute_reply": "2024-01-25T10:01:10.350234Z",
          "shell.execute_reply.started": "2024-01-25T10:00:47.065481Z"
        },
        "trusted": true
      },
      "outputs": [
        {
          "name": "stdout",
          "output_type": "stream",
          "text": [
            "Looking in links: /kaggle/input/pip-download-for-segmentation-models-pytorch\n",
            "Processing /kaggle/input/pip-download-for-segmentation-models-pytorch/segmentation_models_pytorch-0.3.3-py3-none-any.whl\n",
            "Requirement already satisfied: torchvision>=0.5.0 in /opt/conda/lib/python3.10/site-packages (from segmentation-models-pytorch) (0.15.1)\n",
            "Processing /kaggle/input/pip-download-for-segmentation-models-pytorch/pretrainedmodels-0.7.4.tar.gz (from segmentation-models-pytorch)\n",
            "  Preparing metadata (setup.py) ... \u001b[?25ldone\n",
            "\u001b[?25hProcessing /kaggle/input/pip-download-for-segmentation-models-pytorch/efficientnet_pytorch-0.7.1.tar.gz (from segmentation-models-pytorch)\n",
            "  Preparing metadata (setup.py) ... \u001b[?25ldone\n",
            "\u001b[?25hProcessing /kaggle/input/pip-download-for-segmentation-models-pytorch/timm-0.9.2-py3-none-any.whl (from segmentation-models-pytorch)\n",
            "Requirement already satisfied: tqdm in /opt/conda/lib/python3.10/site-packages (from segmentation-models-pytorch) (4.66.1)\n",
            "Requirement already satisfied: pillow in /opt/conda/lib/python3.10/site-packages (from segmentation-models-pytorch) (10.1.0)\n",
            "Requirement already satisfied: torch in /opt/conda/lib/python3.10/site-packages (from efficientnet-pytorch==0.7.1->segmentation-models-pytorch) (2.0.0)\n",
            "Processing /kaggle/input/pip-download-for-segmentation-models-pytorch/munch-4.0.0-py2.py3-none-any.whl (from pretrainedmodels==0.7.4->segmentation-models-pytorch)\n",
            "Requirement already satisfied: pyyaml in /opt/conda/lib/python3.10/site-packages (from timm==0.9.2->segmentation-models-pytorch) (6.0.1)\n",
            "Requirement already satisfied: huggingface-hub in /opt/conda/lib/python3.10/site-packages (from timm==0.9.2->segmentation-models-pytorch) (0.17.3)\n",
            "Requirement already satisfied: safetensors in /opt/conda/lib/python3.10/site-packages (from timm==0.9.2->segmentation-models-pytorch) (0.4.0)\n",
            "Requirement already satisfied: numpy in /opt/conda/lib/python3.10/site-packages (from torchvision>=0.5.0->segmentation-models-pytorch) (1.24.3)\n",
            "Requirement already satisfied: requests in /opt/conda/lib/python3.10/site-packages (from torchvision>=0.5.0->segmentation-models-pytorch) (2.31.0)\n",
            "Requirement already satisfied: filelock in /opt/conda/lib/python3.10/site-packages (from torch->efficientnet-pytorch==0.7.1->segmentation-models-pytorch) (3.12.2)\n",
            "Requirement already satisfied: typing-extensions in /opt/conda/lib/python3.10/site-packages (from torch->efficientnet-pytorch==0.7.1->segmentation-models-pytorch) (4.5.0)\n",
            "Requirement already satisfied: sympy in /opt/conda/lib/python3.10/site-packages (from torch->efficientnet-pytorch==0.7.1->segmentation-models-pytorch) (1.12)\n",
            "Requirement already satisfied: networkx in /opt/conda/lib/python3.10/site-packages (from torch->efficientnet-pytorch==0.7.1->segmentation-models-pytorch) (3.1)\n",
            "Requirement already satisfied: jinja2 in /opt/conda/lib/python3.10/site-packages (from torch->efficientnet-pytorch==0.7.1->segmentation-models-pytorch) (3.1.2)\n",
            "Requirement already satisfied: fsspec in /opt/conda/lib/python3.10/site-packages (from huggingface-hub->timm==0.9.2->segmentation-models-pytorch) (2023.10.0)\n",
            "Requirement already satisfied: packaging>=20.9 in /opt/conda/lib/python3.10/site-packages (from huggingface-hub->timm==0.9.2->segmentation-models-pytorch) (21.3)\n",
            "Requirement already satisfied: charset-normalizer<4,>=2 in /opt/conda/lib/python3.10/site-packages (from requests->torchvision>=0.5.0->segmentation-models-pytorch) (3.2.0)\n",
            "Requirement already satisfied: idna<4,>=2.5 in /opt/conda/lib/python3.10/site-packages (from requests->torchvision>=0.5.0->segmentation-models-pytorch) (3.4)\n",
            "Requirement already satisfied: urllib3<3,>=1.21.1 in /opt/conda/lib/python3.10/site-packages (from requests->torchvision>=0.5.0->segmentation-models-pytorch) (1.26.15)\n",
            "Requirement already satisfied: certifi>=2017.4.17 in /opt/conda/lib/python3.10/site-packages (from requests->torchvision>=0.5.0->segmentation-models-pytorch) (2023.7.22)\n",
            "Requirement already satisfied: pyparsing!=3.0.5,>=2.0.2 in /opt/conda/lib/python3.10/site-packages (from packaging>=20.9->huggingface-hub->timm==0.9.2->segmentation-models-pytorch) (3.0.9)\n",
            "Requirement already satisfied: MarkupSafe>=2.0 in /opt/conda/lib/python3.10/site-packages (from jinja2->torch->efficientnet-pytorch==0.7.1->segmentation-models-pytorch) (2.1.3)\n",
            "Requirement already satisfied: mpmath>=0.19 in /opt/conda/lib/python3.10/site-packages (from sympy->torch->efficientnet-pytorch==0.7.1->segmentation-models-pytorch) (1.3.0)\n",
            "Building wheels for collected packages: efficientnet-pytorch, pretrainedmodels\n",
            "  Building wheel for efficientnet-pytorch (setup.py) ... \u001b[?25ldone\n",
            "\u001b[?25h  Created wheel for efficientnet-pytorch: filename=efficientnet_pytorch-0.7.1-py3-none-any.whl size=16428 sha256=e945f882d88404c11cadec3d8c12a62403cc4a88ccb003e9863b323fd991c629\n",
            "  Stored in directory: /root/.cache/pip/wheels/d2/e7/71/a031831a75a14914d29e2f255fcbc113d825ff4762d42f0315\n",
            "  Building wheel for pretrainedmodels (setup.py) ... \u001b[?25ldone\n",
            "\u001b[?25h  Created wheel for pretrainedmodels: filename=pretrainedmodels-0.7.4-py3-none-any.whl size=60943 sha256=97a21ff7b0a37a7f31bf3493ce7fdcf4323d5b2f2ac6df6f61e41a075f647201\n",
            "  Stored in directory: /root/.cache/pip/wheels/10/53/cc/d9cbdaa15d821ad4845e69994708dcad78fcddf4c92a753bdf\n",
            "Successfully built efficientnet-pytorch pretrainedmodels\n",
            "Installing collected packages: munch, efficientnet-pytorch, timm, pretrainedmodels, segmentation-models-pytorch\n",
            "  Attempting uninstall: timm\n",
            "    Found existing installation: timm 0.9.10\n",
            "    Uninstalling timm-0.9.10:\n",
            "      Successfully uninstalled timm-0.9.10\n",
            "Successfully installed efficientnet-pytorch-0.7.1 munch-4.0.0 pretrainedmodels-0.7.4 segmentation-models-pytorch-0.3.3 timm-0.9.2\n"
          ]
        }
      ],
      "source": [
        "!python -m pip install --no-index --find-links=/kaggle/input/pip-download-for-segmentation-models-pytorch segmentation-models-pytorch\n",
        "import segmentation_models_pytorch as smp"
      ]
    },
    {
      "cell_type": "code",
      "execution_count": null,
      "metadata": {},
      "outputs": [],
      "source": []
    },
    {
      "cell_type": "markdown",
      "metadata": {},
      "source": [
        "# config"
      ]
    },
    {
      "cell_type": "code",
      "execution_count": 3,
      "metadata": {
        "execution": {
          "iopub.execute_input": "2024-01-25T10:01:10.352995Z",
          "iopub.status.busy": "2024-01-25T10:01:10.352699Z",
          "iopub.status.idle": "2024-01-25T10:01:10.421656Z",
          "shell.execute_reply": "2024-01-25T10:01:10.420637Z",
          "shell.execute_reply.started": "2024-01-25T10:01:10.352970Z"
        },
        "trusted": true
      },
      "outputs": [],
      "source": [
        "p_augm = 0.05 #0.5\n",
        "#add rotate.  less p_augm\n",
        "p_Rot = 0.3\n",
        "\n",
        "class CFG:\n",
        "    # ============== pred target =============\n",
        "    target_size = 1\n",
        "\n",
        "    # ============== model CFG =============\n",
        "    model_name = 'Unet'\n",
        "    backbone = 'se_resnext50_32x4d'\n",
        "\n",
        "    in_chans = 5   #5 # 65\n",
        "    # ============== training CFG =============\n",
        "    image_size = 1024\n",
        "    input_size= 1024\n",
        "    \n",
        "\n",
        "    device = 'cuda' if torch.cuda.is_available() else 'cpu'\n",
        "\n",
        "    train_batch_size = 4\n",
        "    n_accumulate  = max(1, 32 // train_batch_size )\n",
        "    valid_batch_size = train_batch_size * 2\n",
        "\n",
        "    epochs = 28\n",
        "    lr = 3e-4\n",
        "    chopping_percentile=1e-3\n",
        "    # ============== fold =============\n",
        "    valid_id = 1\n",
        "\n",
        "\n",
        "    # ============== augmentation =============\n",
        "    train_aug_list = [\n",
        "        A.Rotate(limit=270, p= p_Rot),\n",
        "        A.RandomScale(scale_limit=(0.8,1.25),interpolation=cv2.INTER_CUBIC,p=p_augm),\n",
        "        A.RandomCrop(input_size, input_size,p=1),\n",
        "        A.GaussNoise(var_limit=[10, 50]),\n",
        "        A.RandomGamma(p=p_augm*2/3),\n",
        "        A.RandomBrightnessContrast(p=p_augm,),\n",
        "        A.GaussianBlur(p=p_augm),\n",
        "        A.MotionBlur(p=p_augm),\n",
        "        A.GridDistortion(num_steps=5, distort_limit=0.3, p=p_augm),\n",
        "        A.ElasticTransform(alpha=100, sigma=10, alpha_affine=4, p=p_augm ),\n",
        "        ToTensorV2(transpose_mask=True),\n",
        "    ]\n",
        "    train_aug = A.Compose(train_aug_list)\n",
        "    valid_aug_list = [\n",
        "        ToTensorV2(transpose_mask=True),\n",
        "    ]\n",
        "    valid_aug = A.Compose(valid_aug_list)\n",
        "\n",
        "\n"
      ]
    },
    {
      "cell_type": "code",
      "execution_count": 4,
      "metadata": {
        "execution": {
          "iopub.execute_input": "2024-01-25T10:01:10.423862Z",
          "iopub.status.busy": "2024-01-25T10:01:10.423443Z",
          "iopub.status.idle": "2024-01-25T10:01:10.443356Z",
          "shell.execute_reply": "2024-01-25T10:01:10.442523Z",
          "shell.execute_reply.started": "2024-01-25T10:01:10.423826Z"
        },
        "trusted": true
      },
      "outputs": [],
      "source": [
        "def subset_df(train_df, base_dir, im_dir='kidney_1_dense',lb_dir='kidney_1_dense'):\n",
        "\n",
        "\n",
        "    micro_df = train_df[train_df['id'].str.startswith(lb_dir)]\n",
        "    print(base_dir / im_dir / 'images' )\n",
        "    micro_df['images'] = micro_df['img_name'].map(lambda x: base_dir / im_dir / 'images' / f'{x}.tif')\n",
        "    micro_df['labels'] = micro_df['img_name'].map(lambda x: base_dir / lb_dir / 'labels' / f'{x}.tif')\n",
        "    micro_df['images_width'] = micro_df['images'].map(lambda x: Image.open(x).size[0])\n",
        "    micro_df['images_height'] = micro_df['images'].map(lambda x: Image.open(x).size[1])\n",
        "\n",
        "    micro_df['labels_width'] = micro_df['labels'].map(lambda x: Image.open(x).size[0])\n",
        "    micro_df['labels_height'] = micro_df['labels'].map(lambda x: Image.open(x).size[1])\n",
        "\n",
        "    return micro_df"
      ]
    },
    {
      "cell_type": "code",
      "execution_count": 5,
      "metadata": {
        "execution": {
          "iopub.execute_input": "2024-01-25T10:01:10.446151Z",
          "iopub.status.busy": "2024-01-25T10:01:10.445862Z",
          "iopub.status.idle": "2024-01-25T10:01:10.458623Z",
          "shell.execute_reply": "2024-01-25T10:01:10.457935Z",
          "shell.execute_reply.started": "2024-01-25T10:01:10.446128Z"
        },
        "trusted": true
      },
      "outputs": [],
      "source": [
        "path_to_train_df = '/kaggle/input/blood-vessel-segmentation/train_rles.csv'\n",
        "BASE_DIR = Path(\"/kaggle/input/blood-vessel-segmentation/\")"
      ]
    },
    {
      "cell_type": "code",
      "execution_count": 6,
      "metadata": {
        "execution": {
          "iopub.execute_input": "2024-01-25T10:01:10.459968Z",
          "iopub.status.busy": "2024-01-25T10:01:10.459682Z",
          "iopub.status.idle": "2024-01-25T10:01:11.535634Z",
          "shell.execute_reply": "2024-01-25T10:01:11.534828Z",
          "shell.execute_reply.started": "2024-01-25T10:01:10.459931Z"
        },
        "trusted": true
      },
      "outputs": [],
      "source": [
        "train_df = pd.read_csv(BASE_DIR / 'train_rles.csv')"
      ]
    },
    {
      "cell_type": "code",
      "execution_count": 7,
      "metadata": {
        "execution": {
          "iopub.execute_input": "2024-01-25T10:01:11.537602Z",
          "iopub.status.busy": "2024-01-25T10:01:11.536909Z",
          "iopub.status.idle": "2024-01-25T10:01:11.575019Z",
          "shell.execute_reply": "2024-01-25T10:01:11.574340Z",
          "shell.execute_reply.started": "2024-01-25T10:01:11.537567Z"
        },
        "trusted": true
      },
      "outputs": [],
      "source": [
        "train_df['data_set'] = train_df['id'].map(lambda x: x[:-5] )\n",
        "train_df['kidney'] = train_df['id'].map(lambda x: '_'.join(x.split('_')[:2] ))\n",
        "train_df['type'] = train_df['id'].map(lambda x: x.split('_')[2] if '_'.join(x.split('_')[:2]) != 'kidney_2' else '')\n",
        "train_df['img_name'] = train_df['id'].map(lambda x: x.split('_')[-1] )\n",
        "train_df['mask_is_empty'] = train_df['rle'] == '1 0'"
      ]
    },
    {
      "cell_type": "code",
      "execution_count": null,
      "metadata": {
        "execution": {
          "iopub.execute_input": "2024-01-25T10:01:11.576178Z",
          "iopub.status.busy": "2024-01-25T10:01:11.575933Z"
        },
        "trusted": true
      },
      "outputs": [
        {
          "name": "stdout",
          "output_type": "stream",
          "text": [
            "/kaggle/input/blood-vessel-segmentation/train/kidney_1_dense/images\n"
          ]
        }
      ],
      "source": [
        "kidney_1_dense = subset_df(train_df, base_dir = BASE_DIR / 'train', im_dir='kidney_1_dense',lb_dir='kidney_1_dense')\n",
        "##kidney_1_voi = subset_df(train_df, base_dir = BASE_DIR / 'train', im_dir='kidney_1_voi',lb_dir='kidney_1_voi')\n",
        "#kidney_2 = subset_df(train_df, base_dir = BASE_DIR / 'train', im_dir='kidney_2',lb_dir='kidney_2')\n",
        "kidney_3_sparse = subset_df(train_df, base_dir = BASE_DIR / 'train', im_dir='kidney_3_sparse',lb_dir='kidney_3_sparse')\n",
        "kidney_3_dense = subset_df(train_df, base_dir = BASE_DIR / 'train', im_dir='kidney_3_sparse',lb_dir='kidney_3_dense')"
      ]
    },
    {
      "cell_type": "code",
      "execution_count": null,
      "metadata": {
        "trusted": true
      },
      "outputs": [],
      "source": [
        "del(train_df)\n",
        "#train_df = pd.concat([kidney_1_dense, kidney_1_voi, kidney_2, kidney_3_sparse, kidney_3_dense], axis = 0)\n",
        "train_df = pd.concat([kidney_1_dense, kidney_3_sparse, kidney_3_dense], axis = 0)"
      ]
    },
    {
      "cell_type": "code",
      "execution_count": null,
      "metadata": {
        "trusted": true
      },
      "outputs": [],
      "source": [
        "def resize_to_size( img, image_size = CFG.image_size):\n",
        "        '''\n",
        "        resizes the image if its side is smaller than image_size\n",
        "        padding is the average between the maximum and minimum pixels on the border\n",
        "        '''\n",
        "        if image_size > img.shape[0]:\n",
        "            start = ( image_size - img.shape[0])//2\n",
        "            val1 = (min(img[0,:]).item() + max(img[0,:]).item()) // 2\n",
        "            val2 = (min(img[img.shape[0] - 1,:]).item() + max(img[img.shape[0] - 1,:]).item()) // 2\n",
        "            print(val1, val2)\n",
        "            top= torch.full((start,img.shape[1]),val1)\n",
        "            botton = torch.full((start,img.shape[1]),val2)\n",
        "            #print(border.shape)\n",
        "            return torch.cat((top, img, botton), axis = 0)\n",
        "        elif image_size > img.shape[1]:\n",
        "            start = ( image_size - img.shape[1])//2\n",
        "            val1 = (min(img[:, 0]).item() + max(img[:, 0]).item()) // 2\n",
        "            val2 = (min(img[:, img.shape[1] - 1]).item() + max(img[:, img.shape[1] - 1]).item()) // 2\n",
        "            left= torch.full((img.shape[0], start),val1)\n",
        "            right = torch.full((img.shape[0], start),val2)\n",
        "            return torch.cat((left, img, right), axis = 1)\n",
        "        else:\n",
        "            return img"
      ]
    },
    {
      "cell_type": "code",
      "execution_count": null,
      "metadata": {
        "trusted": true
      },
      "outputs": [],
      "source": [
        "class Data_loader(Dataset):\n",
        "    '''\n",
        "        \u0421lass for quickly loading a dataset from a folder and converting it to tenzor\n",
        "        Args:\n",
        "          df: (pd.DataFrame) - dataframe with paths to images\n",
        "          is_label: bool - upload an image or segmentation mask\n",
        "    '''\n",
        "\n",
        "    def __init__(self,df, is_label = False, image_size = CFG.image_size):\n",
        "        self.df = df\n",
        "        self.image_size = image_size\n",
        "\n",
        "        self.is_label=is_label\n",
        "\n",
        "    def __len__(self):\n",
        "        return self.df.shape[0]\n",
        "\n",
        "    def __getitem__(self,index):\n",
        "        read_image = 'images'\n",
        "        if self.is_label:\n",
        "            read_image = 'labels'\n",
        "        path_img = str(self.df[read_image].iloc[index])\n",
        "        img = cv2.imread(path_img,cv2.IMREAD_GRAYSCALE)\n",
        "        img=torch.from_numpy(img.copy())\n",
        "        img = resize_to_size(img, self.image_size) if self.image_size  else  img\n",
        "        \n",
        "        if self.is_label:\n",
        "            img=(img!=0).to(torch.uint8)*255\n",
        "        else:\n",
        "            img=img.to(torch.uint8)\n",
        "        \n",
        "        return img"
      ]
    },
    {
      "cell_type": "code",
      "execution_count": 14,
      "metadata": {
        "execution": {
          "iopub.execute_input": "2024-01-25T09:25:14.521078Z",
          "iopub.status.busy": "2024-01-25T09:25:14.520446Z",
          "iopub.status.idle": "2024-01-25T09:25:14.537095Z",
          "shell.execute_reply": "2024-01-25T09:25:14.535818Z",
          "shell.execute_reply.started": "2024-01-25T09:25:14.521045Z"
        },
        "trusted": true
      },
      "outputs": [],
      "source": [
        "zz = Data_loader(train_df[train_df['data_set'] == \t'kidney_1_dense'],False, 0)\n",
        "yy = Data_loader(train_df[train_df['data_set'] == \t'kidney_1_dense'],True, 0)"
      ]
    },
    {
      "cell_type": "code",
      "execution_count": 15,
      "metadata": {
        "execution": {
          "iopub.execute_input": "2024-01-25T09:25:14.538972Z",
          "iopub.status.busy": "2024-01-25T09:25:14.538579Z",
          "iopub.status.idle": "2024-01-25T09:25:15.169274Z",
          "shell.execute_reply": "2024-01-25T09:25:15.168355Z",
          "shell.execute_reply.started": "2024-01-25T09:25:14.538941Z"
        },
        "trusted": true
      },
      "outputs": [
        {
          "data": {
            "text/plain": [
              "<matplotlib.image.AxesImage at 0x78cb04219060>"
            ]
          },
          "execution_count": 15,
          "metadata": {},
          "output_type": "execute_result"
        },
        {
          "data": {
            "image/png": "[encoded data removed]",
            "text/plain": [
              "<Figure size 640x480 with 1 Axes>"
            ]
          },
          "metadata": {},
          "output_type": "display_data"
        }
      ],
      "source": [
        "plt.imshow(yy[1100])\n",
        "plt.imshow(zz[1100],alpha = 0.5)\n"
      ]
    },
    {
      "cell_type": "code",
      "execution_count": 16,
      "metadata": {
        "execution": {
          "iopub.execute_input": "2024-01-25T09:25:15.171342Z",
          "iopub.status.busy": "2024-01-25T09:25:15.170491Z",
          "iopub.status.idle": "2024-01-25T09:25:15.175466Z",
          "shell.execute_reply": "2024-01-25T09:25:15.174620Z",
          "shell.execute_reply.started": "2024-01-25T09:25:15.171306Z"
        },
        "trusted": true
      },
      "outputs": [],
      "source": [
        "del(yy)"
      ]
    },
    {
      "cell_type": "code",
      "execution_count": 17,
      "metadata": {
        "execution": {
          "iopub.execute_input": "2024-01-25T09:25:15.177372Z",
          "iopub.status.busy": "2024-01-25T09:25:15.176802Z",
          "iopub.status.idle": "2024-01-25T09:25:15.199322Z",
          "shell.execute_reply": "2024-01-25T09:25:15.198143Z",
          "shell.execute_reply.started": "2024-01-25T09:25:15.177338Z"
        },
        "trusted": true
      },
      "outputs": [],
      "source": [
        "del(zz)"
      ]
    },
    {
      "cell_type": "code",
      "execution_count": null,
      "metadata": {
        "trusted": true
      },
      "outputs": [],
      "source": [
        "def min_max_normalization(x:torch.Tensor)->torch.Tensor:\n",
        "    \"\"\"min max normalization by last dimension\n",
        "    input.shape=(batch,f1,...)\"\"\"\n",
        "    shape=x.shape\n",
        "    if x.ndim>2:\n",
        "        x=x.reshape(x.shape[0],-1)\n",
        "    \n",
        "    min_=x.min(dim=-1,keepdim=True)[0]\n",
        "    max_=x.max(dim=-1,keepdim=True)[0]\n",
        "    if min_.mean()==0 and max_.mean()==1:\n",
        "        return x.reshape(shape)\n",
        "    \n",
        "    x=(x-min_)/(max_- min_+1e-9)\n",
        "    return x.reshape(shape)"
      ]
    },
    {
      "cell_type": "code",
      "execution_count": null,
      "metadata": {
        "trusted": true
      },
      "outputs": [],
      "source": [
        "def load_data(df ,is_label=False, chopping_percentile = CFG.chopping_percentile):\n",
        "    '''function to load data into an array'''\n",
        "    data_loader_data=Data_loader(df,is_label)\n",
        "    data_loader=DataLoader(data_loader_data, batch_size=8, num_workers=2)\n",
        "    data=[]\n",
        "    del(data_loader_data)\n",
        "    for x in tqdm(data_loader):\n",
        "        data.append(x)\n",
        "    x=torch.cat(data,dim=0)\n",
        "    del data\n",
        "    del(data_loader)\n",
        "    if not is_label:\n",
        "        ########################################################################\n",
        "        TH=x.reshape(-1).numpy()\n",
        "        index = -int(len(TH) * chopping_percentile)\n",
        "        TH:int = np.partition(TH, index)[index]\n",
        "        x[x>TH]=int(TH)\n",
        "        ########################################################################\n",
        "        TH=x.reshape(-1).numpy()\n",
        "        index = -int(len(TH) * chopping_percentile)\n",
        "        TH:int = np.partition(TH, -index)[-index]\n",
        "        x[x<TH]=int(TH)\n",
        "        x=(min_max_normalization(x.to(torch.float16)[None])[0]*255).to(torch.uint8)\n",
        "    return x"
      ]
    },
    {
      "cell_type": "code",
      "execution_count": null,
      "metadata": {
        "trusted": true
      },
      "outputs": [],
      "source": [
        "train_x=[]\n",
        "train_y=[]\n",
        "\n",
        "x = load_data(train_df[train_df['data_set'] == 'kidney_1_dense'],is_label=False)\n",
        "train_x.append(x)\n",
        "train_x.append(x.permute(1,2,0))\n",
        "train_x.append(x.permute(2,0,1))\n",
        "del(x)\n",
        "\n",
        "y=load_data(train_df[train_df['data_set'] == 'kidney_1_dense'],is_label=True)\n",
        "train_y.append(y)\n",
        "train_y.append(y.permute(1,2,0))\n",
        "train_y.append(y.permute(2,0,1))\n",
        "del(y)"
      ]
    },
    {
      "cell_type": "code",
      "execution_count": null,
      "metadata": {
        "trusted": true
      },
      "outputs": [],
      "source": [
        "val_x = load_data(train_df[train_df['data_set'] == 'kidney_3_sparse'],is_label=False)\n",
        "val_y = load_data(train_df[train_df['data_set'] == 'kidney_3_dense'],is_label=True)"
      ]
    },
    {
      "cell_type": "code",
      "execution_count": 25,
      "metadata": {
        "execution": {
          "iopub.execute_input": "2024-01-25T09:36:22.683367Z",
          "iopub.status.busy": "2024-01-25T09:36:22.682638Z",
          "iopub.status.idle": "2024-01-25T09:36:22.697436Z",
          "shell.execute_reply": "2024-01-25T09:36:22.696232Z",
          "shell.execute_reply.started": "2024-01-25T09:36:22.683318Z"
        },
        "trusted": true
      },
      "outputs": [],
      "source": [
        "class Kaggld_Dataset(Dataset):\n",
        "    def __init__(self,x,y,image_size=CFG.image_size, in_chans=CFG.in_chans, arg=False):\n",
        "        super(Dataset,self).__init__()\n",
        "        self.x=x#list[(C,H,W),...]\n",
        "        self.y=y#list[(C,H,W),...]\n",
        "        self.image_size=image_size\n",
        "        self.in_chans=in_chans\n",
        "        self.arg = arg\n",
        "        if arg:\n",
        "            self.transform=CFG.train_aug\n",
        "        else: \n",
        "            self.transform=CFG.valid_aug\n",
        "        \n",
        "\n",
        "    def __len__(self) -> int:\n",
        "        return sum([y.shape[0]-self.in_chans for y in self.y])\n",
        "\n",
        "    def __getitem__(self,index):\n",
        "        i = 0\n",
        "        # selecting a dataset section\n",
        "        for x in self.x:\n",
        "            if index > x.shape[0]-self.in_chans:\n",
        "                index -= x.shape[0]-self.in_chans\n",
        "                i += 1\n",
        "            else:\n",
        "                break\n",
        "        #print(f'component {i}')\n",
        "        x=self.x[i]\n",
        "        y=self.y[i]\n",
        "        #print(print (f'x.shape[1] ={x.shape[1]}    x.shape[2]={x.shape[2]}'))\n",
        "        x_index= (x.shape[1]-self.image_size)//2\n",
        "        y_index= (x.shape[2]-self.image_size)//2\n",
        "        #print(x_index, x_index)\n",
        "        x=x[index:index+self.in_chans   ,  :,:]# x_index:x_index+self.image_size,   y_index:y_index+self.image_size]\n",
        "        # i+2\n",
        "        y=y[index+self.in_chans//2   , :,:]#    x_index:x_index+self.image_size,   y_index:y_index+self.image_size]\n",
        "        #x = torch.from_numpy(x)\n",
        "        #y = torch.from_numpy(x)\n",
        "        if self.transform:\n",
        "            data = self.transform(image=x.numpy().transpose(1,2,0), mask=y.numpy()) #C H W\n",
        "            x = data['image']\n",
        "            y = data['mask']>=127\n",
        "\n",
        "        if self.arg:\n",
        "            i=np.random.randint(4)\n",
        "            x=x.rot90(i,dims=(1,2))\n",
        "            y=y.rot90(i,dims=(0,1))\n",
        "            for i in range(3):\n",
        "                if np.random.randint(2):\n",
        "                    x=x.flip(dims=(i,))\n",
        "                    if i>=1: # if i == 0: we swaps pictures in the channels\n",
        "                        y=y.flip(dims=(i-1,))\n",
        "        return x, y"
      ]
    },
    {
      "cell_type": "code",
      "execution_count": 74,
      "metadata": {
        "execution": {
          "iopub.execute_input": "2024-01-25T09:49:16.623215Z",
          "iopub.status.busy": "2024-01-25T09:49:16.622760Z",
          "iopub.status.idle": "2024-01-25T09:49:16.631762Z",
          "shell.execute_reply": "2024-01-25T09:49:16.630461Z",
          "shell.execute_reply.started": "2024-01-25T09:49:16.623177Z"
        },
        "trusted": true
      },
      "outputs": [],
      "source": [
        "def norm_with_clip(x:torch.Tensor,smooth=1e-5):\n",
        "    dim=list(range(1,x.ndim))\n",
        "    mean=x.mean(dim=dim,keepdim=True)\n",
        "    std=x.std(dim=dim,keepdim=True)\n",
        "    x=(x-mean)/(std+smooth)\n",
        "    x[x>5]=(x[x>5]-5)*1e-3 +5\n",
        "    x[x<-3]=(x[x<-3]+3)*1e-3-3\n",
        "    return x"
      ]
    },
    {
      "cell_type": "code",
      "execution_count": 82,
      "metadata": {
        "execution": {
          "iopub.execute_input": "2024-01-25T09:54:03.643625Z",
          "iopub.status.busy": "2024-01-25T09:54:03.643145Z",
          "iopub.status.idle": "2024-01-25T09:54:03.652096Z",
          "shell.execute_reply": "2024-01-25T09:54:03.650883Z",
          "shell.execute_reply.started": "2024-01-25T09:54:03.643586Z"
        },
        "trusted": true
      },
      "outputs": [],
      "source": [
        "def dice_coef( y_pred,y_true, thr=0.5, dim=(2,3), epsilon=0.0001):\n",
        "    y_true = y_true.unsqueeze(1).to(torch.float32)\n",
        "    y_pred = (y_pred>thr).to(torch.float32)\n",
        "    inter = (y_true*y_pred).sum(dim=dim)\n",
        "    den = y_true.sum(dim=dim) + y_pred.sum(dim=dim)\n",
        "    dice = ((2*inter+epsilon)/(den+epsilon)).mean(dim=(1,0))\n",
        "    return dice\n",
        "\n",
        "def iou_coef( y_pred,y_true, thr=0.5, dim=(2,3), epsilon=0.0001):\n",
        "    y_true = y_true.unsqueeze(1).to(torch.float32)\n",
        "    y_pred = (y_pred>thr).to(torch.float32)\n",
        "    inter = (y_true*y_pred).sum(dim=dim)\n",
        "    union = (y_true + y_pred - y_true*y_pred).sum(dim=dim)\n",
        "    iou = ((inter+epsilon)/(union+epsilon)).mean(dim=(1,0))\n",
        "    return iou"
      ]
    },
    {
      "cell_type": "code",
      "execution_count": 85,
      "metadata": {
        "execution": {
          "iopub.execute_input": "2024-01-25T09:58:41.482343Z",
          "iopub.status.busy": "2024-01-25T09:58:41.481938Z",
          "iopub.status.idle": "2024-01-25T09:58:41.495063Z",
          "shell.execute_reply": "2024-01-25T09:58:41.493758Z",
          "shell.execute_reply.started": "2024-01-25T09:58:41.482313Z"
        },
        "trusted": true
      },
      "outputs": [],
      "source": [
        "def train_one_epoch(model, dataloader, loss_fn, optimizer, epoch):\n",
        "    model.train()\n",
        "    scaler = amp.GradScaler()\n",
        "    train_loss = 0.0\n",
        "    dataset_size = 0\n",
        "    train_scores = []\n",
        "    pbar = tqdm(enumerate(dataloader), total=len(dataloader), desc='Train ')\n",
        "    optimizer.zero_grad()\n",
        "    for step, (x, y) in pbar:\n",
        "        x = x.to(CFG.device, dtype=torch.float32)\n",
        "        y  = y.to(CFG.device, dtype=torch.float32)\n",
        "        x=norm_with_clip(x.reshape(-1,*x.shape[2:])).reshape(x.shape)\n",
        "        batch_size = x.size(0)\n",
        "        dataset_size += batch_size\n",
        "\n",
        "        with amp.autocast(enabled=True):\n",
        "            y_pred = model(x)\n",
        "            loss   = loss_fn(y_pred, y)\n",
        "            loss   = loss / CFG.n_accumulate\n",
        "\n",
        "        #optimizer.zero_grad()\n",
        "        scaler.scale(loss).backward() #loss.backward()  # backward-pass\n",
        "        \n",
        "        if ((batch_idx + 1) % CFG.accum_iter == 0) or (batch_idx + 1 == len(data_loader)):\n",
        "            scaler.step(optimizer) #optimizer.step()  # update weights\n",
        "            scaler.update()\n",
        "            optimizer.zero_grad()\n",
        "\n",
        "        train_loss  += loss.item()  * batch_size\n",
        "\n",
        "        epoch_loss = train_loss / dataset_size\n",
        "\n",
        "        mem = torch.cuda.memory_reserved() / 1E9 if torch.cuda.is_available() else 0\n",
        "        current_lr = optimizer.param_groups[0]['lr']\n",
        "        \n",
        "        y_pred = nn.Sigmoid()(y_pred)\n",
        "        train_dice = dice_coef(y_pred.detach(), y ).cpu().detach().numpy()\n",
        "        train_jaccard = iou_coef(y_pred.detach(), y ).cpu().detach().numpy()\n",
        "        train_scores.append([train_dice, train_jaccard])\n",
        "\n",
        "        pbar.set_postfix( epoch=f'{epoch}',\n",
        "                          train_loss=f'{epoch_loss:0.4f}',\n",
        "                          #train_dice = f'{train_dice:0.4f}',\n",
        "                          #train_jaccard = f'{train_jaccard:0.4f}',\n",
        "                          lr=f'{current_lr:0.5f}',\n",
        "                          gpu_mem=f'{mem:0.2f} GB')\n",
        "\n",
        "\n",
        "    train_scores  = np.mean(train_scores, axis=0)\n",
        "\n",
        "    del images\n",
        "    del masks\n",
        "    del y_pred\n",
        "    gc.collect()\n",
        "    torch.cuda.empty_cache()\n",
        "    return epoch_loss, train_scores"
      ]
    },
    {
      "cell_type": "code",
      "execution_count": 86,
      "metadata": {
        "execution": {
          "iopub.execute_input": "2024-01-25T09:58:41.660372Z",
          "iopub.status.busy": "2024-01-25T09:58:41.659965Z",
          "iopub.status.idle": "2024-01-25T09:58:41.670015Z",
          "shell.execute_reply": "2024-01-25T09:58:41.669096Z",
          "shell.execute_reply.started": "2024-01-25T09:58:41.660341Z"
        },
        "trusted": true
      },
      "outputs": [],
      "source": [
        "@torch.no_grad()\n",
        "def valid_one_epoch(model, dataloader, loss_fn,  epoch,):\n",
        " #(model, dataloader, device, epoch):\n",
        "    model.eval()\n",
        "\n",
        "    dataset_size = 0\n",
        "    running_loss = 0.0\n",
        "\n",
        "    val_scores = []\n",
        "\n",
        "    pbar = tqdm(enumerate(dataloader), total=len(dataloader), desc='Valid ')\n",
        "    for step, (images, masks) in pbar:\n",
        "        images  = images.to(CFG.device, dtype=torch.float32)\n",
        "        masks   = masks.to(CFG.device, dtype=torch.float32)\n",
        "\n",
        "        batch_size = images.size(0)\n",
        "\n",
        "        y_pred  = model(images)\n",
        "        loss    = loss_fn(y_pred, masks)\n",
        "\n",
        "        running_loss += loss.item() * batch_size\n",
        "        dataset_size += batch_size\n",
        "\n",
        "        epoch_loss = running_loss / dataset_size\n",
        "\n",
        "        y_pred = nn.Sigmoid()(y_pred)\n",
        "        val_dice = dice_coef( y_pred, masks).cpu().detach().numpy()\n",
        "        val_jaccard = iou_coef( y_pred, masks).cpu().detach().numpy()\n",
        "        val_scores.append([val_dice, val_jaccard])\n",
        "\n",
        "        mem = torch.cuda.memory_reserved() / 1E9 if torch.cuda.is_available() else 0\n",
        "\n",
        "        pbar.set_postfix(valid_loss=f'{epoch_loss:0.4f}',\n",
        "                        gpu_memory=f'{mem:0.2f} GB')\n",
        "    val_scores  = np.mean(val_scores, axis=0)\n",
        "    torch.cuda.empty_cache()\n",
        "    gc.collect()\n",
        "    return epoch_loss, val_scores"
      ]
    },
    {
      "cell_type": "code",
      "execution_count": 87,
      "metadata": {
        "execution": {
          "iopub.execute_input": "2024-01-25T09:58:41.848340Z",
          "iopub.status.busy": "2024-01-25T09:58:41.847433Z",
          "iopub.status.idle": "2024-01-25T09:58:41.862371Z",
          "shell.execute_reply": "2024-01-25T09:58:41.861339Z",
          "shell.execute_reply.started": "2024-01-25T09:58:41.848296Z"
        },
        "trusted": true
      },
      "outputs": [],
      "source": [
        "def run_training(model, optimizer, loss_fn, scheduler, device, num_epochs, train_loader, valid_loader, model_name = 'unet'):\n",
        "    if torch.cuda.is_available():\n",
        "        print(\"cuda: {}\\n\".format(torch.cuda.get_device_name()))\n",
        "    start = time.time()\n",
        "    best_model_wts = copy.deepcopy(model.state_dict())\n",
        "    best_loss      = np.inf\n",
        "    best_epoch     = -1\n",
        "    history = defaultdict(list)\n",
        "\n",
        "    for epoch in range(1, num_epochs + 1):\n",
        "        gc.collect()\n",
        "        print(f'Epoch {epoch}/{num_epochs}', end='')\n",
        "        train_loss, train_scores = train_one_epoch(model=model,\n",
        "                                                         dataloader=train_loader, loss_fn=loss_fn, optimizer=optimizer, epoch=epoch)\n",
        "\n",
        "\n",
        "\n",
        "        val_loss, val_scores = valid_one_epoch(model=model, dataloader=valid_loader, loss_fn=loss_fn,  epoch=epoch, device = device)\n",
        "        if scheduler:\n",
        "            scheduler.step(val_loss)\n",
        "        train_dice, train_jaccard = train_scores\n",
        "        val_dice, val_jaccard = val_scores\n",
        "\n",
        "        history['Train Loss'].append(train_loss)\n",
        "        history['Valid Loss'].append(val_loss)\n",
        "        history['Train Dice'].append(train_dice)\n",
        "        history['Train Jaccard'].append(train_jaccard)\n",
        "        history['Valid Dice'].append(val_dice)\n",
        "        history['Valid Jaccard'].append(val_jaccard)\n",
        "        print(f'Train Dice: {train_dice:0.4f} | Train Jaccard: {train_jaccard:0.4f}')\n",
        "        print(f'Train Loss: {train_loss}')\n",
        "        print(f'Valid Dice: {val_dice:0.4f} | Valid Jaccard: {val_jaccard:0.4f}')\n",
        "        print(f'Valid Loss: {val_loss}')\n",
        "\n",
        "        # deep copy the model\n",
        "        if val_loss <= best_loss:\n",
        "            print(f\"{c_}Valid loss Improved ({best_loss} ---> {val_loss})\")\n",
        "            best_dice    = val_dice\n",
        "            est_jaccard = val_jaccard\n",
        "            best_loss = val_loss\n",
        "            best_epoch   = epoch\n",
        "            best_model_wts = copy.deepcopy(model.state_dict())\n",
        "            save_model(model=model, optimizer= None, epoch=epoch, model_name = model_name + ' ' + str(epoch),  lr_scheduler=None)\n",
        "            print(f\"Model Saved{sr_}\")\n",
        "        print(); print()\n",
        "\n",
        "    end = time.time()\n",
        "    time_elapsed = end - start\n",
        "    print('Training complete in {:.0f}h {:.0f}m {:.0f}s'.format(\n",
        "        time_elapsed // 3600, (time_elapsed % 3600) // 60, (time_elapsed % 3600) % 60))\n",
        "    print(\"Best Loss: {:.4f}\".format(best_loss))\n",
        "\n",
        "    \n",
        "    del(model)\n",
        "    return history"
      ]
    },
    {
      "cell_type": "code",
      "execution_count": 88,
      "metadata": {
        "execution": {
          "iopub.execute_input": "2024-01-25T09:58:42.597008Z",
          "iopub.status.busy": "2024-01-25T09:58:42.596541Z",
          "iopub.status.idle": "2024-01-25T09:58:42.604514Z",
          "shell.execute_reply": "2024-01-25T09:58:42.603282Z",
          "shell.execute_reply.started": "2024-01-25T09:58:42.596972Z"
        },
        "trusted": true
      },
      "outputs": [],
      "source": [
        "class DiceLoss(nn.Module):\n",
        "    def __init__(self, weight=None, size_average=True):\n",
        "        super(DiceLoss, self).__init__()\n",
        "\n",
        "    def forward(self, inputs, targets, smooth=1):\n",
        "        \n",
        "        #comment out if your model contains a sigmoid or equivalent activation layer\n",
        "        inputs = inputs.sigmoid()   \n",
        "        \n",
        "        #flatten label and prediction tensors\n",
        "        inputs = inputs.view(-1)\n",
        "        targets = targets.view(-1)\n",
        "        \n",
        "        intersection = (inputs * targets).sum()                            \n",
        "        dice = (2.*intersection + smooth)/(inputs.sum() + targets.sum() + smooth)  \n",
        "        \n",
        "        return 1 - dice"
      ]
    },
    {
      "cell_type": "code",
      "execution_count": 34,
      "metadata": {
        "execution": {
          "iopub.execute_input": "2024-01-25T09:39:19.683020Z",
          "iopub.status.busy": "2024-01-25T09:39:19.682177Z",
          "iopub.status.idle": "2024-01-25T09:39:19.688755Z",
          "shell.execute_reply": "2024-01-25T09:39:19.687794Z",
          "shell.execute_reply.started": "2024-01-25T09:39:19.682978Z"
        },
        "trusted": true
      },
      "outputs": [],
      "source": [
        "def build_model(backbone = 'se_resnext50_32x4d', backbone_weights = 'imagenet', \n",
        "                num_classes = CFG.target_size,\n",
        "                device = CFG.device):\n",
        "    model = smp.Unet(encoder_name=CFG.backbone, \n",
        "                     in_channels=CFG.in_chans, \n",
        "                     encoder_weights=backbone_weights, \n",
        "                     classes= num_classes, \n",
        "                     activation=None )\n",
        "        #self.cnn_model.decoder.blocks.append(self.cnn_model.decoder.blocks[-1])\n",
        "        #self.cnn_model.decoder.blocks[-2] = self.cnn_model.decoder.blocks[-3]\n",
        "    return model.to(device)"
      ]
    },
    {
      "cell_type": "code",
      "execution_count": 26,
      "metadata": {
        "execution": {
          "iopub.execute_input": "2024-01-25T09:36:33.610401Z",
          "iopub.status.busy": "2024-01-25T09:36:33.609575Z",
          "iopub.status.idle": "2024-01-25T09:36:33.616810Z",
          "shell.execute_reply": "2024-01-25T09:36:33.615414Z",
          "shell.execute_reply.started": "2024-01-25T09:36:33.610354Z"
        },
        "trusted": true
      },
      "outputs": [],
      "source": [
        "torch.backends.cudnn.enabled = True\n",
        "torch.backends.cudnn.benchmark = True\n",
        "\n",
        "train_dataset=Kaggld_Dataset(train_x,train_y,arg=True)\n",
        "val_dataset=Kaggld_Dataset([val_x],[val_y])\n"
      ]
    },
    {
      "cell_type": "code",
      "execution_count": 32,
      "metadata": {
        "execution": {
          "iopub.execute_input": "2024-01-25T09:37:52.648646Z",
          "iopub.status.busy": "2024-01-25T09:37:52.648127Z",
          "iopub.status.idle": "2024-01-25T09:37:52.656290Z",
          "shell.execute_reply": "2024-01-25T09:37:52.655405Z",
          "shell.execute_reply.started": "2024-01-25T09:37:52.648610Z"
        },
        "trusted": true
      },
      "outputs": [],
      "source": [
        "train_loader= DataLoader(train_dataset, batch_size=CFG.train_batch_size ,num_workers=2, shuffle=True, pin_memory=True)\n",
        "val_loader = DataLoader(val_dataset, batch_size=CFG.valid_batch_size, num_workers=2, shuffle=False, pin_memory=True)"
      ]
    },
    {
      "cell_type": "code",
      "execution_count": 36,
      "metadata": {
        "execution": {
          "iopub.execute_input": "2024-01-25T09:39:47.005229Z",
          "iopub.status.busy": "2024-01-25T09:39:47.004780Z",
          "iopub.status.idle": "2024-01-25T09:39:47.650488Z",
          "shell.execute_reply": "2024-01-25T09:39:47.649309Z",
          "shell.execute_reply.started": "2024-01-25T09:39:47.005194Z"
        },
        "trusted": true
      },
      "outputs": [],
      "source": [
        "model = build_model(backbone_weights = None)\n",
        "model=DataParallel(model)"
      ]
    },
    {
      "cell_type": "code",
      "execution_count": 58,
      "metadata": {
        "execution": {
          "iopub.execute_input": "2024-01-25T09:46:18.336370Z",
          "iopub.status.busy": "2024-01-25T09:46:18.335333Z",
          "iopub.status.idle": "2024-01-25T09:46:18.345165Z",
          "shell.execute_reply": "2024-01-25T09:46:18.343876Z",
          "shell.execute_reply.started": "2024-01-25T09:46:18.336303Z"
        },
        "trusted": true
      },
      "outputs": [],
      "source": [
        "loss_fn =DiceLoss()\n",
        "optimizer=torch.optim.Adam(model.parameters(),lr=CFG.lr)\n",
        "scaler=torch.cuda.amp.GradScaler()\n",
        "\n",
        "scheduler = torch.optim.lr_scheduler.ReduceLROnPlateau(\n",
        "    optimizer=optimizer, patience=3,threshold = 1e-3, verbose=True, factor=0.8, mode = 'min')\n"
      ]
    },
    {
      "cell_type": "code",
      "execution_count": null,
      "metadata": {
        "execution": {
          "iopub.execute_input": "2024-01-25T09:58:45.146041Z",
          "iopub.status.busy": "2024-01-25T09:58:45.145613Z"
        },
        "trusted": true
      },
      "outputs": [
        {
          "name": "stdout",
          "output_type": "stream",
          "text": [
            "Epoch 1/1"
          ]
        },
        {
          "name": "stderr",
          "output_type": "stream",
          "text": [
            "/opt/conda/lib/python3.10/site-packages/torch/cuda/amp/grad_scaler.py:120: UserWarning: torch.cuda.amp.GradScaler is enabled, but CUDA is not available.  Disabling.\n",
            "  warnings.warn(\"torch.cuda.amp.GradScaler is enabled, but CUDA is not available.  Disabling.\")\n",
            "Train :   0%|          | 0/1148 [00:00<?, ?it/s]/opt/conda/lib/python3.10/site-packages/torch/amp/autocast_mode.py:204: UserWarning: User provided device_type of 'cuda', but CUDA is not available. Disabling\n",
            "  warnings.warn('User provided device_type of \\'cuda\\', but CUDA is not available. Disabling')\n"
          ]
        }
      ],
      "source": [
        "history = run_training(model=model,\n",
        "             optimizer=optimizer,\n",
        "             loss_fn = loss_fn,\n",
        "             scheduler = scheduler,\n",
        "             device = CFG.device,\n",
        "             num_epochs = 1,\n",
        "             train_loader = train_loader,\n",
        "             valid_loader=val_loader,\n",
        "             model_name = 'first_baseline_fp16_unet')"
      ]
    },
    {
      "cell_type": "code",
      "execution_count": null,
      "metadata": {},
      "outputs": [],
      "source": []
    },
    {
      "cell_type": "code",
      "execution_count": null,
      "metadata": {},
      "outputs": [],
      "source": []
    },
    {
      "cell_type": "code",
      "execution_count": null,
      "metadata": {},
      "outputs": [],
      "source": []
    },
    {
      "cell_type": "code",
      "execution_count": null,
      "metadata": {},
      "outputs": [],
      "source": []
    },
    {
      "cell_type": "code",
      "execution_count": null,
      "metadata": {},
      "outputs": [],
      "source": []
    },
    {
      "cell_type": "code",
      "execution_count": null,
      "metadata": {},
      "outputs": [],
      "source": []
    },
    {
      "cell_type": "code",
      "execution_count": null,
      "metadata": {},
      "outputs": [],
      "source": []
    },
    {
      "cell_type": "code",
      "execution_count": null,
      "metadata": {
        "execution": {
          "iopub.execute_input": "2024-01-23T15:00:23.048440Z",
          "iopub.status.busy": "2024-01-23T15:00:23.048006Z",
          "iopub.status.idle": "2024-01-23T15:00:23.055252Z",
          "shell.execute_reply": "2024-01-23T15:00:23.054179Z",
          "shell.execute_reply.started": "2024-01-23T15:00:23.048409Z"
        },
        "trusted": true
      },
      "outputs": [],
      "source": [
        "train_dataset=Kaggld_Dataset(x=train_x,\n",
        "                             y=train_y, \n",
        "                             arg=True, transform= CFG.train_aug )\n",
        "train_loader = DataLoader(train_dataset,\n",
        "           batch_size=CFG.train_batch_size ,\n",
        "           num_workers=2, shuffle=True, pin_memory=True)"
      ]
    },
    {
      "cell_type": "code",
      "execution_count": null,
      "metadata": {
        "execution": {
          "iopub.execute_input": "2024-01-23T15:00:33.295533Z",
          "iopub.status.busy": "2024-01-23T15:00:33.294646Z",
          "iopub.status.idle": "2024-01-23T15:00:35.405080Z",
          "shell.execute_reply": "2024-01-23T15:00:35.403518Z",
          "shell.execute_reply.started": "2024-01-23T15:00:33.295484Z"
        },
        "trusted": true
      },
      "outputs": [],
      "source": [
        "a, b = next(iter(train_loader))"
      ]
    },
    {
      "cell_type": "code",
      "execution_count": null,
      "metadata": {
        "execution": {
          "iopub.execute_input": "2024-01-23T15:00:39.155706Z",
          "iopub.status.busy": "2024-01-23T15:00:39.155119Z",
          "iopub.status.idle": "2024-01-23T15:00:39.164221Z",
          "shell.execute_reply": "2024-01-23T15:00:39.163051Z",
          "shell.execute_reply.started": "2024-01-23T15:00:39.155660Z"
        },
        "trusted": true
      },
      "outputs": [],
      "source": [
        "a.shape"
      ]
    },
    {
      "cell_type": "code",
      "execution_count": null,
      "metadata": {},
      "outputs": [],
      "source": []
    },
    {
      "cell_type": "code",
      "execution_count": null,
      "metadata": {},
      "outputs": [],
      "source": []
    },
    {
      "cell_type": "code",
      "execution_count": null,
      "metadata": {},
      "outputs": [],
      "source": []
    },
    {
      "cell_type": "code",
      "execution_count": null,
      "metadata": {},
      "outputs": [],
      "source": [
        "train"
      ]
    },
    {
      "cell_type": "code",
      "execution_count": null,
      "metadata": {},
      "outputs": [],
      "source": []
    },
    {
      "cell_type": "code",
      "execution_count": null,
      "metadata": {},
      "outputs": [],
      "source": []
    },
    {
      "cell_type": "code",
      "execution_count": null,
      "metadata": {},
      "outputs": [],
      "source": []
    },
    {
      "cell_type": "code",
      "execution_count": null,
      "metadata": {
        "execution": {
          "iopub.status.busy": "2024-01-23T13:55:57.711610Z",
          "iopub.status.idle": "2024-01-23T13:55:57.712177Z",
          "shell.execute_reply": "2024-01-23T13:55:57.711914Z",
          "shell.execute_reply.started": "2024-01-23T13:55:57.711888Z"
        },
        "trusted": true
      },
      "outputs": [],
      "source": [
        "z = train_dataset[1000]"
      ]
    },
    {
      "cell_type": "code",
      "execution_count": null,
      "metadata": {
        "execution": {
          "iopub.execute_input": "2024-01-23T13:08:36.635078Z",
          "iopub.status.busy": "2024-01-23T13:08:36.634579Z",
          "iopub.status.idle": "2024-01-23T13:08:36.643083Z",
          "shell.execute_reply": "2024-01-23T13:08:36.641332Z",
          "shell.execute_reply.started": "2024-01-23T13:08:36.635024Z"
        },
        "trusted": true
      },
      "outputs": [],
      "source": [
        "z[0]"
      ]
    },
    {
      "cell_type": "code",
      "execution_count": null,
      "metadata": {},
      "outputs": [],
      "source": []
    },
    {
      "cell_type": "code",
      "execution_count": null,
      "metadata": {},
      "outputs": [],
      "source": []
    },
    {
      "cell_type": "code",
      "execution_count": null,
      "metadata": {},
      "outputs": [],
      "source": []
    },
    {
      "cell_type": "code",
      "execution_count": null,
      "metadata": {},
      "outputs": [],
      "source": []
    },
    {
      "cell_type": "code",
      "execution_count": null,
      "metadata": {},
      "outputs": [],
      "source": []
    },
    {
      "cell_type": "code",
      "execution_count": null,
      "metadata": {},
      "outputs": [],
      "source": []
    },
    {
      "cell_type": "code",
      "execution_count": null,
      "metadata": {},
      "outputs": [],
      "source": []
    },
    {
      "cell_type": "code",
      "execution_count": null,
      "metadata": {},
      "outputs": [],
      "source": []
    },
    {
      "cell_type": "code",
      "execution_count": null,
      "metadata": {},
      "outputs": [],
      "source": []
    },
    {
      "cell_type": "code",
      "execution_count": null,
      "metadata": {},
      "outputs": [],
      "source": []
    },
    {
      "cell_type": "code",
      "execution_count": null,
      "metadata": {},
      "outputs": [],
      "source": []
    },
    {
      "cell_type": "code",
      "execution_count": null,
      "metadata": {
        "execution": {
          "iopub.execute_input": "2024-01-23T12:56:00.917605Z",
          "iopub.status.busy": "2024-01-23T12:56:00.917017Z",
          "iopub.status.idle": "2024-01-23T12:56:00.990872Z",
          "shell.execute_reply": "2024-01-23T12:56:00.989127Z",
          "shell.execute_reply.started": "2024-01-23T12:56:00.917566Z"
        },
        "trusted": true
      },
      "outputs": [],
      "source": [
        "#(C,H,W)\n",
        "\n",
        "#aug\n",
        "train_x.append(x.permute(1,2,0))\n",
        "train_y.append(y.permute(1,2,0))\n",
        "train_x.append(x.permute(2,0,1))\n",
        "train_y.append(y.permute(2,0,1))\n",
        "del(x)\n",
        "del(y)"
      ]
    },
    {
      "cell_type": "markdown",
      "metadata": {},
      "source": []
    },
    {
      "cell_type": "code",
      "execution_count": null,
      "metadata": {},
      "outputs": [],
      "source": []
    },
    {
      "cell_type": "code",
      "execution_count": null,
      "metadata": {},
      "outputs": [],
      "source": []
    },
    {
      "cell_type": "code",
      "execution_count": null,
      "metadata": {},
      "outputs": [],
      "source": []
    },
    {
      "cell_type": "code",
      "execution_count": null,
      "metadata": {
        "execution": {
          "iopub.execute_input": "2024-01-23T11:54:05.682762Z",
          "iopub.status.busy": "2024-01-23T11:54:05.682197Z",
          "iopub.status.idle": "2024-01-23T11:54:56.930462Z",
          "shell.execute_reply": "2024-01-23T11:54:56.928569Z",
          "shell.execute_reply.started": "2024-01-23T11:54:05.682718Z"
        },
        "trusted": true
      },
      "outputs": [],
      "source": [
        "x=(min_max_normalization(x.to(torch.float16)[None])[0]*255).to(torch.uint8)"
      ]
    },
    {
      "cell_type": "code",
      "execution_count": null,
      "metadata": {
        "execution": {
          "iopub.execute_input": "2024-01-23T12:13:04.019213Z",
          "iopub.status.busy": "2024-01-23T12:13:04.018693Z",
          "iopub.status.idle": "2024-01-23T12:13:04.071789Z",
          "shell.execute_reply": "2024-01-23T12:13:04.069948Z",
          "shell.execute_reply.started": "2024-01-23T12:13:04.019175Z"
        },
        "trusted": true
      },
      "outputs": [],
      "source": [
        "plt.imshow(x[1500])"
      ]
    },
    {
      "cell_type": "code",
      "execution_count": null,
      "metadata": {
        "execution": {
          "iopub.execute_input": "2024-01-23T11:55:37.130819Z",
          "iopub.status.busy": "2024-01-23T11:55:37.130332Z",
          "iopub.status.idle": "2024-01-23T11:55:37.141906Z",
          "shell.execute_reply": "2024-01-23T11:55:37.140325Z",
          "shell.execute_reply.started": "2024-01-23T11:55:37.130784Z"
        },
        "trusted": true
      },
      "outputs": [],
      "source": [
        "x[1500]"
      ]
    },
    {
      "cell_type": "code",
      "execution_count": null,
      "metadata": {},
      "outputs": [],
      "source": []
    },
    {
      "cell_type": "markdown",
      "metadata": {},
      "source": [
        "# Model"
      ]
    },
    {
      "cell_type": "code",
      "execution_count": null,
      "metadata": {
        "trusted": true
      },
      "outputs": [],
      "source": [
        "class CustomModel(nn.Module):\n",
        "    def __init__(self, CFG, weight=None):\n",
        "        super().__init__()\n",
        "        self.CFG = CFG\n",
        "        self.model = smp.Unet(\n",
        "            encoder_name=CFG.backbone, \n",
        "            encoder_weights=weight,\n",
        "            in_channels=CFG.in_chans,\n",
        "            classes=CFG.target_size,\n",
        "            activation=None,\n",
        "        )\n",
        "        self.batch=CFG.batch\n",
        "\n",
        "    def forward_(self, image):\n",
        "        output = self.model(image)\n",
        "        return output[:,0]\n",
        "    \n",
        "    def forward(self,x:tc.Tensor):\n",
        "        #x.shape=(batch,c,h,w)\n",
        "        x=x.to(tc.float32)\n",
        "        x=norm_with_clip(x.reshape(-1,*x.shape[2:])).reshape(x.shape)\n",
        "        \n",
        "        if CFG.input_size!=CFG.image_size:\n",
        "            x=nn.functional.interpolate(x,size=(CFG.input_size,CFG.input_size),mode='bilinear',align_corners=True)\n",
        "        \n",
        "        shape=x.shape\n",
        "        x=[tc.rot90(x,k=i,dims=(-2,-1)) for i in range(4)]\n",
        "        x=tc.cat(x,dim=0)\n",
        "        with autocast():\n",
        "            with tc.no_grad():\n",
        "                x=[self.forward_(x[i*self.batch:(i+1)*self.batch]) for i in range(x.shape[0]//self.batch+1)]\n",
        "                # batch=64,64...48\n",
        "                x=tc.cat(x,dim=0)\n",
        "        x=x.sigmoid()\n",
        "        x=x.reshape(4,shape[0],*shape[2:])\n",
        "        x=[tc.rot90(x[i],k=-i,dims=(-2,-1)) for i in range(4)]\n",
        "        x=tc.stack(x,dim=0).mean(0)\n",
        "        \n",
        "        if CFG.input_size!=CFG.image_size:\n",
        "            x=nn.functional.interpolate(x[None],size=(CFG.image_size,CFG.image_size),mode='bilinear',align_corners=True)[0]\n",
        "        return x\n",
        "\n",
        "\n",
        "def build_model(weight=None):\n",
        "    load_dotenv()\n",
        "\n",
        "    print('model_name', CFG.model_name)\n",
        "    print('backbone', CFG.backbone)\n",
        "\n",
        "    model = CustomModel(CFG, weight)\n",
        "\n",
        "    return model.cuda()"
      ]
    },
    {
      "cell_type": "markdown",
      "metadata": {},
      "source": [
        "# Size"
      ]
    },
    {
      "cell_type": "code",
      "execution_count": null,
      "metadata": {
        "trusted": true
      },
      "outputs": [],
      "source": [
        "def to_1024(img , image_size = 1024):\n",
        "    if image_size > img.shape[1]:\n",
        "       img = np.rot90(img)\n",
        "       start1 = (CFG.image_size - img.shape[0])//2 \n",
        "       top =     img[0                    : start1,   0: img.shape[1] ]\n",
        "       bottom  = img[img.shape[0] -start1 : img.shape[0],   0 : img.shape[1] ]\n",
        "       img_result = np.concatenate((top,img,bottom ),axis=0)\n",
        "       img_result = np.rot90(img_result)\n",
        "       img_result = np.rot90(img_result)\n",
        "       img_result = np.rot90(img_result)\n",
        "    else :\n",
        "       img_result = img\n",
        "    return img_result\n",
        "\n",
        "def to_1024_no_rot(img, image_size = 1024):\n",
        "    if image_size > img.shape[0]:  \n",
        "       start1 = ( image_size - img.shape[0])//2\n",
        "       top =     img[0                    : start1,   0: img.shape[1] ]\n",
        "       bottom  = img[img.shape[0] -start1 : img.shape[0],   0 : img.shape[1] ]\n",
        "       img_result = np.concatenate((top,img,bottom ),axis=0)\n",
        "    else: \n",
        "       img_result = img\n",
        "    return img_result\n",
        "\n",
        "def to_1024_1024(img  , image_size = 1024 ):\n",
        "     img_result = to_1024(img, image_size )\n",
        "     return img_result\n",
        "    \n",
        "def to_original ( im_after, img, image_size = 1024 ):\n",
        "    top_ = 0\n",
        "    left_ = 0\n",
        "    if (im_after.shape[0] > img.shape[0]):\n",
        "             top_  = ( image_size - img.shape[0])//2 \n",
        "    if    (im_after.shape[1] > img.shape[1]) :\n",
        "             left_  = ( image_size - img.shape[1])//2  \n",
        "    if (top_>0)or (left_>0) :\n",
        "             img_result = im_after[top_  : img.shape[0] + top_,   left_: img.shape[1] + left_ ]\n",
        "    else:\n",
        "             img_result = im_after\n",
        "    return img_result  "
      ]
    },
    {
      "cell_type": "markdown",
      "metadata": {},
      "source": [
        "# Functions"
      ]
    },
    {
      "cell_type": "code",
      "execution_count": null,
      "metadata": {
        "trusted": true
      },
      "outputs": [],
      "source": [
        "def rle_encode(mask):\n",
        "    pixel = mask.flatten()\n",
        "    pixel = np.concatenate([[0], pixel, [0]])\n",
        "    run = np.where(pixel[1:] != pixel[:-1])[0] + 1\n",
        "    run[1::2] -= run[::2]\n",
        "    rle = ' '.join(str(r) for r in run)\n",
        "    if rle == '':\n",
        "        rle = '1 0'\n",
        "    return rle\n",
        "\n",
        "def min_max_normalization(x:tc.Tensor)->tc.Tensor:\n",
        "    \"\"\"input.shape=(batch,f1,...)\"\"\"\n",
        "    shape=x.shape\n",
        "    if x.ndim>2:\n",
        "        x=x.reshape(x.shape[0],-1)\n",
        "    \n",
        "    min_=x.min(dim=-1,keepdim=True)[0]\n",
        "    max_=x.max(dim=-1,keepdim=True)[0]\n",
        "    if min_.mean()==0 and max_.mean()==1:\n",
        "        return x.reshape(shape)\n",
        "    \n",
        "    x=(x-min_)/(max_-min_+1e-9)\n",
        "    return x.reshape(shape)\n",
        "\n",
        "def norm_with_clip(x:tc.Tensor,smooth=1e-5):\n",
        "    dim=list(range(1,x.ndim))\n",
        "    mean=x.mean(dim=dim,keepdim=True)\n",
        "    std=x.std(dim=dim,keepdim=True)\n",
        "    x=(x-mean)/(std+smooth)\n",
        "    x[x>5]=(x[x>5]-5)*1e-3 +5\n",
        "    x[x<-3]=(x[x<-3]+3)*1e-3-3\n",
        "    return x\n",
        "\n",
        "class Data_loader(Dataset):\n",
        "    def __init__(self,path,s=\"/images/\"):\n",
        "        self.paths=glob(path+f\"{s}*.tif\")\n",
        "        self.paths.sort()\n",
        "        self.bool=s==\"/labels/\"\n",
        "    \n",
        "    def __len__(self):\n",
        "        return len(self.paths)\n",
        "    \n",
        "    def __getitem__(self,index):\n",
        "        img=cv2.imread(self.paths[index],cv2.IMREAD_GRAYSCALE)\n",
        "        img = to_1024_1024(img , image_size = CFG.image_size )\n",
        "        \n",
        "        img=tc.from_numpy(img.copy())\n",
        "        if self.bool:\n",
        "            img=img.to(tc.bool)\n",
        "        else:\n",
        "            img=img.to(tc.uint8)\n",
        "        return img\n",
        "\n",
        "def load_data(path,s):\n",
        "    data_loader=Data_loader(path,s)\n",
        "    data_loader=DataLoader(data_loader, batch_size=16, num_workers=2)\n",
        "    data=[]\n",
        "    for x in tqdm(data_loader):\n",
        "        data.append(x)\n",
        "    x=tc.cat(data,dim=0)\n",
        "    ########################################################################\n",
        "    TH=x.reshape(-1).numpy()\n",
        "    index = -int(len(TH) * CFG.chopping_percentile)\n",
        "    TH:int = np.partition(TH, index)[index]\n",
        "    x[x>TH]=int(TH)\n",
        "    ########################################################################\n",
        "    TH=x.reshape(-1).numpy()\n",
        "    index = -int(len(TH) * CFG.chopping_percentile)\n",
        "    TH:int = np.partition(TH, -index)[-index]\n",
        "    x[x<TH]=int(TH)\n",
        "    ########################################################################\n",
        "    #x=(min_max_normalization(x.to(tc.float16))*255).to(tc.uint8)\n",
        "    return x\n",
        "\n",
        "class Pipeline_Dataset(Dataset):\n",
        "    def __init__(self,x,path):\n",
        "        self.img_paths  = glob(path+\"/images/*\")\n",
        "        self.img_paths.sort()\n",
        "        self.in_chan = CFG.in_chans\n",
        "        z=tc.zeros(self.in_chan//2,*x.shape[1:],dtype=x.dtype)\n",
        "        self.x=tc.cat((z,x,z),dim=0)\n",
        "        \n",
        "    def __len__(self):\n",
        "        return self.x.shape[0]-self.in_chan+1\n",
        "    \n",
        "    def __getitem__(self, index):\n",
        "        x  = self.x[index:index+self.in_chan]\n",
        "        return x,index\n",
        "    \n",
        "    def get_mark(self,index):\n",
        "        id=self.img_paths[index].split(\"/\")[-3:]\n",
        "        id.pop(1)\n",
        "        id=\"_\".join(id)\n",
        "        return id[:-4]\n",
        "    \n",
        "    def get_marks(self):\n",
        "        ids=[]\n",
        "        for index in range(len(self)):\n",
        "            ids.append(self.get_mark(index))\n",
        "        return ids\n",
        "\n",
        "def add_edge(x:tc.Tensor,edge:int):\n",
        "    #x=(C,H,W)\n",
        "    #output=(C,H+2*edge,W+2*edge)\n",
        "    mean_=int(x.to(tc.float32).mean())\n",
        "    x=tc.cat([x,tc.ones([x.shape[0],edge,x.shape[2]],dtype=x.dtype,device=x.device)*mean_],dim=1)\n",
        "    x=tc.cat([x,tc.ones([x.shape[0],x.shape[1],edge],dtype=x.dtype,device=x.device)*mean_],dim=2)\n",
        "    x=tc.cat([tc.ones([x.shape[0],edge,x.shape[2]],dtype=x.dtype,device=x.device)*mean_,x],dim=1)\n",
        "    x=tc.cat([tc.ones([x.shape[0],x.shape[1],edge],dtype=x.dtype,device=x.device)*mean_,x],dim=2)\n",
        "    return x"
      ]
    },
    {
      "cell_type": "markdown",
      "metadata": {},
      "source": [
        "# Build model(s)"
      ]
    },
    {
      "cell_type": "code",
      "execution_count": null,
      "metadata": {
        "trusted": true
      },
      "outputs": [],
      "source": [
        "model=build_model()\n",
        "model.load_state_dict(tc.load(CFG.model_path[ model_path_i ],\"cpu\"))\n",
        "model.eval()\n",
        "model=DataParallel(model)"
      ]
    },
    {
      "cell_type": "code",
      "execution_count": null,
      "metadata": {
        "trusted": true
      },
      "outputs": [],
      "source": [
        "def get_output(debug=False):\n",
        "    outputs=[]\n",
        "    \n",
        "    if debug:\n",
        "        paths=[\"/kaggle/input/blood-vessel-segmentation/train/kidney_2\"]\n",
        "    else:\n",
        "        paths=glob(\"/kaggle/input/blood-vessel-segmentation/test/*\")\n",
        "    outputs=[[],[]]\n",
        "    for path in [ paths[CFG.path_submition] ]:\n",
        "        x=load_data(path,\"/images/\")\n",
        "        labels=tc.zeros_like(x,dtype=tc.uint8)\n",
        "        mark=Pipeline_Dataset(x,path).get_marks()\n",
        "        \n",
        "        \n",
        "        for axis in [0,1,2]:\n",
        "            debug_count=0\n",
        "            if axis==0:\n",
        "                x_=x\n",
        "                labels_=labels\n",
        "            elif axis==1:\n",
        "                x_=x.permute(1,2,0)\n",
        "                labels_=labels.permute(1,2,0)\n",
        "            elif axis==2:\n",
        "                x_=x.permute(2,0,1)\n",
        "                labels_=labels.permute(2,0,1)\n",
        "            if x.shape[0]==3 and axis!=0:\n",
        "                break\n",
        "            dataset=Pipeline_Dataset(x_,path)\n",
        "            dataloader=DataLoader(dataset,batch_size=1,shuffle=False,num_workers=1)\n",
        "            shape=dataset.x.shape[-2:]\n",
        "            x1_list = np.arange(0, shape[0]+CFG.tile_size-CFG.tile_size+1, CFG.stride)\n",
        "            y1_list = np.arange(0, shape[1]+CFG.tile_size-CFG.tile_size+1, CFG.stride)\n",
        "            for img,index in tqdm(dataloader):\n",
        "                #img=(1,C,H,W)\n",
        "                img=img.to(\"cuda:0\")\n",
        "                img=add_edge(img[0],CFG.tile_size//2)[None]\n",
        "\n",
        "                mask_pred = tc.zeros_like(img[:,0],dtype=tc.float32,device=img.device)\n",
        "                mask_count = tc.zeros_like(img[:,0],dtype=tc.float32,device=img.device)\n",
        "\n",
        "                indexs=[]\n",
        "                chip=[]\n",
        "                for y1 in y1_list:\n",
        "                    for x1 in x1_list:\n",
        "                        x2 = x1 + CFG.tile_size\n",
        "                        y2 = y1 + CFG.tile_size\n",
        "                        indexs.append([x1+CFG.drop_egde_pixel,x2-CFG.drop_egde_pixel,\n",
        "                                       y1+CFG.drop_egde_pixel,y2-CFG.drop_egde_pixel])\n",
        "                        chip.append(img[...,x1:x2,y1:y2])\n",
        "\n",
        "                y_preds = model.forward(tc.cat(chip)).to(device=0)\n",
        "\n",
        "                if CFG.drop_egde_pixel:\n",
        "                    y_preds=y_preds[...,CFG.drop_egde_pixel:-CFG.drop_egde_pixel,\n",
        "                                        CFG.drop_egde_pixel:-CFG.drop_egde_pixel]\n",
        "                for i,(x1,x2,y1,y2) in enumerate(indexs):\n",
        "                    mask_pred[...,x1:x2, y1:y2] += y_preds[i]\n",
        "                    mask_count[...,x1:x2, y1:y2] += 1\n",
        "\n",
        "                mask_pred /= mask_count\n",
        "\n",
        "                #Rrecover\n",
        "                mask_pred=mask_pred[...,CFG.tile_size//2:-CFG.tile_size//2,CFG.tile_size//2:-CFG.tile_size//2]\n",
        "                \n",
        "                labels_[index]+=(mask_pred[0]*255 /3 ).to(tc.uint8).cpu()\n",
        "                if debug:\n",
        "                    debug_count+=1\n",
        "                    plt.subplot(121)\n",
        "                    plt.imshow(img[0,CFG.in_chans//2].cpu().detach().numpy())\n",
        "                    plt.subplot(122)\n",
        "                    plt.imshow(mask_pred[0].cpu().detach().numpy())\n",
        "                    plt.show()\n",
        "                    if debug_count>3:\n",
        "                        break\n",
        "        outputs[0].append(labels)\n",
        "        outputs[1].extend(mark)\n",
        "    return outputs"
      ]
    },
    {
      "cell_type": "code",
      "execution_count": null,
      "metadata": {
        "trusted": true
      },
      "outputs": [],
      "source": [
        "is_submit=len(glob(\"/kaggle/input/blood-vessel-segmentation/test/kidney_5/images/*.tif\"))!=3\n",
        "#is_submit=True\n",
        "output,ids=get_output(not is_submit)\n",
        "\n",
        "\n",
        "####################################\n",
        "TH=[x.flatten().numpy() for x in output]\n",
        "TH=np.concatenate(TH)\n",
        "index = -int(len(TH) * CFG.th_percentile)\n",
        "TH:int = np.partition(TH, index)[index]\n",
        "print(TH)\n",
        "\n",
        "img=cv2.imread(\"/kaggle/input/blood-vessel-segmentation/test/kidney_5/images/0001.tif\",cv2.IMREAD_GRAYSCALE)\n",
        "\n",
        "####################################\n",
        "submission_df=[]\n",
        "debug_count=0\n",
        "for index in range(len(ids)):\n",
        "    id=ids[index]\n",
        "    i=0\n",
        "    for x in output:\n",
        "        if index>=len(x):\n",
        "            index-=len(x)\n",
        "            i+=1\n",
        "        else:\n",
        "            break\n",
        "    mask_pred=(output[i][index]>TH).numpy()\n",
        "    \n",
        "    mask_pred2 = to_original ( mask_pred, img, image_size = 1024 )\n",
        "    mask_pred =  mask_pred2.copy()\n",
        "    \n",
        "    ####################################\n",
        "    if not is_submit:\n",
        "        plt.subplot(121)\n",
        "        plt.imshow(mask_pred)\n",
        "        plt.show()\n",
        "        debug_count+=1\n",
        "        if debug_count>6:\n",
        "            break\n",
        "        \n",
        "    rle = rle_encode(mask_pred)\n",
        "    \n",
        "    submission_df.append(\n",
        "        pd.DataFrame(data={\n",
        "            'id'  : id,\n",
        "            'rle' : rle,\n",
        "        },index=[0])\n",
        "    )\n",
        "\n",
        "submission_df =pd.concat(submission_df)\n",
        "submission_df.to_csv('submission.csv', index=False)\n",
        "submission_df.head(6)"
      ]
    }
  ],
  "metadata": {
    "kaggle": {
      "accelerator": "nvidiaTeslaT4",
      "dataSources": [
        {
          "databundleVersionId": 6962461,
          "sourceId": 61446,
          "sourceType": "competition"
        },
        {
          "datasetId": 4087873,
          "sourceId": 7187369,
          "sourceType": "datasetVersion"
        },
        {
          "datasetId": 4229452,
          "isSourceIdPinned": true,
          "sourceId": 7312958,
          "sourceType": "datasetVersion"
        },
        {
          "datasetId": 4243245,
          "isSourceIdPinned": true,
          "sourceId": 7317236,
          "sourceType": "datasetVersion"
        },
        {
          "datasetId": 4249424,
          "isSourceIdPinned": true,
          "sourceId": 7322239,
          "sourceType": "datasetVersion"
        },
        {
          "datasetId": 4250312,
          "isSourceIdPinned": true,
          "sourceId": 7336367,
          "sourceType": "datasetVersion"
        },
        {
          "sourceId": 150248402,
          "sourceType": "kernelVersion"
        },
        {
          "sourceId": 156694315,
          "sourceType": "kernelVersion"
        }
      ],
      "dockerImageVersionId": 30588,
      "isGpuEnabled": true,
      "isInternetEnabled": false,
      "language": "python",
      "sourceType": "notebook"
    },
    "kernelspec": {
      "display_name": "Python 3",
      "language": "python",
      "name": "python3"
    },
    "language_info": {
      "codemirror_mode": {
        "name": "ipython",
        "version": 3
      },
      "file_extension": ".py",
      "mimetype": "text/x-python",
      "name": "python",
      "nbconvert_exporter": "python",
      "pygments_lexer": "ipython3",
      "version": "3.9.0"
    }
  },
  "nbformat": 4,
  "nbformat_minor": 4
}
