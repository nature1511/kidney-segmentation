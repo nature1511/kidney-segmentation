{
  "cells": [
    {
      "cell_type": "code",
      "execution_count": 3,
      "id": "74d22efb-ba8e-4a14-8e47-3b292f996743",
      "metadata": {},
      "outputs": [],
      "source": [
        "import numpy as np"
      ]
    },
    {
      "cell_type": "code",
      "execution_count": null,
      "id": "56149eff-e0b7-4f82-8ff4-d14861f755fd",
      "metadata": {},
      "outputs": [],
      "source": []
    },
    {
      "cell_type": "markdown",
      "id": "831af6fd-7ff5-4d8a-b2e3-39d2c7883b15",
      "metadata": {},
      "source": [
        "https://www.youtube.com/watch?v=LG8lbm_W380\n",
        "\n",
        "https://github.com/rohan-paul/MachineLearning-DeepLearning-Code-for-my-YouTube-Channel/blob/master/Computer_Vision/run_length_encoding.ipynb"
      ]
    },
    {
      "cell_type": "code",
      "execution_count": 4,
      "id": "f90df57a-06fd-47a2-b02c-9db67a5251bc",
      "metadata": {},
      "outputs": [],
      "source": [
        "\n",
        "\n",
        "\n",
        "def rle_encode(img):\n",
        "    '''\n",
        "    img: numpy array, 1 - mask, 0 - background\n",
        "    Returns run length as string formated\n",
        "    '''\n",
        "    pixels = img.flatten()\n",
        "    pixels = np.concatenate([[0], pixels, [0]])\n",
        "    runs = np.where(pixels[1:] != pixels[:-1])[0] + 1\n",
        "    runs[1::2] -= runs[::2]\n",
        "    return ' '.join(str(x) for x in runs)"
      ]
    },
    {
      "cell_type": "code",
      "execution_count": 19,
      "id": "001f1ce3-d791-48ef-b05a-4f011e227a9e",
      "metadata": {},
      "outputs": [],
      "source": [
        "def rle_decode(mask_rle, shape):\n",
        "    '''\n",
        "    mask_rle: run-length as string formated (start length)\n",
        "    shape: (height,width) of array to return \n",
        "    Returns numpy array, 1 - mask, 0 - background\n",
        "\n",
        "    '''\n",
        "    s = mask_rle.split()\n",
        "    print(s, 's')\n",
        "    starts, lengths = [np.asarray(x, dtype=int) for x in (s[0:][::2], s[1:][::2])]\n",
        "    print(starts, lengths)\n",
        "    starts -= 1"
      ]
    },
    {
      "cell_type": "code",
      "execution_count": 20,
      "id": "9907ceb2-f8dd-4ef7-94f5-29dafdb70801",
      "metadata": {},
      "outputs": [
        {
          "name": "stdout",
          "output_type": "stream",
          "text": [
            "['5', '1', '10', '3', '15', '3', '21', '2'] s\n",
            "[ 5 10 15 21] [1 3 3 2]\n"
          ]
        }
      ],
      "source": [
        "img = np.array([[0, 0, 0, 0, 1, 0],\n",
        " [0, 0, 0, 1, 1, 1],\n",
        " [0, 0, 1, 1, 1, 0],\n",
        " [0, 0, 1, 1, 0, 0]])\n",
        "rle_decode(rle_encode(img), (4,4))"
      ]
    },
    {
      "cell_type": "code",
      "execution_count": 22,
      "id": "bb8a9b19-a1c1-40f9-84e3-3ee8296a3427",
      "metadata": {},
      "outputs": [
        {
          "data": {
            "text/plain": [
              "1"
            ]
          },
          "metadata": {},
          "output_type": "display_data"
        }
      ],
      "source": [
        "display(1)"
      ]
    },
    {
      "cell_type": "code",
      "execution_count": null,
      "id": "5f507d08-01e9-4a29-a199-a136fc6507c9",
      "metadata": {},
      "outputs": [],
      "source": []
    },
    {
      "cell_type": "code",
      "execution_count": null,
      "id": "0e566bda-f278-4242-8500-fb4a11068816",
      "metadata": {},
      "outputs": [],
      "source": []
    },
    {
      "cell_type": "code",
      "execution_count": null,
      "id": "1f1c865e-063f-4ff1-a99e-057185dfc3b3",
      "metadata": {},
      "outputs": [],
      "source": []
    },
    {
      "cell_type": "code",
      "execution_count": null,
      "id": "59f8e6eb-cdc2-4047-ba2c-f3ada86a72f2",
      "metadata": {},
      "outputs": [],
      "source": []
    },
    {
      "cell_type": "code",
      "execution_count": 41,
      "id": "85c4957e-8106-4f51-983a-6d4a03a520b5",
      "metadata": {},
      "outputs": [],
      "source": [
        "img = np.array([[1,0,0,1],[1,1,1,1],[0,1,1,0],[0,0,0,0]])\n",
        "img = np.array([[0, 0, 0, 0, 1, 0],\n",
        " [0, 0, 0, 1, 1, 1],\n",
        " [0, 0, 1, 1, 1, 0],\n",
        " [0, 0, 1, 1, 0, 0]])\n",
        "pixels = img.flatten()"
      ]
    },
    {
      "cell_type": "code",
      "execution_count": 43,
      "id": "024c13e7-dac8-4f85-8410-3be086f4eca1",
      "metadata": {},
      "outputs": [
        {
          "data": {
            "text/plain": [
              "'5 1 10 3 15 3 21 2'"
            ]
          },
          "execution_count": 43,
          "metadata": {},
          "output_type": "execute_result"
        }
      ],
      "source": [
        "rle_encode(img)"
      ]
    },
    {
      "cell_type": "code",
      "execution_count": 36,
      "id": "e08f33be-0e2c-42d7-87c8-0d67a73ea0fe",
      "metadata": {},
      "outputs": [
        {
          "data": {
            "text/plain": [
              "array([0, 0, 0, 1, 1, 0])"
            ]
          },
          "execution_count": 36,
          "metadata": {},
          "output_type": "execute_result"
        }
      ],
      "source": [
        "pixels = np.concatenate([[0], pixels, [0]])\n",
        "pixels "
      ]
    },
    {
      "cell_type": "code",
      "execution_count": 37,
      "id": "a69fa98b-c923-461e-bf24-d3e72a566b15",
      "metadata": {},
      "outputs": [
        {
          "data": {
            "text/plain": [
              "array([3, 5], dtype=int64)"
            ]
          },
          "execution_count": 37,
          "metadata": {},
          "output_type": "execute_result"
        }
      ],
      "source": [
        "runs = np.where(pixels[1:] != pixels[:-1])[0] + 1\n",
        "runs"
      ]
    },
    {
      "cell_type": "code",
      "execution_count": 38,
      "id": "1cd67927-1bd5-4e97-86e7-c522352d7685",
      "metadata": {},
      "outputs": [],
      "source": [
        "runs[1::2] -= runs[::2]"
      ]
    },
    {
      "cell_type": "code",
      "execution_count": 39,
      "id": "17b09e95-3e7e-4a7f-9adc-266043f93324",
      "metadata": {},
      "outputs": [
        {
          "data": {
            "text/plain": [
              "array([3, 2], dtype=int64)"
            ]
          },
          "execution_count": 39,
          "metadata": {},
          "output_type": "execute_result"
        }
      ],
      "source": [
        "runs"
      ]
    },
    {
      "cell_type": "code",
      "execution_count": 40,
      "id": "926da3ca-f262-4a6d-8a2a-e5e16bf7c0d6",
      "metadata": {},
      "outputs": [
        {
          "data": {
            "text/plain": [
              "'3 2'"
            ]
          },
          "execution_count": 40,
          "metadata": {},
          "output_type": "execute_result"
        }
      ],
      "source": [
        "' '.join(str(x) for x in runs)"
      ]
    },
    {
      "cell_type": "code",
      "execution_count": null,
      "id": "7dead673-333a-4a6b-bdfd-447ebf42f9fb",
      "metadata": {},
      "outputs": [],
      "source": []
    }
  ],
  "metadata": {
    "kernelspec": {
      "display_name": "Python 3 (ipykernel)",
      "language": "python",
      "name": "python3"
    },
    "language_info": {
      "codemirror_mode": {
        "name": "ipython",
        "version": 3
      },
      "file_extension": ".py",
      "mimetype": "text/x-python",
      "name": "python",
      "nbconvert_exporter": "python",
      "pygments_lexer": "ipython3",
      "version": "3.8.18"
    }
  },
  "nbformat": 4,
  "nbformat_minor": 5
}
