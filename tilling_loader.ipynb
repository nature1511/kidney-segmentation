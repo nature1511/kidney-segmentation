{
 "cells": [
  {
   "cell_type": "code",
   "execution_count": 31,
   "metadata": {},
   "outputs": [],
   "source": [
    "import pandas as pd\n",
    "from torch.utils.data import Dataset\n",
    "from typing import Optional, List, TypeVar, Union\n",
    "from pathlib import Path\n",
    "from torch.utils.data import Dataset\n",
    "import rasterio\n",
    "from tqdm import tqdm\n",
    "import numpy as np\n",
    "import cv2\n",
    "import warnings\n",
    "from segmentation.config import Configs as CFG\n",
    "from segmentation.scr.rle_coding import *\n",
    "from segmentation.scr.tilling_loader import random_sub_df\n",
    "import matplotlib.pyplot as plt\n",
    "\n",
    "\n",
    "PandasDataFrame = TypeVar('pandas.core.frame.DataFrame')"
   ]
  },
  {
   "cell_type": "code",
   "execution_count": 2,
   "metadata": {},
   "outputs": [],
   "source": [
    "df = pd.read_csv(CFG.path_df_kidney_1_til)"
   ]
  },
  {
   "cell_type": "code",
   "execution_count": 29,
   "metadata": {},
   "outputs": [
    {
     "name": "stdout",
     "output_type": "stream",
     "text": [
      "20\n",
      "Dataset contains 1528 empty and 12146 non-empty tiles.\n",
      "Sample 2 empty and 18 non-empty tiles.\n"
     ]
    }
   ],
   "source": [
    "class Tilling_loader(Dataset):\n",
    "    \"\"\"Creating a dataloader for image tiling\n",
    "    \"\"\"\n",
    "\n",
    "    def __init__(self,\n",
    "                 name_data: str,\n",
    "                 path_to_df: str,\n",
    "                 use_random_sub: bool = False,\n",
    "                 empty_tile_pct: int = 0,\n",
    "                 sample_limit :Optional[int] = None,\n",
    "                 transform=None\n",
    "\n",
    "                 ):\n",
    "        super().__init__()\n",
    "        self.name_data = name_data\n",
    "        self.path_to_df = Path(path_to_df)\n",
    "        self.use_random_sub = use_random_sub\n",
    "        self.empty_tile_pct = empty_tile_pct\n",
    "        self.sample_limit = sample_limit\n",
    "        self.transform = transform\n",
    "\n",
    "        df = pd.read_csv(self.path_to_df)\n",
    "        if self.use_random_sub:\n",
    "            self.df = random_sub_df(df=df, sample_limit=self.sample_limit,\n",
    "                                    empty_tile_pct=self.empty_tile_pct)\n",
    "        else:\n",
    "            self.df = df\n",
    "\n",
    "    def __len__(self) -> int:\n",
    "        return self.df.shape[0]\n",
    "\n",
    "    def __getitem__(self, idx) -> tuple:\n",
    "        img_path, lb_path, is_empty, bbx, px_stats, size = self.df.iloc[idx, :].values\n",
    "\n",
    "        return img_path, lb_path, is_empty, bbx, px_stats, size\n",
    "\n",
    "\n",
    "data_loader = Tilling_loader(\n",
    "    name_data='kidney_1_tilling',\n",
    "    path_to_df='data\\\\kidney_1_tilling.csv',\n",
    "    use_random_sub=True,\n",
    "    empty_tile_pct=10,\n",
    "    sample_limit=20\n",
    ")"
   ]
  },
  {
   "cell_type": "code",
   "execution_count": 27,
   "metadata": {},
   "outputs": [
    {
     "data": {
      "text/plain": [
       "is_empty\n",
       "False    0.9\n",
       "True     0.1\n",
       "Name: proportion, dtype: float64"
      ]
     },
     "execution_count": 27,
     "metadata": {},
     "output_type": "execute_result"
    }
   ],
   "source": [
    "data_loader.df['is_empty'].value_counts(normalize=True)"
   ]
  },
  {
   "cell_type": "code",
   "execution_count": 30,
   "metadata": {},
   "outputs": [],
   "source": [
    "for i in range(len(data_loader)):\n",
    "    x = data_loader[i]"
   ]
  },
  {
   "cell_type": "code",
   "execution_count": 28,
   "metadata": {},
   "outputs": [
    {
     "data": {
      "text/html": [
       "<div>\n",
       "<style scoped>\n",
       "    .dataframe tbody tr th:only-of-type {\n",
       "        vertical-align: middle;\n",
       "    }\n",
       "\n",
       "    .dataframe tbody tr th {\n",
       "        vertical-align: top;\n",
       "    }\n",
       "\n",
       "    .dataframe thead th {\n",
       "        text-align: right;\n",
       "    }\n",
       "</style>\n",
       "<table border=\"1\" class=\"dataframe\">\n",
       "  <thead>\n",
       "    <tr style=\"text-align: right;\">\n",
       "      <th></th>\n",
       "      <th>path_img</th>\n",
       "      <th>path_lb</th>\n",
       "      <th>is_empty</th>\n",
       "      <th>bbx</th>\n",
       "      <th>px_stats</th>\n",
       "      <th>size</th>\n",
       "    </tr>\n",
       "  </thead>\n",
       "  <tbody>\n",
       "    <tr>\n",
       "      <th>478</th>\n",
       "      <td>data\\kidney_1_tilling\\images\\0079_0_791_512_51...</td>\n",
       "      <td>data\\kidney_1_tilling\\labels\\0079_0_791_512_51...</td>\n",
       "      <td>True</td>\n",
       "      <td>(0, 791, 512, 512)</td>\n",
       "      <td>[18597, 55056]</td>\n",
       "      <td>(1303, 912)</td>\n",
       "    </tr>\n",
       "    <tr>\n",
       "      <th>847</th>\n",
       "      <td>data\\kidney_1_tilling\\images\\0141_400_0_512_51...</td>\n",
       "      <td>data\\kidney_1_tilling\\labels\\0141_400_0_512_51...</td>\n",
       "      <td>False</td>\n",
       "      <td>(400, 0, 512, 512)</td>\n",
       "      <td>[19180, 48425]</td>\n",
       "      <td>(1303, 912)</td>\n",
       "    </tr>\n",
       "    <tr>\n",
       "      <th>848</th>\n",
       "      <td>data\\kidney_1_tilling\\images\\0141_0_395_512_51...</td>\n",
       "      <td>data\\kidney_1_tilling\\labels\\0141_0_395_512_51...</td>\n",
       "      <td>False</td>\n",
       "      <td>(0, 395, 512, 512)</td>\n",
       "      <td>[19180, 48425]</td>\n",
       "      <td>(1303, 912)</td>\n",
       "    </tr>\n",
       "    <tr>\n",
       "      <th>1079</th>\n",
       "      <td>data\\kidney_1_tilling\\images\\0179_400_791_512_...</td>\n",
       "      <td>data\\kidney_1_tilling\\labels\\0179_400_791_512_...</td>\n",
       "      <td>True</td>\n",
       "      <td>(400, 791, 512, 512)</td>\n",
       "      <td>[19040, 32293]</td>\n",
       "      <td>(1303, 912)</td>\n",
       "    </tr>\n",
       "    <tr>\n",
       "      <th>2339</th>\n",
       "      <td>data\\kidney_1_tilling\\images\\0389_400_791_512_...</td>\n",
       "      <td>data\\kidney_1_tilling\\labels\\0389_400_791_512_...</td>\n",
       "      <td>False</td>\n",
       "      <td>(400, 791, 512, 512)</td>\n",
       "      <td>[18557, 34849]</td>\n",
       "      <td>(1303, 912)</td>\n",
       "    </tr>\n",
       "    <tr>\n",
       "      <th>2390</th>\n",
       "      <td>data\\kidney_1_tilling\\images\\0398_0_395_512_51...</td>\n",
       "      <td>data\\kidney_1_tilling\\labels\\0398_0_395_512_51...</td>\n",
       "      <td>False</td>\n",
       "      <td>(0, 395, 512, 512)</td>\n",
       "      <td>[18595, 33713]</td>\n",
       "      <td>(1303, 912)</td>\n",
       "    </tr>\n",
       "    <tr>\n",
       "      <th>2703</th>\n",
       "      <td>data\\kidney_1_tilling\\images\\0450_400_395_512_...</td>\n",
       "      <td>data\\kidney_1_tilling\\labels\\0450_400_395_512_...</td>\n",
       "      <td>False</td>\n",
       "      <td>(400, 395, 512, 512)</td>\n",
       "      <td>[18478, 34685]</td>\n",
       "      <td>(1303, 912)</td>\n",
       "    </tr>\n",
       "    <tr>\n",
       "      <th>3412</th>\n",
       "      <td>data\\kidney_1_tilling\\images\\0568_0_791_512_51...</td>\n",
       "      <td>data\\kidney_1_tilling\\labels\\0568_0_791_512_51...</td>\n",
       "      <td>False</td>\n",
       "      <td>(0, 791, 512, 512)</td>\n",
       "      <td>[18166, 65440]</td>\n",
       "      <td>(1303, 912)</td>\n",
       "    </tr>\n",
       "    <tr>\n",
       "      <th>3867</th>\n",
       "      <td>data\\kidney_1_tilling\\images\\0644_400_395_512_...</td>\n",
       "      <td>data\\kidney_1_tilling\\labels\\0644_400_395_512_...</td>\n",
       "      <td>False</td>\n",
       "      <td>(400, 395, 512, 512)</td>\n",
       "      <td>[18649, 42467]</td>\n",
       "      <td>(1303, 912)</td>\n",
       "    </tr>\n",
       "    <tr>\n",
       "      <th>4928</th>\n",
       "      <td>data\\kidney_1_tilling\\images\\0821_0_395_512_51...</td>\n",
       "      <td>data\\kidney_1_tilling\\labels\\0821_0_395_512_51...</td>\n",
       "      <td>False</td>\n",
       "      <td>(0, 395, 512, 512)</td>\n",
       "      <td>[18772, 32847]</td>\n",
       "      <td>(1303, 912)</td>\n",
       "    </tr>\n",
       "    <tr>\n",
       "      <th>5505</th>\n",
       "      <td>data\\kidney_1_tilling\\images\\0917_400_395_512_...</td>\n",
       "      <td>data\\kidney_1_tilling\\labels\\0917_400_395_512_...</td>\n",
       "      <td>False</td>\n",
       "      <td>(400, 395, 512, 512)</td>\n",
       "      <td>[18977, 33659]</td>\n",
       "      <td>(1303, 912)</td>\n",
       "    </tr>\n",
       "    <tr>\n",
       "      <th>5813</th>\n",
       "      <td>data\\kidney_1_tilling\\images\\0968_400_791_512_...</td>\n",
       "      <td>data\\kidney_1_tilling\\labels\\0968_400_791_512_...</td>\n",
       "      <td>False</td>\n",
       "      <td>(400, 791, 512, 512)</td>\n",
       "      <td>[18953, 35857]</td>\n",
       "      <td>(1303, 912)</td>\n",
       "    </tr>\n",
       "    <tr>\n",
       "      <th>7375</th>\n",
       "      <td>data\\kidney_1_tilling\\images\\1229_400_0_512_51...</td>\n",
       "      <td>data\\kidney_1_tilling\\labels\\1229_400_0_512_51...</td>\n",
       "      <td>False</td>\n",
       "      <td>(400, 0, 512, 512)</td>\n",
       "      <td>[19258, 38570]</td>\n",
       "      <td>(1303, 912)</td>\n",
       "    </tr>\n",
       "    <tr>\n",
       "      <th>7552</th>\n",
       "      <td>data\\kidney_1_tilling\\images\\1258_0_791_512_51...</td>\n",
       "      <td>data\\kidney_1_tilling\\labels\\1258_0_791_512_51...</td>\n",
       "      <td>False</td>\n",
       "      <td>(0, 791, 512, 512)</td>\n",
       "      <td>[19316, 38647]</td>\n",
       "      <td>(1303, 912)</td>\n",
       "    </tr>\n",
       "    <tr>\n",
       "      <th>8796</th>\n",
       "      <td>data\\kidney_1_tilling\\images\\1466_0_0_512_512.png</td>\n",
       "      <td>data\\kidney_1_tilling\\labels\\1466_0_0_512_512.png</td>\n",
       "      <td>False</td>\n",
       "      <td>(0, 0, 512, 512)</td>\n",
       "      <td>[19729, 34354]</td>\n",
       "      <td>(1303, 912)</td>\n",
       "    </tr>\n",
       "    <tr>\n",
       "      <th>10279</th>\n",
       "      <td>data\\kidney_1_tilling\\images\\1713_400_0_512_51...</td>\n",
       "      <td>data\\kidney_1_tilling\\labels\\1713_400_0_512_51...</td>\n",
       "      <td>False</td>\n",
       "      <td>(400, 0, 512, 512)</td>\n",
       "      <td>[19662, 39861]</td>\n",
       "      <td>(1303, 912)</td>\n",
       "    </tr>\n",
       "    <tr>\n",
       "      <th>10579</th>\n",
       "      <td>data\\kidney_1_tilling\\images\\1763_400_0_512_51...</td>\n",
       "      <td>data\\kidney_1_tilling\\labels\\1763_400_0_512_51...</td>\n",
       "      <td>False</td>\n",
       "      <td>(400, 0, 512, 512)</td>\n",
       "      <td>[18266, 50133]</td>\n",
       "      <td>(1303, 912)</td>\n",
       "    </tr>\n",
       "    <tr>\n",
       "      <th>11147</th>\n",
       "      <td>data\\kidney_1_tilling\\images\\1857_400_791_512_...</td>\n",
       "      <td>data\\kidney_1_tilling\\labels\\1857_400_791_512_...</td>\n",
       "      <td>False</td>\n",
       "      <td>(400, 791, 512, 512)</td>\n",
       "      <td>[20108, 39343]</td>\n",
       "      <td>(1303, 912)</td>\n",
       "    </tr>\n",
       "    <tr>\n",
       "      <th>11418</th>\n",
       "      <td>data\\kidney_1_tilling\\images\\1903_0_0_512_512.png</td>\n",
       "      <td>data\\kidney_1_tilling\\labels\\1903_0_0_512_512.png</td>\n",
       "      <td>False</td>\n",
       "      <td>(0, 0, 512, 512)</td>\n",
       "      <td>[18, 41196]</td>\n",
       "      <td>(1303, 912)</td>\n",
       "    </tr>\n",
       "    <tr>\n",
       "      <th>12507</th>\n",
       "      <td>data\\kidney_1_tilling\\images\\2084_400_395_512_...</td>\n",
       "      <td>data\\kidney_1_tilling\\labels\\2084_400_395_512_...</td>\n",
       "      <td>False</td>\n",
       "      <td>(400, 395, 512, 512)</td>\n",
       "      <td>[0, 47751]</td>\n",
       "      <td>(1303, 912)</td>\n",
       "    </tr>\n",
       "  </tbody>\n",
       "</table>\n",
       "</div>"
      ],
      "text/plain": [
       "                                                path_img  \\\n",
       "478    data\\kidney_1_tilling\\images\\0079_0_791_512_51...   \n",
       "847    data\\kidney_1_tilling\\images\\0141_400_0_512_51...   \n",
       "848    data\\kidney_1_tilling\\images\\0141_0_395_512_51...   \n",
       "1079   data\\kidney_1_tilling\\images\\0179_400_791_512_...   \n",
       "2339   data\\kidney_1_tilling\\images\\0389_400_791_512_...   \n",
       "2390   data\\kidney_1_tilling\\images\\0398_0_395_512_51...   \n",
       "2703   data\\kidney_1_tilling\\images\\0450_400_395_512_...   \n",
       "3412   data\\kidney_1_tilling\\images\\0568_0_791_512_51...   \n",
       "3867   data\\kidney_1_tilling\\images\\0644_400_395_512_...   \n",
       "4928   data\\kidney_1_tilling\\images\\0821_0_395_512_51...   \n",
       "5505   data\\kidney_1_tilling\\images\\0917_400_395_512_...   \n",
       "5813   data\\kidney_1_tilling\\images\\0968_400_791_512_...   \n",
       "7375   data\\kidney_1_tilling\\images\\1229_400_0_512_51...   \n",
       "7552   data\\kidney_1_tilling\\images\\1258_0_791_512_51...   \n",
       "8796   data\\kidney_1_tilling\\images\\1466_0_0_512_512.png   \n",
       "10279  data\\kidney_1_tilling\\images\\1713_400_0_512_51...   \n",
       "10579  data\\kidney_1_tilling\\images\\1763_400_0_512_51...   \n",
       "11147  data\\kidney_1_tilling\\images\\1857_400_791_512_...   \n",
       "11418  data\\kidney_1_tilling\\images\\1903_0_0_512_512.png   \n",
       "12507  data\\kidney_1_tilling\\images\\2084_400_395_512_...   \n",
       "\n",
       "                                                 path_lb  is_empty  \\\n",
       "478    data\\kidney_1_tilling\\labels\\0079_0_791_512_51...      True   \n",
       "847    data\\kidney_1_tilling\\labels\\0141_400_0_512_51...     False   \n",
       "848    data\\kidney_1_tilling\\labels\\0141_0_395_512_51...     False   \n",
       "1079   data\\kidney_1_tilling\\labels\\0179_400_791_512_...      True   \n",
       "2339   data\\kidney_1_tilling\\labels\\0389_400_791_512_...     False   \n",
       "2390   data\\kidney_1_tilling\\labels\\0398_0_395_512_51...     False   \n",
       "2703   data\\kidney_1_tilling\\labels\\0450_400_395_512_...     False   \n",
       "3412   data\\kidney_1_tilling\\labels\\0568_0_791_512_51...     False   \n",
       "3867   data\\kidney_1_tilling\\labels\\0644_400_395_512_...     False   \n",
       "4928   data\\kidney_1_tilling\\labels\\0821_0_395_512_51...     False   \n",
       "5505   data\\kidney_1_tilling\\labels\\0917_400_395_512_...     False   \n",
       "5813   data\\kidney_1_tilling\\labels\\0968_400_791_512_...     False   \n",
       "7375   data\\kidney_1_tilling\\labels\\1229_400_0_512_51...     False   \n",
       "7552   data\\kidney_1_tilling\\labels\\1258_0_791_512_51...     False   \n",
       "8796   data\\kidney_1_tilling\\labels\\1466_0_0_512_512.png     False   \n",
       "10279  data\\kidney_1_tilling\\labels\\1713_400_0_512_51...     False   \n",
       "10579  data\\kidney_1_tilling\\labels\\1763_400_0_512_51...     False   \n",
       "11147  data\\kidney_1_tilling\\labels\\1857_400_791_512_...     False   \n",
       "11418  data\\kidney_1_tilling\\labels\\1903_0_0_512_512.png     False   \n",
       "12507  data\\kidney_1_tilling\\labels\\2084_400_395_512_...     False   \n",
       "\n",
       "                        bbx        px_stats         size  \n",
       "478      (0, 791, 512, 512)  [18597, 55056]  (1303, 912)  \n",
       "847      (400, 0, 512, 512)  [19180, 48425]  (1303, 912)  \n",
       "848      (0, 395, 512, 512)  [19180, 48425]  (1303, 912)  \n",
       "1079   (400, 791, 512, 512)  [19040, 32293]  (1303, 912)  \n",
       "2339   (400, 791, 512, 512)  [18557, 34849]  (1303, 912)  \n",
       "2390     (0, 395, 512, 512)  [18595, 33713]  (1303, 912)  \n",
       "2703   (400, 395, 512, 512)  [18478, 34685]  (1303, 912)  \n",
       "3412     (0, 791, 512, 512)  [18166, 65440]  (1303, 912)  \n",
       "3867   (400, 395, 512, 512)  [18649, 42467]  (1303, 912)  \n",
       "4928     (0, 395, 512, 512)  [18772, 32847]  (1303, 912)  \n",
       "5505   (400, 395, 512, 512)  [18977, 33659]  (1303, 912)  \n",
       "5813   (400, 791, 512, 512)  [18953, 35857]  (1303, 912)  \n",
       "7375     (400, 0, 512, 512)  [19258, 38570]  (1303, 912)  \n",
       "7552     (0, 791, 512, 512)  [19316, 38647]  (1303, 912)  \n",
       "8796       (0, 0, 512, 512)  [19729, 34354]  (1303, 912)  \n",
       "10279    (400, 0, 512, 512)  [19662, 39861]  (1303, 912)  \n",
       "10579    (400, 0, 512, 512)  [18266, 50133]  (1303, 912)  \n",
       "11147  (400, 791, 512, 512)  [20108, 39343]  (1303, 912)  \n",
       "11418      (0, 0, 512, 512)     [18, 41196]  (1303, 912)  \n",
       "12507  (400, 395, 512, 512)      [0, 47751]  (1303, 912)  "
      ]
     },
     "execution_count": 28,
     "metadata": {},
     "output_type": "execute_result"
    }
   ],
   "source": [
    "data_loader.df"
   ]
  },
  {
   "cell_type": "code",
   "execution_count": null,
   "metadata": {},
   "outputs": [],
   "source": []
  },
  {
   "cell_type": "code",
   "execution_count": 32,
   "metadata": {},
   "outputs": [
    {
     "data": {
      "text/plain": [
       "13674"
      ]
     },
     "execution_count": 32,
     "metadata": {},
     "output_type": "execute_result"
    }
   ],
   "source": [
    "len(data_loader)"
   ]
  },
  {
   "cell_type": "code",
   "execution_count": null,
   "metadata": {},
   "outputs": [],
   "source": []
  },
  {
   "cell_type": "code",
   "execution_count": null,
   "metadata": {},
   "outputs": [],
   "source": [
    "    name_data='kidney_1_tilling',\n",
    "    strong_empty=False,\n",
    "    path_img_dir=CFG.path_img_kidney1,\n",
    "                         path_lb_dir=CFG.path_lb_kidney1,\n",
    "                         cache_dir=CFG.cache_dir "
   ]
  },
  {
   "cell_type": "code",
   "execution_count": 9,
   "metadata": {},
   "outputs": [
    {
     "data": {
      "text/plain": [
       "pandas.core.frame.DataFrame"
      ]
     },
     "execution_count": 9,
     "metadata": {},
     "output_type": "execute_result"
    }
   ],
   "source": [
    "type(pd.DataFrame())"
   ]
  },
  {
   "cell_type": "code",
   "execution_count": null,
   "metadata": {},
   "outputs": [],
   "source": []
  },
  {
   "cell_type": "code",
   "execution_count": 16,
   "metadata": {},
   "outputs": [
    {
     "data": {
      "text/plain": [
       "is_empty\n",
       "False    0.960006\n",
       "True     0.039994\n",
       "Name: proportion, dtype: float64"
      ]
     },
     "execution_count": 16,
     "metadata": {},
     "output_type": "execute_result"
    }
   ],
   "source": [
    "new_df['is_empty'].value_counts(normalize=True)"
   ]
  },
  {
   "cell_type": "code",
   "execution_count": null,
   "metadata": {},
   "outputs": [],
   "source": []
  },
  {
   "cell_type": "code",
   "execution_count": null,
   "metadata": {},
   "outputs": [],
   "source": []
  },
  {
   "cell_type": "code",
   "execution_count": null,
   "metadata": {},
   "outputs": [],
   "source": []
  },
  {
   "cell_type": "code",
   "execution_count": 105,
   "metadata": {},
   "outputs": [
    {
     "data": {
      "text/html": [
       "<div>\n",
       "<style scoped>\n",
       "    .dataframe tbody tr th:only-of-type {\n",
       "        vertical-align: middle;\n",
       "    }\n",
       "\n",
       "    .dataframe tbody tr th {\n",
       "        vertical-align: top;\n",
       "    }\n",
       "\n",
       "    .dataframe thead th {\n",
       "        text-align: right;\n",
       "    }\n",
       "</style>\n",
       "<table border=\"1\" class=\"dataframe\">\n",
       "  <thead>\n",
       "    <tr style=\"text-align: right;\">\n",
       "      <th></th>\n",
       "      <th>path_img</th>\n",
       "      <th>path_lb</th>\n",
       "      <th>is_empty</th>\n",
       "      <th>bbx</th>\n",
       "      <th>px_stats</th>\n",
       "      <th>size</th>\n",
       "    </tr>\n",
       "  </thead>\n",
       "  <tbody>\n",
       "    <tr>\n",
       "      <th>2</th>\n",
       "      <td>data\\kidney_1_tilling\\images\\0000_0_395_512_51...</td>\n",
       "      <td>data\\kidney_1_tilling\\labels\\0000_0_395_512_51...</td>\n",
       "      <td>True</td>\n",
       "      <td>(0, 395, 512, 512)</td>\n",
       "      <td>[18515, 36640]</td>\n",
       "      <td>(1303, 912)</td>\n",
       "    </tr>\n",
       "    <tr>\n",
       "      <th>4</th>\n",
       "      <td>data\\kidney_1_tilling\\images\\0000_0_791_512_51...</td>\n",
       "      <td>data\\kidney_1_tilling\\labels\\0000_0_791_512_51...</td>\n",
       "      <td>True</td>\n",
       "      <td>(0, 791, 512, 512)</td>\n",
       "      <td>[18515, 36640]</td>\n",
       "      <td>(1303, 912)</td>\n",
       "    </tr>\n",
       "    <tr>\n",
       "      <th>5</th>\n",
       "      <td>data\\kidney_1_tilling\\images\\0000_400_791_512_...</td>\n",
       "      <td>data\\kidney_1_tilling\\labels\\0000_400_791_512_...</td>\n",
       "      <td>True</td>\n",
       "      <td>(400, 791, 512, 512)</td>\n",
       "      <td>[18515, 36640]</td>\n",
       "      <td>(1303, 912)</td>\n",
       "    </tr>\n",
       "    <tr>\n",
       "      <th>6</th>\n",
       "      <td>data\\kidney_1_tilling\\images\\0001_0_0_512_512.png</td>\n",
       "      <td>data\\kidney_1_tilling\\labels\\0001_0_0_512_512.png</td>\n",
       "      <td>True</td>\n",
       "      <td>(0, 0, 512, 512)</td>\n",
       "      <td>[18320, 37358]</td>\n",
       "      <td>(1303, 912)</td>\n",
       "    </tr>\n",
       "    <tr>\n",
       "      <th>8</th>\n",
       "      <td>data\\kidney_1_tilling\\images\\0001_0_395_512_51...</td>\n",
       "      <td>data\\kidney_1_tilling\\labels\\0001_0_395_512_51...</td>\n",
       "      <td>True</td>\n",
       "      <td>(0, 395, 512, 512)</td>\n",
       "      <td>[18320, 37358]</td>\n",
       "      <td>(1303, 912)</td>\n",
       "    </tr>\n",
       "    <tr>\n",
       "      <th>...</th>\n",
       "      <td>...</td>\n",
       "      <td>...</td>\n",
       "      <td>...</td>\n",
       "      <td>...</td>\n",
       "      <td>...</td>\n",
       "      <td>...</td>\n",
       "    </tr>\n",
       "    <tr>\n",
       "      <th>13668</th>\n",
       "      <td>data\\kidney_1_tilling\\images\\2278_0_0_512_512.png</td>\n",
       "      <td>data\\kidney_1_tilling\\labels\\2278_0_0_512_512.png</td>\n",
       "      <td>True</td>\n",
       "      <td>(0, 0, 512, 512)</td>\n",
       "      <td>[10069, 18379]</td>\n",
       "      <td>(1303, 912)</td>\n",
       "    </tr>\n",
       "    <tr>\n",
       "      <th>13669</th>\n",
       "      <td>data\\kidney_1_tilling\\images\\2278_400_0_512_51...</td>\n",
       "      <td>data\\kidney_1_tilling\\labels\\2278_400_0_512_51...</td>\n",
       "      <td>True</td>\n",
       "      <td>(400, 0, 512, 512)</td>\n",
       "      <td>[10069, 18379]</td>\n",
       "      <td>(1303, 912)</td>\n",
       "    </tr>\n",
       "    <tr>\n",
       "      <th>13671</th>\n",
       "      <td>data\\kidney_1_tilling\\images\\2278_400_395_512_...</td>\n",
       "      <td>data\\kidney_1_tilling\\labels\\2278_400_395_512_...</td>\n",
       "      <td>True</td>\n",
       "      <td>(400, 395, 512, 512)</td>\n",
       "      <td>[10069, 18379]</td>\n",
       "      <td>(1303, 912)</td>\n",
       "    </tr>\n",
       "    <tr>\n",
       "      <th>13672</th>\n",
       "      <td>data\\kidney_1_tilling\\images\\2278_0_791_512_51...</td>\n",
       "      <td>data\\kidney_1_tilling\\labels\\2278_0_791_512_51...</td>\n",
       "      <td>True</td>\n",
       "      <td>(0, 791, 512, 512)</td>\n",
       "      <td>[10069, 18379]</td>\n",
       "      <td>(1303, 912)</td>\n",
       "    </tr>\n",
       "    <tr>\n",
       "      <th>13673</th>\n",
       "      <td>data\\kidney_1_tilling\\images\\2278_400_791_512_...</td>\n",
       "      <td>data\\kidney_1_tilling\\labels\\2278_400_791_512_...</td>\n",
       "      <td>True</td>\n",
       "      <td>(400, 791, 512, 512)</td>\n",
       "      <td>[10069, 18379]</td>\n",
       "      <td>(1303, 912)</td>\n",
       "    </tr>\n",
       "  </tbody>\n",
       "</table>\n",
       "<p>7000 rows × 6 columns</p>\n",
       "</div>"
      ],
      "text/plain": [
       "                                                path_img  \\\n",
       "2      data\\kidney_1_tilling\\images\\0000_0_395_512_51...   \n",
       "4      data\\kidney_1_tilling\\images\\0000_0_791_512_51...   \n",
       "5      data\\kidney_1_tilling\\images\\0000_400_791_512_...   \n",
       "6      data\\kidney_1_tilling\\images\\0001_0_0_512_512.png   \n",
       "8      data\\kidney_1_tilling\\images\\0001_0_395_512_51...   \n",
       "...                                                  ...   \n",
       "13668  data\\kidney_1_tilling\\images\\2278_0_0_512_512.png   \n",
       "13669  data\\kidney_1_tilling\\images\\2278_400_0_512_51...   \n",
       "13671  data\\kidney_1_tilling\\images\\2278_400_395_512_...   \n",
       "13672  data\\kidney_1_tilling\\images\\2278_0_791_512_51...   \n",
       "13673  data\\kidney_1_tilling\\images\\2278_400_791_512_...   \n",
       "\n",
       "                                                 path_lb  is_empty  \\\n",
       "2      data\\kidney_1_tilling\\labels\\0000_0_395_512_51...      True   \n",
       "4      data\\kidney_1_tilling\\labels\\0000_0_791_512_51...      True   \n",
       "5      data\\kidney_1_tilling\\labels\\0000_400_791_512_...      True   \n",
       "6      data\\kidney_1_tilling\\labels\\0001_0_0_512_512.png      True   \n",
       "8      data\\kidney_1_tilling\\labels\\0001_0_395_512_51...      True   \n",
       "...                                                  ...       ...   \n",
       "13668  data\\kidney_1_tilling\\labels\\2278_0_0_512_512.png      True   \n",
       "13669  data\\kidney_1_tilling\\labels\\2278_400_0_512_51...      True   \n",
       "13671  data\\kidney_1_tilling\\labels\\2278_400_395_512_...      True   \n",
       "13672  data\\kidney_1_tilling\\labels\\2278_0_791_512_51...      True   \n",
       "13673  data\\kidney_1_tilling\\labels\\2278_400_791_512_...      True   \n",
       "\n",
       "                        bbx        px_stats         size  \n",
       "2        (0, 395, 512, 512)  [18515, 36640]  (1303, 912)  \n",
       "4        (0, 791, 512, 512)  [18515, 36640]  (1303, 912)  \n",
       "5      (400, 791, 512, 512)  [18515, 36640]  (1303, 912)  \n",
       "6          (0, 0, 512, 512)  [18320, 37358]  (1303, 912)  \n",
       "8        (0, 395, 512, 512)  [18320, 37358]  (1303, 912)  \n",
       "...                     ...             ...          ...  \n",
       "13668      (0, 0, 512, 512)  [10069, 18379]  (1303, 912)  \n",
       "13669    (400, 0, 512, 512)  [10069, 18379]  (1303, 912)  \n",
       "13671  (400, 395, 512, 512)  [10069, 18379]  (1303, 912)  \n",
       "13672    (0, 791, 512, 512)  [10069, 18379]  (1303, 912)  \n",
       "13673  (400, 791, 512, 512)  [10069, 18379]  (1303, 912)  \n",
       "\n",
       "[7000 rows x 6 columns]"
      ]
     },
     "execution_count": 105,
     "metadata": {},
     "output_type": "execute_result"
    }
   ],
   "source": [
    "df_empty = df[df['is_empty'] == True].sample(1000)\n",
    "df_no_empty = df[df['is_empty'] == False].sample(6000)\n",
    "frames = [df_empty, df_no_empty]\n",
    "pd.concat(frames).sort_index()"
   ]
  },
  {
   "cell_type": "code",
   "execution_count": null,
   "metadata": {},
   "outputs": [],
   "source": []
  },
  {
   "cell_type": "code",
   "execution_count": null,
   "metadata": {},
   "outputs": [],
   "source": []
  },
  {
   "cell_type": "code",
   "execution_count": null,
   "metadata": {},
   "outputs": [],
   "source": []
  },
  {
   "cell_type": "code",
   "execution_count": 89,
   "metadata": {},
   "outputs": [
    {
     "data": {
      "text/plain": [
       "0.1111111111111111"
      ]
     },
     "execution_count": 89,
     "metadata": {},
     "output_type": "execute_result"
    }
   ],
   "source": [
    "800 / 7200"
   ]
  },
  {
   "cell_type": "code",
   "execution_count": null,
   "metadata": {},
   "outputs": [],
   "source": []
  },
  {
   "cell_type": "code",
   "execution_count": 82,
   "metadata": {},
   "outputs": [
    {
     "data": {
      "text/plain": [
       "0.30001963479285293"
      ]
     },
     "execution_count": 82,
     "metadata": {},
     "output_type": "execute_result"
    }
   ],
   "source": [
    "1528/ (1528+3565)"
   ]
  },
  {
   "cell_type": "code",
   "execution_count": 55,
   "metadata": {},
   "outputs": [],
   "source": [
    "empty_tiles = df[df['is_empty'] == True].index.values"
   ]
  },
  {
   "cell_type": "code",
   "execution_count": null,
   "metadata": {},
   "outputs": [],
   "source": [
    "num_empty_tiles_to_sample "
   ]
  },
  {
   "cell_type": "code",
   "execution_count": null,
   "metadata": {},
   "outputs": [],
   "source": [
    "np.random.choice(empty_tiles, min(num_empty_tiles_to_sample, len(empty_tiles)), replace=False)"
   ]
  },
  {
   "cell_type": "code",
   "execution_count": null,
   "metadata": {},
   "outputs": [],
   "source": []
  },
  {
   "cell_type": "code",
   "execution_count": 54,
   "metadata": {},
   "outputs": [
    {
     "data": {
      "text/plain": [
       "array([    0,     1,     2, ..., 13671, 13672, 13673], dtype=int64)"
      ]
     },
     "execution_count": 54,
     "metadata": {},
     "output_type": "execute_result"
    }
   ],
   "source": [
    "df[df['is_empty'] == True].index.values"
   ]
  },
  {
   "cell_type": "code",
   "execution_count": null,
   "metadata": {},
   "outputs": [],
   "source": []
  },
  {
   "cell_type": "code",
   "execution_count": 37,
   "metadata": {},
   "outputs": [],
   "source": [
    "df = pd.read_csv(CFG.path_df_kidney_1_til)"
   ]
  },
  {
   "cell_type": "code",
   "execution_count": 39,
   "metadata": {},
   "outputs": [
    {
     "data": {
      "text/plain": [
       "0.8882550826385842"
      ]
     },
     "execution_count": 39,
     "metadata": {},
     "output_type": "execute_result"
    }
   ],
   "source": [
    "df['is_empty'].value_counts(normalize=True)[False]"
   ]
  },
  {
   "cell_type": "code",
   "execution_count": 16,
   "metadata": {},
   "outputs": [
    {
     "data": {
      "text/plain": [
       "13674"
      ]
     },
     "execution_count": 16,
     "metadata": {},
     "output_type": "execute_result"
    }
   ],
   "source": [
    "num_tiles = df.shape[0]\n",
    "num_tiles "
   ]
  },
  {
   "cell_type": "code",
   "execution_count": 18,
   "metadata": {},
   "outputs": [],
   "source": [
    "empty_tile_pct = 20\n",
    "num_empty_tiles_to_sample = int(num_tiles * empty_tile_pct / 100)\n",
    "num_pos_tiles_to_sample = int(num_tiles * (1 - empty_tile_pct / 100))"
   ]
  },
  {
   "cell_type": "code",
   "execution_count": 19,
   "metadata": {},
   "outputs": [
    {
     "data": {
      "text/plain": [
       "2734"
      ]
     },
     "execution_count": 19,
     "metadata": {},
     "output_type": "execute_result"
    }
   ],
   "source": [
    "num_empty_tiles_to_sample"
   ]
  },
  {
   "cell_type": "code",
   "execution_count": 20,
   "metadata": {},
   "outputs": [
    {
     "data": {
      "text/plain": [
       "10939"
      ]
     },
     "execution_count": 20,
     "metadata": {},
     "output_type": "execute_result"
    }
   ],
   "source": [
    "num_pos_tiles_to_sample"
   ]
  },
  {
   "cell_type": "code",
   "execution_count": 21,
   "metadata": {},
   "outputs": [
    {
     "data": {
      "text/plain": [
       "13673"
      ]
     },
     "execution_count": 21,
     "metadata": {},
     "output_type": "execute_result"
    }
   ],
   "source": [
    "1367 + 12306"
   ]
  },
  {
   "cell_type": "code",
   "execution_count": 31,
   "metadata": {},
   "outputs": [
    {
     "data": {
      "text/plain": [
       "array([3, 2, 7, 6])"
      ]
     },
     "execution_count": 31,
     "metadata": {},
     "output_type": "execute_result"
    }
   ],
   "source": [
    "np.random.choice(10, min(5, 4), replace=False)"
   ]
  },
  {
   "cell_type": "code",
   "execution_count": null,
   "metadata": {},
   "outputs": [],
   "source": []
  },
  {
   "cell_type": "code",
   "execution_count": null,
   "metadata": {},
   "outputs": [],
   "source": [
    "num_empty_tiles_to_sample = int(self.sample_limit * self.empty_tile_pct)\n",
    "            num_pos_tiles_to_sample = int(self.sample_limit * (1 - self.empty_tile_pct))\n",
    "\n",
    "            empty_idxs_to_sample = np.random.choice(len(empty_tiles), min(num_empty_tiles_to_sample, len(empty_tiles)), replace=False)\n",
    "            pos_idxs_to_sample = np.random.choice(len(populated_tiles), min(num_pos_tiles_to_sample, len(populated_tiles)), replace=False)\n",
    "\n",
    "            neg_samples = list(map(empty_tiles.__getitem__, empty_idxs_to_sample))\n",
    "            pos_samples = list(map(populated_tiles.__getitem__, pos_idxs_to_sample))\n",
    "\n",
    "            new_samples = pos_samples + neg_samples\n",
    "\n",
    "            self.samples = new_samples\n",
    "            if self.empty_tile_pct == 0.0:\n",
    "                print(f'Dropped {empty} empty tiles.')\n",
    "            print(f'Dataset contains {len(neg_samples)} empty and {len(pos_samples)} non-empty tile"
   ]
  },
  {
   "cell_type": "code",
   "execution_count": null,
   "metadata": {},
   "outputs": [],
   "source": []
  },
  {
   "cell_type": "code",
   "execution_count": 8,
   "metadata": {},
   "outputs": [
    {
     "data": {
      "text/html": [
       "<div>\n",
       "<style scoped>\n",
       "    .dataframe tbody tr th:only-of-type {\n",
       "        vertical-align: middle;\n",
       "    }\n",
       "\n",
       "    .dataframe tbody tr th {\n",
       "        vertical-align: top;\n",
       "    }\n",
       "\n",
       "    .dataframe thead th {\n",
       "        text-align: right;\n",
       "    }\n",
       "</style>\n",
       "<table border=\"1\" class=\"dataframe\">\n",
       "  <thead>\n",
       "    <tr style=\"text-align: right;\">\n",
       "      <th></th>\n",
       "      <th>path_img</th>\n",
       "      <th>path_lb</th>\n",
       "      <th>is_empty</th>\n",
       "      <th>bbx</th>\n",
       "      <th>px_stats</th>\n",
       "      <th>size</th>\n",
       "    </tr>\n",
       "  </thead>\n",
       "  <tbody>\n",
       "    <tr>\n",
       "      <th>0</th>\n",
       "      <td>data\\kidney_1_tilling\\images\\0000_0_0_512_512.png</td>\n",
       "      <td>data\\kidney_1_tilling\\labels\\0000_0_0_512_512.png</td>\n",
       "      <td>True</td>\n",
       "      <td>(0, 0, 512, 512)</td>\n",
       "      <td>[18515, 36640]</td>\n",
       "      <td>(1303, 912)</td>\n",
       "    </tr>\n",
       "    <tr>\n",
       "      <th>1</th>\n",
       "      <td>data\\kidney_1_tilling\\images\\0000_400_0_512_51...</td>\n",
       "      <td>data\\kidney_1_tilling\\labels\\0000_400_0_512_51...</td>\n",
       "      <td>True</td>\n",
       "      <td>(400, 0, 512, 512)</td>\n",
       "      <td>[18515, 36640]</td>\n",
       "      <td>(1303, 912)</td>\n",
       "    </tr>\n",
       "    <tr>\n",
       "      <th>2</th>\n",
       "      <td>data\\kidney_1_tilling\\images\\0000_0_395_512_51...</td>\n",
       "      <td>data\\kidney_1_tilling\\labels\\0000_0_395_512_51...</td>\n",
       "      <td>True</td>\n",
       "      <td>(0, 395, 512, 512)</td>\n",
       "      <td>[18515, 36640]</td>\n",
       "      <td>(1303, 912)</td>\n",
       "    </tr>\n",
       "    <tr>\n",
       "      <th>3</th>\n",
       "      <td>data\\kidney_1_tilling\\images\\0000_400_395_512_...</td>\n",
       "      <td>data\\kidney_1_tilling\\labels\\0000_400_395_512_...</td>\n",
       "      <td>True</td>\n",
       "      <td>(400, 395, 512, 512)</td>\n",
       "      <td>[18515, 36640]</td>\n",
       "      <td>(1303, 912)</td>\n",
       "    </tr>\n",
       "    <tr>\n",
       "      <th>4</th>\n",
       "      <td>data\\kidney_1_tilling\\images\\0000_0_791_512_51...</td>\n",
       "      <td>data\\kidney_1_tilling\\labels\\0000_0_791_512_51...</td>\n",
       "      <td>True</td>\n",
       "      <td>(0, 791, 512, 512)</td>\n",
       "      <td>[18515, 36640]</td>\n",
       "      <td>(1303, 912)</td>\n",
       "    </tr>\n",
       "    <tr>\n",
       "      <th>...</th>\n",
       "      <td>...</td>\n",
       "      <td>...</td>\n",
       "      <td>...</td>\n",
       "      <td>...</td>\n",
       "      <td>...</td>\n",
       "      <td>...</td>\n",
       "    </tr>\n",
       "    <tr>\n",
       "      <th>13669</th>\n",
       "      <td>data\\kidney_1_tilling\\images\\2278_400_0_512_51...</td>\n",
       "      <td>data\\kidney_1_tilling\\labels\\2278_400_0_512_51...</td>\n",
       "      <td>True</td>\n",
       "      <td>(400, 0, 512, 512)</td>\n",
       "      <td>[10069, 18379]</td>\n",
       "      <td>(1303, 912)</td>\n",
       "    </tr>\n",
       "    <tr>\n",
       "      <th>13670</th>\n",
       "      <td>data\\kidney_1_tilling\\images\\2278_0_395_512_51...</td>\n",
       "      <td>data\\kidney_1_tilling\\labels\\2278_0_395_512_51...</td>\n",
       "      <td>True</td>\n",
       "      <td>(0, 395, 512, 512)</td>\n",
       "      <td>[10069, 18379]</td>\n",
       "      <td>(1303, 912)</td>\n",
       "    </tr>\n",
       "    <tr>\n",
       "      <th>13671</th>\n",
       "      <td>data\\kidney_1_tilling\\images\\2278_400_395_512_...</td>\n",
       "      <td>data\\kidney_1_tilling\\labels\\2278_400_395_512_...</td>\n",
       "      <td>True</td>\n",
       "      <td>(400, 395, 512, 512)</td>\n",
       "      <td>[10069, 18379]</td>\n",
       "      <td>(1303, 912)</td>\n",
       "    </tr>\n",
       "    <tr>\n",
       "      <th>13672</th>\n",
       "      <td>data\\kidney_1_tilling\\images\\2278_0_791_512_51...</td>\n",
       "      <td>data\\kidney_1_tilling\\labels\\2278_0_791_512_51...</td>\n",
       "      <td>True</td>\n",
       "      <td>(0, 791, 512, 512)</td>\n",
       "      <td>[10069, 18379]</td>\n",
       "      <td>(1303, 912)</td>\n",
       "    </tr>\n",
       "    <tr>\n",
       "      <th>13673</th>\n",
       "      <td>data\\kidney_1_tilling\\images\\2278_400_791_512_...</td>\n",
       "      <td>data\\kidney_1_tilling\\labels\\2278_400_791_512_...</td>\n",
       "      <td>True</td>\n",
       "      <td>(400, 791, 512, 512)</td>\n",
       "      <td>[10069, 18379]</td>\n",
       "      <td>(1303, 912)</td>\n",
       "    </tr>\n",
       "  </tbody>\n",
       "</table>\n",
       "<p>13674 rows × 6 columns</p>\n",
       "</div>"
      ],
      "text/plain": [
       "                                                path_img  \\\n",
       "0      data\\kidney_1_tilling\\images\\0000_0_0_512_512.png   \n",
       "1      data\\kidney_1_tilling\\images\\0000_400_0_512_51...   \n",
       "2      data\\kidney_1_tilling\\images\\0000_0_395_512_51...   \n",
       "3      data\\kidney_1_tilling\\images\\0000_400_395_512_...   \n",
       "4      data\\kidney_1_tilling\\images\\0000_0_791_512_51...   \n",
       "...                                                  ...   \n",
       "13669  data\\kidney_1_tilling\\images\\2278_400_0_512_51...   \n",
       "13670  data\\kidney_1_tilling\\images\\2278_0_395_512_51...   \n",
       "13671  data\\kidney_1_tilling\\images\\2278_400_395_512_...   \n",
       "13672  data\\kidney_1_tilling\\images\\2278_0_791_512_51...   \n",
       "13673  data\\kidney_1_tilling\\images\\2278_400_791_512_...   \n",
       "\n",
       "                                                 path_lb  is_empty  \\\n",
       "0      data\\kidney_1_tilling\\labels\\0000_0_0_512_512.png      True   \n",
       "1      data\\kidney_1_tilling\\labels\\0000_400_0_512_51...      True   \n",
       "2      data\\kidney_1_tilling\\labels\\0000_0_395_512_51...      True   \n",
       "3      data\\kidney_1_tilling\\labels\\0000_400_395_512_...      True   \n",
       "4      data\\kidney_1_tilling\\labels\\0000_0_791_512_51...      True   \n",
       "...                                                  ...       ...   \n",
       "13669  data\\kidney_1_tilling\\labels\\2278_400_0_512_51...      True   \n",
       "13670  data\\kidney_1_tilling\\labels\\2278_0_395_512_51...      True   \n",
       "13671  data\\kidney_1_tilling\\labels\\2278_400_395_512_...      True   \n",
       "13672  data\\kidney_1_tilling\\labels\\2278_0_791_512_51...      True   \n",
       "13673  data\\kidney_1_tilling\\labels\\2278_400_791_512_...      True   \n",
       "\n",
       "                        bbx        px_stats         size  \n",
       "0          (0, 0, 512, 512)  [18515, 36640]  (1303, 912)  \n",
       "1        (400, 0, 512, 512)  [18515, 36640]  (1303, 912)  \n",
       "2        (0, 395, 512, 512)  [18515, 36640]  (1303, 912)  \n",
       "3      (400, 395, 512, 512)  [18515, 36640]  (1303, 912)  \n",
       "4        (0, 791, 512, 512)  [18515, 36640]  (1303, 912)  \n",
       "...                     ...             ...          ...  \n",
       "13669    (400, 0, 512, 512)  [10069, 18379]  (1303, 912)  \n",
       "13670    (0, 395, 512, 512)  [10069, 18379]  (1303, 912)  \n",
       "13671  (400, 395, 512, 512)  [10069, 18379]  (1303, 912)  \n",
       "13672    (0, 791, 512, 512)  [10069, 18379]  (1303, 912)  \n",
       "13673  (400, 791, 512, 512)  [10069, 18379]  (1303, 912)  \n",
       "\n",
       "[13674 rows x 6 columns]"
      ]
     },
     "execution_count": 8,
     "metadata": {},
     "output_type": "execute_result"
    }
   ],
   "source": [
    "df"
   ]
  },
  {
   "cell_type": "code",
   "execution_count": null,
   "metadata": {},
   "outputs": [],
   "source": []
  },
  {
   "cell_type": "code",
   "execution_count": null,
   "metadata": {},
   "outputs": [],
   "source": []
  }
 ],
 "metadata": {
  "kernelspec": {
   "display_name": ".venv",
   "language": "python",
   "name": "python3"
  },
  "language_info": {
   "codemirror_mode": {
    "name": "ipython",
    "version": 3
   },
   "file_extension": ".py",
   "mimetype": "text/x-python",
   "name": "python",
   "nbconvert_exporter": "python",
   "pygments_lexer": "ipython3",
   "version": "3.9.0"
  }
 },
 "nbformat": 4,
 "nbformat_minor": 2
}
