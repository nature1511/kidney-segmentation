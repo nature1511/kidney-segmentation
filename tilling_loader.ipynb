{
 "cells": [
  {
   "cell_type": "code",
   "execution_count": 12,
   "metadata": {},
   "outputs": [],
   "source": [
    "import pandas as pd\n",
    "from torch.utils.data import Dataset\n",
    "from typing import Optional, List, TypeVar\n",
    "from pathlib import Path\n",
    "import rasterio\n",
    "from tqdm import tqdm\n",
    "import numpy as np\n",
    "import cv2\n",
    "import warnings\n",
    "from segmentation.config import Configs as CFG\n",
    "from segmentation.scr.rle_coding import *\n",
    "\n",
    "PandasDataFrame = TypeVar('pandas.core.frame.DataFrame')"
   ]
  },
  {
   "cell_type": "code",
   "execution_count": 14,
   "metadata": {},
   "outputs": [],
   "source": [
    "df = pd.read_csv(CFG.path_df_kidney_1_til)"
   ]
  },
  {
   "cell_type": "code",
   "execution_count": 17,
   "metadata": {},
   "outputs": [
    {
     "name": "stdout",
     "output_type": "stream",
     "text": [
      "13674\n",
      "Dataset contains 1528 empty and 12146 non-empty tiles.\n",
      "Sample 506 empty and 12146 non-empty tiles.\n"
     ]
    }
   ],
   "source": [
    "def random_sub_df(df:PandasDataFrame, sample_limit: Optional[int] = None, empty_tile_pct :int = 10):\n",
    "    \"\"\"_summary_\n",
    "\n",
    "    Args:\n",
    "        df PandasDataFrame: dataframe\n",
    "        sample_limit int: sample limit. Defaults to None.\n",
    "        empty_tile_pct int: percentage of empty masks. Defaults to 10.\n",
    "\n",
    "    Returns:\n",
    "        PandasDataFrame: dataframe with a certain percentage of empty masks\n",
    "    \"\"\"\n",
    "    if sample_limit is None:\n",
    "        sample_limit = df.shape[0]\n",
    "    print(sample_limit)\n",
    "    pct_no_empty = df['is_empty'].value_counts(normalize=True)[False]\n",
    "    pct_empty = df['is_empty'].value_counts(normalize=True)[True]\n",
    "    count_no_empty = df['is_empty'].value_counts()[False]\n",
    "    count_empty = df['is_empty'].value_counts()[True]\n",
    "    print(f\"Dataset contains {count_empty} empty and {count_no_empty} non-empty tiles.\")\n",
    "    \n",
    "    num_empty_tiles_to_sample = int(sample_limit * empty_tile_pct / 100)\n",
    "    num_pos_tiles_to_sample = int(sample_limit * (1 - empty_tile_pct / 100))\n",
    "    \n",
    "    if num_empty_tiles_to_sample > count_empty:\n",
    "        num_empty_tiles_to_sample = count_empty\n",
    "        sample_limit = int(count_empty / empty_tile_pct * 100)\n",
    "        num_pos_tiles_to_sample = int(sample_limit * (1 - empty_tile_pct / 100))\n",
    "        \n",
    "    if num_pos_tiles_to_sample > count_no_empty:\n",
    "        num_pos_tiles_to_sample = count_no_empty\n",
    "        sample_limit = int(count_no_empty / (1 -empty_tile_pct / 100))\n",
    "        num_empty_tiles_to_sample = int(sample_limit * empty_tile_pct / 100)\n",
    "  \n",
    "    print(f\"Sample {num_empty_tiles_to_sample} empty and {num_pos_tiles_to_sample} non-empty tiles.\")\n",
    "\n",
    "    \n",
    "    df_empty = df[df['is_empty'] == True].sample(num_empty_tiles_to_sample)\n",
    "    df_no_empty = df[df['is_empty'] == False].sample(num_pos_tiles_to_sample)\n",
    "    frames = [df_empty, df_no_empty]\n",
    "    return pd.concat(frames).sort_index()\n",
    "    \n",
    "  \n",
    "    \n",
    "    \n",
    "        \n",
    "\n",
    "new_df = random_sub_df(df, empty_tile_pct=4)"
   ]
  },
  {
   "cell_type": "code",
   "execution_count": null,
   "metadata": {},
   "outputs": [],
   "source": []
  },
  {
   "cell_type": "code",
   "execution_count": 16,
   "metadata": {},
   "outputs": [
    {
     "data": {
      "text/plain": [
       "is_empty\n",
       "False    0.960006\n",
       "True     0.039994\n",
       "Name: proportion, dtype: float64"
      ]
     },
     "execution_count": 16,
     "metadata": {},
     "output_type": "execute_result"
    }
   ],
   "source": [
    "new_df['is_empty'].value_counts(normalize=True)"
   ]
  },
  {
   "cell_type": "code",
   "execution_count": null,
   "metadata": {},
   "outputs": [],
   "source": []
  },
  {
   "cell_type": "code",
   "execution_count": null,
   "metadata": {},
   "outputs": [],
   "source": []
  },
  {
   "cell_type": "code",
   "execution_count": null,
   "metadata": {},
   "outputs": [],
   "source": []
  },
  {
   "cell_type": "code",
   "execution_count": 105,
   "metadata": {},
   "outputs": [
    {
     "data": {
      "text/html": [
       "<div>\n",
       "<style scoped>\n",
       "    .dataframe tbody tr th:only-of-type {\n",
       "        vertical-align: middle;\n",
       "    }\n",
       "\n",
       "    .dataframe tbody tr th {\n",
       "        vertical-align: top;\n",
       "    }\n",
       "\n",
       "    .dataframe thead th {\n",
       "        text-align: right;\n",
       "    }\n",
       "</style>\n",
       "<table border=\"1\" class=\"dataframe\">\n",
       "  <thead>\n",
       "    <tr style=\"text-align: right;\">\n",
       "      <th></th>\n",
       "      <th>path_img</th>\n",
       "      <th>path_lb</th>\n",
       "      <th>is_empty</th>\n",
       "      <th>bbx</th>\n",
       "      <th>px_stats</th>\n",
       "      <th>size</th>\n",
       "    </tr>\n",
       "  </thead>\n",
       "  <tbody>\n",
       "    <tr>\n",
       "      <th>2</th>\n",
       "      <td>data\\kidney_1_tilling\\images\\0000_0_395_512_51...</td>\n",
       "      <td>data\\kidney_1_tilling\\labels\\0000_0_395_512_51...</td>\n",
       "      <td>True</td>\n",
       "      <td>(0, 395, 512, 512)</td>\n",
       "      <td>[18515, 36640]</td>\n",
       "      <td>(1303, 912)</td>\n",
       "    </tr>\n",
       "    <tr>\n",
       "      <th>4</th>\n",
       "      <td>data\\kidney_1_tilling\\images\\0000_0_791_512_51...</td>\n",
       "      <td>data\\kidney_1_tilling\\labels\\0000_0_791_512_51...</td>\n",
       "      <td>True</td>\n",
       "      <td>(0, 791, 512, 512)</td>\n",
       "      <td>[18515, 36640]</td>\n",
       "      <td>(1303, 912)</td>\n",
       "    </tr>\n",
       "    <tr>\n",
       "      <th>5</th>\n",
       "      <td>data\\kidney_1_tilling\\images\\0000_400_791_512_...</td>\n",
       "      <td>data\\kidney_1_tilling\\labels\\0000_400_791_512_...</td>\n",
       "      <td>True</td>\n",
       "      <td>(400, 791, 512, 512)</td>\n",
       "      <td>[18515, 36640]</td>\n",
       "      <td>(1303, 912)</td>\n",
       "    </tr>\n",
       "    <tr>\n",
       "      <th>6</th>\n",
       "      <td>data\\kidney_1_tilling\\images\\0001_0_0_512_512.png</td>\n",
       "      <td>data\\kidney_1_tilling\\labels\\0001_0_0_512_512.png</td>\n",
       "      <td>True</td>\n",
       "      <td>(0, 0, 512, 512)</td>\n",
       "      <td>[18320, 37358]</td>\n",
       "      <td>(1303, 912)</td>\n",
       "    </tr>\n",
       "    <tr>\n",
       "      <th>8</th>\n",
       "      <td>data\\kidney_1_tilling\\images\\0001_0_395_512_51...</td>\n",
       "      <td>data\\kidney_1_tilling\\labels\\0001_0_395_512_51...</td>\n",
       "      <td>True</td>\n",
       "      <td>(0, 395, 512, 512)</td>\n",
       "      <td>[18320, 37358]</td>\n",
       "      <td>(1303, 912)</td>\n",
       "    </tr>\n",
       "    <tr>\n",
       "      <th>...</th>\n",
       "      <td>...</td>\n",
       "      <td>...</td>\n",
       "      <td>...</td>\n",
       "      <td>...</td>\n",
       "      <td>...</td>\n",
       "      <td>...</td>\n",
       "    </tr>\n",
       "    <tr>\n",
       "      <th>13668</th>\n",
       "      <td>data\\kidney_1_tilling\\images\\2278_0_0_512_512.png</td>\n",
       "      <td>data\\kidney_1_tilling\\labels\\2278_0_0_512_512.png</td>\n",
       "      <td>True</td>\n",
       "      <td>(0, 0, 512, 512)</td>\n",
       "      <td>[10069, 18379]</td>\n",
       "      <td>(1303, 912)</td>\n",
       "    </tr>\n",
       "    <tr>\n",
       "      <th>13669</th>\n",
       "      <td>data\\kidney_1_tilling\\images\\2278_400_0_512_51...</td>\n",
       "      <td>data\\kidney_1_tilling\\labels\\2278_400_0_512_51...</td>\n",
       "      <td>True</td>\n",
       "      <td>(400, 0, 512, 512)</td>\n",
       "      <td>[10069, 18379]</td>\n",
       "      <td>(1303, 912)</td>\n",
       "    </tr>\n",
       "    <tr>\n",
       "      <th>13671</th>\n",
       "      <td>data\\kidney_1_tilling\\images\\2278_400_395_512_...</td>\n",
       "      <td>data\\kidney_1_tilling\\labels\\2278_400_395_512_...</td>\n",
       "      <td>True</td>\n",
       "      <td>(400, 395, 512, 512)</td>\n",
       "      <td>[10069, 18379]</td>\n",
       "      <td>(1303, 912)</td>\n",
       "    </tr>\n",
       "    <tr>\n",
       "      <th>13672</th>\n",
       "      <td>data\\kidney_1_tilling\\images\\2278_0_791_512_51...</td>\n",
       "      <td>data\\kidney_1_tilling\\labels\\2278_0_791_512_51...</td>\n",
       "      <td>True</td>\n",
       "      <td>(0, 791, 512, 512)</td>\n",
       "      <td>[10069, 18379]</td>\n",
       "      <td>(1303, 912)</td>\n",
       "    </tr>\n",
       "    <tr>\n",
       "      <th>13673</th>\n",
       "      <td>data\\kidney_1_tilling\\images\\2278_400_791_512_...</td>\n",
       "      <td>data\\kidney_1_tilling\\labels\\2278_400_791_512_...</td>\n",
       "      <td>True</td>\n",
       "      <td>(400, 791, 512, 512)</td>\n",
       "      <td>[10069, 18379]</td>\n",
       "      <td>(1303, 912)</td>\n",
       "    </tr>\n",
       "  </tbody>\n",
       "</table>\n",
       "<p>7000 rows × 6 columns</p>\n",
       "</div>"
      ],
      "text/plain": [
       "                                                path_img  \\\n",
       "2      data\\kidney_1_tilling\\images\\0000_0_395_512_51...   \n",
       "4      data\\kidney_1_tilling\\images\\0000_0_791_512_51...   \n",
       "5      data\\kidney_1_tilling\\images\\0000_400_791_512_...   \n",
       "6      data\\kidney_1_tilling\\images\\0001_0_0_512_512.png   \n",
       "8      data\\kidney_1_tilling\\images\\0001_0_395_512_51...   \n",
       "...                                                  ...   \n",
       "13668  data\\kidney_1_tilling\\images\\2278_0_0_512_512.png   \n",
       "13669  data\\kidney_1_tilling\\images\\2278_400_0_512_51...   \n",
       "13671  data\\kidney_1_tilling\\images\\2278_400_395_512_...   \n",
       "13672  data\\kidney_1_tilling\\images\\2278_0_791_512_51...   \n",
       "13673  data\\kidney_1_tilling\\images\\2278_400_791_512_...   \n",
       "\n",
       "                                                 path_lb  is_empty  \\\n",
       "2      data\\kidney_1_tilling\\labels\\0000_0_395_512_51...      True   \n",
       "4      data\\kidney_1_tilling\\labels\\0000_0_791_512_51...      True   \n",
       "5      data\\kidney_1_tilling\\labels\\0000_400_791_512_...      True   \n",
       "6      data\\kidney_1_tilling\\labels\\0001_0_0_512_512.png      True   \n",
       "8      data\\kidney_1_tilling\\labels\\0001_0_395_512_51...      True   \n",
       "...                                                  ...       ...   \n",
       "13668  data\\kidney_1_tilling\\labels\\2278_0_0_512_512.png      True   \n",
       "13669  data\\kidney_1_tilling\\labels\\2278_400_0_512_51...      True   \n",
       "13671  data\\kidney_1_tilling\\labels\\2278_400_395_512_...      True   \n",
       "13672  data\\kidney_1_tilling\\labels\\2278_0_791_512_51...      True   \n",
       "13673  data\\kidney_1_tilling\\labels\\2278_400_791_512_...      True   \n",
       "\n",
       "                        bbx        px_stats         size  \n",
       "2        (0, 395, 512, 512)  [18515, 36640]  (1303, 912)  \n",
       "4        (0, 791, 512, 512)  [18515, 36640]  (1303, 912)  \n",
       "5      (400, 791, 512, 512)  [18515, 36640]  (1303, 912)  \n",
       "6          (0, 0, 512, 512)  [18320, 37358]  (1303, 912)  \n",
       "8        (0, 395, 512, 512)  [18320, 37358]  (1303, 912)  \n",
       "...                     ...             ...          ...  \n",
       "13668      (0, 0, 512, 512)  [10069, 18379]  (1303, 912)  \n",
       "13669    (400, 0, 512, 512)  [10069, 18379]  (1303, 912)  \n",
       "13671  (400, 395, 512, 512)  [10069, 18379]  (1303, 912)  \n",
       "13672    (0, 791, 512, 512)  [10069, 18379]  (1303, 912)  \n",
       "13673  (400, 791, 512, 512)  [10069, 18379]  (1303, 912)  \n",
       "\n",
       "[7000 rows x 6 columns]"
      ]
     },
     "execution_count": 105,
     "metadata": {},
     "output_type": "execute_result"
    }
   ],
   "source": [
    "df_empty = df[df['is_empty'] == True].sample(1000)\n",
    "df_no_empty = df[df['is_empty'] == False].sample(6000)\n",
    "frames = [df_empty, df_no_empty]\n",
    "pd.concat(frames).sort_index()"
   ]
  },
  {
   "cell_type": "code",
   "execution_count": null,
   "metadata": {},
   "outputs": [],
   "source": []
  },
  {
   "cell_type": "code",
   "execution_count": null,
   "metadata": {},
   "outputs": [],
   "source": []
  },
  {
   "cell_type": "code",
   "execution_count": null,
   "metadata": {},
   "outputs": [],
   "source": []
  },
  {
   "cell_type": "code",
   "execution_count": 89,
   "metadata": {},
   "outputs": [
    {
     "data": {
      "text/plain": [
       "0.1111111111111111"
      ]
     },
     "execution_count": 89,
     "metadata": {},
     "output_type": "execute_result"
    }
   ],
   "source": [
    "800 / 7200"
   ]
  },
  {
   "cell_type": "code",
   "execution_count": null,
   "metadata": {},
   "outputs": [],
   "source": []
  },
  {
   "cell_type": "code",
   "execution_count": 82,
   "metadata": {},
   "outputs": [
    {
     "data": {
      "text/plain": [
       "0.30001963479285293"
      ]
     },
     "execution_count": 82,
     "metadata": {},
     "output_type": "execute_result"
    }
   ],
   "source": [
    "1528/ (1528+3565)"
   ]
  },
  {
   "cell_type": "code",
   "execution_count": 55,
   "metadata": {},
   "outputs": [],
   "source": [
    "empty_tiles = df[df['is_empty'] == True].index.values"
   ]
  },
  {
   "cell_type": "code",
   "execution_count": null,
   "metadata": {},
   "outputs": [],
   "source": [
    "num_empty_tiles_to_sample "
   ]
  },
  {
   "cell_type": "code",
   "execution_count": null,
   "metadata": {},
   "outputs": [],
   "source": [
    "np.random.choice(empty_tiles, min(num_empty_tiles_to_sample, len(empty_tiles)), replace=False)"
   ]
  },
  {
   "cell_type": "code",
   "execution_count": null,
   "metadata": {},
   "outputs": [],
   "source": []
  },
  {
   "cell_type": "code",
   "execution_count": 54,
   "metadata": {},
   "outputs": [
    {
     "data": {
      "text/plain": [
       "array([    0,     1,     2, ..., 13671, 13672, 13673], dtype=int64)"
      ]
     },
     "execution_count": 54,
     "metadata": {},
     "output_type": "execute_result"
    }
   ],
   "source": [
    "df[df['is_empty'] == True].index.values"
   ]
  },
  {
   "cell_type": "code",
   "execution_count": null,
   "metadata": {},
   "outputs": [],
   "source": []
  },
  {
   "cell_type": "code",
   "execution_count": 37,
   "metadata": {},
   "outputs": [],
   "source": [
    "df = pd.read_csv(CFG.path_df_kidney_1_til)"
   ]
  },
  {
   "cell_type": "code",
   "execution_count": 39,
   "metadata": {},
   "outputs": [
    {
     "data": {
      "text/plain": [
       "0.8882550826385842"
      ]
     },
     "execution_count": 39,
     "metadata": {},
     "output_type": "execute_result"
    }
   ],
   "source": [
    "df['is_empty'].value_counts(normalize=True)[False]"
   ]
  },
  {
   "cell_type": "code",
   "execution_count": 16,
   "metadata": {},
   "outputs": [
    {
     "data": {
      "text/plain": [
       "13674"
      ]
     },
     "execution_count": 16,
     "metadata": {},
     "output_type": "execute_result"
    }
   ],
   "source": [
    "num_tiles = df.shape[0]\n",
    "num_tiles "
   ]
  },
  {
   "cell_type": "code",
   "execution_count": 18,
   "metadata": {},
   "outputs": [],
   "source": [
    "empty_tile_pct = 20\n",
    "num_empty_tiles_to_sample = int(num_tiles * empty_tile_pct / 100)\n",
    "num_pos_tiles_to_sample = int(num_tiles * (1 - empty_tile_pct / 100))"
   ]
  },
  {
   "cell_type": "code",
   "execution_count": 19,
   "metadata": {},
   "outputs": [
    {
     "data": {
      "text/plain": [
       "2734"
      ]
     },
     "execution_count": 19,
     "metadata": {},
     "output_type": "execute_result"
    }
   ],
   "source": [
    "num_empty_tiles_to_sample"
   ]
  },
  {
   "cell_type": "code",
   "execution_count": 20,
   "metadata": {},
   "outputs": [
    {
     "data": {
      "text/plain": [
       "10939"
      ]
     },
     "execution_count": 20,
     "metadata": {},
     "output_type": "execute_result"
    }
   ],
   "source": [
    "num_pos_tiles_to_sample"
   ]
  },
  {
   "cell_type": "code",
   "execution_count": 21,
   "metadata": {},
   "outputs": [
    {
     "data": {
      "text/plain": [
       "13673"
      ]
     },
     "execution_count": 21,
     "metadata": {},
     "output_type": "execute_result"
    }
   ],
   "source": [
    "1367 + 12306"
   ]
  },
  {
   "cell_type": "code",
   "execution_count": 31,
   "metadata": {},
   "outputs": [
    {
     "data": {
      "text/plain": [
       "array([3, 2, 7, 6])"
      ]
     },
     "execution_count": 31,
     "metadata": {},
     "output_type": "execute_result"
    }
   ],
   "source": [
    "np.random.choice(10, min(5, 4), replace=False)"
   ]
  },
  {
   "cell_type": "code",
   "execution_count": null,
   "metadata": {},
   "outputs": [],
   "source": []
  },
  {
   "cell_type": "code",
   "execution_count": null,
   "metadata": {},
   "outputs": [],
   "source": [
    "num_empty_tiles_to_sample = int(self.sample_limit * self.empty_tile_pct)\n",
    "            num_pos_tiles_to_sample = int(self.sample_limit * (1 - self.empty_tile_pct))\n",
    "\n",
    "            empty_idxs_to_sample = np.random.choice(len(empty_tiles), min(num_empty_tiles_to_sample, len(empty_tiles)), replace=False)\n",
    "            pos_idxs_to_sample = np.random.choice(len(populated_tiles), min(num_pos_tiles_to_sample, len(populated_tiles)), replace=False)\n",
    "\n",
    "            neg_samples = list(map(empty_tiles.__getitem__, empty_idxs_to_sample))\n",
    "            pos_samples = list(map(populated_tiles.__getitem__, pos_idxs_to_sample))\n",
    "\n",
    "            new_samples = pos_samples + neg_samples\n",
    "\n",
    "            self.samples = new_samples\n",
    "            if self.empty_tile_pct == 0.0:\n",
    "                print(f'Dropped {empty} empty tiles.')\n",
    "            print(f'Dataset contains {len(neg_samples)} empty and {len(pos_samples)} non-empty tile"
   ]
  },
  {
   "cell_type": "code",
   "execution_count": null,
   "metadata": {},
   "outputs": [],
   "source": []
  },
  {
   "cell_type": "code",
   "execution_count": 8,
   "metadata": {},
   "outputs": [
    {
     "data": {
      "text/html": [
       "<div>\n",
       "<style scoped>\n",
       "    .dataframe tbody tr th:only-of-type {\n",
       "        vertical-align: middle;\n",
       "    }\n",
       "\n",
       "    .dataframe tbody tr th {\n",
       "        vertical-align: top;\n",
       "    }\n",
       "\n",
       "    .dataframe thead th {\n",
       "        text-align: right;\n",
       "    }\n",
       "</style>\n",
       "<table border=\"1\" class=\"dataframe\">\n",
       "  <thead>\n",
       "    <tr style=\"text-align: right;\">\n",
       "      <th></th>\n",
       "      <th>path_img</th>\n",
       "      <th>path_lb</th>\n",
       "      <th>is_empty</th>\n",
       "      <th>bbx</th>\n",
       "      <th>px_stats</th>\n",
       "      <th>size</th>\n",
       "    </tr>\n",
       "  </thead>\n",
       "  <tbody>\n",
       "    <tr>\n",
       "      <th>0</th>\n",
       "      <td>data\\kidney_1_tilling\\images\\0000_0_0_512_512.png</td>\n",
       "      <td>data\\kidney_1_tilling\\labels\\0000_0_0_512_512.png</td>\n",
       "      <td>True</td>\n",
       "      <td>(0, 0, 512, 512)</td>\n",
       "      <td>[18515, 36640]</td>\n",
       "      <td>(1303, 912)</td>\n",
       "    </tr>\n",
       "    <tr>\n",
       "      <th>1</th>\n",
       "      <td>data\\kidney_1_tilling\\images\\0000_400_0_512_51...</td>\n",
       "      <td>data\\kidney_1_tilling\\labels\\0000_400_0_512_51...</td>\n",
       "      <td>True</td>\n",
       "      <td>(400, 0, 512, 512)</td>\n",
       "      <td>[18515, 36640]</td>\n",
       "      <td>(1303, 912)</td>\n",
       "    </tr>\n",
       "    <tr>\n",
       "      <th>2</th>\n",
       "      <td>data\\kidney_1_tilling\\images\\0000_0_395_512_51...</td>\n",
       "      <td>data\\kidney_1_tilling\\labels\\0000_0_395_512_51...</td>\n",
       "      <td>True</td>\n",
       "      <td>(0, 395, 512, 512)</td>\n",
       "      <td>[18515, 36640]</td>\n",
       "      <td>(1303, 912)</td>\n",
       "    </tr>\n",
       "    <tr>\n",
       "      <th>3</th>\n",
       "      <td>data\\kidney_1_tilling\\images\\0000_400_395_512_...</td>\n",
       "      <td>data\\kidney_1_tilling\\labels\\0000_400_395_512_...</td>\n",
       "      <td>True</td>\n",
       "      <td>(400, 395, 512, 512)</td>\n",
       "      <td>[18515, 36640]</td>\n",
       "      <td>(1303, 912)</td>\n",
       "    </tr>\n",
       "    <tr>\n",
       "      <th>4</th>\n",
       "      <td>data\\kidney_1_tilling\\images\\0000_0_791_512_51...</td>\n",
       "      <td>data\\kidney_1_tilling\\labels\\0000_0_791_512_51...</td>\n",
       "      <td>True</td>\n",
       "      <td>(0, 791, 512, 512)</td>\n",
       "      <td>[18515, 36640]</td>\n",
       "      <td>(1303, 912)</td>\n",
       "    </tr>\n",
       "    <tr>\n",
       "      <th>...</th>\n",
       "      <td>...</td>\n",
       "      <td>...</td>\n",
       "      <td>...</td>\n",
       "      <td>...</td>\n",
       "      <td>...</td>\n",
       "      <td>...</td>\n",
       "    </tr>\n",
       "    <tr>\n",
       "      <th>13669</th>\n",
       "      <td>data\\kidney_1_tilling\\images\\2278_400_0_512_51...</td>\n",
       "      <td>data\\kidney_1_tilling\\labels\\2278_400_0_512_51...</td>\n",
       "      <td>True</td>\n",
       "      <td>(400, 0, 512, 512)</td>\n",
       "      <td>[10069, 18379]</td>\n",
       "      <td>(1303, 912)</td>\n",
       "    </tr>\n",
       "    <tr>\n",
       "      <th>13670</th>\n",
       "      <td>data\\kidney_1_tilling\\images\\2278_0_395_512_51...</td>\n",
       "      <td>data\\kidney_1_tilling\\labels\\2278_0_395_512_51...</td>\n",
       "      <td>True</td>\n",
       "      <td>(0, 395, 512, 512)</td>\n",
       "      <td>[10069, 18379]</td>\n",
       "      <td>(1303, 912)</td>\n",
       "    </tr>\n",
       "    <tr>\n",
       "      <th>13671</th>\n",
       "      <td>data\\kidney_1_tilling\\images\\2278_400_395_512_...</td>\n",
       "      <td>data\\kidney_1_tilling\\labels\\2278_400_395_512_...</td>\n",
       "      <td>True</td>\n",
       "      <td>(400, 395, 512, 512)</td>\n",
       "      <td>[10069, 18379]</td>\n",
       "      <td>(1303, 912)</td>\n",
       "    </tr>\n",
       "    <tr>\n",
       "      <th>13672</th>\n",
       "      <td>data\\kidney_1_tilling\\images\\2278_0_791_512_51...</td>\n",
       "      <td>data\\kidney_1_tilling\\labels\\2278_0_791_512_51...</td>\n",
       "      <td>True</td>\n",
       "      <td>(0, 791, 512, 512)</td>\n",
       "      <td>[10069, 18379]</td>\n",
       "      <td>(1303, 912)</td>\n",
       "    </tr>\n",
       "    <tr>\n",
       "      <th>13673</th>\n",
       "      <td>data\\kidney_1_tilling\\images\\2278_400_791_512_...</td>\n",
       "      <td>data\\kidney_1_tilling\\labels\\2278_400_791_512_...</td>\n",
       "      <td>True</td>\n",
       "      <td>(400, 791, 512, 512)</td>\n",
       "      <td>[10069, 18379]</td>\n",
       "      <td>(1303, 912)</td>\n",
       "    </tr>\n",
       "  </tbody>\n",
       "</table>\n",
       "<p>13674 rows × 6 columns</p>\n",
       "</div>"
      ],
      "text/plain": [
       "                                                path_img  \\\n",
       "0      data\\kidney_1_tilling\\images\\0000_0_0_512_512.png   \n",
       "1      data\\kidney_1_tilling\\images\\0000_400_0_512_51...   \n",
       "2      data\\kidney_1_tilling\\images\\0000_0_395_512_51...   \n",
       "3      data\\kidney_1_tilling\\images\\0000_400_395_512_...   \n",
       "4      data\\kidney_1_tilling\\images\\0000_0_791_512_51...   \n",
       "...                                                  ...   \n",
       "13669  data\\kidney_1_tilling\\images\\2278_400_0_512_51...   \n",
       "13670  data\\kidney_1_tilling\\images\\2278_0_395_512_51...   \n",
       "13671  data\\kidney_1_tilling\\images\\2278_400_395_512_...   \n",
       "13672  data\\kidney_1_tilling\\images\\2278_0_791_512_51...   \n",
       "13673  data\\kidney_1_tilling\\images\\2278_400_791_512_...   \n",
       "\n",
       "                                                 path_lb  is_empty  \\\n",
       "0      data\\kidney_1_tilling\\labels\\0000_0_0_512_512.png      True   \n",
       "1      data\\kidney_1_tilling\\labels\\0000_400_0_512_51...      True   \n",
       "2      data\\kidney_1_tilling\\labels\\0000_0_395_512_51...      True   \n",
       "3      data\\kidney_1_tilling\\labels\\0000_400_395_512_...      True   \n",
       "4      data\\kidney_1_tilling\\labels\\0000_0_791_512_51...      True   \n",
       "...                                                  ...       ...   \n",
       "13669  data\\kidney_1_tilling\\labels\\2278_400_0_512_51...      True   \n",
       "13670  data\\kidney_1_tilling\\labels\\2278_0_395_512_51...      True   \n",
       "13671  data\\kidney_1_tilling\\labels\\2278_400_395_512_...      True   \n",
       "13672  data\\kidney_1_tilling\\labels\\2278_0_791_512_51...      True   \n",
       "13673  data\\kidney_1_tilling\\labels\\2278_400_791_512_...      True   \n",
       "\n",
       "                        bbx        px_stats         size  \n",
       "0          (0, 0, 512, 512)  [18515, 36640]  (1303, 912)  \n",
       "1        (400, 0, 512, 512)  [18515, 36640]  (1303, 912)  \n",
       "2        (0, 395, 512, 512)  [18515, 36640]  (1303, 912)  \n",
       "3      (400, 395, 512, 512)  [18515, 36640]  (1303, 912)  \n",
       "4        (0, 791, 512, 512)  [18515, 36640]  (1303, 912)  \n",
       "...                     ...             ...          ...  \n",
       "13669    (400, 0, 512, 512)  [10069, 18379]  (1303, 912)  \n",
       "13670    (0, 395, 512, 512)  [10069, 18379]  (1303, 912)  \n",
       "13671  (400, 395, 512, 512)  [10069, 18379]  (1303, 912)  \n",
       "13672    (0, 791, 512, 512)  [10069, 18379]  (1303, 912)  \n",
       "13673  (400, 791, 512, 512)  [10069, 18379]  (1303, 912)  \n",
       "\n",
       "[13674 rows x 6 columns]"
      ]
     },
     "execution_count": 8,
     "metadata": {},
     "output_type": "execute_result"
    }
   ],
   "source": [
    "df"
   ]
  },
  {
   "cell_type": "code",
   "execution_count": null,
   "metadata": {},
   "outputs": [],
   "source": []
  },
  {
   "cell_type": "code",
   "execution_count": null,
   "metadata": {},
   "outputs": [],
   "source": []
  }
 ],
 "metadata": {
  "kernelspec": {
   "display_name": ".venv",
   "language": "python",
   "name": "python3"
  },
  "language_info": {
   "codemirror_mode": {
    "name": "ipython",
    "version": 3
   },
   "file_extension": ".py",
   "mimetype": "text/x-python",
   "name": "python",
   "nbconvert_exporter": "python",
   "pygments_lexer": "ipython3",
   "version": "3.9.0"
  }
 },
 "nbformat": 4,
 "nbformat_minor": 2
}
