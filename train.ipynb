{
  "cells": [
    {
      "cell_type": "code",
      "execution_count": 1,
      "metadata": {},
      "outputs": [
        {
          "name": "stderr",
          "output_type": "stream",
          "text": [
            "C:\\Users\\123\\AppData\\Local\\Temp\\ipykernel_9812\\1080737238.py:2: DeprecationWarning: \n",
            "Pyarrow will become a required dependency of pandas in the next major release of pandas (pandas 3.0),\n",
            "(to allow more performant data types, such as the Arrow string type, and better interoperability with other libraries)\n",
            "but was not found to be installed on your system.\n",
            "If this would cause problems for you,\n",
            "please provide us feedback at https://github.com/pandas-dev/pandas/issues/54466\n",
            "        \n",
            "  import pandas as pd\n"
          ]
        },
        {
          "ename": "IndentationError",
          "evalue": "expected an indented block (train_model.py, line 78)",
          "output_type": "error",
          "traceback": [
            "Traceback \u001b[1;36m(most recent call last)\u001b[0m:\n",
            "\u001b[0m  File \u001b[0;32mc:\\Users\\123\\Desktop\\human vasculature\\.venv\\lib\\site-packages\\IPython\\core\\interactiveshell.py:3550\u001b[0m in \u001b[0;35mrun_code\u001b[0m\n    exec(code_obj, self.user_global_ns, self.user_ns)\u001b[0m\n",
            "\u001b[1;36m  Cell \u001b[1;32mIn[1], line 6\u001b[1;36m\n\u001b[1;33m    from segmentation.scr.train_model.train_model import train_model\u001b[1;36m\n",
            "\u001b[1;36m  File \u001b[1;32mc:\\Users\\123\\Desktop\\human vasculature\\segmentation\\scr\\train_model\\train_model.py:78\u001b[1;36m\u001b[0m\n\u001b[1;33m    file_handler.write(\"{}\\t\".format(item))\u001b[0m\n\u001b[1;37m    ^\u001b[0m\n\u001b[1;31mIndentationError\u001b[0m\u001b[1;31m:\u001b[0m expected an indented block\n"
          ]
        }
      ],
      "source": [
        "import torch \n",
        "import pandas as pd\n",
        "from torch.utils.data import DataLoader\n",
        "\n",
        "from segmentation.config import CFG\n",
        "from segmentation.scr.train_model.train_model import train_model\n",
        "from segmentation.scr.train_model.data_loader import *\n",
        "from segmentation.scr.utils import losses, transforms\n",
        "from segmentation.scr.utils.utils import set_seed\n",
        "from segmentation.scr.tilling_dataset import Tilling_Dataset\n",
        "from segmentation.scr.train_function import train_model\n",
        "\n",
        "from colorama import Fore, Style\n",
        "c_  = Fore.GREEN\n",
        "sr_ = Style.RESET_ALL\n",
        "\n",
        "#from segmentation.scr\n",
        "pd.options.mode.chained_assignment = None"
      ]
    },
    {
      "cell_type": "code",
      "execution_count": null,
      "metadata": {},
      "outputs": [],
      "source": [
        "loss_fn = losses.DiceLoss(smooth=1)\n",
        "x = torch.zeros((4,1,256,256))\n",
        "y = torch.zeros((4,256,256))\n",
        "loss_fn(x,y)"
      ]
    },
    {
      "cell_type": "code",
      "execution_count": null,
      "metadata": {},
      "outputs": [],
      "source": [
        "train_transform  = transforms.get_transform(transform_type='train')\n",
        "val_transform = transforms.get_transform(transform_type='val')"
      ]
    },
    {
      "cell_type": "code",
      "execution_count": null,
      "metadata": {},
      "outputs": [],
      "source": [
        "train_dataset = Tilling_Dataset(\n",
        "    name_data='kidney_1_tilling',\n",
        "    path_to_df=CFG.path_df_kidney_1_till,\n",
        "    use_random_sub=True,\n",
        "    empty_tile_pct=0,\n",
        "    sample_limit=3000,\n",
        "    random_seed=CFG.random_seed,\n",
        "    transform=train_transform \n",
        ")\n"
      ]
    },
    {
      "cell_type": "code",
      "execution_count": null,
      "metadata": {},
      "outputs": [],
      "source": [
        "val_dataset = Tilling_Dataset(\n",
        "    name_data='kidney_3_tilling',\n",
        "    path_to_df=CFG.path_df_kidney_3_till,\n",
        "    use_random_sub=True,\n",
        "    empty_tile_pct=6,\n",
        "    sample_limit=1000,\n",
        "    random_seed=CFG.random_seed,\n",
        "    transform=val_transform\n",
        "    )"
      ]
    },
    {
      "cell_type": "code",
      "execution_count": null,
      "metadata": {},
      "outputs": [],
      "source": [
        "set_seed(CFG.random_seed)\n",
        "\n",
        "train_loader = DataLoader(train_dataset, batch_size=CFG.train_batch_size, num_workers=2, shuffle=True, pin_memory=True)\n",
        "val_loader = DataLoader(val_dataset, batch_size=CFG.valid_batch_size, num_workers=2, shuffle=False, pin_memory=True)"
      ]
    },
    {
      "cell_type": "code",
      "execution_count": null,
      "metadata": {},
      "outputs": [],
      "source": [
        "model = unet.UNet(n_channels=3, n_classes=1, bilinear=True).to(CFG.device)\n",
        "num_epoch = 60\n",
        "loss_fn = losses.BCE_DICE(mode=\"SUM\")\n",
        "optimizer = torch.optim.Adam(model.parameters(), lr=3e-4) \n",
        "sheduler = torch.optim.lr_scheduler.ReduceLROnPlateau(\n",
        "    optimizer=optimizer, mode='max', patience=4, factor=0.6, verbose=True, threshold=1e-3)\n",
        "device = CFG.device"
      ]
    },
    {
      "cell_type": "code",
      "execution_count": null,
      "metadata": {},
      "outputs": [],
      "source": [
        "train_model(model=model, \n",
        "                optimizer=optimizer, \n",
        "                loss_func=loss_fn, \n",
        "                train_loader=train_loader, \n",
        "                val_loader=val_loader, \n",
        "                num_epochs=num_epoch, \n",
        "                scheduler=sheduler, \n",
        "                device =CFG.device,\n",
        "                path_to_save=CFG.path_to_save_state_model)"
      ]
    },
    {
      "cell_type": "code",
      "execution_count": null,
      "metadata": {},
      "outputs": [],
      "source": []
    },
    {
      "cell_type": "code",
      "execution_count": null,
      "metadata": {},
      "outputs": [],
      "source": []
    },
    {
      "cell_type": "code",
      "execution_count": null,
      "metadata": {},
      "outputs": [],
      "source": []
    },
    {
      "cell_type": "code",
      "execution_count": null,
      "metadata": {},
      "outputs": [],
      "source": []
    }
  ],
  "metadata": {
    "kernelspec": {
      "display_name": ".venv",
      "language": "python",
      "name": "python3"
    },
    "language_info": {
      "codemirror_mode": {
        "name": "ipython",
        "version": 3
      },
      "file_extension": ".py",
      "mimetype": "text/x-python",
      "name": "python",
      "nbconvert_exporter": "python",
      "pygments_lexer": "ipython3",
      "version": "3.9.0"
    }
  },
  "nbformat": 4,
  "nbformat_minor": 2
}
