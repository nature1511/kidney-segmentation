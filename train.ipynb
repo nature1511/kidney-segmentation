{
  "cells": [
    {
      "cell_type": "code",
      "execution_count": 1,
      "metadata": {},
      "outputs": [
        {
          "name": "stderr",
          "output_type": "stream",
          "text": [
            "c:\\Users\\123\\Desktop\\human vasculature\\.venv\\lib\\site-packages\\tqdm\\auto.py:21: TqdmWarning: IProgress not found. Please update jupyter and ipywidgets. See https://ipywidgets.readthedocs.io/en/stable/user_install.html\n",
            "  from .autonotebook import tqdm as notebook_tqdm\n",
            "C:\\Users\\123\\AppData\\Local\\Temp\\ipykernel_24608\\2019418347.py:10: DeprecationWarning: \n",
            "Pyarrow will become a required dependency of pandas in the next major release of pandas (pandas 3.0),\n",
            "(to allow more performant data types, such as the Arrow string type, and better interoperability with other libraries)\n",
            "but was not found to be installed on your system.\n",
            "If this would cause problems for you,\n",
            "please provide us feedback at https://github.com/pandas-dev/pandas/issues/54466\n",
            "        \n",
            "  import pandas as pd\n"
          ]
        }
      ],
      "source": [
        "import torch \n",
        "import torch.nn as nn  \n",
        "import numpy as np\n",
        "from tqdm.auto import tqdm\n",
        "\n",
        "import cv2\n",
        "import os,sys\n",
        "from glob import glob\n",
        "import matplotlib.pyplot as plt\n",
        "import pandas as pd\n",
        "from torch.utils.data import Dataset, DataLoader\n",
        "from torch.nn.parallel import DataParallel\n",
        "from torch.cuda.amp import autocast\n",
        "from torch.cuda import amp\n",
        "from torch.optim import lr_scheduler\n",
        "import time\n",
        "import gc\n",
        "import copy\n",
        "from collections import defaultdict\n",
        "import torch.nn.functional as F\n",
        "import matplotlib.pyplot as plt\n",
        "import albumentations as A\n",
        "from pathlib import Path\n",
        "from PIL import Image\n",
        "import segmentation_models_pytorch as smp\n",
        "import time\n",
        "\n",
        "from segmentation.scr.utils.metrics import dice_coef\n",
        "\n",
        "import torch\n",
        "from torch.utils.data import Dataset, DataLoader\n",
        "from torch.nn.parallel import DataParallel\n",
        "\n",
        "\n",
        "\n",
        "#from segmentation.config import Configs as CFG\n",
        "from segmentation.models.unet import unet\n",
        "from segmentation.scr.utils import losses, metrics, transforms, rle_coding\n",
        "from segmentation.scr.utils.utils import set_seed\n",
        "from segmentation.scr.tilling_dataset import Tilling_Dataset\n",
        "from colorama import Fore, Back, Style\n",
        "c_  = Fore.GREEN\n",
        "sr_ = Style.RESET_ALL\n",
        "\n",
        "#from segmentation.scr\n",
        "pd.options.mode.chained_assignment = None"
      ]
    },
    {
      "cell_type": "code",
      "execution_count": 14,
      "metadata": {},
      "outputs": [],
      "source": [
        "class CFG:\n",
        "\n",
        "    # configs for tilling dataset kidney 1\n",
        "    path_img_kidney1 = \"data\\\\train\\\\kidney_1_dense\\\\images\"\n",
        "    path_lb_kidney1 = \"data\\\\train\\\\kidney_1_dense\\\\labels\"\n",
        "    path_df_kidney_1_till = \"data\\\\kidney_1_tilling.csv\"\n",
        "    tile_size = (256, 256)\n",
        "    overlap_pct = 0\n",
        "    cache_dir = \"data\"\n",
        "    mean_till1 = (0.2425, 0.2425, 0.2425)\n",
        "    std_till1 = (0.1766, 0.1766, 0.1766)\n",
        "\n",
        "    # configs for tilling dataset kidney 3\n",
        "    path_img_kidney3 = \"data\\\\train\\\\kidney_3_sparse\\\\images\"\n",
        "    path_lb_kidney3 = \"data\\\\train\\\\kidney_3_dense\\\\labels\"\n",
        "    path_df_kidney_3_till = \"data\\\\kidney_3_tilling.csv\"\n",
        "    tile_size = (256, 256)\n",
        "    overlap_pct = 0\n",
        "    cache_dir = \"data\"\n",
        "\n",
        "    # configs for transforms\n",
        "    p_rot = 0.3\n",
        "    p_aug = 0.3\n",
        "    # cofigs for train / eval model\n",
        "    random_seed = 0\n",
        "    device = \"cuda\" if torch.cuda.is_available() else \"cpu\"\n",
        "    train_batch_size = 2\n",
        "    n_accumulate = max(1, 8 // train_batch_size)\n",
        "    valid_batch_size = train_batch_size * 2\n",
        "    clip_norm=5\n",
        "    epochs = 28\n",
        "    lr = 3e-4\n",
        "    dice_th = 0.5\n",
        "    \n",
        "    \n",
        "    "
      ]
    },
    {
      "cell_type": "code",
      "execution_count": 15,
      "metadata": {},
      "outputs": [],
      "source": [
        "train_transform  = transforms.get_transform(transform_type='strong')\n",
        "val_transform = transforms.get_transform(transform_type='val')"
      ]
    },
    {
      "cell_type": "code",
      "execution_count": 16,
      "metadata": {},
      "outputs": [
        {
          "name": "stdout",
          "output_type": "stream",
          "text": [
            "160\n",
            "Dataset contains 20744 empty and 33952 non-empty tiles.\n",
            "Sample 0 empty and 160 non-empty tiles.\n"
          ]
        }
      ],
      "source": [
        "train_dataset = Tilling_Dataset(\n",
        "    name_data='kidney_1_tilling',\n",
        "    path_to_df=CFG.path_df_kidney_1_till,\n",
        "    use_random_sub=True,\n",
        "    empty_tile_pct=0,\n",
        "    sample_limit=160,\n",
        "    random_seed=42\n",
        ")\n"
      ]
    },
    {
      "cell_type": "code",
      "execution_count": 17,
      "metadata": {},
      "outputs": [
        {
          "name": "stdout",
          "output_type": "stream",
          "text": [
            "50\n",
            "Dataset contains 14595 empty and 6447 non-empty tiles.\n",
            "Sample 5 empty and 45 non-empty tiles.\n"
          ]
        }
      ],
      "source": [
        "val_dataset = Tilling_Dataset(\n",
        "    name_data='kidney_3_tilling',\n",
        "    path_to_df=CFG.path_df_kidney_3_till,\n",
        "    use_random_sub=True,\n",
        "    empty_tile_pct=10,\n",
        "    sample_limit=50,\n",
        "    random_seed=42)"
      ]
    },
    {
      "cell_type": "code",
      "execution_count": 18,
      "metadata": {},
      "outputs": [],
      "source": [
        "set_seed.set_seed(CFG.random_seed)\n",
        "\n",
        "train_loader = DataLoader(train_dataset, batch_size=CFG.train_batch_size, num_workers=2, shuffle=True, pin_memory=True)\n",
        "val_loader = DataLoader(train_dataset, batch_size=CFG.valid_batch_size, num_workers=2, shuffle=False, pin_memory=True)"
      ]
    },
    {
      "cell_type": "code",
      "execution_count": 30,
      "metadata": {},
      "outputs": [],
      "source": [
        "model = unet.UNet(n_channels=3, n_classes=1, bilinear=False).to(CFG.device)\n",
        "num_epoch = 4\n",
        "loss_fn = losses.BCE_DICE(mode=\"BCE\")\n",
        "optimizer = torch.optim.Adam(model.parameters(), lr = 1e-4)\n",
        "device = CFG.device"
      ]
    },
    {
      "cell_type": "code",
      "execution_count": 31,
      "metadata": {},
      "outputs": [],
      "source": [
        "def train_one_loop(model, optimizer, loss_func, train_loader, device=CFG.device, grad_clip = False):\n",
        "    model.train()\n",
        "    running_loss = 0.0\n",
        "    epoch_loss = 0.0\n",
        "\n",
        "    dataset_size = 0\n",
        "    optimizer.zero_grad()\n",
        "    pbar = tqdm(enumerate(train_loader), total=len(train_loader), desc='Train ')\n",
        "    for step, batch in pbar:\n",
        "        images, masks,_, _ = batch\n",
        "        images = images.to(device, dtype=torch.float)\n",
        "        masks  = masks.to(device, dtype=torch.float)\n",
        "        \n",
        "        batch_size = images.shape[0]\n",
        "        dataset_size += batch_size\n",
        "    \n",
        "        y_pred = model(images)\n",
        "            \n",
        "        loss   = loss_func(y_pred, masks)\n",
        "        loss   = loss / CFG.n_accumulate\n",
        "        loss.backward() #loss.backward()  # backward-pass\n",
        "\n",
        "        running_loss += loss.item() * batch_size\n",
        "        dataset_size += batch_size\n",
        "        del images\n",
        "        del masks\n",
        "        del y_pred\n",
        "        \n",
        "        if (step + 1) % CFG.n_accumulate == 0 or (step + 1 == len(train_loader)):\n",
        "            if grad_clip:\n",
        "                torch.nn.utils.clip_grad_norm_(model.parameters(), max_norm=CFG.clip_norm)\n",
        "            optimizer.step()  # update weights\n",
        "            optimizer.zero_grad()\n",
        "\n",
        "\n",
        "\n",
        "        mem = torch.cuda.memory_reserved() / 1E9 if torch.cuda.is_available() else 0\n",
        "        current_lr = optimizer.param_groups[0]['lr']\n",
        "        pbar.set_postfix( epoch=f'{step + 1}',\n",
        "                          train_loss=f'{running_loss / dataset_size:0.4f}',\n",
        "                          #train_dice = f'{train_dice:0.4f}',\n",
        "                          #train_jaccard = f'{train_jaccard:0.4f}',\n",
        "                          lr=f'{current_lr:0.5f}',\n",
        "                          gpu_mem=f'{mem:0.2f} GB')\n",
        "    epoch_loss = running_loss / dataset_size\n",
        "\n",
        "    gc.collect()\n",
        "    torch.cuda.empty_cache()\n",
        "    \n",
        "    return epoch_loss\n",
        "        "
      ]
    },
    {
      "cell_type": "code",
      "execution_count": 32,
      "metadata": {},
      "outputs": [
        {
          "name": "stderr",
          "output_type": "stream",
          "text": [
            "Train : 100%|\u2588\u2588\u2588\u2588\u2588\u2588\u2588\u2588\u2588\u2588| 80/80 [00:16<00:00,  4.79it/s, epoch=80, gpu_mem=1.69 GB, lr=0.00010, train_loss=0.0716]\n"
          ]
        },
        {
          "data": {
            "text/plain": [
              "0.07155871191062033"
            ]
          },
          "execution_count": 32,
          "metadata": {},
          "output_type": "execute_result"
        }
      ],
      "source": [
        "train_one_loop(model=model,optimizer=optimizer, train_loader=train_loader,\n",
        "               loss_func=loss_fn, device=CFG.device)"
      ]
    },
    {
      "cell_type": "code",
      "execution_count": 33,
      "metadata": {},
      "outputs": [],
      "source": [
        "def valid_one_epoch(model, dataloader, loss_fn,  epoch, device=CFG.device):\n",
        " #(model, dataloader, device, epoch):\n",
        "    model.eval()\n",
        "\n",
        "    dataset_size = 0\n",
        "    running_loss = 0.0\n",
        "    val_scores = []\n",
        "    pbar = tqdm(enumerate(dataloader), total=len(dataloader), desc='Valid ')\n",
        "    for _, batch in pbar:\n",
        "        images, masks,_, _ = batch \n",
        "        images  = images.to(device, dtype=torch.float)\n",
        "        masks   = masks.to(device, dtype=torch.float)\n",
        "\n",
        "        batch_size = images.size(0)\n",
        "        with torch.no_grad():\n",
        "            \n",
        "            y_pred  = model(images)\n",
        "            loss    = loss_fn(y_pred, masks)\n",
        "\n",
        "        running_loss += loss.item() * batch_size\n",
        "        dataset_size += batch_size\n",
        "\n",
        "        \n",
        "\n",
        "        \n",
        "        val_dice = dice_coef(y_pred=y_pred, y_true=masks).cpu().detach().numpy()\n",
        "        val_scores.append([val_dice])\n",
        "        del(images)\n",
        "        del(masks)\n",
        "        del(y_pred)\n",
        "        mem = torch.cuda.memory_reserved() / 1E9 if torch.cuda.is_available() else 0\n",
        "        pbar.set_postfix(valid_loss=f'{running_loss / dataset_size:0.4f}',\n",
        "                        gpu_memory=f'{mem:0.2f} GB')\n",
        "    val_score  = np.mean(val_scores, axis=0)\n",
        "    epoch_loss = running_loss / dataset_size\n",
        "    \n",
        "    torch.cuda.empty_cache()\n",
        "    gc.collect()\n",
        "    return epoch_loss, val_score"
      ]
    },
    {
      "cell_type": "code",
      "execution_count": 34,
      "metadata": {},
      "outputs": [
        {
          "name": "stderr",
          "output_type": "stream",
          "text": [
            "Valid : 100%|\u2588\u2588\u2588\u2588\u2588\u2588\u2588\u2588\u2588\u2588| 40/40 [00:08<00:00,  4.55it/s, gpu_memory=1.09 GB, valid_loss=0.4406]\n"
          ]
        },
        {
          "data": {
            "text/plain": [
              "(0.4405678234994411, array([0.02517452], dtype=float32))"
            ]
          },
          "execution_count": 34,
          "metadata": {},
          "output_type": "execute_result"
        }
      ],
      "source": [
        "valid_one_epoch(model=model, loss_fn=loss_fn, dataloader=val_loader,epoch=0)"
      ]
    },
    {
      "cell_type": "code",
      "execution_count": null,
      "metadata": {},
      "outputs": [],
      "source": [
        "def train_model(model, \n",
        "                optimizer, \n",
        "                loss_func, \n",
        "                train_loader, \n",
        "                val_loader, \n",
        "                num_epochs, \n",
        "                scheduler=None, \n",
        "                device =CFG.device,\n",
        "                path_to_save=CFG.path_to_save_state_model,\n",
        "):\n",
        "    for epoch in range(1, num_epochs + 1):\n",
        "\n",
        "        print(f'Epoch {epoch}/{num_epochs}')\n",
        "        print('-' * 10)"
      ]
    },
    {
      "cell_type": "code",
      "execution_count": null,
      "metadata": {},
      "outputs": [],
      "source": []
    },
    {
      "cell_type": "code",
      "execution_count": null,
      "metadata": {},
      "outputs": [],
      "source": []
    },
    {
      "cell_type": "code",
      "execution_count": null,
      "metadata": {},
      "outputs": [],
      "source": []
    },
    {
      "cell_type": "code",
      "execution_count": null,
      "metadata": {},
      "outputs": [],
      "source": []
    },
    {
      "cell_type": "code",
      "execution_count": null,
      "metadata": {},
      "outputs": [],
      "source": []
    }
  ],
  "metadata": {
    "kernelspec": {
      "display_name": ".venv",
      "language": "python",
      "name": "python3"
    },
    "language_info": {
      "codemirror_mode": {
        "name": "ipython",
        "version": 3
      },
      "file_extension": ".py",
      "mimetype": "text/x-python",
      "name": "python",
      "nbconvert_exporter": "python",
      "pygments_lexer": "ipython3",
      "version": "3.9.0"
    }
  },
  "nbformat": 4,
  "nbformat_minor": 2
}
