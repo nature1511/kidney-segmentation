{
  "cells": [
    {
      "cell_type": "code",
      "execution_count": 1,
      "metadata": {},
      "outputs": [
        {
          "name": "stderr",
          "output_type": "stream",
          "text": [
            "C:\\Users\\123\\AppData\\Local\\Temp\\ipykernel_10716\\2558310496.py:10: DeprecationWarning: \n",
            "Pyarrow will become a required dependency of pandas in the next major release of pandas (pandas 3.0),\n",
            "(to allow more performant data types, such as the Arrow string type, and better interoperability with other libraries)\n",
            "but was not found to be installed on your system.\n",
            "If this would cause problems for you,\n",
            "please provide us feedback at https://github.com/pandas-dev/pandas/issues/54466\n",
            "        \n",
            "  import pandas as pd\n"
          ]
        }
      ],
      "source": [
        "import torch \n",
        "import torch.nn as nn  \n",
        "import numpy as np\n",
        "from tqdm import tqdm\n",
        "from torch.cuda.amp import autocast\n",
        "import cv2\n",
        "import os,sys\n",
        "from glob import glob\n",
        "import matplotlib.pyplot as plt\n",
        "import pandas as pd\n",
        "from torch.utils.data import Dataset, DataLoader\n",
        "from torch.nn.parallel import DataParallel\n",
        "from torch.cuda.amp import autocast\n",
        "from torch.cuda import amp\n",
        "from torch.optim import lr_scheduler\n",
        "import time\n",
        "import gc\n",
        "import copy\n",
        "from collections import defaultdict\n",
        "\n",
        "\n",
        "import matplotlib.pyplot as plt\n",
        "import albumentations as A\n",
        "from pathlib import Path\n",
        "from PIL import Image\n",
        "\n",
        "from segmentation.config import Configs as CFG\n",
        "from segmentation.models.unet import unet\n",
        "from segmentation.scr.utils import losses, metrics, set_seed, transforms, rle_coding\n",
        "from segmentation.scr.tilling_loader import Tilling_Loader\n",
        "\n",
        "#from segmentation.scr\n",
        "pd.options.mode.chained_assignment = None"
      ]
    },
    {
      "cell_type": "code",
      "execution_count": null,
      "metadata": {},
      "outputs": [],
      "source": [
        "dd = losses.BCE_DICE()"
      ]
    },
    {
      "cell_type": "code",
      "execution_count": 4,
      "metadata": {},
      "outputs": [
        {
          "data": {
            "text/plain": [
              "'Combination of Cross-Entropy and Soft Dice Losses.\\n    Based on https://arxiv.org/pdf/2209.06078.pdf\\n    '"
            ]
          },
          "execution_count": 4,
          "metadata": {},
          "output_type": "execute_result"
        }
      ],
      "source": []
    },
    {
      "cell_type": "code",
      "execution_count": null,
      "metadata": {},
      "outputs": [],
      "source": []
    },
    {
      "cell_type": "code",
      "execution_count": 3,
      "metadata": {},
      "outputs": [],
      "source": [
        "train_transform  = transforms.get_transform(transform_type='weak')\n",
        "val_transform = transforms.get_transform(transform_type='val')"
      ]
    },
    {
      "cell_type": "code",
      "execution_count": 4,
      "metadata": {},
      "outputs": [
        {
          "data": {
            "text/plain": [
              "'Generate transform for data\\n    Args:\\n        transform_type (str): transform for train or test. Defaults to \\'train\\'.\\n        list transform_type [\"weak\", \"strong\" , \"val\"]\\n    '"
            ]
          },
          "execution_count": 4,
          "metadata": {},
          "output_type": "execute_result"
        }
      ],
      "source": [
        "transforms.get_transform.__doc__"
      ]
    },
    {
      "cell_type": "code",
      "execution_count": 7,
      "metadata": {},
      "outputs": [
        {
          "name": "stdout",
          "output_type": "stream",
          "text": [
            "100\n",
            "Dataset contains 1528 empty and 12146 non-empty tiles.\n",
            "Sample 10 empty and 90 non-empty tiles.\n",
            "50\n",
            "Dataset contains 3420 empty and 4596 non-empty tiles.\n",
            "Sample 5 empty and 45 non-empty tiles.\n"
          ]
        }
      ],
      "source": [
        "train_dataset =  Tilling_Loader(\n",
        "    name_data='kidney_1_tilling',\n",
        "    path_to_df=CFG.path_df_kidney_1_til,\n",
        "    use_random_sub=True, #use full data\n",
        "    empty_tile_pct=10,\n",
        "    sample_limit=100,\n",
        "    t\n",
        ")\n",
        "\n",
        "valid_dataset = Tilling_Loader(\n",
        "    name_data='kidney_3_tilling',\n",
        "    path_to_df=CFG.path_df_kidney_3_til,\n",
        "    use_random_sub=True, #use full data\n",
        "    empty_tile_pct=10,\n",
        "    sample_limit=50\n",
        ")"
      ]
    },
    {
      "cell_type": "code",
      "execution_count": null,
      "metadata": {},
      "outputs": [],
      "source": []
    },
    {
      "cell_type": "code",
      "execution_count": null,
      "metadata": {},
      "outputs": [],
      "source": []
    },
    {
      "cell_type": "code",
      "execution_count": null,
      "metadata": {},
      "outputs": [],
      "source": []
    },
    {
      "cell_type": "code",
      "execution_count": null,
      "metadata": {},
      "outputs": [],
      "source": []
    }
  ],
  "metadata": {
    "kernelspec": {
      "display_name": ".venv",
      "language": "python",
      "name": "python3"
    },
    "language_info": {
      "codemirror_mode": {
        "name": "ipython",
        "version": 3
      },
      "file_extension": ".py",
      "mimetype": "text/x-python",
      "name": "python",
      "nbconvert_exporter": "python",
      "pygments_lexer": "ipython3",
      "version": "3.9.0"
    }
  },
  "nbformat": 4,
  "nbformat_minor": 2
}
